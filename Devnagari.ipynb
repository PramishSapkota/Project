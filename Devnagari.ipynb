{
 "cells": [
  {
   "cell_type": "markdown",
   "metadata": {
    "id": "CMC96CT63Ear"
   },
   "source": [
    "Install Required Libraries"
   ]
  },
  {
   "cell_type": "code",
   "execution_count": null,
   "metadata": {
    "collapsed": true,
    "id": "ygcbUQ962-E-"
   },
   "outputs": [],
   "source": [
    "%pip install transformers torch"
   ]
  },
  {
   "cell_type": "markdown",
   "metadata": {
    "id": "Db5WAzsDQNGQ"
   },
   "source": [
    "Loading Our Dataset"
   ]
  },
  {
   "cell_type": "code",
   "execution_count": 2,
   "metadata": {
    "colab": {
     "base_uri": "https://localhost:8080/",
     "height": 206
    },
    "executionInfo": {
     "elapsed": 27091,
     "status": "ok",
     "timestamp": 1741543650433,
     "user": {
      "displayName": "Dhawalagiri",
      "userId": "11900216459054326949"
     },
     "user_tz": -345
    },
    "id": "RXtJFtSw3PdD",
    "outputId": "eac599f9-d08d-4bc6-83b8-7a214d75ee87"
   },
   "outputs": [
    {
     "data": {
      "application/vnd.google.colaboratory.intrinsic+json": {
       "summary": "{\n  \"name\": \"df\",\n  \"rows\": 11500,\n  \"fields\": [\n    {\n      \"column\": \"Nepali Review\",\n      \"properties\": {\n        \"dtype\": \"string\",\n        \"num_unique_values\": 11204,\n        \"samples\": [\n          \"\\u0920\\u094d\\u092f\\u093e\\u0915\\u094d\\u0915\\u0948 \\u092f\\u094b \\u0935\\u093f\\u091c\\u094d\\u091e\\u093e\\u092a\\u0928 \\u0917\\u0930\\u093f\\u090f\\u0915\\u094b \\u0925\\u093f\\u092f\\u094b, \\u092f\\u0938\\u0932\\u093e\\u0908 \\u091f\\u093e\\u0922\\u093e \\u0930\\u093e\\u0916\\u094d\\u0928 \\u092a\\u094d\\u0930\\u092f\\u094b\\u0917 \\u0928\\u0917\\u0930\\u0947\\u0915\\u094b \\u091b\\u0964\",\n          \"\\u0928\\u093f\\u092f\\u0928\\u094d\\u0924\\u094d\\u0930\\u0923 \\u0917\\u0930\\u094d\\u0928 \\u0917\\u093e\\u0939\\u094d\\u0930\\u094b \\u0930 \\u0915\\u0947\\u0939\\u0940 \\u0935\\u0930\\u094d\\u0937 \\u092a\\u091b\\u093f, \\u092f\\u094b \\u0905\\u091d\\u0948 \\u0930\\u092e\\u093e\\u0908\\u0932\\u094b \\u091b\\u0964\",\n          \"\\u092c\\u093f\\u0930\\u093e\\u0932\\u093e\\u0939\\u0930\\u0942 \\u0918\\u0943\\u0923\\u093e \\u0917\\u0930\\u094d\\u091b\\u0928\\u094d \\u0915\\u093f \\u092e \\u0924\\u093f\\u0928\\u0940\\u0939\\u0930\\u0942\\u0932\\u093e\\u0908 \\u092f\\u0938\\u0915\\u093e \\u0938\\u093e\\u0925 \\u092a\\u0920\\u093e\\u0909\\u0901\\u0926\\u0948 \\u091b\\u0941 \\u0924\\u0930 \\u092e\\u0932\\u093e\\u0908 \\u0917\\u0928\\u094d\\u0927 \\u0932\\u093e\\u0917\\u094d\\u0928\\u0947 \\u091b\\u0948\\u0928 \\u0930 \\u092f\\u094b \\u090f\\u0915 \\u092d\\u093e\\u0930\\u0940 \\u0936\\u0941\\u0932\\u094d\\u0915 \\u0930 \\u092c\\u0932\\u093f\\u092f\\u094b \\u091b, \\u092e \\u092f\\u094b \\u092a\\u094d\\u0930\\u093e\\u092f: \\u092a\\u094d\\u0930\\u092f\\u094b\\u0917 \\u0917\\u0930\\u094d\\u0928 \\u0938\\u0915\\u094d\\u0926\\u093f\\u0928, \\u0939\\u0941\\u0928\\u0938\\u0915\\u094d\\u091b \\u092e\\u0901 \\u090f\\u0915 \\u092e\\u0939\\u093f\\u0928\\u093e \\u0935\\u093e \\u0924\\u094d\\u092f\\u0938\\u094d\\u0924\\u0948 \\u092a\\u094d\\u0930\\u092f\\u094b\\u0917 \\u0917\\u0930\\u094d\\u0926\\u093f\\u0928\\u0964\"\n        ],\n        \"semantic_type\": \"\",\n        \"description\": \"\"\n      }\n    },\n    {\n      \"column\": \"rating\",\n      \"properties\": {\n        \"dtype\": \"number\",\n        \"std\": 1,\n        \"min\": 1,\n        \"max\": 5,\n        \"num_unique_values\": 5,\n        \"samples\": [\n          4,\n          2,\n          1\n        ],\n        \"semantic_type\": \"\",\n        \"description\": \"\"\n      }\n    },\n    {\n      \"column\": \"label\",\n      \"properties\": {\n        \"dtype\": \"category\",\n        \"num_unique_values\": 2,\n        \"samples\": [\n          \"OR\",\n          \"CG\"\n        ],\n        \"semantic_type\": \"\",\n        \"description\": \"\"\n      }\n    }\n  ]\n}",
       "type": "dataframe",
       "variable_name": "df"
      },
      "text/html": [
       "\n",
       "  <div id=\"df-170b368b-07a9-449e-81db-1340607960a0\" class=\"colab-df-container\">\n",
       "    <div>\n",
       "<style scoped>\n",
       "    .dataframe tbody tr th:only-of-type {\n",
       "        vertical-align: middle;\n",
       "    }\n",
       "\n",
       "    .dataframe tbody tr th {\n",
       "        vertical-align: top;\n",
       "    }\n",
       "\n",
       "    .dataframe thead th {\n",
       "        text-align: right;\n",
       "    }\n",
       "</style>\n",
       "<table border=\"1\" class=\"dataframe\">\n",
       "  <thead>\n",
       "    <tr style=\"text-align: right;\">\n",
       "      <th></th>\n",
       "      <th>Nepali Review</th>\n",
       "      <th>rating</th>\n",
       "      <th>label</th>\n",
       "    </tr>\n",
       "  </thead>\n",
       "  <tbody>\n",
       "    <tr>\n",
       "      <th>0</th>\n",
       "      <td>मैले यो किन्नुको कारण यही उत्पादन हो। दुई ठूला...</td>\n",
       "      <td>5</td>\n",
       "      <td>CG</td>\n",
       "    </tr>\n",
       "    <tr>\n",
       "      <th>1</th>\n",
       "      <td>सजिलो सेटअप भएकोमा धेरै राम्रो लाग्यो। मैले पन...</td>\n",
       "      <td>5</td>\n",
       "      <td>CG</td>\n",
       "    </tr>\n",
       "    <tr>\n",
       "      <th>2</th>\n",
       "      <td>बिल्कुल सुन्दर स्नान हुकहरू। म यस्तो महँगो स्न...</td>\n",
       "      <td>5</td>\n",
       "      <td>OR</td>\n",
       "    </tr>\n",
       "    <tr>\n",
       "      <th>3</th>\n",
       "      <td>शैली र ब्लेडले मसँग भएको अन्य उपयोगिता चार्जहर...</td>\n",
       "      <td>5</td>\n",
       "      <td>OR</td>\n",
       "    </tr>\n",
       "    <tr>\n",
       "      <th>4</th>\n",
       "      <td>यो फिल्टर प्रणालीले पानी फेरी र क्लीनर राख्छ। ...</td>\n",
       "      <td>5</td>\n",
       "      <td>CG</td>\n",
       "    </tr>\n",
       "  </tbody>\n",
       "</table>\n",
       "</div>\n",
       "    <div class=\"colab-df-buttons\">\n",
       "\n",
       "  <div class=\"colab-df-container\">\n",
       "    <button class=\"colab-df-convert\" onclick=\"convertToInteractive('df-170b368b-07a9-449e-81db-1340607960a0')\"\n",
       "            title=\"Convert this dataframe to an interactive table.\"\n",
       "            style=\"display:none;\">\n",
       "\n",
       "  <svg xmlns=\"http://www.w3.org/2000/svg\" height=\"24px\" viewBox=\"0 -960 960 960\">\n",
       "    <path d=\"M120-120v-720h720v720H120Zm60-500h600v-160H180v160Zm220 220h160v-160H400v160Zm0 220h160v-160H400v160ZM180-400h160v-160H180v160Zm440 0h160v-160H620v160ZM180-180h160v-160H180v160Zm440 0h160v-160H620v160Z\"/>\n",
       "  </svg>\n",
       "    </button>\n",
       "\n",
       "  <style>\n",
       "    .colab-df-container {\n",
       "      display:flex;\n",
       "      gap: 12px;\n",
       "    }\n",
       "\n",
       "    .colab-df-convert {\n",
       "      background-color: #E8F0FE;\n",
       "      border: none;\n",
       "      border-radius: 50%;\n",
       "      cursor: pointer;\n",
       "      display: none;\n",
       "      fill: #1967D2;\n",
       "      height: 32px;\n",
       "      padding: 0 0 0 0;\n",
       "      width: 32px;\n",
       "    }\n",
       "\n",
       "    .colab-df-convert:hover {\n",
       "      background-color: #E2EBFA;\n",
       "      box-shadow: 0px 1px 2px rgba(60, 64, 67, 0.3), 0px 1px 3px 1px rgba(60, 64, 67, 0.15);\n",
       "      fill: #174EA6;\n",
       "    }\n",
       "\n",
       "    .colab-df-buttons div {\n",
       "      margin-bottom: 4px;\n",
       "    }\n",
       "\n",
       "    [theme=dark] .colab-df-convert {\n",
       "      background-color: #3B4455;\n",
       "      fill: #D2E3FC;\n",
       "    }\n",
       "\n",
       "    [theme=dark] .colab-df-convert:hover {\n",
       "      background-color: #434B5C;\n",
       "      box-shadow: 0px 1px 3px 1px rgba(0, 0, 0, 0.15);\n",
       "      filter: drop-shadow(0px 1px 2px rgba(0, 0, 0, 0.3));\n",
       "      fill: #FFFFFF;\n",
       "    }\n",
       "  </style>\n",
       "\n",
       "    <script>\n",
       "      const buttonEl =\n",
       "        document.querySelector('#df-170b368b-07a9-449e-81db-1340607960a0 button.colab-df-convert');\n",
       "      buttonEl.style.display =\n",
       "        google.colab.kernel.accessAllowed ? 'block' : 'none';\n",
       "\n",
       "      async function convertToInteractive(key) {\n",
       "        const element = document.querySelector('#df-170b368b-07a9-449e-81db-1340607960a0');\n",
       "        const dataTable =\n",
       "          await google.colab.kernel.invokeFunction('convertToInteractive',\n",
       "                                                    [key], {});\n",
       "        if (!dataTable) return;\n",
       "\n",
       "        const docLinkHtml = 'Like what you see? Visit the ' +\n",
       "          '<a target=\"_blank\" href=https://colab.research.google.com/notebooks/data_table.ipynb>data table notebook</a>'\n",
       "          + ' to learn more about interactive tables.';\n",
       "        element.innerHTML = '';\n",
       "        dataTable['output_type'] = 'display_data';\n",
       "        await google.colab.output.renderOutput(dataTable, element);\n",
       "        const docLink = document.createElement('div');\n",
       "        docLink.innerHTML = docLinkHtml;\n",
       "        element.appendChild(docLink);\n",
       "      }\n",
       "    </script>\n",
       "  </div>\n",
       "\n",
       "\n",
       "<div id=\"df-e6d75473-13f6-49aa-930a-2aec679e59be\">\n",
       "  <button class=\"colab-df-quickchart\" onclick=\"quickchart('df-e6d75473-13f6-49aa-930a-2aec679e59be')\"\n",
       "            title=\"Suggest charts\"\n",
       "            style=\"display:none;\">\n",
       "\n",
       "<svg xmlns=\"http://www.w3.org/2000/svg\" height=\"24px\"viewBox=\"0 0 24 24\"\n",
       "     width=\"24px\">\n",
       "    <g>\n",
       "        <path d=\"M19 3H5c-1.1 0-2 .9-2 2v14c0 1.1.9 2 2 2h14c1.1 0 2-.9 2-2V5c0-1.1-.9-2-2-2zM9 17H7v-7h2v7zm4 0h-2V7h2v10zm4 0h-2v-4h2v4z\"/>\n",
       "    </g>\n",
       "</svg>\n",
       "  </button>\n",
       "\n",
       "<style>\n",
       "  .colab-df-quickchart {\n",
       "      --bg-color: #E8F0FE;\n",
       "      --fill-color: #1967D2;\n",
       "      --hover-bg-color: #E2EBFA;\n",
       "      --hover-fill-color: #174EA6;\n",
       "      --disabled-fill-color: #AAA;\n",
       "      --disabled-bg-color: #DDD;\n",
       "  }\n",
       "\n",
       "  [theme=dark] .colab-df-quickchart {\n",
       "      --bg-color: #3B4455;\n",
       "      --fill-color: #D2E3FC;\n",
       "      --hover-bg-color: #434B5C;\n",
       "      --hover-fill-color: #FFFFFF;\n",
       "      --disabled-bg-color: #3B4455;\n",
       "      --disabled-fill-color: #666;\n",
       "  }\n",
       "\n",
       "  .colab-df-quickchart {\n",
       "    background-color: var(--bg-color);\n",
       "    border: none;\n",
       "    border-radius: 50%;\n",
       "    cursor: pointer;\n",
       "    display: none;\n",
       "    fill: var(--fill-color);\n",
       "    height: 32px;\n",
       "    padding: 0;\n",
       "    width: 32px;\n",
       "  }\n",
       "\n",
       "  .colab-df-quickchart:hover {\n",
       "    background-color: var(--hover-bg-color);\n",
       "    box-shadow: 0 1px 2px rgba(60, 64, 67, 0.3), 0 1px 3px 1px rgba(60, 64, 67, 0.15);\n",
       "    fill: var(--button-hover-fill-color);\n",
       "  }\n",
       "\n",
       "  .colab-df-quickchart-complete:disabled,\n",
       "  .colab-df-quickchart-complete:disabled:hover {\n",
       "    background-color: var(--disabled-bg-color);\n",
       "    fill: var(--disabled-fill-color);\n",
       "    box-shadow: none;\n",
       "  }\n",
       "\n",
       "  .colab-df-spinner {\n",
       "    border: 2px solid var(--fill-color);\n",
       "    border-color: transparent;\n",
       "    border-bottom-color: var(--fill-color);\n",
       "    animation:\n",
       "      spin 1s steps(1) infinite;\n",
       "  }\n",
       "\n",
       "  @keyframes spin {\n",
       "    0% {\n",
       "      border-color: transparent;\n",
       "      border-bottom-color: var(--fill-color);\n",
       "      border-left-color: var(--fill-color);\n",
       "    }\n",
       "    20% {\n",
       "      border-color: transparent;\n",
       "      border-left-color: var(--fill-color);\n",
       "      border-top-color: var(--fill-color);\n",
       "    }\n",
       "    30% {\n",
       "      border-color: transparent;\n",
       "      border-left-color: var(--fill-color);\n",
       "      border-top-color: var(--fill-color);\n",
       "      border-right-color: var(--fill-color);\n",
       "    }\n",
       "    40% {\n",
       "      border-color: transparent;\n",
       "      border-right-color: var(--fill-color);\n",
       "      border-top-color: var(--fill-color);\n",
       "    }\n",
       "    60% {\n",
       "      border-color: transparent;\n",
       "      border-right-color: var(--fill-color);\n",
       "    }\n",
       "    80% {\n",
       "      border-color: transparent;\n",
       "      border-right-color: var(--fill-color);\n",
       "      border-bottom-color: var(--fill-color);\n",
       "    }\n",
       "    90% {\n",
       "      border-color: transparent;\n",
       "      border-bottom-color: var(--fill-color);\n",
       "    }\n",
       "  }\n",
       "</style>\n",
       "\n",
       "  <script>\n",
       "    async function quickchart(key) {\n",
       "      const quickchartButtonEl =\n",
       "        document.querySelector('#' + key + ' button');\n",
       "      quickchartButtonEl.disabled = true;  // To prevent multiple clicks.\n",
       "      quickchartButtonEl.classList.add('colab-df-spinner');\n",
       "      try {\n",
       "        const charts = await google.colab.kernel.invokeFunction(\n",
       "            'suggestCharts', [key], {});\n",
       "      } catch (error) {\n",
       "        console.error('Error during call to suggestCharts:', error);\n",
       "      }\n",
       "      quickchartButtonEl.classList.remove('colab-df-spinner');\n",
       "      quickchartButtonEl.classList.add('colab-df-quickchart-complete');\n",
       "    }\n",
       "    (() => {\n",
       "      let quickchartButtonEl =\n",
       "        document.querySelector('#df-e6d75473-13f6-49aa-930a-2aec679e59be button');\n",
       "      quickchartButtonEl.style.display =\n",
       "        google.colab.kernel.accessAllowed ? 'block' : 'none';\n",
       "    })();\n",
       "  </script>\n",
       "</div>\n",
       "\n",
       "    </div>\n",
       "  </div>\n"
      ],
      "text/plain": [
       "                                       Nepali Review  rating label\n",
       "0  मैले यो किन्नुको कारण यही उत्पादन हो। दुई ठूला...       5    CG\n",
       "1  सजिलो सेटअप भएकोमा धेरै राम्रो लाग्यो। मैले पन...       5    CG\n",
       "2  बिल्कुल सुन्दर स्नान हुकहरू। म यस्तो महँगो स्न...       5    OR\n",
       "3  शैली र ब्लेडले मसँग भएको अन्य उपयोगिता चार्जहर...       5    OR\n",
       "4  यो फिल्टर प्रणालीले पानी फेरी र क्लीनर राख्छ। ...       5    CG"
      ]
     },
     "execution_count": 2,
     "metadata": {},
     "output_type": "execute_result"
    }
   ],
   "source": [
    "import pandas as pd\n",
    "\n",
    "# Load CSV file\n",
    "df = pd.read_csv(\"/content/drive/MyDrive/Colab Notebooks/Devnagari_Reviews.csv\")\n",
    "# df = df.sample(frac=0.2, random_state=1234)\n",
    "\n",
    "# Check for missing values if found delete them\n",
    "df.dropna(inplace=True)\n",
    "\n",
    "# print 1st 5 rows of dataset\n",
    "df.head()"
   ]
  },
  {
   "cell_type": "code",
   "execution_count": 3,
   "metadata": {
    "colab": {
     "base_uri": "https://localhost:8080/",
     "height": 178
    },
    "executionInfo": {
     "elapsed": 11,
     "status": "ok",
     "timestamp": 1741543650436,
     "user": {
      "displayName": "Dhawalagiri",
      "userId": "11900216459054326949"
     },
     "user_tz": -345
    },
    "id": "Qd9ZNohQzUQq",
    "outputId": "10344243-81dc-4101-d3b3-22189bcebe73"
   },
   "outputs": [
    {
     "data": {
      "text/html": [
       "<div>\n",
       "<style scoped>\n",
       "    .dataframe tbody tr th:only-of-type {\n",
       "        vertical-align: middle;\n",
       "    }\n",
       "\n",
       "    .dataframe tbody tr th {\n",
       "        vertical-align: top;\n",
       "    }\n",
       "\n",
       "    .dataframe thead th {\n",
       "        text-align: right;\n",
       "    }\n",
       "</style>\n",
       "<table border=\"1\" class=\"dataframe\">\n",
       "  <thead>\n",
       "    <tr style=\"text-align: right;\">\n",
       "      <th></th>\n",
       "      <th>0</th>\n",
       "    </tr>\n",
       "  </thead>\n",
       "  <tbody>\n",
       "    <tr>\n",
       "      <th>Nepali Review</th>\n",
       "      <td>0</td>\n",
       "    </tr>\n",
       "    <tr>\n",
       "      <th>rating</th>\n",
       "      <td>0</td>\n",
       "    </tr>\n",
       "    <tr>\n",
       "      <th>label</th>\n",
       "      <td>0</td>\n",
       "    </tr>\n",
       "  </tbody>\n",
       "</table>\n",
       "</div><br><label><b>dtype:</b> int64</label>"
      ],
      "text/plain": [
       "Nepali Review    0\n",
       "rating           0\n",
       "label            0\n",
       "dtype: int64"
      ]
     },
     "execution_count": 3,
     "metadata": {},
     "output_type": "execute_result"
    }
   ],
   "source": [
    "df.isnull().sum()"
   ]
  },
  {
   "cell_type": "code",
   "execution_count": 4,
   "metadata": {
    "colab": {
     "base_uri": "https://localhost:8080/",
     "height": 178
    },
    "executionInfo": {
     "elapsed": 44,
     "status": "ok",
     "timestamp": 1741543650481,
     "user": {
      "displayName": "Dhawalagiri",
      "userId": "11900216459054326949"
     },
     "user_tz": -345
    },
    "id": "az9lFCV_ieI-",
    "outputId": "5e5915f9-839c-41b8-eafd-6861d1c9c363"
   },
   "outputs": [
    {
     "data": {
      "text/html": [
       "<div>\n",
       "<style scoped>\n",
       "    .dataframe tbody tr th:only-of-type {\n",
       "        vertical-align: middle;\n",
       "    }\n",
       "\n",
       "    .dataframe tbody tr th {\n",
       "        vertical-align: top;\n",
       "    }\n",
       "\n",
       "    .dataframe thead th {\n",
       "        text-align: right;\n",
       "    }\n",
       "</style>\n",
       "<table border=\"1\" class=\"dataframe\">\n",
       "  <thead>\n",
       "    <tr style=\"text-align: right;\">\n",
       "      <th></th>\n",
       "      <th>count</th>\n",
       "    </tr>\n",
       "    <tr>\n",
       "      <th>label</th>\n",
       "      <th></th>\n",
       "    </tr>\n",
       "  </thead>\n",
       "  <tbody>\n",
       "    <tr>\n",
       "      <th>CG</th>\n",
       "      <td>5784</td>\n",
       "    </tr>\n",
       "    <tr>\n",
       "      <th>OR</th>\n",
       "      <td>5716</td>\n",
       "    </tr>\n",
       "  </tbody>\n",
       "</table>\n",
       "</div><br><label><b>dtype:</b> int64</label>"
      ],
      "text/plain": [
       "label\n",
       "CG    5784\n",
       "OR    5716\n",
       "Name: count, dtype: int64"
      ]
     },
     "execution_count": 4,
     "metadata": {},
     "output_type": "execute_result"
    }
   ],
   "source": [
    "df['label'].value_counts()"
   ]
  },
  {
   "cell_type": "code",
   "execution_count": 5,
   "metadata": {
    "colab": {
     "base_uri": "https://localhost:8080/",
     "height": 272
    },
    "executionInfo": {
     "elapsed": 9,
     "status": "ok",
     "timestamp": 1741543650483,
     "user": {
      "displayName": "Dhawalagiri",
      "userId": "11900216459054326949"
     },
     "user_tz": -345
    },
    "id": "5_aOy705237z",
    "outputId": "4a9c550a-e398-4c96-fe03-610d38f189cd"
   },
   "outputs": [
    {
     "data": {
      "text/html": [
       "<div>\n",
       "<style scoped>\n",
       "    .dataframe tbody tr th:only-of-type {\n",
       "        vertical-align: middle;\n",
       "    }\n",
       "\n",
       "    .dataframe tbody tr th {\n",
       "        vertical-align: top;\n",
       "    }\n",
       "\n",
       "    .dataframe thead th {\n",
       "        text-align: right;\n",
       "    }\n",
       "</style>\n",
       "<table border=\"1\" class=\"dataframe\">\n",
       "  <thead>\n",
       "    <tr style=\"text-align: right;\">\n",
       "      <th></th>\n",
       "      <th>count</th>\n",
       "    </tr>\n",
       "    <tr>\n",
       "      <th>rating</th>\n",
       "      <th></th>\n",
       "    </tr>\n",
       "  </thead>\n",
       "  <tbody>\n",
       "    <tr>\n",
       "      <th>5</th>\n",
       "      <td>6924</td>\n",
       "    </tr>\n",
       "    <tr>\n",
       "      <th>4</th>\n",
       "      <td>2267</td>\n",
       "    </tr>\n",
       "    <tr>\n",
       "      <th>3</th>\n",
       "      <td>1093</td>\n",
       "    </tr>\n",
       "    <tr>\n",
       "      <th>1</th>\n",
       "      <td>643</td>\n",
       "    </tr>\n",
       "    <tr>\n",
       "      <th>2</th>\n",
       "      <td>573</td>\n",
       "    </tr>\n",
       "  </tbody>\n",
       "</table>\n",
       "</div><br><label><b>dtype:</b> int64</label>"
      ],
      "text/plain": [
       "rating\n",
       "5    6924\n",
       "4    2267\n",
       "3    1093\n",
       "1     643\n",
       "2     573\n",
       "Name: count, dtype: int64"
      ]
     },
     "execution_count": 5,
     "metadata": {},
     "output_type": "execute_result"
    }
   ],
   "source": [
    "count = df['rating'].value_counts()\n",
    "count"
   ]
  },
  {
   "cell_type": "markdown",
   "metadata": {
    "id": "zcCxHh115sEK"
   },
   "source": [
    "Piechart of Rating Distribution"
   ]
  },
  {
   "cell_type": "code",
   "execution_count": 6,
   "metadata": {
    "colab": {
     "base_uri": "https://localhost:8080/",
     "height": 523
    },
    "executionInfo": {
     "elapsed": 702,
     "status": "ok",
     "timestamp": 1741543651181,
     "user": {
      "displayName": "Dhawalagiri",
      "userId": "11900216459054326949"
     },
     "user_tz": -345
    },
    "id": "WCOPM6Xe5qci",
    "outputId": "ba9fea31-2480-4ccd-fc56-8ea372eed0d3"
   },
   "outputs": [
    {
     "data": {
      "image/png": "[encoded data removed]",
      "text/plain": [
       "<Figure size 600x600 with 1 Axes>"
      ]
     },
     "metadata": {},
     "output_type": "display_data"
    }
   ],
   "source": [
    "import matplotlib.pyplot as plt\n",
    "\n",
    "plt.figure(figsize=(6,6))\n",
    "\n",
    "# for colored piechart\n",
    "count.plot.pie(autopct ='%1.1f%%' , startangle= 0 , explode=(0.1,0,0,0,0), cmap= 'Set3', fontsize =12)\n",
    "\n",
    "plt.title(\"Rating Distribution\", fontsize=16)\n",
    "plt.show()\n",
    "\n",
    "# **B&W Pie Chart**\n",
    "# plt.figure(figsize=(6,6))\n",
    "# count.plot.pie(autopct='%1.1f%%', startangle=0, explode=(0.1,0,0,0,0),\n",
    "#                colors=['#4B4E53', 'dimgray', 'gray', 'lightgray'],  # Fixed color list\n",
    "#                wedgeprops={'edgecolor': 'black'})  # Black borders\n",
    "# plt.title(\"Rating Distribution\", fontsize=16)\n",
    "# plt.show()\n"
   ]
  },
  {
   "cell_type": "markdown",
   "metadata": {
    "id": "Etm1ED3Y6Gdq"
   },
   "source": [
    "Bar Graph of Original and Fake review"
   ]
  },
  {
   "cell_type": "code",
   "execution_count": 7,
   "metadata": {
    "colab": {
     "base_uri": "https://localhost:8080/",
     "height": 492
    },
    "executionInfo": {
     "elapsed": 134,
     "status": "ok",
     "timestamp": 1741543651317,
     "user": {
      "displayName": "Dhawalagiri",
      "userId": "11900216459054326949"
     },
     "user_tz": -345
    },
    "id": "kQw_2DFv43zq",
    "outputId": "70250578-8d90-48c7-d63f-150fe70154e8"
   },
   "outputs": [
    {
     "data": {
      "image/png": "[encoded data removed]",
      "text/plain": [
       "<Figure size 800x500 with 1 Axes>"
      ]
     },
     "metadata": {},
     "output_type": "display_data"
    }
   ],
   "source": [
    "import matplotlib.pyplot as plt\n",
    "\n",
    "count_label= df['label'].value_counts()\n",
    "# count_label = pd.Series(count_label)\n",
    "\n",
    "# Plot bar chart\n",
    "plt.figure(figsize=(8, 5))\n",
    "\n",
    "# Add title and labels\n",
    "plt.title(\"Labels Distribution\", fontsize=14)\n",
    "plt.xlabel(\"Fake(CG) vs Real(OR)\", fontsize=12)\n",
    "plt.ylabel(\"Number of Reviews\", fontsize=12)\n",
    "\n",
    "# for colored bargraph\n",
    "ax = count_label.plot(kind='bar', color=['orange', 'cyan'])\n",
    "\n",
    "# Add numeric values on bars\n",
    "for i, v in enumerate(count_label):\n",
    "    ax.text(i, v + 3, str(v), ha='center', fontsize=12)\n",
    "\n",
    "# Show the bar chart\n",
    "plt.xticks(rotation=0)  # Keep category labels horizontal\n",
    "plt.grid(axis='y', linestyle='--', alpha=0.7)  # Add grid for better readability\n",
    "plt.show()\n",
    "\n",
    "#for black & white bargraph\n",
    "# plt.figure(figsize=(8, 5))\n",
    "\n",
    "# # Add title and labels\n",
    "# plt.title(\"Labels Distribution\", fontsize=14)\n",
    "# plt.xlabel(\"Fake(CG) vs Real(OR)\", fontsize=12)\n",
    "# plt.ylabel(\"Number of Reviews\", fontsize=12)\n",
    "# ax = count_label.plot(kind='bar', color=['dimgray', 'lightgray'])\n",
    "\n",
    "# # Add numeric values on bars\n",
    "# for i, v in enumerate(count_label):\n",
    "#     ax.text(i, v + 3, str(v), ha='center', fontsize=12)\n",
    "\n",
    "# # Show the bar chart\n",
    "# plt.xticks(rotation=0)  # Keep category labels horizontal\n",
    "# plt.grid(axis='y', linestyle='--', alpha=0.7)  # Add grid for better readability\n",
    "# plt.show()\n"
   ]
  },
  {
   "cell_type": "markdown",
   "metadata": {
    "id": "zJKkNq3lqqDb"
   },
   "source": [
    "**Preprocessing the dataset**"
   ]
  },
  {
   "cell_type": "markdown",
   "metadata": {
    "id": "_uZhrUOHis_q"
   },
   "source": [
    "Converting label to numerical value\n"
   ]
  },
  {
   "cell_type": "code",
   "execution_count": 8,
   "metadata": {
    "executionInfo": {
     "elapsed": 85,
     "status": "ok",
     "timestamp": 1741543651425,
     "user": {
      "displayName": "Dhawalagiri",
      "userId": "11900216459054326949"
     },
     "user_tz": -345
    },
    "id": "IHuVnBKCitoK"
   },
   "outputs": [],
   "source": [
    "df['label'] = df['label'].apply(lambda x: 1 if x == 'OR' else 0)"
   ]
  },
  {
   "cell_type": "markdown",
   "metadata": {
    "id": "FMyktypEmRov"
   },
   "source": [
    "Converting ratings to string and concatenating them with review text"
   ]
  },
  {
   "cell_type": "code",
   "execution_count": 9,
   "metadata": {
    "executionInfo": {
     "elapsed": 9,
     "status": "ok",
     "timestamp": 1741543651439,
     "user": {
      "displayName": "Dhawalagiri",
      "userId": "11900216459054326949"
     },
     "user_tz": -345
    },
    "id": "UCVWRcytM0BZ"
   },
   "outputs": [],
   "source": [
    "# # Convert ratings to string and concatenate with review text\n",
    "# df[\"combined_text\"] = df[\"rating\"].astype(str) + \" \" + df[\"Nepali Review\"]\n",
    "# df.head()\n",
    "df[\"combined_text\"] = \"Rating: \" + df[\"rating\"].astype(str) + \" [SEP] \" + df[\"Nepali Review\"]\n"
   ]
  },
  {
   "cell_type": "code",
   "execution_count": 10,
   "metadata": {
    "colab": {
     "base_uri": "https://localhost:8080/",
     "height": 206
    },
    "executionInfo": {
     "elapsed": 175,
     "status": "ok",
     "timestamp": 1741543651618,
     "user": {
      "displayName": "Dhawalagiri",
      "userId": "11900216459054326949"
     },
     "user_tz": -345
    },
    "id": "lzF6gC8VcT8v",
    "outputId": "e606b7ca-7d84-4e28-896f-b529422240a7"
   },
   "outputs": [
    {
     "data": {
      "application/vnd.google.colaboratory.intrinsic+json": {
       "summary": "{\n  \"name\": \"df\",\n  \"rows\": 11500,\n  \"fields\": [\n    {\n      \"column\": \"Nepali Review\",\n      \"properties\": {\n        \"dtype\": \"string\",\n        \"num_unique_values\": 11204,\n        \"samples\": [\n          \"\\u0920\\u094d\\u092f\\u093e\\u0915\\u094d\\u0915\\u0948 \\u092f\\u094b \\u0935\\u093f\\u091c\\u094d\\u091e\\u093e\\u092a\\u0928 \\u0917\\u0930\\u093f\\u090f\\u0915\\u094b \\u0925\\u093f\\u092f\\u094b, \\u092f\\u0938\\u0932\\u093e\\u0908 \\u091f\\u093e\\u0922\\u093e \\u0930\\u093e\\u0916\\u094d\\u0928 \\u092a\\u094d\\u0930\\u092f\\u094b\\u0917 \\u0928\\u0917\\u0930\\u0947\\u0915\\u094b \\u091b\\u0964\",\n          \"\\u0928\\u093f\\u092f\\u0928\\u094d\\u0924\\u094d\\u0930\\u0923 \\u0917\\u0930\\u094d\\u0928 \\u0917\\u093e\\u0939\\u094d\\u0930\\u094b \\u0930 \\u0915\\u0947\\u0939\\u0940 \\u0935\\u0930\\u094d\\u0937 \\u092a\\u091b\\u093f, \\u092f\\u094b \\u0905\\u091d\\u0948 \\u0930\\u092e\\u093e\\u0908\\u0932\\u094b \\u091b\\u0964\",\n          \"\\u092c\\u093f\\u0930\\u093e\\u0932\\u093e\\u0939\\u0930\\u0942 \\u0918\\u0943\\u0923\\u093e \\u0917\\u0930\\u094d\\u091b\\u0928\\u094d \\u0915\\u093f \\u092e \\u0924\\u093f\\u0928\\u0940\\u0939\\u0930\\u0942\\u0932\\u093e\\u0908 \\u092f\\u0938\\u0915\\u093e \\u0938\\u093e\\u0925 \\u092a\\u0920\\u093e\\u0909\\u0901\\u0926\\u0948 \\u091b\\u0941 \\u0924\\u0930 \\u092e\\u0932\\u093e\\u0908 \\u0917\\u0928\\u094d\\u0927 \\u0932\\u093e\\u0917\\u094d\\u0928\\u0947 \\u091b\\u0948\\u0928 \\u0930 \\u092f\\u094b \\u090f\\u0915 \\u092d\\u093e\\u0930\\u0940 \\u0936\\u0941\\u0932\\u094d\\u0915 \\u0930 \\u092c\\u0932\\u093f\\u092f\\u094b \\u091b, \\u092e \\u092f\\u094b \\u092a\\u094d\\u0930\\u093e\\u092f: \\u092a\\u094d\\u0930\\u092f\\u094b\\u0917 \\u0917\\u0930\\u094d\\u0928 \\u0938\\u0915\\u094d\\u0926\\u093f\\u0928, \\u0939\\u0941\\u0928\\u0938\\u0915\\u094d\\u091b \\u092e\\u0901 \\u090f\\u0915 \\u092e\\u0939\\u093f\\u0928\\u093e \\u0935\\u093e \\u0924\\u094d\\u092f\\u0938\\u094d\\u0924\\u0948 \\u092a\\u094d\\u0930\\u092f\\u094b\\u0917 \\u0917\\u0930\\u094d\\u0926\\u093f\\u0928\\u0964\"\n        ],\n        \"semantic_type\": \"\",\n        \"description\": \"\"\n      }\n    },\n    {\n      \"column\": \"rating\",\n      \"properties\": {\n        \"dtype\": \"number\",\n        \"std\": 1,\n        \"min\": 1,\n        \"max\": 5,\n        \"num_unique_values\": 5,\n        \"samples\": [\n          4,\n          2,\n          1\n        ],\n        \"semantic_type\": \"\",\n        \"description\": \"\"\n      }\n    },\n    {\n      \"column\": \"label\",\n      \"properties\": {\n        \"dtype\": \"number\",\n        \"std\": 0,\n        \"min\": 0,\n        \"max\": 1,\n        \"num_unique_values\": 2,\n        \"samples\": [\n          1,\n          0\n        ],\n        \"semantic_type\": \"\",\n        \"description\": \"\"\n      }\n    },\n    {\n      \"column\": \"combined_text\",\n      \"properties\": {\n        \"dtype\": \"string\",\n        \"num_unique_values\": 11419,\n        \"samples\": [\n          \"Rating: 3 [SEP] \\u092e\\u0948\\u0932\\u0947 \\u092f\\u094b \\u0938\\u0941\\u0930\\u0941 \\u0917\\u0930\\u0947 \\u0924\\u0930 \\u0905\\u0928\\u094d\\u0924 \\u0938\\u092e\\u094d\\u092e \\u092f\\u094b \\u0938\\u092e\\u093e\\u092a\\u094d\\u0924 \\u0917\\u0930\\u0947\\u0928\\u0964 \\u092e \\u0938\\u094d\\u0935\\u0940\\u0915\\u093e\\u0930 \\u0917\\u0930\\u094d\\u0926\\u091b\\u0941 \\u0915\\u093f \\u092e \\u0905\\u0932\\u093f\\u0915\\u0924\\u093f \\u0928\\u0930\\u094d\\u092d\\u0938 \\u0925\\u093f\\u090f\\u0901\\u0964 \\u0924\\u094d\\u092f\\u0939\\u093e\\u0901 \\u0927\\u0947\\u0930\\u0948 \\u091a\\u0940\\u091c\\u0939\\u0930\\u0942 \\u091a\\u0932\\u093f\\u0930\\u0939\\u0947\\u0915\\u094b \\u0925\\u093f\\u092f\\u094b \\u0924\\u0930 \\u092f\\u0938\\u0915\\u094b \\u092a\\u094d\\u0930\\u0935\\u093e\\u0939\",\n          \"Rating: 5 [SEP] \\u0909\\u0924\\u094d\\u0915\\u0943\\u0937\\u094d\\u091f \\u0905\\u092d\\u093f\\u0928\\u0947\\u0924\\u094d\\u0930\\u0940 \\u090f\\u092e\\u0940 \\u090f\\u0921\\u092e\\u094d\\u0938 \\u0930 \\u0935\\u093e\\u0938\\u094d\\u0924\\u0935\\u093f\\u0915 \\u092a\\u0947\\u0936\\u0947\\u0935\\u0930, \\u091c\\u0938\\u092e\\u093e \\u0939\\u093e\\u0938\\u094d\\u092f\\u0915\\u094b \\u0935\\u093e\\u0938\\u094d\\u0924\\u0935\\u093f\\u0915 \\u092d\\u093e\\u0935\\u0928\\u093e \\u091b, \\u091c\\u0938\\u0932\\u0947 \\u091a\\u0932\\u091a\\u093f\\u0924\\u094d\\u0930\\u0932\\u093e\\u0908 \\u0936\\u0943\\u0919\\u094d\\u0916\\u0932\\u093e\\u0915\\u094b \\u0909\\u0924\\u094d\\u0915\\u0943\\u0937\\u094d\\u091f \\u092e\\u0927\\u094d\\u092f\\u0947 \\u090f\\u0915 \\u092c\\u0928\\u093e\\u0909\\u0901\\u091b\\u0964\\nA+\\u0909\\u0924\\u094d\\u0915\\u0943\\u0937\\u094d\\u091f \\u091a\\u0932\\u091a\\u093f\\u0924\\u094d\\u0930, \\u0909\\u0924\\u094d\\u0915\\u0943\\u0937\\u094d\\u091f \\u0915\\u0925\\u093e \\u0930 \\u0909\\u0924\\u094d\\u0915\\u0943\\u0937\\u094d\\u091f \\u092a\\u093e\\u0930\\u093f\\u0935\\u093e\\u0930\\u093f\\u0915 \\u091a\\u0932\\u091a\\u093f\\u0924\\u094d\\u0930\\u0964 \\u0939\\u0947\\u0930\\u094d\\u0928 \\u092a\\u093e\\u0909\\u0901\\u0926\\u093e \\u0930\\u093e\\u092e\\u094d\\u0930\\u094b \\u0932\\u093e\\u0917\\u094d\\u092f\\u094b\"\n        ],\n        \"semantic_type\": \"\",\n        \"description\": \"\"\n      }\n    }\n  ]\n}",
       "type": "dataframe",
       "variable_name": "df"
      },
      "text/html": [
       "\n",
       "  <div id=\"df-fc926e52-5f01-4926-904a-543294422f05\" class=\"colab-df-container\">\n",
       "    <div>\n",
       "<style scoped>\n",
       "    .dataframe tbody tr th:only-of-type {\n",
       "        vertical-align: middle;\n",
       "    }\n",
       "\n",
       "    .dataframe tbody tr th {\n",
       "        vertical-align: top;\n",
       "    }\n",
       "\n",
       "    .dataframe thead th {\n",
       "        text-align: right;\n",
       "    }\n",
       "</style>\n",
       "<table border=\"1\" class=\"dataframe\">\n",
       "  <thead>\n",
       "    <tr style=\"text-align: right;\">\n",
       "      <th></th>\n",
       "      <th>Nepali Review</th>\n",
       "      <th>rating</th>\n",
       "      <th>label</th>\n",
       "      <th>combined_text</th>\n",
       "    </tr>\n",
       "  </thead>\n",
       "  <tbody>\n",
       "    <tr>\n",
       "      <th>0</th>\n",
       "      <td>मैले यो किन्नुको कारण यही उत्पादन हो। दुई ठूला...</td>\n",
       "      <td>5</td>\n",
       "      <td>0</td>\n",
       "      <td>Rating: 5 [SEP] मैले यो किन्नुको कारण यही उत्प...</td>\n",
       "    </tr>\n",
       "    <tr>\n",
       "      <th>1</th>\n",
       "      <td>सजिलो सेटअप भएकोमा धेरै राम्रो लाग्यो। मैले पन...</td>\n",
       "      <td>5</td>\n",
       "      <td>0</td>\n",
       "      <td>Rating: 5 [SEP] सजिलो सेटअप भएकोमा धेरै राम्रो...</td>\n",
       "    </tr>\n",
       "    <tr>\n",
       "      <th>2</th>\n",
       "      <td>बिल्कुल सुन्दर स्नान हुकहरू। म यस्तो महँगो स्न...</td>\n",
       "      <td>5</td>\n",
       "      <td>1</td>\n",
       "      <td>Rating: 5 [SEP] बिल्कुल सुन्दर स्नान हुकहरू। म...</td>\n",
       "    </tr>\n",
       "    <tr>\n",
       "      <th>3</th>\n",
       "      <td>शैली र ब्लेडले मसँग भएको अन्य उपयोगिता चार्जहर...</td>\n",
       "      <td>5</td>\n",
       "      <td>1</td>\n",
       "      <td>Rating: 5 [SEP] शैली र ब्लेडले मसँग भएको अन्य ...</td>\n",
       "    </tr>\n",
       "    <tr>\n",
       "      <th>4</th>\n",
       "      <td>यो फिल्टर प्रणालीले पानी फेरी र क्लीनर राख्छ। ...</td>\n",
       "      <td>5</td>\n",
       "      <td>0</td>\n",
       "      <td>Rating: 5 [SEP] यो फिल्टर प्रणालीले पानी फेरी ...</td>\n",
       "    </tr>\n",
       "  </tbody>\n",
       "</table>\n",
       "</div>\n",
       "    <div class=\"colab-df-buttons\">\n",
       "\n",
       "  <div class=\"colab-df-container\">\n",
       "    <button class=\"colab-df-convert\" onclick=\"convertToInteractive('df-fc926e52-5f01-4926-904a-543294422f05')\"\n",
       "            title=\"Convert this dataframe to an interactive table.\"\n",
       "            style=\"display:none;\">\n",
       "\n",
       "  <svg xmlns=\"http://www.w3.org/2000/svg\" height=\"24px\" viewBox=\"0 -960 960 960\">\n",
       "    <path d=\"M120-120v-720h720v720H120Zm60-500h600v-160H180v160Zm220 220h160v-160H400v160Zm0 220h160v-160H400v160ZM180-400h160v-160H180v160Zm440 0h160v-160H620v160ZM180-180h160v-160H180v160Zm440 0h160v-160H620v160Z\"/>\n",
       "  </svg>\n",
       "    </button>\n",
       "\n",
       "  <style>\n",
       "    .colab-df-container {\n",
       "      display:flex;\n",
       "      gap: 12px;\n",
       "    }\n",
       "\n",
       "    .colab-df-convert {\n",
       "      background-color: #E8F0FE;\n",
       "      border: none;\n",
       "      border-radius: 50%;\n",
       "      cursor: pointer;\n",
       "      display: none;\n",
       "      fill: #1967D2;\n",
       "      height: 32px;\n",
       "      padding: 0 0 0 0;\n",
       "      width: 32px;\n",
       "    }\n",
       "\n",
       "    .colab-df-convert:hover {\n",
       "      background-color: #E2EBFA;\n",
       "      box-shadow: 0px 1px 2px rgba(60, 64, 67, 0.3), 0px 1px 3px 1px rgba(60, 64, 67, 0.15);\n",
       "      fill: #174EA6;\n",
       "    }\n",
       "\n",
       "    .colab-df-buttons div {\n",
       "      margin-bottom: 4px;\n",
       "    }\n",
       "\n",
       "    [theme=dark] .colab-df-convert {\n",
       "      background-color: #3B4455;\n",
       "      fill: #D2E3FC;\n",
       "    }\n",
       "\n",
       "    [theme=dark] .colab-df-convert:hover {\n",
       "      background-color: #434B5C;\n",
       "      box-shadow: 0px 1px 3px 1px rgba(0, 0, 0, 0.15);\n",
       "      filter: drop-shadow(0px 1px 2px rgba(0, 0, 0, 0.3));\n",
       "      fill: #FFFFFF;\n",
       "    }\n",
       "  </style>\n",
       "\n",
       "    <script>\n",
       "      const buttonEl =\n",
       "        document.querySelector('#df-fc926e52-5f01-4926-904a-543294422f05 button.colab-df-convert');\n",
       "      buttonEl.style.display =\n",
       "        google.colab.kernel.accessAllowed ? 'block' : 'none';\n",
       "\n",
       "      async function convertToInteractive(key) {\n",
       "        const element = document.querySelector('#df-fc926e52-5f01-4926-904a-543294422f05');\n",
       "        const dataTable =\n",
       "          await google.colab.kernel.invokeFunction('convertToInteractive',\n",
       "                                                    [key], {});\n",
       "        if (!dataTable) return;\n",
       "\n",
       "        const docLinkHtml = 'Like what you see? Visit the ' +\n",
       "          '<a target=\"_blank\" href=https://colab.research.google.com/notebooks/data_table.ipynb>data table notebook</a>'\n",
       "          + ' to learn more about interactive tables.';\n",
       "        element.innerHTML = '';\n",
       "        dataTable['output_type'] = 'display_data';\n",
       "        await google.colab.output.renderOutput(dataTable, element);\n",
       "        const docLink = document.createElement('div');\n",
       "        docLink.innerHTML = docLinkHtml;\n",
       "        element.appendChild(docLink);\n",
       "      }\n",
       "    </script>\n",
       "  </div>\n",
       "\n",
       "\n",
       "<div id=\"df-a2cfaf1d-31f2-453d-b4b6-5ea232c140ec\">\n",
       "  <button class=\"colab-df-quickchart\" onclick=\"quickchart('df-a2cfaf1d-31f2-453d-b4b6-5ea232c140ec')\"\n",
       "            title=\"Suggest charts\"\n",
       "            style=\"display:none;\">\n",
       "\n",
       "<svg xmlns=\"http://www.w3.org/2000/svg\" height=\"24px\"viewBox=\"0 0 24 24\"\n",
       "     width=\"24px\">\n",
       "    <g>\n",
       "        <path d=\"M19 3H5c-1.1 0-2 .9-2 2v14c0 1.1.9 2 2 2h14c1.1 0 2-.9 2-2V5c0-1.1-.9-2-2-2zM9 17H7v-7h2v7zm4 0h-2V7h2v10zm4 0h-2v-4h2v4z\"/>\n",
       "    </g>\n",
       "</svg>\n",
       "  </button>\n",
       "\n",
       "<style>\n",
       "  .colab-df-quickchart {\n",
       "      --bg-color: #E8F0FE;\n",
       "      --fill-color: #1967D2;\n",
       "      --hover-bg-color: #E2EBFA;\n",
       "      --hover-fill-color: #174EA6;\n",
       "      --disabled-fill-color: #AAA;\n",
       "      --disabled-bg-color: #DDD;\n",
       "  }\n",
       "\n",
       "  [theme=dark] .colab-df-quickchart {\n",
       "      --bg-color: #3B4455;\n",
       "      --fill-color: #D2E3FC;\n",
       "      --hover-bg-color: #434B5C;\n",
       "      --hover-fill-color: #FFFFFF;\n",
       "      --disabled-bg-color: #3B4455;\n",
       "      --disabled-fill-color: #666;\n",
       "  }\n",
       "\n",
       "  .colab-df-quickchart {\n",
       "    background-color: var(--bg-color);\n",
       "    border: none;\n",
       "    border-radius: 50%;\n",
       "    cursor: pointer;\n",
       "    display: none;\n",
       "    fill: var(--fill-color);\n",
       "    height: 32px;\n",
       "    padding: 0;\n",
       "    width: 32px;\n",
       "  }\n",
       "\n",
       "  .colab-df-quickchart:hover {\n",
       "    background-color: var(--hover-bg-color);\n",
       "    box-shadow: 0 1px 2px rgba(60, 64, 67, 0.3), 0 1px 3px 1px rgba(60, 64, 67, 0.15);\n",
       "    fill: var(--button-hover-fill-color);\n",
       "  }\n",
       "\n",
       "  .colab-df-quickchart-complete:disabled,\n",
       "  .colab-df-quickchart-complete:disabled:hover {\n",
       "    background-color: var(--disabled-bg-color);\n",
       "    fill: var(--disabled-fill-color);\n",
       "    box-shadow: none;\n",
       "  }\n",
       "\n",
       "  .colab-df-spinner {\n",
       "    border: 2px solid var(--fill-color);\n",
       "    border-color: transparent;\n",
       "    border-bottom-color: var(--fill-color);\n",
       "    animation:\n",
       "      spin 1s steps(1) infinite;\n",
       "  }\n",
       "\n",
       "  @keyframes spin {\n",
       "    0% {\n",
       "      border-color: transparent;\n",
       "      border-bottom-color: var(--fill-color);\n",
       "      border-left-color: var(--fill-color);\n",
       "    }\n",
       "    20% {\n",
       "      border-color: transparent;\n",
       "      border-left-color: var(--fill-color);\n",
       "      border-top-color: var(--fill-color);\n",
       "    }\n",
       "    30% {\n",
       "      border-color: transparent;\n",
       "      border-left-color: var(--fill-color);\n",
       "      border-top-color: var(--fill-color);\n",
       "      border-right-color: var(--fill-color);\n",
       "    }\n",
       "    40% {\n",
       "      border-color: transparent;\n",
       "      border-right-color: var(--fill-color);\n",
       "      border-top-color: var(--fill-color);\n",
       "    }\n",
       "    60% {\n",
       "      border-color: transparent;\n",
       "      border-right-color: var(--fill-color);\n",
       "    }\n",
       "    80% {\n",
       "      border-color: transparent;\n",
       "      border-right-color: var(--fill-color);\n",
       "      border-bottom-color: var(--fill-color);\n",
       "    }\n",
       "    90% {\n",
       "      border-color: transparent;\n",
       "      border-bottom-color: var(--fill-color);\n",
       "    }\n",
       "  }\n",
       "</style>\n",
       "\n",
       "  <script>\n",
       "    async function quickchart(key) {\n",
       "      const quickchartButtonEl =\n",
       "        document.querySelector('#' + key + ' button');\n",
       "      quickchartButtonEl.disabled = true;  // To prevent multiple clicks.\n",
       "      quickchartButtonEl.classList.add('colab-df-spinner');\n",
       "      try {\n",
       "        const charts = await google.colab.kernel.invokeFunction(\n",
       "            'suggestCharts', [key], {});\n",
       "      } catch (error) {\n",
       "        console.error('Error during call to suggestCharts:', error);\n",
       "      }\n",
       "      quickchartButtonEl.classList.remove('colab-df-spinner');\n",
       "      quickchartButtonEl.classList.add('colab-df-quickchart-complete');\n",
       "    }\n",
       "    (() => {\n",
       "      let quickchartButtonEl =\n",
       "        document.querySelector('#df-a2cfaf1d-31f2-453d-b4b6-5ea232c140ec button');\n",
       "      quickchartButtonEl.style.display =\n",
       "        google.colab.kernel.accessAllowed ? 'block' : 'none';\n",
       "    })();\n",
       "  </script>\n",
       "</div>\n",
       "\n",
       "    </div>\n",
       "  </div>\n"
      ],
      "text/plain": [
       "                                       Nepali Review  rating  label  \\\n",
       "0  मैले यो किन्नुको कारण यही उत्पादन हो। दुई ठूला...       5      0   \n",
       "1  सजिलो सेटअप भएकोमा धेरै राम्रो लाग्यो। मैले पन...       5      0   \n",
       "2  बिल्कुल सुन्दर स्नान हुकहरू। म यस्तो महँगो स्न...       5      1   \n",
       "3  शैली र ब्लेडले मसँग भएको अन्य उपयोगिता चार्जहर...       5      1   \n",
       "4  यो फिल्टर प्रणालीले पानी फेरी र क्लीनर राख्छ। ...       5      0   \n",
       "\n",
       "                                       combined_text  \n",
       "0  Rating: 5 [SEP] मैले यो किन्नुको कारण यही उत्प...  \n",
       "1  Rating: 5 [SEP] सजिलो सेटअप भएकोमा धेरै राम्रो...  \n",
       "2  Rating: 5 [SEP] बिल्कुल सुन्दर स्नान हुकहरू। म...  \n",
       "3  Rating: 5 [SEP] शैली र ब्लेडले मसँग भएको अन्य ...  \n",
       "4  Rating: 5 [SEP] यो फिल्टर प्रणालीले पानी फेरी ...  "
      ]
     },
     "execution_count": 10,
     "metadata": {},
     "output_type": "execute_result"
    }
   ],
   "source": [
    "df.head()"
   ]
  },
  {
   "cell_type": "code",
   "execution_count": 11,
   "metadata": {
    "executionInfo": {
     "elapsed": 6,
     "status": "ok",
     "timestamp": 1741543651626,
     "user": {
      "displayName": "Dhawalagiri",
      "userId": "11900216459054326949"
     },
     "user_tz": -345
    },
    "id": "mu-X-ZMiJJRY"
   },
   "outputs": [],
   "source": [
    "# X = df[['rating', 'Nepali Review']]\n",
    "# y = df['label']"
   ]
  },
  {
   "cell_type": "code",
   "execution_count": 12,
   "metadata": {
    "colab": {
     "base_uri": "https://localhost:8080/",
     "height": 210,
     "referenced_widgets": [
      "879cb6f1e92a466c8be375b009cee892",
      "6ee93c2598b54e7d97f33d32b678f5bc",
      "fc01aa438b6742f6bc609a23ded9cc71",
      "a2390b6abc164d3395988a2acd1a5f5b",
      "ea4f197a33944adaad47b8e81c6e388d",
      "59d4b407a57e44faa35ea002a942d24b",
      "26a8df62823145bba5185e5d4ee4ff51",
      "1e24af82d3c242f29de05b8cbca5e48e",
      "e16561e8306347a79681858110fa49e5",
      "4c716f6e093c43ea93bf1937184ed0f3",
      "2ec62fe867e743cdabb3614942a216a8",
      "46fe7ac82d334910a40e87c00d3bcd8c",
      "8f21ae9f8e3d4ca680da78e5f7a411a5",
      "6e88fed6e83b40ceb5acbd27d538b775",
      "0b9e36ae972b4be6a64a53ace0b5aada",
      "34a78ebc416d467092951c2cf7170230",
      "9d4c0ed93b944bf0a728b71aa2d70025",
      "ff490a55a8d7477893e0d548615d8d11",
      "f222c86e7d0d440da5373d208a1703d8",
      "e90ee13e5e364204943efe8cae84fc2f",
      "94b4dd9b04434d28a4b4a27efb4510af",
      "eeff601bcf974db695a0fe8ebe68249c"
     ]
    },
    "executionInfo": {
     "elapsed": 11924,
     "status": "ok",
     "timestamp": 1741543663548,
     "user": {
      "displayName": "Dhawalagiri",
      "userId": "11900216459054326949"
     },
     "user_tz": -345
    },
    "id": "uWR6xCu6ql5y",
    "outputId": "0d875108-dda2-4b4e-e919-f22f9eff9c52"
   },
   "outputs": [
    {
     "name": "stderr",
     "output_type": "stream",
     "text": [
      "/usr/local/lib/python3.11/dist-packages/huggingface_hub/utils/_auth.py:94: UserWarning: \n",
      "The secret `HF_TOKEN` does not exist in your Colab secrets.\n",
      "To authenticate with the Hugging Face Hub, create a token in your settings tab (https://huggingface.co/settings/tokens), set it as secret in your Google Colab and restart your session.\n",
      "You will be able to reuse this secret in all of your notebooks.\n",
      "Please note that authentication is recommended but still optional to access public models or datasets.\n",
      "  warnings.warn(\n"
     ]
    },
    {
     "data": {
      "application/vnd.jupyter.widget-view+json": {
       "model_id": "879cb6f1e92a466c8be375b009cee892",
       "version_major": 2,
       "version_minor": 0
      },
      "text/plain": [
       "config.json:   0%|          | 0.00/652 [00:00<?, ?B/s]"
      ]
     },
     "metadata": {},
     "output_type": "display_data"
    },
    {
     "data": {
      "application/vnd.jupyter.widget-view+json": {
       "model_id": "46fe7ac82d334910a40e87c00d3bcd8c",
       "version_major": 2,
       "version_minor": 0
      },
      "text/plain": [
       "vocab.txt:   0%|          | 0.00/547k [00:00<?, ?B/s]"
      ]
     },
     "metadata": {},
     "output_type": "display_data"
    }
   ],
   "source": [
    "# Splitting dataset into train & test sets\n",
    "\n",
    "from sklearn.model_selection import train_test_split\n",
    "train_texts, test_texts, train_labels, test_labels = train_test_split(\n",
    "    df[\"combined_text\"].tolist(), df[\"label\"].tolist(), test_size=0.2, random_state=1)\n",
    "\n",
    "\n",
    "from transformers import AutoTokenizer\n",
    "# Load NepBERT tokenizer\n",
    "model_name = \"NepBERTa/NepBERTa\"\n",
    "tokenizer = AutoTokenizer.from_pretrained(model_name)\n",
    "\n",
    "# Tokenize the text\n",
    "train_encodings = tokenizer(train_texts, truncation=True, padding=True, max_length=128)\n",
    "test_encodings = tokenizer(test_texts, truncation=True, padding=True, max_length=128)\n"
   ]
  },
  {
   "cell_type": "markdown",
   "metadata": {
    "id": "G0ERrhe33ToD"
   },
   "source": [
    "Convert Data to PyTorch Dataset"
   ]
  },
  {
   "cell_type": "code",
   "execution_count": 13,
   "metadata": {
    "executionInfo": {
     "elapsed": 3,
     "status": "ok",
     "timestamp": 1741543663553,
     "user": {
      "displayName": "Dhawalagiri",
      "userId": "11900216459054326949"
     },
     "user_tz": -345
    },
    "id": "F0g7n4vb3ROj"
   },
   "outputs": [],
   "source": [
    "import torch\n",
    "\n",
    "class ReviewDataset(torch.utils.data.Dataset):\n",
    "    def __init__(self, encodings, labels):\n",
    "        self.encodings = encodings\n",
    "        self.labels = labels\n",
    "\n",
    "    def __len__(self):\n",
    "        return len(self.labels)\n",
    "\n",
    "    def __getitem__(self, idx):\n",
    "        item = {key: torch.tensor(val[idx]) for key, val in self.encodings.items()}\n",
    "        item[\"labels\"] = torch.tensor(self.labels[idx])\n",
    "        return item\n",
    "\n",
    "# Convert to PyTorch dataset\n",
    "train_dataset = ReviewDataset(train_encodings, train_labels)\n",
    "test_dataset = ReviewDataset(test_encodings, test_labels)\n"
   ]
  },
  {
   "cell_type": "markdown",
   "metadata": {
    "id": "0fhbqY2KQdJA"
   },
   "source": [
    "Loading Pre-trained NepBERT Model"
   ]
  },
  {
   "cell_type": "code",
   "execution_count": 14,
   "metadata": {
    "colab": {
     "base_uri": "https://localhost:8080/",
     "height": 141,
     "referenced_widgets": [
      "17032df0f82347a2a797449195e06b85",
      "32c29e84ac7a4bd9bceea4c3db6bdcde",
      "f58edcfefe5d42e3b05900eafd8aa927",
      "80511876bbc0410c8b2f11b3c606ecdd",
      "5b2327b1fd6c4f749c82de255a11152f",
      "effd33b6e6294aaf9f717cf0adad6594",
      "e3b07cf85ada497e85866515b55f9461",
      "16b2c32d92cf4f37966d4e90ca55dc10",
      "928b1d04fc2d4006a47ed4ef495cc290",
      "88d1f81a3ddc4470b486d915e44c5493",
      "758a00689deb48bf9b19dce934afe234"
     ]
    },
    "executionInfo": {
     "elapsed": 28678,
     "status": "ok",
     "timestamp": 1741543692281,
     "user": {
      "displayName": "Dhawalagiri",
      "userId": "11900216459054326949"
     },
     "user_tz": -345
    },
    "id": "4Od7_THo3Xfj",
    "outputId": "27dd68dd-c0f2-4ebf-e35d-ef83886f1a4f"
   },
   "outputs": [
    {
     "data": {
      "application/vnd.jupyter.widget-view+json": {
       "model_id": "17032df0f82347a2a797449195e06b85",
       "version_major": 2,
       "version_minor": 0
      },
      "text/plain": [
       "tf_model.h5:   0%|          | 0.00/534M [00:00<?, ?B/s]"
      ]
     },
     "metadata": {},
     "output_type": "display_data"
    },
    {
     "name": "stderr",
     "output_type": "stream",
     "text": [
      "All TF 2.0 model weights were used when initializing BertForSequenceClassification.\n",
      "\n",
      "All the weights of BertForSequenceClassification were initialized from the TF 2.0 model.\n",
      "If your task is similar to the task the model of the checkpoint was trained on, you can already use BertForSequenceClassification for predictions without further training.\n"
     ]
    }
   ],
   "source": [
    "from transformers import AutoModelForSequenceClassification\n",
    "\n",
    "# Load NepBERT with 2 output labels (Fake vs. Real)\n",
    "model = AutoModelForSequenceClassification.from_pretrained(model_name, num_labels=2, from_tf=True)\n"
   ]
  },
  {
   "cell_type": "markdown",
   "metadata": {
    "id": "J8mwp8zaQrzO"
   },
   "source": [
    "Model Training"
   ]
  },
  {
   "cell_type": "code",
   "execution_count": 15,
   "metadata": {
    "colab": {
     "base_uri": "https://localhost:8080/",
     "height": 337
    },
    "executionInfo": {
     "elapsed": 1431516,
     "status": "ok",
     "timestamp": 1741545123799,
     "user": {
      "displayName": "Dhawalagiri",
      "userId": "11900216459054326949"
     },
     "user_tz": -345
    },
    "id": "_JhQ9bpT3nr1",
    "outputId": "3d6a5a3e-1ef6-4a71-9f07-3218565b3b21"
   },
   "outputs": [
    {
     "name": "stderr",
     "output_type": "stream",
     "text": [
      "Using the `WANDB_DISABLED` environment variable is deprecated and will be removed in v5. Use the --report_to flag to control the integrations used for logging result (for instance --report_to none).\n"
     ]
    },
    {
     "data": {
      "text/html": [
       "\n",
       "    <div>\n",
       "      \n",
       "      <progress value='210' max='210' style='width:300px; height:20px; vertical-align: middle;'></progress>\n",
       "      [210/210 23:42, Epoch 5/6]\n",
       "    </div>\n",
       "    <table border=\"1\" class=\"dataframe\">\n",
       "  <thead>\n",
       " <tr style=\"text-align: left;\">\n",
       "      <th>Epoch</th>\n",
       "      <th>Training Loss</th>\n",
       "      <th>Validation Loss</th>\n",
       "    </tr>\n",
       "  </thead>\n",
       "  <tbody>\n",
       "    <tr>\n",
       "      <td>0</td>\n",
       "      <td>No log</td>\n",
       "      <td>0.640519</td>\n",
       "    </tr>\n",
       "    <tr>\n",
       "      <td>1</td>\n",
       "      <td>No log</td>\n",
       "      <td>0.501994</td>\n",
       "    </tr>\n",
       "    <tr>\n",
       "      <td>2</td>\n",
       "      <td>No log</td>\n",
       "      <td>0.373316</td>\n",
       "    </tr>\n",
       "    <tr>\n",
       "      <td>3</td>\n",
       "      <td>No log</td>\n",
       "      <td>0.589703</td>\n",
       "    </tr>\n",
       "    <tr>\n",
       "      <td>4</td>\n",
       "      <td>No log</td>\n",
       "      <td>0.386264</td>\n",
       "    </tr>\n",
       "    <tr>\n",
       "      <td>5</td>\n",
       "      <td>No log</td>\n",
       "      <td>0.343574</td>\n",
       "    </tr>\n",
       "  </tbody>\n",
       "</table><p>"
      ],
      "text/plain": [
       "<IPython.core.display.HTML object>"
      ]
     },
     "metadata": {},
     "output_type": "display_data"
    },
    {
     "data": {
      "text/plain": [
       "TrainOutput(global_step=210, training_loss=0.40028577532087056, metrics={'train_runtime': 1428.6604, 'train_samples_per_second': 38.638, 'train_steps_per_second': 0.147, 'total_flos': 3578310352896000.0, 'train_loss': 0.40028577532087056, 'epoch': 5.973913043478261})"
      ]
     },
     "execution_count": 15,
     "metadata": {},
     "output_type": "execute_result"
    }
   ],
   "source": [
    "import os\n",
    "from transformers import Trainer, TrainingArguments, EarlyStoppingCallback\n",
    "early_stopping_callback = EarlyStoppingCallback(\n",
    "    early_stopping_patience=3,  # Number of evaluations with no improvement before stopping\n",
    ")\n",
    "\n",
    "# Disable W&B if not using it\n",
    "os.environ[\"WANDB_DISABLED\"] = \"true\"\n",
    "\n",
    "# Define training parameters\n",
    "training_args = TrainingArguments(\n",
    "    output_dir=\"./results\",\n",
    "    eval_strategy=\"epoch\",\n",
    "    save_strategy=\"epoch\",\n",
    "    # learning_rate=5e-4,\n",
    "    per_device_train_batch_size=8,\n",
    "    per_device_eval_batch_size=18,\n",
    "    warmup_steps=250,\n",
    "    num_train_epochs=6,\n",
    "    weight_decay=0.001,\n",
    "    logging_dir=\"./logs\",\n",
    "    load_best_model_at_end = True,\n",
    "    # fp16=True,\n",
    "    gradient_accumulation_steps=32, # Accumulates gradients over 4 steps\n",
    "     lr_scheduler_type='linear', # Linear learning rate decay\n",
    ")\n",
    "\n",
    "\n",
    "# Use Trainer API to fine-tune NepBERT\n",
    "trainer = Trainer(\n",
    "    model=model,\n",
    "    args=training_args,\n",
    "    train_dataset=train_dataset,\n",
    "    eval_dataset=test_dataset,\n",
    "    callbacks=[early_stopping_callback],\n",
    ")\n",
    "\n",
    "# Train the model\n",
    "trainer.train()\n"
   ]
  },
  {
   "cell_type": "markdown",
   "metadata": {
    "id": "HU0ibmc1Q0k3"
   },
   "source": [
    "Model Evaluation"
   ]
  },
  {
   "cell_type": "code",
   "execution_count": 16,
   "metadata": {
    "colab": {
     "base_uri": "https://localhost:8080/",
     "height": 686
    },
    "executionInfo": {
     "elapsed": 20454,
     "status": "ok",
     "timestamp": 1741545144244,
     "user": {
      "displayName": "Dhawalagiri",
      "userId": "11900216459054326949"
     },
     "user_tz": -345
    },
    "id": "uicNQMUh3sr8",
    "outputId": "2be8f3e1-c30f-44c7-ea06-29e67d9d9ce0"
   },
   "outputs": [
    {
     "data": {
      "text/html": [],
      "text/plain": [
       "<IPython.core.display.HTML object>"
      ]
     },
     "metadata": {},
     "output_type": "display_data"
    },
    {
     "name": "stdout",
     "output_type": "stream",
     "text": [
      "NepBERTa Model Accuracy: 0.87\n",
      "Classification Report for NepBERTa:\n",
      "              precision    recall  f1-score   support\n",
      "\n",
      "           0       0.88      0.87      0.87      1152\n",
      "           1       0.87      0.88      0.87      1148\n",
      "\n",
      "    accuracy                           0.87      2300\n",
      "   macro avg       0.87      0.87      0.87      2300\n",
      "weighted avg       0.87      0.87      0.87      2300\n",
      "\n"
     ]
    },
    {
     "data": {
      "image/png": "[encoded data removed]",
      "text/plain": [
       "<Figure size 600x500 with 2 Axes>"
      ]
     },
     "metadata": {},
     "output_type": "display_data"
    }
   ],
   "source": [
    "import numpy as np\n",
    "from sklearn.metrics import accuracy_score, confusion_matrix, classification_report\n",
    "\n",
    "# Get predictions\n",
    "preds = trainer.predict(test_dataset)\n",
    "pred_labels = torch.argmax(torch.tensor(preds.predictions), axis=1).numpy()\n",
    "\n",
    "# Compute accuracy\n",
    "accuracy = accuracy_score(test_labels, pred_labels)\n",
    "print(f\"NepBERTa Model Accuracy: {accuracy:.2f}\")\n",
    "print(\"Classification Report for NepBERTa:\")\n",
    "print(classification_report(test_labels, pred_labels))\n",
    "\n",
    "import seaborn as sns\n",
    "import matplotlib.pyplot as plt\n",
    "\n",
    "# Generate the confusion matrix (raw and normalized)\n",
    "cm_raw = confusion_matrix(test_labels, pred_labels)\n",
    "cm_norm = confusion_matrix(test_labels, pred_labels, normalize='all')  # Normalize over total samples\n",
    "\n",
    "# Get the unique class labels\n",
    "class_names = sorted(list(set(test_labels)))\n",
    "\n",
    "# Create a formatted annotation matrix (combine raw and percentage values)\n",
    "labels = np.array([[f\"True Positive\\n{cm_raw[0,0]}\\n{cm_norm[0,0]*100:.2f}%\",\n",
    "                     f\"False Negative\\n{cm_raw[0,1]}\\n{cm_norm[0,1]*100:.2f}%\"],\n",
    "                   [f\"False Positive\\n{cm_raw[1,0]}\\n{cm_norm[1,0]*100:.2f}%\",\n",
    "                     f\"True Negative\\n{cm_raw[1,1]}\\n{cm_norm[1,1]*100:.2f}%\"]])\n",
    "\n",
    "# Create a heatmap\n",
    "plt.figure(figsize=(6,5))\n",
    "sns.heatmap(cm_raw, annot=labels, fmt='', cmap='Blues', xticklabels=class_names, yticklabels=class_names)\n",
    "plt.xlabel('Predicted')\n",
    "plt.ylabel('Actual')\n",
    "plt.title('Confusion Matrix Heatmap for NepBERTa')\n",
    "plt.show()\n"
   ]
  },
  {
   "cell_type": "markdown",
   "metadata": {
    "id": "5oTdq4QiQ8_u"
   },
   "source": [
    "**Save and Test the Model**\n",
    "\n",
    "Using \"save_pretrained\" which is the preferred Hugging Face's method"
   ]
  },
  {
   "cell_type": "code",
   "execution_count": 17,
   "metadata": {
    "executionInfo": {
     "elapsed": 2083,
     "status": "ok",
     "timestamp": 1741545146320,
     "user": {
      "displayName": "Dhawalagiri",
      "userId": "11900216459054326949"
     },
     "user_tz": -345
    },
    "id": "lrijfgz6B80U"
   },
   "outputs": [],
   "source": [
    "# Save model using Hugging Face's method\n",
    "model.save_pretrained(\"./fine_tuned_nepbert\")\n",
    "\n",
    "# Load model using Hugging Face's method\n",
    "# from transformers import BertForSequenceClassification, BertTokenizer\n",
    "# model = BertForSequenceClassification.from_pretrained(\"./fine_tuned_nepbert\")\n",
    "# tokenizer = BertTokenizer.from_pretrained(\"./fine_tuned_nepbert\")\n"
   ]
  },
  {
   "cell_type": "markdown",
   "metadata": {
    "id": "8T_i6azkRI_m"
   },
   "source": [
    "Using pickle"
   ]
  },
  {
   "cell_type": "code",
   "execution_count": 18,
   "metadata": {
    "executionInfo": {
     "elapsed": 4,
     "status": "ok",
     "timestamp": 1741545146326,
     "user": {
      "displayName": "Dhawalagiri",
      "userId": "11900216459054326949"
     },
     "user_tz": -345
    },
    "id": "BZO2bY1KCGEq"
   },
   "outputs": [],
   "source": [
    "# import pickle\n",
    "\n",
    "# # Save the model to a pickle file\n",
    "# with open(\"nepbert_model.pkl\", \"wb\") as f:\n",
    "#     pickle.dump(model, f)\n"
   ]
  },
  {
   "cell_type": "markdown",
   "metadata": {
    "id": "CNo4jwVNRZrG"
   },
   "source": [
    "Checking Model output"
   ]
  },
  {
   "cell_type": "code",
   "execution_count": 19,
   "metadata": {
    "colab": {
     "base_uri": "https://localhost:8080/"
    },
    "executionInfo": {
     "elapsed": 431,
     "status": "ok",
     "timestamp": 1741545146759,
     "user": {
      "displayName": "Dhawalagiri",
      "userId": "11900216459054326949"
     },
     "user_tz": -345
    },
    "id": "J0giq0LfFSWD",
    "outputId": "5b8c8ead-4995-4d68-e93e-b7cdb478e146"
   },
   "outputs": [
    {
     "name": "stderr",
     "output_type": "stream",
     "text": [
      "Device set to use cuda:0\n"
     ]
    }
   ],
   "source": [
    "from transformers import pipeline\n",
    "\n",
    "classifier = pipeline(\"text-classification\", model=\"./fine_tuned_nepbert\", tokenizer=tokenizer)\n",
    "# or\n",
    "# Load model using Hugging Face's method\n",
    "# from transformers import BertForSequenceClassification, BertTokenizer\n",
    "# model = BertForSequenceClassification.from_pretrained(\"./fine_tuned_nepbert\")\n",
    "# tokenizer = BertTokenizer.from_pretrained(\"./fine_tuned_nepbert\")\n"
   ]
  },
  {
   "cell_type": "code",
   "execution_count": 20,
   "metadata": {
    "colab": {
     "base_uri": "https://localhost:8080/"
    },
    "executionInfo": {
     "elapsed": 58,
     "status": "ok",
     "timestamp": 1741545146821,
     "user": {
      "displayName": "Dhawalagiri",
      "userId": "11900216459054326949"
     },
     "user_tz": -345
    },
    "id": "VeB8EQmq70Ta",
    "outputId": "595ffe99-04ba-4743-a4fa-068cda4b0fe7"
   },
   "outputs": [
    {
     "name": "stdout",
     "output_type": "stream",
     "text": [
      "Review is Fake with 56.79% accuracy.\n"
     ]
    }
   ],
   "source": [
    "# Example rating and review\n",
    "rating = 1\n",
    "review = \"यो होटल ठगि हो।\"  # Example Nepali review\n",
    "\n",
    "# Concatenate rating with review (same format as training)\n",
    "input_text = f\"{rating} [SEP]{review}\"\n",
    "\n",
    "# Get prediction\n",
    "result = classifier(input_text)\n",
    "\n",
    "# print(result) #gives following o/p\n",
    "# [{'label': 'LABEL_0', 'score': 0.9900834560394287}]\n",
    "\n",
    "# Extract label and confidence score\n",
    "label = result[0]['label']\n",
    "score = result[0]['score'] * 100  # Convert to percentage\n",
    "\n",
    "# Interpret the label (assuming LABEL_0 = Fake, LABEL_1 = Real)\n",
    "label_text = \"Fake\" if label == \"LABEL_0\" else \"Real\"\n",
    "\n",
    "# Display output\n",
    "print(f\"Review is {label_text} with {score:.2f}% accuracy.\")\n"
   ]
  },
  {
   "cell_type": "code",
   "execution_count": 21,
   "metadata": {
    "colab": {
     "base_uri": "https://localhost:8080/"
    },
    "executionInfo": {
     "elapsed": 35,
     "status": "ok",
     "timestamp": 1741545146859,
     "user": {
      "displayName": "Dhawalagiri",
      "userId": "11900216459054326949"
     },
     "user_tz": -345
    },
    "id": "NVim8wUqZdTb",
    "outputId": "3f2fbcf0-e47c-4904-c3ad-6d14247bf259"
   },
   "outputs": [
    {
     "name": "stdout",
     "output_type": "stream",
     "text": [
      "Review is Real with 89.63% accuracy.\n"
     ]
    }
   ],
   "source": [
    "# Example rating and review\n",
    "rating = 5\n",
    "review = \"यो होटल ठगि हो।\"  # Example Nepali review\n",
    "\n",
    "# Concatenate rating with review (same format as training)\n",
    "input_text = f\"Rating: {rating} [SEP] {review}\"\n",
    "\n",
    "# Get prediction\n",
    "result = classifier(input_text)\n",
    "\n",
    "# print(result) #gives following o/p\n",
    "# [{'label': 'LABEL_0', 'score': 0.9900834560394287}]\n",
    "\n",
    "# Extract label and confidence score\n",
    "label = result[0]['label']\n",
    "score = result[0]['score'] * 100  # Convert to percentage\n",
    "\n",
    "# Interpret the label (assuming LABEL_0 = Fake, LABEL_1 = Real)\n",
    "label_text = \"Fake\" if label == \"LABEL_0\" else \"Real\"\n",
    "\n",
    "# Display output\n",
    "print(f\"Review is {label_text} with {score:.2f}% accuracy.\")\n"
   ]
  },
  {
   "cell_type": "code",
   "execution_count": 22,
   "metadata": {
    "colab": {
     "base_uri": "https://localhost:8080/"
    },
    "executionInfo": {
     "elapsed": 77,
     "status": "ok",
     "timestamp": 1741545146937,
     "user": {
      "displayName": "Dhawalagiri",
      "userId": "11900216459054326949"
     },
     "user_tz": -345
    },
    "id": "WYIK638GyI7S",
    "outputId": "9b641ecd-f73b-44a6-8e5e-60d844f3e47f"
   },
   "outputs": [
    {
     "name": "stdout",
     "output_type": "stream",
     "text": [
      "Review is Fake with 98.43% accuracy.\n"
     ]
    }
   ],
   "source": [
    "# Example rating and review\n",
    "rating = 5\n",
    "review = \"यसले मेरो फोनलाई चार्जर पूर्ण रूपमा चार्ज भएपछि मात्र चार्ज गर्न अनुमति दिन्छ। यसको एक मात्र नकारात्मक पक्ष भनेको जब तपाईं\"\n",
    "\n",
    "# Concatenate rating with review (same format as training)\n",
    "input_text = f\"Rating: {rating} [SEP] {review}\"\n",
    "\n",
    "# Get prediction\n",
    "result = classifier(input_text)\n",
    "\n",
    "# Extract label and confidence score\n",
    "label = result[0]['label']\n",
    "score = result[0]['score'] * 100  # Convert to percentage\n",
    "\n",
    "# Interpret the label (assuming LABEL_0 = Fake, LABEL_1 = Real)\n",
    "label_text = \"Fake\" if label == \"LABEL_0\" else \"Real\"\n",
    "\n",
    "# Display output\n",
    "print(f\"Review is {label_text} with {score:.2f}% accuracy.\")\n"
   ]
  },
  {
   "cell_type": "code",
   "execution_count": 23,
   "metadata": {
    "colab": {
     "base_uri": "https://localhost:8080/"
    },
    "executionInfo": {
     "elapsed": 10,
     "status": "ok",
     "timestamp": 1741545146939,
     "user": {
      "displayName": "Dhawalagiri",
      "userId": "11900216459054326949"
     },
     "user_tz": -345
    },
    "id": "Pavi5RUGcFn_",
    "outputId": "1c7468cb-e375-4555-9dac-3cf195d84434"
   },
   "outputs": [
    {
     "name": "stdout",
     "output_type": "stream",
     "text": [
      "Review is Fake with 98.38% accuracy.\n"
     ]
    }
   ],
   "source": [
    "# Example rating and review\n",
    "rating = 1\n",
    "review = \"यसले मेरो फोनलाई चार्जर पूर्ण रूपमा चार्ज भएपछि मात्र चार्ज गर्न अनुमति दिन्छ। यसको एक मात्र नकारात्मक पक्ष भनेको जब तपाईं\"\n",
    "\n",
    "# Concatenate rating with review (same format as training)\n",
    "input_text = f\"Rating: {rating}[SEP]{review}\"\n",
    "\n",
    "# Get prediction\n",
    "result = classifier(input_text)\n",
    "\n",
    "# Extract label and confidence score\n",
    "label = result[0]['label']\n",
    "score = result[0]['score'] * 100  # Convert to percentage\n",
    "\n",
    "# Interpret the label (assuming LABEL_0 = Fake, LABEL_1 = Real)\n",
    "label_text = \"Fake\" if label == \"LABEL_0\" else \"Real\"\n",
    "\n",
    "# Display output\n",
    "print(f\"Review is {label_text} with {score:.2f}% accuracy.\")"
   ]
  }
 ],
 "metadata": {
  "accelerator": "GPU",
  "colab": {
   "authorship_tag": "ABX9TyMm+sx2jQErpssUyWPsnKm+",
   "gpuType": "T4",
   "mount_file_id": "10KYG2ce1O7cBqyxpbX7mlzZPqkM28Qh9",
   "provenance": [
    {
     "file_id": "1doIVUXlSQ4StDtb-viKdS6nQb15GXFQI",
     "timestamp": 1741025508429
    }
   ]
  },
  "kernelspec": {
   "display_name": "base",
   "language": "python",
   "name": "python3"
  },
  "language_info": {
   "name": "python",
   "version": "3.12.7"
  },
  "widgets": {
   "application/vnd.jupyter.widget-state+json": {
    "0b9e36ae972b4be6a64a53ace0b5aada": {
     "model_module": "@jupyter-widgets/controls",
     "model_module_version": "1.5.0",
     "model_name": "HTMLModel",
     "state": {
      "_dom_classes": [],
      "_model_module": "@jupyter-widgets/controls",
      "_model_module_version": "1.5.0",
      "_model_name": "HTMLModel",
      "_view_count": null,
      "_view_module": "@jupyter-widgets/controls",
      "_view_module_version": "1.5.0",
      "_view_name": "HTMLView",
      "description": "",
      "description_tooltip": null,
      "layout": "IPY_MODEL_94b4dd9b04434d28a4b4a27efb4510af",
      "placeholder": "​",
      "style": "IPY_MODEL_eeff601bcf974db695a0fe8ebe68249c",
      "value": " 547k/547k [00:00&lt;00:00, 2.09MB/s]"
     }
    },
    "16b2c32d92cf4f37966d4e90ca55dc10": {
     "model_module": "@jupyter-widgets/base",
     "model_module_version": "1.2.0",
     "model_name": "LayoutModel",
     "state": {
      "_model_module": "@jupyter-widgets/base",
      "_model_module_version": "1.2.0",
      "_model_name": "LayoutModel",
      "_view_count": null,
      "_view_module": "@jupyter-widgets/base",
      "_view_module_version": "1.2.0",
      "_view_name": "LayoutView",
      "align_content": null,
      "align_items": null,
      "align_self": null,
      "border": null,
      "bottom": null,
      "display": null,
      "flex": null,
      "flex_flow": null,
      "grid_area": null,
      "grid_auto_columns": null,
      "grid_auto_flow": null,
      "grid_auto_rows": null,
      "grid_column": null,
      "grid_gap": null,
      "grid_row": null,
      "grid_template_areas": null,
      "grid_template_columns": null,
      "grid_template_rows": null,
      "height": null,
      "justify_content": null,
      "justify_items": null,
      "left": null,
      "margin": null,
      "max_height": null,
      "max_width": null,
      "min_height": null,
      "min_width": null,
      "object_fit": null,
      "object_position": null,
      "order": null,
      "overflow": null,
      "overflow_x": null,
      "overflow_y": null,
      "padding": null,
      "right": null,
      "top": null,
      "visibility": null,
      "width": null
     }
    },
    "17032df0f82347a2a797449195e06b85": {
     "model_module": "@jupyter-widgets/controls",
     "model_module_version": "1.5.0",
     "model_name": "HBoxModel",
     "state": {
      "_dom_classes": [],
      "_model_module": "@jupyter-widgets/controls",
      "_model_module_version": "1.5.0",
      "_model_name": "HBoxModel",
      "_view_count": null,
      "_view_module": "@jupyter-widgets/controls",
      "_view_module_version": "1.5.0",
      "_view_name": "HBoxView",
      "box_style": "",
      "children": [
       "IPY_MODEL_32c29e84ac7a4bd9bceea4c3db6bdcde",
       "IPY_MODEL_f58edcfefe5d42e3b05900eafd8aa927",
       "IPY_MODEL_80511876bbc0410c8b2f11b3c606ecdd"
      ],
      "layout": "IPY_MODEL_5b2327b1fd6c4f749c82de255a11152f"
     }
    },
    "1e24af82d3c242f29de05b8cbca5e48e": {
     "model_module": "@jupyter-widgets/base",
     "model_module_version": "1.2.0",
     "model_name": "LayoutModel",
     "state": {
      "_model_module": "@jupyter-widgets/base",
      "_model_module_version": "1.2.0",
      "_model_name": "LayoutModel",
      "_view_count": null,
      "_view_module": "@jupyter-widgets/base",
      "_view_module_version": "1.2.0",
      "_view_name": "LayoutView",
      "align_content": null,
      "align_items": null,
      "align_self": null,
      "border": null,
      "bottom": null,
      "display": null,
      "flex": null,
      "flex_flow": null,
      "grid_area": null,
      "grid_auto_columns": null,
      "grid_auto_flow": null,
      "grid_auto_rows": null,
      "grid_column": null,
      "grid_gap": null,
      "grid_row": null,
      "grid_template_areas": null,
      "grid_template_columns": null,
      "grid_template_rows": null,
      "height": null,
      "justify_content": null,
      "justify_items": null,
      "left": null,
      "margin": null,
      "max_height": null,
      "max_width": null,
      "min_height": null,
      "min_width": null,
      "object_fit": null,
      "object_position": null,
      "order": null,
      "overflow": null,
      "overflow_x": null,
      "overflow_y": null,
      "padding": null,
      "right": null,
      "top": null,
      "visibility": null,
      "width": null
     }
    },
    "26a8df62823145bba5185e5d4ee4ff51": {
     "model_module": "@jupyter-widgets/controls",
     "model_module_version": "1.5.0",
     "model_name": "DescriptionStyleModel",
     "state": {
      "_model_module": "@jupyter-widgets/controls",
      "_model_module_version": "1.5.0",
      "_model_name": "DescriptionStyleModel",
      "_view_count": null,
      "_view_module": "@jupyter-widgets/base",
      "_view_module_version": "1.2.0",
      "_view_name": "StyleView",
      "description_width": ""
     }
    },
    "2ec62fe867e743cdabb3614942a216a8": {
     "model_module": "@jupyter-widgets/controls",
     "model_module_version": "1.5.0",
     "model_name": "DescriptionStyleModel",
     "state": {
      "_model_module": "@jupyter-widgets/controls",
      "_model_module_version": "1.5.0",
      "_model_name": "DescriptionStyleModel",
      "_view_count": null,
      "_view_module": "@jupyter-widgets/base",
      "_view_module_version": "1.2.0",
      "_view_name": "StyleView",
      "description_width": ""
     }
    },
    "32c29e84ac7a4bd9bceea4c3db6bdcde": {
     "model_module": "@jupyter-widgets/controls",
     "model_module_version": "1.5.0",
     "model_name": "HTMLModel",
     "state": {
      "_dom_classes": [],
      "_model_module": "@jupyter-widgets/controls",
      "_model_module_version": "1.5.0",
      "_model_name": "HTMLModel",
      "_view_count": null,
      "_view_module": "@jupyter-widgets/controls",
      "_view_module_version": "1.5.0",
      "_view_name": "HTMLView",
      "description": "",
      "description_tooltip": null,
      "layout": "IPY_MODEL_effd33b6e6294aaf9f717cf0adad6594",
      "placeholder": "​",
      "style": "IPY_MODEL_e3b07cf85ada497e85866515b55f9461",
      "value": "tf_model.h5: 100%"
     }
    },
    "34a78ebc416d467092951c2cf7170230": {
     "model_module": "@jupyter-widgets/base",
     "model_module_version": "1.2.0",
     "model_name": "LayoutModel",
     "state": {
      "_model_module": "@jupyter-widgets/base",
      "_model_module_version": "1.2.0",
      "_model_name": "LayoutModel",
      "_view_count": null,
      "_view_module": "@jupyter-widgets/base",
      "_view_module_version": "1.2.0",
      "_view_name": "LayoutView",
      "align_content": null,
      "align_items": null,
      "align_self": null,
      "border": null,
      "bottom": null,
      "display": null,
      "flex": null,
      "flex_flow": null,
      "grid_area": null,
      "grid_auto_columns": null,
      "grid_auto_flow": null,
      "grid_auto_rows": null,
      "grid_column": null,
      "grid_gap": null,
      "grid_row": null,
      "grid_template_areas": null,
      "grid_template_columns": null,
      "grid_template_rows": null,
      "height": null,
      "justify_content": null,
      "justify_items": null,
      "left": null,
      "margin": null,
      "max_height": null,
      "max_width": null,
      "min_height": null,
      "min_width": null,
      "object_fit": null,
      "object_position": null,
      "order": null,
      "overflow": null,
      "overflow_x": null,
      "overflow_y": null,
      "padding": null,
      "right": null,
      "top": null,
      "visibility": null,
      "width": null
     }
    },
    "46fe7ac82d334910a40e87c00d3bcd8c": {
     "model_module": "@jupyter-widgets/controls",
     "model_module_version": "1.5.0",
     "model_name": "HBoxModel",
     "state": {
      "_dom_classes": [],
      "_model_module": "@jupyter-widgets/controls",
      "_model_module_version": "1.5.0",
      "_model_name": "HBoxModel",
      "_view_count": null,
      "_view_module": "@jupyter-widgets/controls",
      "_view_module_version": "1.5.0",
      "_view_name": "HBoxView",
      "box_style": "",
      "children": [
       "IPY_MODEL_8f21ae9f8e3d4ca680da78e5f7a411a5",
       "IPY_MODEL_6e88fed6e83b40ceb5acbd27d538b775",
       "IPY_MODEL_0b9e36ae972b4be6a64a53ace0b5aada"
      ],
      "layout": "IPY_MODEL_34a78ebc416d467092951c2cf7170230"
     }
    },
    "4c716f6e093c43ea93bf1937184ed0f3": {
     "model_module": "@jupyter-widgets/base",
     "model_module_version": "1.2.0",
     "model_name": "LayoutModel",
     "state": {
      "_model_module": "@jupyter-widgets/base",
      "_model_module_version": "1.2.0",
      "_model_name": "LayoutModel",
      "_view_count": null,
      "_view_module": "@jupyter-widgets/base",
      "_view_module_version": "1.2.0",
      "_view_name": "LayoutView",
      "align_content": null,
      "align_items": null,
      "align_self": null,
      "border": null,
      "bottom": null,
      "display": null,
      "flex": null,
      "flex_flow": null,
      "grid_area": null,
      "grid_auto_columns": null,
      "grid_auto_flow": null,
      "grid_auto_rows": null,
      "grid_column": null,
      "grid_gap": null,
      "grid_row": null,
      "grid_template_areas": null,
      "grid_template_columns": null,
      "grid_template_rows": null,
      "height": null,
      "justify_content": null,
      "justify_items": null,
      "left": null,
      "margin": null,
      "max_height": null,
      "max_width": null,
      "min_height": null,
      "min_width": null,
      "object_fit": null,
      "object_position": null,
      "order": null,
      "overflow": null,
      "overflow_x": null,
      "overflow_y": null,
      "padding": null,
      "right": null,
      "top": null,
      "visibility": null,
      "width": null
     }
    },
    "59d4b407a57e44faa35ea002a942d24b": {
     "model_module": "@jupyter-widgets/base",
     "model_module_version": "1.2.0",
     "model_name": "LayoutModel",
     "state": {
      "_model_module": "@jupyter-widgets/base",
      "_model_module_version": "1.2.0",
      "_model_name": "LayoutModel",
      "_view_count": null,
      "_view_module": "@jupyter-widgets/base",
      "_view_module_version": "1.2.0",
      "_view_name": "LayoutView",
      "align_content": null,
      "align_items": null,
      "align_self": null,
      "border": null,
      "bottom": null,
      "display": null,
      "flex": null,
      "flex_flow": null,
      "grid_area": null,
      "grid_auto_columns": null,
      "grid_auto_flow": null,
      "grid_auto_rows": null,
      "grid_column": null,
      "grid_gap": null,
      "grid_row": null,
      "grid_template_areas": null,
      "grid_template_columns": null,
      "grid_template_rows": null,
      "height": null,
      "justify_content": null,
      "justify_items": null,
      "left": null,
      "margin": null,
      "max_height": null,
      "max_width": null,
      "min_height": null,
      "min_width": null,
      "object_fit": null,
      "object_position": null,
      "order": null,
      "overflow": null,
      "overflow_x": null,
      "overflow_y": null,
      "padding": null,
      "right": null,
      "top": null,
      "visibility": null,
      "width": null
     }
    },
    "5b2327b1fd6c4f749c82de255a11152f": {
     "model_module": "@jupyter-widgets/base",
     "model_module_version": "1.2.0",
     "model_name": "LayoutModel",
     "state": {
      "_model_module": "@jupyter-widgets/base",
      "_model_module_version": "1.2.0",
      "_model_name": "LayoutModel",
      "_view_count": null,
      "_view_module": "@jupyter-widgets/base",
      "_view_module_version": "1.2.0",
      "_view_name": "LayoutView",
      "align_content": null,
      "align_items": null,
      "align_self": null,
      "border": null,
      "bottom": null,
      "display": null,
      "flex": null,
      "flex_flow": null,
      "grid_area": null,
      "grid_auto_columns": null,
      "grid_auto_flow": null,
      "grid_auto_rows": null,
      "grid_column": null,
      "grid_gap": null,
      "grid_row": null,
      "grid_template_areas": null,
      "grid_template_columns": null,
      "grid_template_rows": null,
      "height": null,
      "justify_content": null,
      "justify_items": null,
      "left": null,
      "margin": null,
      "max_height": null,
      "max_width": null,
      "min_height": null,
      "min_width": null,
      "object_fit": null,
      "object_position": null,
      "order": null,
      "overflow": null,
      "overflow_x": null,
      "overflow_y": null,
      "padding": null,
      "right": null,
      "top": null,
      "visibility": null,
      "width": null
     }
    },
    "6e88fed6e83b40ceb5acbd27d538b775": {
     "model_module": "@jupyter-widgets/controls",
     "model_module_version": "1.5.0",
     "model_name": "FloatProgressModel",
     "state": {
      "_dom_classes": [],
      "_model_module": "@jupyter-widgets/controls",
      "_model_module_version": "1.5.0",
      "_model_name": "FloatProgressModel",
      "_view_count": null,
      "_view_module": "@jupyter-widgets/controls",
      "_view_module_version": "1.5.0",
      "_view_name": "ProgressView",
      "bar_style": "success",
      "description": "",
      "description_tooltip": null,
      "layout": "IPY_MODEL_f222c86e7d0d440da5373d208a1703d8",
      "max": 546517,
      "min": 0,
      "orientation": "horizontal",
      "style": "IPY_MODEL_e90ee13e5e364204943efe8cae84fc2f",
      "value": 546517
     }
    },
    "6ee93c2598b54e7d97f33d32b678f5bc": {
     "model_module": "@jupyter-widgets/controls",
     "model_module_version": "1.5.0",
     "model_name": "HTMLModel",
     "state": {
      "_dom_classes": [],
      "_model_module": "@jupyter-widgets/controls",
      "_model_module_version": "1.5.0",
      "_model_name": "HTMLModel",
      "_view_count": null,
      "_view_module": "@jupyter-widgets/controls",
      "_view_module_version": "1.5.0",
      "_view_name": "HTMLView",
      "description": "",
      "description_tooltip": null,
      "layout": "IPY_MODEL_59d4b407a57e44faa35ea002a942d24b",
      "placeholder": "​",
      "style": "IPY_MODEL_26a8df62823145bba5185e5d4ee4ff51",
      "value": "config.json: 100%"
     }
    },
    "758a00689deb48bf9b19dce934afe234": {
     "model_module": "@jupyter-widgets/controls",
     "model_module_version": "1.5.0",
     "model_name": "DescriptionStyleModel",
     "state": {
      "_model_module": "@jupyter-widgets/controls",
      "_model_module_version": "1.5.0",
      "_model_name": "DescriptionStyleModel",
      "_view_count": null,
      "_view_module": "@jupyter-widgets/base",
      "_view_module_version": "1.2.0",
      "_view_name": "StyleView",
      "description_width": ""
     }
    },
    "80511876bbc0410c8b2f11b3c606ecdd": {
     "model_module": "@jupyter-widgets/controls",
     "model_module_version": "1.5.0",
     "model_name": "HTMLModel",
     "state": {
      "_dom_classes": [],
      "_model_module": "@jupyter-widgets/controls",
      "_model_module_version": "1.5.0",
      "_model_name": "HTMLModel",
      "_view_count": null,
      "_view_module": "@jupyter-widgets/controls",
      "_view_module_version": "1.5.0",
      "_view_name": "HTMLView",
      "description": "",
      "description_tooltip": null,
      "layout": "IPY_MODEL_88d1f81a3ddc4470b486d915e44c5493",
      "placeholder": "​",
      "style": "IPY_MODEL_758a00689deb48bf9b19dce934afe234",
      "value": " 534M/534M [00:03&lt;00:00, 119MB/s]"
     }
    },
    "879cb6f1e92a466c8be375b009cee892": {
     "model_module": "@jupyter-widgets/controls",
     "model_module_version": "1.5.0",
     "model_name": "HBoxModel",
     "state": {
      "_dom_classes": [],
      "_model_module": "@jupyter-widgets/controls",
      "_model_module_version": "1.5.0",
      "_model_name": "HBoxModel",
      "_view_count": null,
      "_view_module": "@jupyter-widgets/controls",
      "_view_module_version": "1.5.0",
      "_view_name": "HBoxView",
      "box_style": "",
      "children": [
       "IPY_MODEL_6ee93c2598b54e7d97f33d32b678f5bc",
       "IPY_MODEL_fc01aa438b6742f6bc609a23ded9cc71",
       "IPY_MODEL_a2390b6abc164d3395988a2acd1a5f5b"
      ],
      "layout": "IPY_MODEL_ea4f197a33944adaad47b8e81c6e388d"
     }
    },
    "88d1f81a3ddc4470b486d915e44c5493": {
     "model_module": "@jupyter-widgets/base",
     "model_module_version": "1.2.0",
     "model_name": "LayoutModel",
     "state": {
      "_model_module": "@jupyter-widgets/base",
      "_model_module_version": "1.2.0",
      "_model_name": "LayoutModel",
      "_view_count": null,
      "_view_module": "@jupyter-widgets/base",
      "_view_module_version": "1.2.0",
      "_view_name": "LayoutView",
      "align_content": null,
      "align_items": null,
      "align_self": null,
      "border": null,
      "bottom": null,
      "display": null,
      "flex": null,
      "flex_flow": null,
      "grid_area": null,
      "grid_auto_columns": null,
      "grid_auto_flow": null,
      "grid_auto_rows": null,
      "grid_column": null,
      "grid_gap": null,
      "grid_row": null,
      "grid_template_areas": null,
      "grid_template_columns": null,
      "grid_template_rows": null,
      "height": null,
      "justify_content": null,
      "justify_items": null,
      "left": null,
      "margin": null,
      "max_height": null,
      "max_width": null,
      "min_height": null,
      "min_width": null,
      "object_fit": null,
      "object_position": null,
      "order": null,
      "overflow": null,
      "overflow_x": null,
      "overflow_y": null,
      "padding": null,
      "right": null,
      "top": null,
      "visibility": null,
      "width": null
     }
    },
    "8f21ae9f8e3d4ca680da78e5f7a411a5": {
     "model_module": "@jupyter-widgets/controls",
     "model_module_version": "1.5.0",
     "model_name": "HTMLModel",
     "state": {
      "_dom_classes": [],
      "_model_module": "@jupyter-widgets/controls",
      "_model_module_version": "1.5.0",
      "_model_name": "HTMLModel",
      "_view_count": null,
      "_view_module": "@jupyter-widgets/controls",
      "_view_module_version": "1.5.0",
      "_view_name": "HTMLView",
      "description": "",
      "description_tooltip": null,
      "layout": "IPY_MODEL_9d4c0ed93b944bf0a728b71aa2d70025",
      "placeholder": "​",
      "style": "IPY_MODEL_ff490a55a8d7477893e0d548615d8d11",
      "value": "vocab.txt: 100%"
     }
    },
    "928b1d04fc2d4006a47ed4ef495cc290": {
     "model_module": "@jupyter-widgets/controls",
     "model_module_version": "1.5.0",
     "model_name": "ProgressStyleModel",
     "state": {
      "_model_module": "@jupyter-widgets/controls",
      "_model_module_version": "1.5.0",
      "_model_name": "ProgressStyleModel",
      "_view_count": null,
      "_view_module": "@jupyter-widgets/base",
      "_view_module_version": "1.2.0",
      "_view_name": "StyleView",
      "bar_color": null,
      "description_width": ""
     }
    },
    "94b4dd9b04434d28a4b4a27efb4510af": {
     "model_module": "@jupyter-widgets/base",
     "model_module_version": "1.2.0",
     "model_name": "LayoutModel",
     "state": {
      "_model_module": "@jupyter-widgets/base",
      "_model_module_version": "1.2.0",
      "_model_name": "LayoutModel",
      "_view_count": null,
      "_view_module": "@jupyter-widgets/base",
      "_view_module_version": "1.2.0",
      "_view_name": "LayoutView",
      "align_content": null,
      "align_items": null,
      "align_self": null,
      "border": null,
      "bottom": null,
      "display": null,
      "flex": null,
      "flex_flow": null,
      "grid_area": null,
      "grid_auto_columns": null,
      "grid_auto_flow": null,
      "grid_auto_rows": null,
      "grid_column": null,
      "grid_gap": null,
      "grid_row": null,
      "grid_template_areas": null,
      "grid_template_columns": null,
      "grid_template_rows": null,
      "height": null,
      "justify_content": null,
      "justify_items": null,
      "left": null,
      "margin": null,
      "max_height": null,
      "max_width": null,
      "min_height": null,
      "min_width": null,
      "object_fit": null,
      "object_position": null,
      "order": null,
      "overflow": null,
      "overflow_x": null,
      "overflow_y": null,
      "padding": null,
      "right": null,
      "top": null,
      "visibility": null,
      "width": null
     }
    },
    "9d4c0ed93b944bf0a728b71aa2d70025": {
     "model_module": "@jupyter-widgets/base",
     "model_module_version": "1.2.0",
     "model_name": "LayoutModel",
     "state": {
      "_model_module": "@jupyter-widgets/base",
      "_model_module_version": "1.2.0",
      "_model_name": "LayoutModel",
      "_view_count": null,
      "_view_module": "@jupyter-widgets/base",
      "_view_module_version": "1.2.0",
      "_view_name": "LayoutView",
      "align_content": null,
      "align_items": null,
      "align_self": null,
      "border": null,
      "bottom": null,
      "display": null,
      "flex": null,
      "flex_flow": null,
      "grid_area": null,
      "grid_auto_columns": null,
      "grid_auto_flow": null,
      "grid_auto_rows": null,
      "grid_column": null,
      "grid_gap": null,
      "grid_row": null,
      "grid_template_areas": null,
      "grid_template_columns": null,
      "grid_template_rows": null,
      "height": null,
      "justify_content": null,
      "justify_items": null,
      "left": null,
      "margin": null,
      "max_height": null,
      "max_width": null,
      "min_height": null,
      "min_width": null,
      "object_fit": null,
      "object_position": null,
      "order": null,
      "overflow": null,
      "overflow_x": null,
      "overflow_y": null,
      "padding": null,
      "right": null,
      "top": null,
      "visibility": null,
      "width": null
     }
    },
    "a2390b6abc164d3395988a2acd1a5f5b": {
     "model_module": "@jupyter-widgets/controls",
     "model_module_version": "1.5.0",
     "model_name": "HTMLModel",
     "state": {
      "_dom_classes": [],
      "_model_module": "@jupyter-widgets/controls",
      "_model_module_version": "1.5.0",
      "_model_name": "HTMLModel",
      "_view_count": null,
      "_view_module": "@jupyter-widgets/controls",
      "_view_module_version": "1.5.0",
      "_view_name": "HTMLView",
      "description": "",
      "description_tooltip": null,
      "layout": "IPY_MODEL_4c716f6e093c43ea93bf1937184ed0f3",
      "placeholder": "​",
      "style": "IPY_MODEL_2ec62fe867e743cdabb3614942a216a8",
      "value": " 652/652 [00:00&lt;00:00, 18.2kB/s]"
     }
    },
    "e16561e8306347a79681858110fa49e5": {
     "model_module": "@jupyter-widgets/controls",
     "model_module_version": "1.5.0",
     "model_name": "ProgressStyleModel",
     "state": {
      "_model_module": "@jupyter-widgets/controls",
      "_model_module_version": "1.5.0",
      "_model_name": "ProgressStyleModel",
      "_view_count": null,
      "_view_module": "@jupyter-widgets/base",
      "_view_module_version": "1.2.0",
      "_view_name": "StyleView",
      "bar_color": null,
      "description_width": ""
     }
    },
    "e3b07cf85ada497e85866515b55f9461": {
     "model_module": "@jupyter-widgets/controls",
     "model_module_version": "1.5.0",
     "model_name": "DescriptionStyleModel",
     "state": {
      "_model_module": "@jupyter-widgets/controls",
      "_model_module_version": "1.5.0",
      "_model_name": "DescriptionStyleModel",
      "_view_count": null,
      "_view_module": "@jupyter-widgets/base",
      "_view_module_version": "1.2.0",
      "_view_name": "StyleView",
      "description_width": ""
     }
    },
    "e90ee13e5e364204943efe8cae84fc2f": {
     "model_module": "@jupyter-widgets/controls",
     "model_module_version": "1.5.0",
     "model_name": "ProgressStyleModel",
     "state": {
      "_model_module": "@jupyter-widgets/controls",
      "_model_module_version": "1.5.0",
      "_model_name": "ProgressStyleModel",
      "_view_count": null,
      "_view_module": "@jupyter-widgets/base",
      "_view_module_version": "1.2.0",
      "_view_name": "StyleView",
      "bar_color": null,
      "description_width": ""
     }
    },
    "ea4f197a33944adaad47b8e81c6e388d": {
     "model_module": "@jupyter-widgets/base",
     "model_module_version": "1.2.0",
     "model_name": "LayoutModel",
     "state": {
      "_model_module": "@jupyter-widgets/base",
      "_model_module_version": "1.2.0",
      "_model_name": "LayoutModel",
      "_view_count": null,
      "_view_module": "@jupyter-widgets/base",
      "_view_module_version": "1.2.0",
      "_view_name": "LayoutView",
      "align_content": null,
      "align_items": null,
      "align_self": null,
      "border": null,
      "bottom": null,
      "display": null,
      "flex": null,
      "flex_flow": null,
      "grid_area": null,
      "grid_auto_columns": null,
      "grid_auto_flow": null,
      "grid_auto_rows": null,
      "grid_column": null,
      "grid_gap": null,
      "grid_row": null,
      "grid_template_areas": null,
      "grid_template_columns": null,
      "grid_template_rows": null,
      "height": null,
      "justify_content": null,
      "justify_items": null,
      "left": null,
      "margin": null,
      "max_height": null,
      "max_width": null,
      "min_height": null,
      "min_width": null,
      "object_fit": null,
      "object_position": null,
      "order": null,
      "overflow": null,
      "overflow_x": null,
      "overflow_y": null,
      "padding": null,
      "right": null,
      "top": null,
      "visibility": null,
      "width": null
     }
    },
    "eeff601bcf974db695a0fe8ebe68249c": {
     "model_module": "@jupyter-widgets/controls",
     "model_module_version": "1.5.0",
     "model_name": "DescriptionStyleModel",
     "state": {
      "_model_module": "@jupyter-widgets/controls",
      "_model_module_version": "1.5.0",
      "_model_name": "DescriptionStyleModel",
      "_view_count": null,
      "_view_module": "@jupyter-widgets/base",
      "_view_module_version": "1.2.0",
      "_view_name": "StyleView",
      "description_width": ""
     }
    },
    "effd33b6e6294aaf9f717cf0adad6594": {
     "model_module": "@jupyter-widgets/base",
     "model_module_version": "1.2.0",
     "model_name": "LayoutModel",
     "state": {
      "_model_module": "@jupyter-widgets/base",
      "_model_module_version": "1.2.0",
      "_model_name": "LayoutModel",
      "_view_count": null,
      "_view_module": "@jupyter-widgets/base",
      "_view_module_version": "1.2.0",
      "_view_name": "LayoutView",
      "align_content": null,
      "align_items": null,
      "align_self": null,
      "border": null,
      "bottom": null,
      "display": null,
      "flex": null,
      "flex_flow": null,
      "grid_area": null,
      "grid_auto_columns": null,
      "grid_auto_flow": null,
      "grid_auto_rows": null,
      "grid_column": null,
      "grid_gap": null,
      "grid_row": null,
      "grid_template_areas": null,
      "grid_template_columns": null,
      "grid_template_rows": null,
      "height": null,
      "justify_content": null,
      "justify_items": null,
      "left": null,
      "margin": null,
      "max_height": null,
      "max_width": null,
      "min_height": null,
      "min_width": null,
      "object_fit": null,
      "object_position": null,
      "order": null,
      "overflow": null,
      "overflow_x": null,
      "overflow_y": null,
      "padding": null,
      "right": null,
      "top": null,
      "visibility": null,
      "width": null
     }
    },
    "f222c86e7d0d440da5373d208a1703d8": {
     "model_module": "@jupyter-widgets/base",
     "model_module_version": "1.2.0",
     "model_name": "LayoutModel",
     "state": {
      "_model_module": "@jupyter-widgets/base",
      "_model_module_version": "1.2.0",
      "_model_name": "LayoutModel",
      "_view_count": null,
      "_view_module": "@jupyter-widgets/base",
      "_view_module_version": "1.2.0",
      "_view_name": "LayoutView",
      "align_content": null,
      "align_items": null,
      "align_self": null,
      "border": null,
      "bottom": null,
      "display": null,
      "flex": null,
      "flex_flow": null,
      "grid_area": null,
      "grid_auto_columns": null,
      "grid_auto_flow": null,
      "grid_auto_rows": null,
      "grid_column": null,
      "grid_gap": null,
      "grid_row": null,
      "grid_template_areas": null,
      "grid_template_columns": null,
      "grid_template_rows": null,
      "height": null,
      "justify_content": null,
      "justify_items": null,
      "left": null,
      "margin": null,
      "max_height": null,
      "max_width": null,
      "min_height": null,
      "min_width": null,
      "object_fit": null,
      "object_position": null,
      "order": null,
      "overflow": null,
      "overflow_x": null,
      "overflow_y": null,
      "padding": null,
      "right": null,
      "top": null,
      "visibility": null,
      "width": null
     }
    },
    "f58edcfefe5d42e3b05900eafd8aa927": {
     "model_module": "@jupyter-widgets/controls",
     "model_module_version": "1.5.0",
     "model_name": "FloatProgressModel",
     "state": {
      "_dom_classes": [],
      "_model_module": "@jupyter-widgets/controls",
      "_model_module_version": "1.5.0",
      "_model_name": "FloatProgressModel",
      "_view_count": null,
      "_view_module": "@jupyter-widgets/controls",
      "_view_module_version": "1.5.0",
      "_view_name": "ProgressView",
      "bar_style": "success",
      "description": "",
      "description_tooltip": null,
      "layout": "IPY_MODEL_16b2c32d92cf4f37966d4e90ca55dc10",
      "max": 533687680,
      "min": 0,
      "orientation": "horizontal",
      "style": "IPY_MODEL_928b1d04fc2d4006a47ed4ef495cc290",
      "value": 533687680
     }
    },
    "fc01aa438b6742f6bc609a23ded9cc71": {
     "model_module": "@jupyter-widgets/controls",
     "model_module_version": "1.5.0",
     "model_name": "FloatProgressModel",
     "state": {
      "_dom_classes": [],
      "_model_module": "@jupyter-widgets/controls",
      "_model_module_version": "1.5.0",
      "_model_name": "FloatProgressModel",
      "_view_count": null,
      "_view_module": "@jupyter-widgets/controls",
      "_view_module_version": "1.5.0",
      "_view_name": "ProgressView",
      "bar_style": "success",
      "description": "",
      "description_tooltip": null,
      "layout": "IPY_MODEL_1e24af82d3c242f29de05b8cbca5e48e",
      "max": 652,
      "min": 0,
      "orientation": "horizontal",
      "style": "IPY_MODEL_e16561e8306347a79681858110fa49e5",
      "value": 652
     }
    },
    "ff490a55a8d7477893e0d548615d8d11": {
     "model_module": "@jupyter-widgets/controls",
     "model_module_version": "1.5.0",
     "model_name": "DescriptionStyleModel",
     "state": {
      "_model_module": "@jupyter-widgets/controls",
      "_model_module_version": "1.5.0",
      "_model_name": "DescriptionStyleModel",
      "_view_count": null,
      "_view_module": "@jupyter-widgets/base",
      "_view_module_version": "1.2.0",
      "_view_name": "StyleView",
      "description_width": ""
     }
    }
   }
  }
 },
 "nbformat": 4,
 "nbformat_minor": 0
}
