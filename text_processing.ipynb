{
 "cells": [
  {
   "cell_type": "code",
   "execution_count": null,
   "id": "f356411b",
   "metadata": {
    "tags": [
     "parameters"
    ]
   },
   "outputs": [],
   "source": [
    "# Dont delete this cell although it is empty"
   ]
  },
  {
   "cell_type": "code",
   "execution_count": 2,
   "id": "16a20770",
   "metadata": {
    "execution": {
     "iopub.execute_input": "2025-02-04T13:13:15.894539Z",
     "iopub.status.busy": "2025-02-04T13:13:15.894539Z",
     "iopub.status.idle": "2025-02-04T13:13:15.908078Z",
     "shell.execute_reply": "2025-02-04T13:13:15.908078Z"
    },
    "papermill": {
     "duration": 0.034134,
     "end_time": "2025-02-04T13:13:15.912602",
     "exception": false,
     "start_time": "2025-02-04T13:13:15.878468",
     "status": "completed"
    },
    "tags": [
     "injected-parameters"
    ]
   },
   "outputs": [],
   "source": [
    "# Parameters\n",
    "input_review = \"Just bought some of these from Walmart for $1.98....$8 seems a little ridiculous.  I haven't used them yet...trying to make an adapter to match the threaded part (my hydration pack is not Outdoor Products). Other than that they seem well designed and worth 2-5 dollars.\"\n",
    "input_rating = 5.0\n"
   ]
  },
  {
   "cell_type": "code",
   "execution_count": 3,
   "id": "631b4f96",
   "metadata": {
    "execution": {
     "iopub.execute_input": "2025-02-04T13:13:15.971851Z",
     "iopub.status.busy": "2025-02-04T13:13:15.971851Z",
     "iopub.status.idle": "2025-02-04T13:13:17.139578Z",
     "shell.execute_reply": "2025-02-04T13:13:17.137878Z"
    },
    "papermill": {
     "duration": 1.21499,
     "end_time": "2025-02-04T13:13:17.142460",
     "exception": false,
     "start_time": "2025-02-04T13:13:15.927470",
     "status": "completed"
    },
    "tags": []
   },
   "outputs": [
    {
     "name": "stdout",
     "output_type": "stream",
     "text": [
      "Processing Review: Just bought some of these from Walmart for $1.98....$8 seems a little ridiculous.  I haven't used them yet...trying to make an adapter to match the threaded part (my hydration pack is not Outdoor Products). Other than that they seem well designed and worth 2-5 dollars.\n",
      "Processing Rating: 5.0\n"
     ]
    }
   ],
   "source": [
    "import papermill as pm\n",
    "import sys\n",
    "\n",
    "# Read input parameters\n",
    "try:\n",
    "    input_review = input_review  # This comes from papermill\n",
    "    input_rating = input_rating\n",
    "except NameError:\n",
    "    input_review = \"Default review\"\n",
    "    input_rating = 5.0  # Default values for testing\n",
    "\n",
    "input_review_copy = input_review\n",
    "print(f\"Processing Review: {input_review}\")\n",
    "print(f\"Processing Rating: {input_rating}\")\n"
   ]
  },
  {
   "cell_type": "code",
   "execution_count": 4,
   "id": "e739bd97",
   "metadata": {
    "execution": {
     "iopub.execute_input": "2025-02-04T13:13:17.184084Z",
     "iopub.status.busy": "2025-02-04T13:13:17.184084Z",
     "iopub.status.idle": "2025-02-04T13:13:22.120829Z",
     "shell.execute_reply": "2025-02-04T13:13:22.120829Z"
    },
    "papermill": {
     "duration": 4.961639,
     "end_time": "2025-02-04T13:13:22.120829",
     "exception": false,
     "start_time": "2025-02-04T13:13:17.159190",
     "status": "completed"
    },
    "tags": []
   },
   "outputs": [
    {
     "name": "stderr",
     "output_type": "stream",
     "text": [
      "[nltk_data] Downloading package stopwords to\n",
      "[nltk_data]     C:\\Users\\Dell\\AppData\\Roaming\\nltk_data...\n",
      "[nltk_data]   Package stopwords is already up-to-date!\n",
      "[nltk_data] Downloading package wordnet to\n",
      "[nltk_data]     C:\\Users\\Dell\\AppData\\Roaming\\nltk_data...\n",
      "[nltk_data]   Package wordnet is already up-to-date!\n",
      "[nltk_data] Downloading collection 'popular'\n",
      "[nltk_data]    | \n",
      "[nltk_data]    | Downloading package cmudict to\n",
      "[nltk_data]    |     C:\\Users\\Dell\\AppData\\Roaming\\nltk_data...\n",
      "[nltk_data]    |   Package cmudict is already up-to-date!\n",
      "[nltk_data]    | Downloading package gazetteers to\n",
      "[nltk_data]    |     C:\\Users\\Dell\\AppData\\Roaming\\nltk_data...\n",
      "[nltk_data]    |   Package gazetteers is already up-to-date!\n",
      "[nltk_data]    | Downloading package genesis to\n",
      "[nltk_data]    |     C:\\Users\\Dell\\AppData\\Roaming\\nltk_data...\n",
      "[nltk_data]    |   Package genesis is already up-to-date!\n",
      "[nltk_data]    | Downloading package gutenberg to\n",
      "[nltk_data]    |     C:\\Users\\Dell\\AppData\\Roaming\\nltk_data...\n",
      "[nltk_data]    |   Package gutenberg is already up-to-date!\n",
      "[nltk_data]    | Downloading package inaugural to\n",
      "[nltk_data]    |     C:\\Users\\Dell\\AppData\\Roaming\\nltk_data...\n",
      "[nltk_data]    |   Package inaugural is already up-to-date!\n",
      "[nltk_data]    | Downloading package movie_reviews to\n",
      "[nltk_data]    |     C:\\Users\\Dell\\AppData\\Roaming\\nltk_data...\n",
      "[nltk_data]    |   Package movie_reviews is already up-to-date!\n",
      "[nltk_data]    | Downloading package names to\n",
      "[nltk_data]    |     C:\\Users\\Dell\\AppData\\Roaming\\nltk_data...\n",
      "[nltk_data]    |   Package names is already up-to-date!\n",
      "[nltk_data]    | Downloading package shakespeare to\n",
      "[nltk_data]    |     C:\\Users\\Dell\\AppData\\Roaming\\nltk_data...\n",
      "[nltk_data]    |   Package shakespeare is already up-to-date!\n",
      "[nltk_data]    | Downloading package stopwords to\n",
      "[nltk_data]    |     C:\\Users\\Dell\\AppData\\Roaming\\nltk_data...\n",
      "[nltk_data]    |   Package stopwords is already up-to-date!\n",
      "[nltk_data]    | Downloading package treebank to\n",
      "[nltk_data]    |     C:\\Users\\Dell\\AppData\\Roaming\\nltk_data...\n",
      "[nltk_data]    |   Package treebank is already up-to-date!\n",
      "[nltk_data]    | Downloading package twitter_samples to\n",
      "[nltk_data]    |     C:\\Users\\Dell\\AppData\\Roaming\\nltk_data...\n",
      "[nltk_data]    |   Package twitter_samples is already up-to-date!\n",
      "[nltk_data]    | Downloading package omw to\n",
      "[nltk_data]    |     C:\\Users\\Dell\\AppData\\Roaming\\nltk_data...\n",
      "[nltk_data]    |   Package omw is already up-to-date!\n",
      "[nltk_data]    | Downloading package omw-1.4 to\n",
      "[nltk_data]    |     C:\\Users\\Dell\\AppData\\Roaming\\nltk_data...\n",
      "[nltk_data]    |   Package omw-1.4 is already up-to-date!\n",
      "[nltk_data]    | Downloading package wordnet to\n",
      "[nltk_data]    |     C:\\Users\\Dell\\AppData\\Roaming\\nltk_data...\n",
      "[nltk_data]    |   Package wordnet is already up-to-date!\n",
      "[nltk_data]    | Downloading package wordnet2021 to\n",
      "[nltk_data]    |     C:\\Users\\Dell\\AppData\\Roaming\\nltk_data...\n",
      "[nltk_data]    |   Package wordnet2021 is already up-to-date!\n",
      "[nltk_data]    | Downloading package wordnet31 to\n",
      "[nltk_data]    |     C:\\Users\\Dell\\AppData\\Roaming\\nltk_data...\n",
      "[nltk_data]    |   Package wordnet31 is already up-to-date!\n",
      "[nltk_data]    | Downloading package wordnet_ic to\n",
      "[nltk_data]    |     C:\\Users\\Dell\\AppData\\Roaming\\nltk_data...\n",
      "[nltk_data]    |   Package wordnet_ic is already up-to-date!\n",
      "[nltk_data]    | Downloading package words to\n",
      "[nltk_data]    |     C:\\Users\\Dell\\AppData\\Roaming\\nltk_data...\n",
      "[nltk_data]    |   Package words is already up-to-date!\n",
      "[nltk_data]    | Downloading package maxent_ne_chunker to\n",
      "[nltk_data]    |     C:\\Users\\Dell\\AppData\\Roaming\\nltk_data...\n",
      "[nltk_data]    |   Package maxent_ne_chunker is already up-to-date!\n",
      "[nltk_data]    | Downloading package punkt to\n",
      "[nltk_data]    |     C:\\Users\\Dell\\AppData\\Roaming\\nltk_data...\n",
      "[nltk_data]    |   Package punkt is already up-to-date!\n",
      "[nltk_data]    | Downloading package snowball_data to\n",
      "[nltk_data]    |     C:\\Users\\Dell\\AppData\\Roaming\\nltk_data...\n",
      "[nltk_data]    |   Package snowball_data is already up-to-date!\n",
      "[nltk_data]    | Downloading package averaged_perceptron_tagger to\n",
      "[nltk_data]    |     C:\\Users\\Dell\\AppData\\Roaming\\nltk_data...\n",
      "[nltk_data]    |   Package averaged_perceptron_tagger is already up-\n",
      "[nltk_data]    |       to-date!\n",
      "[nltk_data]    | \n",
      "[nltk_data]  Done downloading collection popular\n",
      "[nltk_data] Downloading package punkt to\n",
      "[nltk_data]     C:\\Users\\Dell\\AppData\\Roaming\\nltk_data...\n",
      "[nltk_data]   Package punkt is already up-to-date!\n",
      "[nltk_data] Downloading package wordnet to\n",
      "[nltk_data]     C:\\Users\\Dell\\AppData\\Roaming\\nltk_data...\n",
      "[nltk_data]   Package wordnet is already up-to-date!\n",
      "[nltk_data] Downloading package averaged_perceptron_tagger to\n",
      "[nltk_data]     C:\\Users\\Dell\\AppData\\Roaming\\nltk_data...\n",
      "[nltk_data]   Package averaged_perceptron_tagger is already up-to-\n",
      "[nltk_data]       date!\n"
     ]
    },
    {
     "data": {
      "text/plain": [
       "True"
      ]
     },
     "execution_count": 4,
     "metadata": {},
     "output_type": "execute_result"
    }
   ],
   "source": [
    "import pandas as pd\n",
    "import numpy as np\n",
    "import matplotlib.pyplot as plt\n",
    "import nltk\n",
    "\n",
    "\n",
    "import string\n",
    "\n",
    "\n",
    "# Download NLTK data\n",
    "nltk.download('stopwords')\n",
    "nltk.download('wordnet')\n",
    "nltk.download('popular')\n",
    "nltk.download('punkt')\n",
    "nltk.download('wordnet')\n",
    "nltk.download('averaged_perceptron_tagger')"
   ]
  },
  {
   "cell_type": "code",
   "execution_count": 5,
   "id": "12dceac1",
   "metadata": {
    "execution": {
     "iopub.execute_input": "2025-02-04T13:13:22.133102Z",
     "iopub.status.busy": "2025-02-04T13:13:22.133102Z",
     "iopub.status.idle": "2025-02-04T13:13:22.143624Z",
     "shell.execute_reply": "2025-02-04T13:13:22.143624Z"
    },
    "papermill": {
     "duration": 0.015572,
     "end_time": "2025-02-04T13:13:22.143624",
     "exception": false,
     "start_time": "2025-02-04T13:13:22.128052",
     "status": "completed"
    },
    "tags": []
   },
   "outputs": [
    {
     "name": "stdout",
     "output_type": "stream",
     "text": [
      "Received Review: Just bought some of these from Walmart for $1.98....$8 seems a little ridiculous.  I haven't used them yet...trying to make an adapter to match the threaded part (my hydration pack is not Outdoor Products). Other than that they seem well designed and worth 2-5 dollars.\n",
      "Received Rating: 5.0\n"
     ]
    }
   ],
   "source": [
    "input_review = globals().get('input_review', \"\")  # Default to empty string if not provided\n",
    "input_rating = globals().get('input_rating', 0.0)  # Default to 0.0 if not provided\n",
    "\n",
    "input_rating = float(input_rating)  \n",
    "input_review = str(input_review) \n",
    "\n",
    "# Make sure the inputs are properly received\n",
    "print(f\"Received Review: {input_review}\")\n",
    "print(f\"Received Rating: {input_rating}\")"
   ]
  },
  {
   "cell_type": "code",
   "execution_count": 6,
   "id": "ebf987f5",
   "metadata": {
    "execution": {
     "iopub.execute_input": "2025-02-04T13:13:22.156913Z",
     "iopub.status.busy": "2025-02-04T13:13:22.156913Z",
     "iopub.status.idle": "2025-02-04T13:13:22.164128Z",
     "shell.execute_reply": "2025-02-04T13:13:22.164128Z"
    },
    "papermill": {
     "duration": 0.012022,
     "end_time": "2025-02-04T13:13:22.164128",
     "exception": false,
     "start_time": "2025-02-04T13:13:22.152106",
     "status": "completed"
    },
    "tags": []
   },
   "outputs": [],
   "source": [
    "\n",
    "input_review = input_review.lower()\n"
   ]
  },
  {
   "cell_type": "code",
   "execution_count": 7,
   "id": "3a7851f0",
   "metadata": {
    "execution": {
     "iopub.execute_input": "2025-02-04T13:13:22.178075Z",
     "iopub.status.busy": "2025-02-04T13:13:22.178075Z",
     "iopub.status.idle": "2025-02-04T13:13:22.184283Z",
     "shell.execute_reply": "2025-02-04T13:13:22.184283Z"
    },
    "papermill": {
     "duration": 0.020155,
     "end_time": "2025-02-04T13:13:22.184283",
     "exception": false,
     "start_time": "2025-02-04T13:13:22.164128",
     "status": "completed"
    },
    "tags": []
   },
   "outputs": [],
   "source": [
    "# Remove special characters\n",
    "\n",
    "def remove_punctuation(text):\n",
    "    punctuations = string.punctuation\n",
    "    return text.translate(str.maketrans('','',punctuations))\n",
    "input_review = remove_punctuation(input_review)\n",
    "\n"
   ]
  },
  {
   "cell_type": "code",
   "execution_count": 8,
   "id": "a4d63aad",
   "metadata": {
    "execution": {
     "iopub.execute_input": "2025-02-04T13:13:22.197934Z",
     "iopub.status.busy": "2025-02-04T13:13:22.197934Z",
     "iopub.status.idle": "2025-02-04T13:13:22.207376Z",
     "shell.execute_reply": "2025-02-04T13:13:22.207376Z"
    },
    "papermill": {
     "duration": 0.017601,
     "end_time": "2025-02-04T13:13:22.207376",
     "exception": false,
     "start_time": "2025-02-04T13:13:22.189775",
     "status": "completed"
    },
    "tags": []
   },
   "outputs": [
    {
     "data": {
      "text/plain": [
       "\"a, about, above, after, again, against, ain, all, am, an, and, any, are, aren, aren't, as, at, be, because, been, before, being, below, between, both, but, by, can, couldn, couldn't, d, did, didn, didn't, do, does, doesn, doesn't, doing, don, don't, down, during, each, few, for, from, further, had, hadn, hadn't, has, hasn, hasn't, have, haven, haven't, having, he, he'd, he'll, her, here, hers, herself, he's, him, himself, his, how, i, i'd, if, i'll, i'm, in, into, is, isn, isn't, it, it'd, it'll, it's, its, itself, i've, just, ll, m, ma, me, mightn, mightn't, more, most, mustn, mustn't, my, myself, needn, needn't, no, nor, not, now, o, of, off, on, once, only, or, other, our, ours, ourselves, out, over, own, re, s, same, shan, shan't, she, she'd, she'll, she's, should, shouldn, shouldn't, should've, so, some, such, t, than, that, that'll, the, their, theirs, them, themselves, then, there, these, they, they'd, they'll, they're, they've, this, those, through, to, too, under, until, up, ve, very, was, wasn, wasn't, we, we'd, we'll, we're, were, weren, weren't, we've, what, when, where, which, while, who, whom, why, will, with, won, won't, wouldn, wouldn't, y, you, you'd, you'll, your, you're, yours, yourself, yourselves, you've\""
      ]
     },
     "execution_count": 8,
     "metadata": {},
     "output_type": "execute_result"
    }
   ],
   "source": [
    "from nltk.corpus import stopwords\n",
    "\", \".join(stopwords.words(\"english\"))\n"
   ]
  },
  {
   "cell_type": "code",
   "execution_count": 9,
   "id": "4102d54d",
   "metadata": {
    "execution": {
     "iopub.execute_input": "2025-02-04T13:13:22.230146Z",
     "iopub.status.busy": "2025-02-04T13:13:22.230146Z",
     "iopub.status.idle": "2025-02-04T13:13:22.247503Z",
     "shell.execute_reply": "2025-02-04T13:13:22.246108Z"
    },
    "papermill": {
     "duration": 0.01875,
     "end_time": "2025-02-04T13:13:22.248896",
     "exception": false,
     "start_time": "2025-02-04T13:13:22.230146",
     "status": "completed"
    },
    "tags": []
   },
   "outputs": [],
   "source": [
    "STOPWORDS = set(stopwords.words('english'))\n",
    "def remove_stopwords(text):\n",
    "  return \" \".join([word for word in text.split() if word not in STOPWORDS])"
   ]
  },
  {
   "cell_type": "code",
   "execution_count": 10,
   "id": "e7d438df",
   "metadata": {
    "execution": {
     "iopub.execute_input": "2025-02-04T13:13:22.263833Z",
     "iopub.status.busy": "2025-02-04T13:13:22.263833Z",
     "iopub.status.idle": "2025-02-04T13:13:22.270580Z",
     "shell.execute_reply": "2025-02-04T13:13:22.270580Z"
    },
    "papermill": {
     "duration": 0.018227,
     "end_time": "2025-02-04T13:13:22.270580",
     "exception": false,
     "start_time": "2025-02-04T13:13:22.252353",
     "status": "completed"
    },
    "tags": []
   },
   "outputs": [],
   "source": [
    "input_review = remove_stopwords(input_review)\n"
   ]
  },
  {
   "cell_type": "code",
   "execution_count": 11,
   "id": "c3c05f61",
   "metadata": {
    "execution": {
     "iopub.execute_input": "2025-02-04T13:13:22.278222Z",
     "iopub.status.busy": "2025-02-04T13:13:22.278222Z",
     "iopub.status.idle": "2025-02-04T13:13:22.291338Z",
     "shell.execute_reply": "2025-02-04T13:13:22.291338Z"
    },
    "papermill": {
     "duration": 0.013591,
     "end_time": "2025-02-04T13:13:22.291338",
     "exception": false,
     "start_time": "2025-02-04T13:13:22.277747",
     "status": "completed"
    },
    "tags": []
   },
   "outputs": [
    {
     "data": {
      "text/plain": [
       "[('t', 15),\n",
       " ('e', 15),\n",
       " ('a', 12),\n",
       " ('r', 11),\n",
       " ('d', 11),\n",
       " ('o', 9),\n",
       " ('l', 8),\n",
       " ('s', 8),\n",
       " ('u', 6),\n",
       " ('h', 6)]"
      ]
     },
     "execution_count": 11,
     "metadata": {},
     "output_type": "execute_result"
    }
   ],
   "source": [
    "# Removing of Frequent Words\n",
    "\n",
    "from collections import Counter\n",
    "word_count = Counter()\n",
    "\n",
    "for text in input_review:\n",
    "  for word in text.split():\n",
    "    word_count[word] += 1\n",
    "\n",
    "word_count.most_common(10)"
   ]
  },
  {
   "cell_type": "code",
   "execution_count": 12,
   "id": "d76a083f",
   "metadata": {
    "execution": {
     "iopub.execute_input": "2025-02-04T13:13:22.302540Z",
     "iopub.status.busy": "2025-02-04T13:13:22.302540Z",
     "iopub.status.idle": "2025-02-04T13:13:22.310200Z",
     "shell.execute_reply": "2025-02-04T13:13:22.310200Z"
    },
    "papermill": {
     "duration": 0.015062,
     "end_time": "2025-02-04T13:13:22.310200",
     "exception": false,
     "start_time": "2025-02-04T13:13:22.295138",
     "status": "completed"
    },
    "tags": []
   },
   "outputs": [
    {
     "name": "stdout",
     "output_type": "stream",
     "text": [
      "{'w', 'y', 'v', 'b', 'k', '1', '2', '5', '8', '9'}\n"
     ]
    }
   ],
   "source": [
    "RARE_WORDS = set(word for (word, wc) in word_count.most_common()[-10:])\n",
    "print(RARE_WORDS)"
   ]
  },
  {
   "cell_type": "code",
   "execution_count": 13,
   "id": "b1e483a7",
   "metadata": {
    "execution": {
     "iopub.execute_input": "2025-02-04T13:13:22.318447Z",
     "iopub.status.busy": "2025-02-04T13:13:22.318447Z",
     "iopub.status.idle": "2025-02-04T13:13:22.330716Z",
     "shell.execute_reply": "2025-02-04T13:13:22.330716Z"
    },
    "papermill": {
     "duration": 0.012269,
     "end_time": "2025-02-04T13:13:22.330716",
     "exception": false,
     "start_time": "2025-02-04T13:13:22.318447",
     "status": "completed"
    },
    "tags": []
   },
   "outputs": [],
   "source": [
    "import re\n",
    "def remove_special_char(text):\n",
    "    text = re.sub(r'[^a-zA-Z0-9]', ' ', text)\n",
    "    text = re.sub(r'\\s+', ' ', text).strip()\n",
    "    return text\n"
   ]
  },
  {
   "cell_type": "code",
   "execution_count": 14,
   "id": "332cda42",
   "metadata": {
    "execution": {
     "iopub.execute_input": "2025-02-04T13:13:22.334183Z",
     "iopub.status.busy": "2025-02-04T13:13:22.334183Z",
     "iopub.status.idle": "2025-02-04T13:13:22.353496Z",
     "shell.execute_reply": "2025-02-04T13:13:22.352361Z"
    },
    "papermill": {
     "duration": 0.019313,
     "end_time": "2025-02-04T13:13:22.353496",
     "exception": false,
     "start_time": "2025-02-04T13:13:22.334183",
     "status": "completed"
    },
    "tags": []
   },
   "outputs": [],
   "source": [
    "input_review= remove_special_char(input_review)"
   ]
  },
  {
   "cell_type": "code",
   "execution_count": 15,
   "id": "3f650d63",
   "metadata": {
    "execution": {
     "iopub.execute_input": "2025-02-04T13:13:22.363192Z",
     "iopub.status.busy": "2025-02-04T13:13:22.363192Z",
     "iopub.status.idle": "2025-02-04T13:13:22.374780Z",
     "shell.execute_reply": "2025-02-04T13:13:22.374780Z"
    },
    "papermill": {
     "duration": 0.013115,
     "end_time": "2025-02-04T13:13:22.374780",
     "exception": false,
     "start_time": "2025-02-04T13:13:22.361665",
     "status": "completed"
    },
    "tags": []
   },
   "outputs": [],
   "source": [
    "from nltk.stem.porter import PorterStemmer\n",
    "ps = PorterStemmer()\n",
    "def stem_words(text):\n",
    "  return \" \".join([ps.stem(word) for word in text.split()])"
   ]
  },
  {
   "cell_type": "code",
   "execution_count": 16,
   "id": "77387988",
   "metadata": {
    "execution": {
     "iopub.execute_input": "2025-02-04T13:13:22.390588Z",
     "iopub.status.busy": "2025-02-04T13:13:22.390588Z",
     "iopub.status.idle": "2025-02-04T13:13:22.395368Z",
     "shell.execute_reply": "2025-02-04T13:13:22.394348Z"
    },
    "papermill": {
     "duration": 0.013128,
     "end_time": "2025-02-04T13:13:22.395368",
     "exception": false,
     "start_time": "2025-02-04T13:13:22.382240",
     "status": "completed"
    },
    "tags": []
   },
   "outputs": [],
   "source": [
    "input_review = stem_words(input_review)\n"
   ]
  },
  {
   "cell_type": "code",
   "execution_count": 17,
   "id": "ac9ea52b",
   "metadata": {
    "execution": {
     "iopub.execute_input": "2025-02-04T13:13:22.409800Z",
     "iopub.status.busy": "2025-02-04T13:13:22.409800Z",
     "iopub.status.idle": "2025-02-04T13:13:29.189243Z",
     "shell.execute_reply": "2025-02-04T13:13:29.189243Z"
    },
    "papermill": {
     "duration": 6.786413,
     "end_time": "2025-02-04T13:13:29.189243",
     "exception": false,
     "start_time": "2025-02-04T13:13:22.402830",
     "status": "completed"
    },
    "tags": []
   },
   "outputs": [
    {
     "name": "stderr",
     "output_type": "stream",
     "text": [
      "[nltk_data] Downloading package wordnet to\n",
      "[nltk_data]     C:\\Users\\Dell\\AppData\\Roaming\\nltk_data...\n",
      "[nltk_data] Downloading package averaged_perceptron_tagger to\n",
      "[nltk_data]     C:\\Users\\Dell\\AppData\\Roaming\\nltk_data...\n",
      "[nltk_data]   Unzipping taggers\\averaged_perceptron_tagger.zip.\n"
     ]
    },
    {
     "data": {
      "text/plain": [
       "True"
      ]
     },
     "execution_count": 17,
     "metadata": {},
     "output_type": "execute_result"
    }
   ],
   "source": [
    "from nltk import download\n",
    "download('wordnet', force=True)\n",
    "download('averaged_perceptron_tagger', force=True)"
   ]
  },
  {
   "cell_type": "code",
   "execution_count": 18,
   "id": "3e413189",
   "metadata": {
    "execution": {
     "iopub.execute_input": "2025-02-04T13:13:29.205093Z",
     "iopub.status.busy": "2025-02-04T13:13:29.205093Z",
     "iopub.status.idle": "2025-02-04T13:13:29.494495Z",
     "shell.execute_reply": "2025-02-04T13:13:29.494495Z"
    },
    "papermill": {
     "duration": 0.297345,
     "end_time": "2025-02-04T13:13:29.494495",
     "exception": false,
     "start_time": "2025-02-04T13:13:29.197150",
     "status": "completed"
    },
    "tags": []
   },
   "outputs": [
    {
     "name": "stdout",
     "output_type": "stream",
     "text": [
      "[('NLTK', 'NNP'), ('is', 'VBZ'), ('a', 'DT'), ('powerful', 'JJ'), ('library', 'NN'), ('for', 'IN'), ('NLP', 'NNP'), ('.', '.')]\n"
     ]
    }
   ],
   "source": [
    "from nltk import pos_tag\n",
    "from nltk.tokenize import word_tokenize\n",
    "\n",
    "text = \"NLTK is a powerful library for NLP.\"\n",
    "tokens = word_tokenize(text)\n",
    "tagged_tokens = pos_tag(tokens)\n",
    "\n",
    "print(tagged_tokens)"
   ]
  },
  {
   "cell_type": "code",
   "execution_count": 19,
   "id": "02b22ac1",
   "metadata": {
    "execution": {
     "iopub.execute_input": "2025-02-04T13:13:29.510025Z",
     "iopub.status.busy": "2025-02-04T13:13:29.510025Z",
     "iopub.status.idle": "2025-02-04T13:13:33.899743Z",
     "shell.execute_reply": "2025-02-04T13:13:33.899743Z"
    },
    "papermill": {
     "duration": 4.400289,
     "end_time": "2025-02-04T13:13:33.905224",
     "exception": false,
     "start_time": "2025-02-04T13:13:29.504935",
     "status": "completed"
    },
    "tags": []
   },
   "outputs": [
    {
     "name": "stderr",
     "output_type": "stream",
     "text": [
      "[nltk_data] Downloading package punkt to\n",
      "[nltk_data]     C:\\Users\\Dell\\AppData\\Roaming\\nltk_data...\n",
      "[nltk_data]   Package punkt is already up-to-date!\n",
      "[nltk_data] Downloading package averaged_perceptron_tagger to\n",
      "[nltk_data]     C:\\Users\\Dell\\AppData\\Roaming\\nltk_data...\n",
      "[nltk_data]   Package averaged_perceptron_tagger is already up-to-\n",
      "[nltk_data]       date!\n",
      "[nltk_data] Downloading package wordnet to\n",
      "[nltk_data]     C:\\Users\\Dell\\AppData\\Roaming\\nltk_data...\n",
      "[nltk_data]   Package wordnet is already up-to-date!\n"
     ]
    }
   ],
   "source": [
    "from nltk import pos_tag\n",
    "from nltk.corpus import wordnet\n",
    "from nltk.stem import WordNetLemmatizer\n",
    "\n",
    "nltk.download('punkt')\n",
    "nltk.download('averaged_perceptron_tagger')\n",
    "nltk.download('wordnet')\n",
    "\n",
    "lemmatizer = WordNetLemmatizer()\n",
    "wordnet_map = {'N':wordnet.NOUN, 'V':wordnet.VERB, 'J':wordnet.ADJ, 'R':wordnet.ADV}\n",
    "\n",
    "def lemmatize_words(text):\n",
    "  pos_text = pos_tag(text.split())\n",
    "  return \" \".join([lemmatizer.lemmatize(word, wordnet_map.get(pos[0], wordnet.NOUN)) for word, pos in pos_text])\n",
    "\n",
    "\n"
   ]
  },
  {
   "cell_type": "code",
   "execution_count": 20,
   "id": "3e006a7a",
   "metadata": {
    "execution": {
     "iopub.execute_input": "2025-02-04T13:13:33.940016Z",
     "iopub.status.busy": "2025-02-04T13:13:33.938556Z",
     "iopub.status.idle": "2025-02-04T13:13:33.953014Z",
     "shell.execute_reply": "2025-02-04T13:13:33.953014Z"
    },
    "papermill": {
     "duration": 0.036891,
     "end_time": "2025-02-04T13:13:33.957800",
     "exception": false,
     "start_time": "2025-02-04T13:13:33.920909",
     "status": "completed"
    },
    "tags": []
   },
   "outputs": [],
   "source": [
    "input_review = lemmatize_words(input_review)"
   ]
  },
  {
   "cell_type": "code",
   "execution_count": 21,
   "id": "ea375fee",
   "metadata": {
    "execution": {
     "iopub.execute_input": "2025-02-04T13:13:33.974515Z",
     "iopub.status.busy": "2025-02-04T13:13:33.974515Z",
     "iopub.status.idle": "2025-02-04T13:13:34.568831Z",
     "shell.execute_reply": "2025-02-04T13:13:34.566818Z"
    },
    "papermill": {
     "duration": 0.614295,
     "end_time": "2025-02-04T13:13:34.572904",
     "exception": false,
     "start_time": "2025-02-04T13:13:33.958609",
     "status": "completed"
    },
    "tags": []
   },
   "outputs": [
    {
     "name": "stderr",
     "output_type": "stream",
     "text": [
      "c:\\Users\\Dell\\anaconda3\\Lib\\site-packages\\sklearn\\base.py:376: InconsistentVersionWarning: Trying to unpickle estimator TfidfTransformer from version 1.6.1 when using version 1.5.1. This might lead to breaking code or invalid results. Use at your own risk. For more info please refer to:\n",
      "https://scikit-learn.org/stable/model_persistence.html#security-maintainability-limitations\n",
      "  warnings.warn(\n",
      "c:\\Users\\Dell\\anaconda3\\Lib\\site-packages\\sklearn\\base.py:376: InconsistentVersionWarning: Trying to unpickle estimator TfidfVectorizer from version 1.6.1 when using version 1.5.1. This might lead to breaking code or invalid results. Use at your own risk. For more info please refer to:\n",
      "https://scikit-learn.org/stable/model_persistence.html#security-maintainability-limitations\n",
      "  warnings.warn(\n",
      "c:\\Users\\Dell\\anaconda3\\Lib\\site-packages\\sklearn\\base.py:376: InconsistentVersionWarning: Trying to unpickle estimator StandardScaler from version 1.6.1 when using version 1.5.1. This might lead to breaking code or invalid results. Use at your own risk. For more info please refer to:\n",
      "https://scikit-learn.org/stable/model_persistence.html#security-maintainability-limitations\n",
      "  warnings.warn(\n",
      "c:\\Users\\Dell\\anaconda3\\Lib\\site-packages\\sklearn\\base.py:376: InconsistentVersionWarning: Trying to unpickle estimator DecisionTreeClassifier from version 1.6.1 when using version 1.5.1. This might lead to breaking code or invalid results. Use at your own risk. For more info please refer to:\n",
      "https://scikit-learn.org/stable/model_persistence.html#security-maintainability-limitations\n",
      "  warnings.warn(\n",
      "c:\\Users\\Dell\\anaconda3\\Lib\\site-packages\\sklearn\\base.py:376: InconsistentVersionWarning: Trying to unpickle estimator RandomForestClassifier from version 1.6.1 when using version 1.5.1. This might lead to breaking code or invalid results. Use at your own risk. For more info please refer to:\n",
      "https://scikit-learn.org/stable/model_persistence.html#security-maintainability-limitations\n",
      "  warnings.warn(\n"
     ]
    }
   ],
   "source": [
    "import joblib\n",
    "\n",
    "tfidf_vectorizer = joblib.load('tfidf_vectorizer.pkl')\n",
    "\n",
    "svm_model = joblib.load('svm_model.pkl')\n",
    "\n",
    "rf_model = joblib.load('rf_model.pkl')\n",
    "\n",
    "lr_model = joblib.load('lr_model.pkl')"
   ]
  },
  {
   "cell_type": "code",
   "execution_count": 22,
   "id": "2b64eb60",
   "metadata": {
    "execution": {
     "iopub.execute_input": "2025-02-04T13:13:34.606423Z",
     "iopub.status.busy": "2025-02-04T13:13:34.606423Z",
     "iopub.status.idle": "2025-02-04T13:13:34.614094Z",
     "shell.execute_reply": "2025-02-04T13:13:34.614094Z"
    },
    "papermill": {
     "duration": 0.031432,
     "end_time": "2025-02-04T13:13:34.614094",
     "exception": false,
     "start_time": "2025-02-04T13:13:34.582662",
     "status": "completed"
    },
    "tags": []
   },
   "outputs": [],
   "source": [
    "from scipy.sparse import hstack\n"
   ]
  },
  {
   "cell_type": "code",
   "execution_count": 23,
   "id": "88bd2147",
   "metadata": {
    "execution": {
     "iopub.execute_input": "2025-02-04T13:13:34.646489Z",
     "iopub.status.busy": "2025-02-04T13:13:34.646489Z",
     "iopub.status.idle": "2025-02-04T13:13:36.015180Z",
     "shell.execute_reply": "2025-02-04T13:13:36.015180Z"
    },
    "papermill": {
     "duration": 1.387745,
     "end_time": "2025-02-04T13:13:36.015180",
     "exception": false,
     "start_time": "2025-02-04T13:13:34.627435",
     "status": "completed"
    },
    "tags": []
   },
   "outputs": [
    {
     "name": "stdout",
     "output_type": "stream",
     "text": [
      "Review: Just bought some of these from Walmart for $1.98....$8 seems a little ridiculous.  I haven't used them yet...trying to make an adapter to match the threaded part (my hydration pack is not Outdoor Products). Other than that they seem well designed and worth 2-5 dollars.\n",
      "Rating: 5.0\n",
      "SVM Prediction: Fake\n",
      "Random Forest Prediction: Real\n",
      "Logistic Regression Prediction: Real\n"
     ]
    }
   ],
   "source": [
    "from scipy.sparse import hstack, csr_matrix\n",
    "import numpy as np\n",
    "\n",
    "\n",
    "X_lemmatized_tfidf = tfidf_vectorizer.transform([input_review])\n",
    "\n",
    "# Reshape input_rating to be a 1x1 sparse matrix\n",
    "input_rating_sparse = csr_matrix(np.reshape(input_rating, (1, 1))) \n",
    "\n",
    "# Now stack the features\n",
    "final_features = hstack([input_rating_sparse, X_lemmatized_tfidf])\n",
    "\n",
    "final_text = final_features.toarray()\n",
    "\n",
    "\n",
    "# Predictions from all models\n",
    "\n",
    "svm_prediction = svm_model.predict(final_text)\n",
    "rf_prediction = rf_model.predict(final_text)\n",
    "lr_prediction = lr_model.predict(final_text)\n",
    "\n",
    "\n",
    "labels = {0: \"Fake\", 1: \"Real\"}\n",
    "print(f\"Review: {input_review_copy}\")\n",
    "print(f\"Rating: {input_rating}\")\n",
    "print(f\"SVM Prediction: {labels[svm_prediction[0]]}\")\n",
    "print(f\"Random Forest Prediction: {labels[rf_prediction[0]]}\")\n",
    "print(f\"Logistic Regression Prediction: {labels[lr_prediction[0]]}\")"
   ]
  }
 ],
 "metadata": {
  "kernelspec": {
   "display_name": "base",
   "language": "python",
   "name": "python3"
  },
  "language_info": {
   "codemirror_mode": {
    "name": "ipython",
    "version": 3
   },
   "file_extension": ".py",
   "mimetype": "text/x-python",
   "name": "python",
   "nbconvert_exporter": "python",
   "pygments_lexer": "ipython3",
   "version": "3.12.7"
  },
  "papermill": {
   "default_parameters": {},
   "duration": 26.914458,
   "end_time": "2025-02-04T13:13:37.149844",
   "environment_variables": {},
   "exception": null,
   "input_path": "text_processing.ipynb",
   "output_path": "text_processing.ipynb",
   "parameters": {
    "input_rating": 5,
    "input_review": "Just bought some of these from Walmart for $1.98....$8 seems a little ridiculous.  I haven't used them yet...trying to make an adapter to match the threaded part (my hydration pack is not Outdoor Products). Other than that they seem well designed and worth 2-5 dollars."
   },
   "start_time": "2025-02-04T13:13:10.235386",
   "version": "2.6.0"
  }
 },
 "nbformat": 4,
 "nbformat_minor": 5
}
