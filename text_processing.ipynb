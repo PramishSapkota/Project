{
 "cells": [
  {
   "cell_type": "code",
   "execution_count": null,
   "id": "f9f77c17",
   "metadata": {
    "execution": {
     "iopub.execute_input": "2025-02-02T11:42:56.832990Z",
     "iopub.status.busy": "2025-02-02T11:42:56.832990Z",
     "iopub.status.idle": "2025-02-02T11:42:56.839060Z",
     "shell.execute_reply": "2025-02-02T11:42:56.839060Z"
    },
    "papermill": {
     "duration": 0.003605,
     "end_time": "2025-02-02T15:13:47.191011",
     "exception": false,
     "start_time": "2025-02-02T15:13:47.187406",
     "status": "completed"
    },
    "tags": [
     "parameters"
    ]
   },
   "outputs": [],
   "source": []
  },
  {
   "cell_type": "code",
   "execution_count": 1,
   "id": "04408497",
   "metadata": {
    "execution": {
     "iopub.execute_input": "2025-02-02T15:13:47.197832Z",
     "iopub.status.busy": "2025-02-02T15:13:47.197832Z",
     "iopub.status.idle": "2025-02-02T15:13:47.209882Z",
     "shell.execute_reply": "2025-02-02T15:13:47.209255Z"
    },
    "papermill": {
     "duration": 0.016441,
     "end_time": "2025-02-02T15:13:47.210891",
     "exception": false,
     "start_time": "2025-02-02T15:13:47.194450",
     "status": "completed"
    },
    "tags": [
     "injected-parameters"
    ]
   },
   "outputs": [],
   "source": [
    "# Parameters\n",
    "input_review = \"Good Forest, Hario ban nepal ko dhan.\"\n",
    "input_rating = 5.0\n"
   ]
  },
  {
   "cell_type": "code",
   "execution_count": 2,
   "id": "631b4f96",
   "metadata": {},
   "outputs": [
    {
     "name": "stdout",
     "output_type": "stream",
     "text": [
      "Processing Review: Good Forest, Hario ban nepal ko dhan.\n",
      "Processing Rating: 5.0\n"
     ]
    }
   ],
   "source": [
    "import papermill as pm\n",
    "import sys\n",
    "\n",
    "# Read input parameters\n",
    "try:\n",
    "    input_review = input_review  # This comes from papermill\n",
    "    input_rating = input_rating\n",
    "except NameError:\n",
    "    input_review = \"Default review\"\n",
    "    input_rating = 5.0  # Default values for testing\n",
    "\n",
    "print(f\"Processing Review: {input_review}\")\n",
    "print(f\"Processing Rating: {input_rating}\")\n"
   ]
  },
  {
   "cell_type": "code",
   "execution_count": 3,
   "id": "e739bd97",
   "metadata": {
    "execution": {
     "iopub.execute_input": "2025-02-02T15:13:47.216263Z",
     "iopub.status.busy": "2025-02-02T15:13:47.216263Z",
     "iopub.status.idle": "2025-02-02T15:13:49.313418Z",
     "shell.execute_reply": "2025-02-02T15:13:49.313418Z"
    },
    "papermill": {
     "duration": 2.099522,
     "end_time": "2025-02-02T15:13:49.313418",
     "exception": false,
     "start_time": "2025-02-02T15:13:47.213896",
     "status": "completed"
    },
    "tags": []
   },
   "outputs": [
    {
     "name": "stderr",
     "output_type": "stream",
     "text": [
      "[nltk_data] Downloading package stopwords to\n",
      "[nltk_data]     C:\\Users\\achyu\\AppData\\Roaming\\nltk_data...\n",
      "[nltk_data]   Package stopwords is already up-to-date!\n",
      "[nltk_data] Downloading package wordnet to\n",
      "[nltk_data]     C:\\Users\\achyu\\AppData\\Roaming\\nltk_data...\n",
      "[nltk_data]   Package wordnet is already up-to-date!\n",
      "[nltk_data] Downloading collection 'popular'\n",
      "[nltk_data]    | \n",
      "[nltk_data]    | Downloading package cmudict to\n",
      "[nltk_data]    |     C:\\Users\\achyu\\AppData\\Roaming\\nltk_data...\n",
      "[nltk_data]    |   Package cmudict is already up-to-date!\n",
      "[nltk_data]    | Downloading package gazetteers to\n",
      "[nltk_data]    |     C:\\Users\\achyu\\AppData\\Roaming\\nltk_data...\n",
      "[nltk_data]    |   Package gazetteers is already up-to-date!\n",
      "[nltk_data]    | Downloading package genesis to\n",
      "[nltk_data]    |     C:\\Users\\achyu\\AppData\\Roaming\\nltk_data...\n",
      "[nltk_data]    |   Package genesis is already up-to-date!\n",
      "[nltk_data]    | Downloading package gutenberg to\n",
      "[nltk_data]    |     C:\\Users\\achyu\\AppData\\Roaming\\nltk_data...\n",
      "[nltk_data]    |   Package gutenberg is already up-to-date!\n",
      "[nltk_data]    | Downloading package inaugural to\n",
      "[nltk_data]    |     C:\\Users\\achyu\\AppData\\Roaming\\nltk_data...\n",
      "[nltk_data]    |   Package inaugural is already up-to-date!\n",
      "[nltk_data]    | Downloading package movie_reviews to\n",
      "[nltk_data]    |     C:\\Users\\achyu\\AppData\\Roaming\\nltk_data...\n",
      "[nltk_data]    |   Package movie_reviews is already up-to-date!\n",
      "[nltk_data]    | Downloading package names to\n",
      "[nltk_data]    |     C:\\Users\\achyu\\AppData\\Roaming\\nltk_data...\n",
      "[nltk_data]    |   Package names is already up-to-date!\n",
      "[nltk_data]    | Downloading package shakespeare to\n",
      "[nltk_data]    |     C:\\Users\\achyu\\AppData\\Roaming\\nltk_data...\n",
      "[nltk_data]    |   Package shakespeare is already up-to-date!\n",
      "[nltk_data]    | Downloading package stopwords to\n",
      "[nltk_data]    |     C:\\Users\\achyu\\AppData\\Roaming\\nltk_data...\n",
      "[nltk_data]    |   Package stopwords is already up-to-date!\n",
      "[nltk_data]    | Downloading package treebank to\n",
      "[nltk_data]    |     C:\\Users\\achyu\\AppData\\Roaming\\nltk_data...\n",
      "[nltk_data]    |   Package treebank is already up-to-date!\n",
      "[nltk_data]    | Downloading package twitter_samples to\n",
      "[nltk_data]    |     C:\\Users\\achyu\\AppData\\Roaming\\nltk_data...\n",
      "[nltk_data]    |   Package twitter_samples is already up-to-date!\n",
      "[nltk_data]    | Downloading package omw to\n",
      "[nltk_data]    |     C:\\Users\\achyu\\AppData\\Roaming\\nltk_data...\n",
      "[nltk_data]    |   Package omw is already up-to-date!\n",
      "[nltk_data]    | Downloading package omw-1.4 to\n",
      "[nltk_data]    |     C:\\Users\\achyu\\AppData\\Roaming\\nltk_data...\n",
      "[nltk_data]    |   Package omw-1.4 is already up-to-date!\n",
      "[nltk_data]    | Downloading package wordnet to\n",
      "[nltk_data]    |     C:\\Users\\achyu\\AppData\\Roaming\\nltk_data...\n",
      "[nltk_data]    |   Package wordnet is already up-to-date!\n",
      "[nltk_data]    | Downloading package wordnet2021 to\n",
      "[nltk_data]    |     C:\\Users\\achyu\\AppData\\Roaming\\nltk_data...\n",
      "[nltk_data]    |   Package wordnet2021 is already up-to-date!\n",
      "[nltk_data]    | Downloading package wordnet31 to\n",
      "[nltk_data]    |     C:\\Users\\achyu\\AppData\\Roaming\\nltk_data...\n",
      "[nltk_data]    |   Package wordnet31 is already up-to-date!\n",
      "[nltk_data]    | Downloading package wordnet_ic to\n",
      "[nltk_data]    |     C:\\Users\\achyu\\AppData\\Roaming\\nltk_data...\n",
      "[nltk_data]    |   Package wordnet_ic is already up-to-date!\n",
      "[nltk_data]    | Downloading package words to\n",
      "[nltk_data]    |     C:\\Users\\achyu\\AppData\\Roaming\\nltk_data...\n",
      "[nltk_data]    |   Package words is already up-to-date!\n",
      "[nltk_data]    | Downloading package maxent_ne_chunker to\n",
      "[nltk_data]    |     C:\\Users\\achyu\\AppData\\Roaming\\nltk_data...\n",
      "[nltk_data]    |   Package maxent_ne_chunker is already up-to-date!\n",
      "[nltk_data]    | Downloading package punkt to\n",
      "[nltk_data]    |     C:\\Users\\achyu\\AppData\\Roaming\\nltk_data...\n",
      "[nltk_data]    |   Package punkt is already up-to-date!\n",
      "[nltk_data]    | Downloading package snowball_data to\n",
      "[nltk_data]    |     C:\\Users\\achyu\\AppData\\Roaming\\nltk_data...\n",
      "[nltk_data]    |   Package snowball_data is already up-to-date!\n",
      "[nltk_data]    | Downloading package averaged_perceptron_tagger to\n",
      "[nltk_data]    |     C:\\Users\\achyu\\AppData\\Roaming\\nltk_data...\n",
      "[nltk_data]    |   Package averaged_perceptron_tagger is already up-\n",
      "[nltk_data]    |       to-date!\n",
      "[nltk_data]    | \n",
      "[nltk_data]  Done downloading collection popular\n",
      "[nltk_data] Downloading package punkt to\n",
      "[nltk_data]     C:\\Users\\achyu\\AppData\\Roaming\\nltk_data...\n",
      "[nltk_data]   Package punkt is already up-to-date!\n",
      "[nltk_data] Downloading package wordnet to\n",
      "[nltk_data]     C:\\Users\\achyu\\AppData\\Roaming\\nltk_data...\n",
      "[nltk_data]   Package wordnet is already up-to-date!\n",
      "[nltk_data] Downloading package averaged_perceptron_tagger to\n",
      "[nltk_data]     C:\\Users\\achyu\\AppData\\Roaming\\nltk_data...\n",
      "[nltk_data]   Package averaged_perceptron_tagger is already up-to-\n",
      "[nltk_data]       date!\n"
     ]
    },
    {
     "data": {
      "text/plain": [
       "True"
      ]
     },
     "execution_count": 3,
     "metadata": {},
     "output_type": "execute_result"
    }
   ],
   "source": [
    "import pandas as pd\n",
    "import numpy as np\n",
    "import matplotlib.pyplot as plt\n",
    "import nltk\n",
    "\n",
    "\n",
    "import string\n",
    "\n",
    "\n",
    "# Download NLTK data\n",
    "nltk.download('stopwords')\n",
    "nltk.download('wordnet')\n",
    "nltk.download('popular')\n",
    "nltk.download('punkt')\n",
    "nltk.download('wordnet')\n",
    "nltk.download('averaged_perceptron_tagger')"
   ]
  },
  {
   "cell_type": "code",
   "execution_count": 4,
   "id": "12dceac1",
   "metadata": {
    "execution": {
     "iopub.execute_input": "2025-02-02T15:13:49.323629Z",
     "iopub.status.busy": "2025-02-02T15:13:49.323629Z",
     "iopub.status.idle": "2025-02-02T15:13:49.329307Z",
     "shell.execute_reply": "2025-02-02T15:13:49.329307Z"
    },
    "papermill": {
     "duration": 0.01691,
     "end_time": "2025-02-02T15:13:49.330328",
     "exception": false,
     "start_time": "2025-02-02T15:13:49.313418",
     "status": "completed"
    },
    "tags": []
   },
   "outputs": [
    {
     "name": "stdout",
     "output_type": "stream",
     "text": [
      "Received Review: Good Forest, Hario ban nepal ko dhan.\n",
      "Received Rating: 5.0\n"
     ]
    }
   ],
   "source": [
    "input_review = globals().get('input_review', \"\")  # Default to empty string if not provided\n",
    "input_rating = globals().get('input_rating', 0.0)  # Default to 0.0 if not provided\n",
    "\n",
    "input_rating = float(input_rating)  \n",
    "input_review = str(input_review) \n",
    "\n",
    "# Make sure the inputs are properly received\n",
    "print(f\"Received Review: {input_review}\")\n",
    "print(f\"Received Rating: {input_rating}\")"
   ]
  },
  {
   "cell_type": "code",
   "execution_count": 5,
   "id": "ebf987f5",
   "metadata": {
    "execution": {
     "iopub.execute_input": "2025-02-02T15:13:49.335357Z",
     "iopub.status.busy": "2025-02-02T15:13:49.335357Z",
     "iopub.status.idle": "2025-02-02T15:13:49.341663Z",
     "shell.execute_reply": "2025-02-02T15:13:49.341663Z"
    },
    "papermill": {
     "duration": 0.007795,
     "end_time": "2025-02-02T15:13:49.341663",
     "exception": false,
     "start_time": "2025-02-02T15:13:49.333868",
     "status": "completed"
    },
    "tags": []
   },
   "outputs": [],
   "source": [
    "\n",
    "input_review = input_review.lower()\n"
   ]
  },
  {
   "cell_type": "code",
   "execution_count": 6,
   "id": "3a7851f0",
   "metadata": {
    "execution": {
     "iopub.execute_input": "2025-02-02T15:13:49.348472Z",
     "iopub.status.busy": "2025-02-02T15:13:49.348472Z",
     "iopub.status.idle": "2025-02-02T15:13:49.364268Z",
     "shell.execute_reply": "2025-02-02T15:13:49.364268Z"
    },
    "papermill": {
     "duration": 0.023632,
     "end_time": "2025-02-02T15:13:49.365295",
     "exception": false,
     "start_time": "2025-02-02T15:13:49.341663",
     "status": "completed"
    },
    "tags": []
   },
   "outputs": [],
   "source": [
    "# Remove special characters\n",
    "\n",
    "def remove_punctuation(text):\n",
    "    punctuations = string.punctuation\n",
    "    return text.translate(str.maketrans('','',punctuations))\n",
    "input_review = remove_punctuation(input_review)\n",
    "\n"
   ]
  },
  {
   "cell_type": "code",
   "execution_count": 7,
   "id": "a4d63aad",
   "metadata": {
    "execution": {
     "iopub.execute_input": "2025-02-02T15:13:49.371247Z",
     "iopub.status.busy": "2025-02-02T15:13:49.371247Z",
     "iopub.status.idle": "2025-02-02T15:13:49.382346Z",
     "shell.execute_reply": "2025-02-02T15:13:49.382346Z"
    },
    "papermill": {
     "duration": 0.013168,
     "end_time": "2025-02-02T15:13:49.382346",
     "exception": false,
     "start_time": "2025-02-02T15:13:49.369178",
     "status": "completed"
    },
    "tags": []
   },
   "outputs": [
    {
     "data": {
      "text/plain": [
       "\"i, me, my, myself, we, our, ours, ourselves, you, you're, you've, you'll, you'd, your, yours, yourself, yourselves, he, him, his, himself, she, she's, her, hers, herself, it, it's, its, itself, they, them, their, theirs, themselves, what, which, who, whom, this, that, that'll, these, those, am, is, are, was, were, be, been, being, have, has, had, having, do, does, did, doing, a, an, the, and, but, if, or, because, as, until, while, of, at, by, for, with, about, against, between, into, through, during, before, after, above, below, to, from, up, down, in, out, on, off, over, under, again, further, then, once, here, there, when, where, why, how, all, any, both, each, few, more, most, other, some, such, no, nor, not, only, own, same, so, than, too, very, s, t, can, will, just, don, don't, should, should've, now, d, ll, m, o, re, ve, y, ain, aren, aren't, couldn, couldn't, didn, didn't, doesn, doesn't, hadn, hadn't, hasn, hasn't, haven, haven't, isn, isn't, ma, mightn, mightn't, mustn, mustn't, needn, needn't, shan, shan't, shouldn, shouldn't, wasn, wasn't, weren, weren't, won, won't, wouldn, wouldn't\""
      ]
     },
     "execution_count": 7,
     "metadata": {},
     "output_type": "execute_result"
    }
   ],
   "source": [
    "from nltk.corpus import stopwords\n",
    "\", \".join(stopwords.words(\"english\"))\n"
   ]
  },
  {
   "cell_type": "code",
   "execution_count": 8,
   "id": "4102d54d",
   "metadata": {
    "execution": {
     "iopub.execute_input": "2025-02-02T15:13:49.392036Z",
     "iopub.status.busy": "2025-02-02T15:13:49.392036Z",
     "iopub.status.idle": "2025-02-02T15:13:49.398043Z",
     "shell.execute_reply": "2025-02-02T15:13:49.398043Z"
    },
    "papermill": {
     "duration": 0.016715,
     "end_time": "2025-02-02T15:13:49.399061",
     "exception": false,
     "start_time": "2025-02-02T15:13:49.382346",
     "status": "completed"
    },
    "tags": []
   },
   "outputs": [],
   "source": [
    "STOPWORDS = set(stopwords.words('english'))\n",
    "def remove_stopwords(text):\n",
    "  return \" \".join([word for word in text.split() if word not in STOPWORDS])"
   ]
  },
  {
   "cell_type": "code",
   "execution_count": 9,
   "id": "e7d438df",
   "metadata": {
    "execution": {
     "iopub.execute_input": "2025-02-02T15:13:49.416648Z",
     "iopub.status.busy": "2025-02-02T15:13:49.416648Z",
     "iopub.status.idle": "2025-02-02T15:13:49.424359Z",
     "shell.execute_reply": "2025-02-02T15:13:49.423868Z"
    },
    "papermill": {
     "duration": 0.013694,
     "end_time": "2025-02-02T15:13:49.424359",
     "exception": false,
     "start_time": "2025-02-02T15:13:49.410665",
     "status": "completed"
    },
    "tags": []
   },
   "outputs": [],
   "source": [
    "input_review = remove_stopwords(input_review)\n"
   ]
  },
  {
   "cell_type": "code",
   "execution_count": 10,
   "id": "c3c05f61",
   "metadata": {
    "execution": {
     "iopub.execute_input": "2025-02-02T15:13:49.434586Z",
     "iopub.status.busy": "2025-02-02T15:13:49.434586Z",
     "iopub.status.idle": "2025-02-02T15:13:49.439677Z",
     "shell.execute_reply": "2025-02-02T15:13:49.439677Z"
    },
    "papermill": {
     "duration": 0.016645,
     "end_time": "2025-02-02T15:13:49.441004",
     "exception": false,
     "start_time": "2025-02-02T15:13:49.424359",
     "status": "completed"
    },
    "tags": []
   },
   "outputs": [
    {
     "data": {
      "text/plain": [
       "[('o', 5),\n",
       " ('a', 4),\n",
       " ('n', 3),\n",
       " ('d', 2),\n",
       " ('r', 2),\n",
       " ('e', 2),\n",
       " ('h', 2),\n",
       " ('g', 1),\n",
       " ('f', 1),\n",
       " ('s', 1)]"
      ]
     },
     "execution_count": 10,
     "metadata": {},
     "output_type": "execute_result"
    }
   ],
   "source": [
    "# Removing of Frequent Words\n",
    "\n",
    "from collections import Counter\n",
    "word_count = Counter()\n",
    "\n",
    "for text in input_review:\n",
    "  for word in text.split():\n",
    "    word_count[word] += 1\n",
    "\n",
    "word_count.most_common(10)"
   ]
  },
  {
   "cell_type": "code",
   "execution_count": 11,
   "id": "d76a083f",
   "metadata": {
    "execution": {
     "iopub.execute_input": "2025-02-02T15:13:49.448538Z",
     "iopub.status.busy": "2025-02-02T15:13:49.448538Z",
     "iopub.status.idle": "2025-02-02T15:13:49.455584Z",
     "shell.execute_reply": "2025-02-02T15:13:49.455584Z"
    },
    "papermill": {
     "duration": 0.012667,
     "end_time": "2025-02-02T15:13:49.456679",
     "exception": false,
     "start_time": "2025-02-02T15:13:49.444012",
     "status": "completed"
    },
    "tags": []
   },
   "outputs": [
    {
     "name": "stdout",
     "output_type": "stream",
     "text": [
      "{'b', 'k', 'f', 'h', 'l', 'g', 't', 's', 'i', 'p'}\n"
     ]
    }
   ],
   "source": [
    "RARE_WORDS = set(word for (word, wc) in word_count.most_common()[-10:])\n",
    "print(RARE_WORDS)"
   ]
  },
  {
   "cell_type": "code",
   "execution_count": 12,
   "id": "b1e483a7",
   "metadata": {
    "execution": {
     "iopub.execute_input": "2025-02-02T15:13:49.465910Z",
     "iopub.status.busy": "2025-02-02T15:13:49.465910Z",
     "iopub.status.idle": "2025-02-02T15:13:49.470487Z",
     "shell.execute_reply": "2025-02-02T15:13:49.470487Z"
    },
    "papermill": {
     "duration": 0.010134,
     "end_time": "2025-02-02T15:13:49.471504",
     "exception": false,
     "start_time": "2025-02-02T15:13:49.461370",
     "status": "completed"
    },
    "tags": []
   },
   "outputs": [],
   "source": [
    "import re\n",
    "def remove_special_char(text):\n",
    "    text = re.sub(r'[^a-zA-Z0-9]', ' ', text)\n",
    "    text = re.sub(r'\\s+', ' ', text).strip()\n",
    "    return text\n"
   ]
  },
  {
   "cell_type": "code",
   "execution_count": 13,
   "id": "332cda42",
   "metadata": {
    "execution": {
     "iopub.execute_input": "2025-02-02T15:13:49.480422Z",
     "iopub.status.busy": "2025-02-02T15:13:49.480422Z",
     "iopub.status.idle": "2025-02-02T15:13:49.483596Z",
     "shell.execute_reply": "2025-02-02T15:13:49.483596Z"
    },
    "papermill": {
     "duration": 0.008994,
     "end_time": "2025-02-02T15:13:49.484652",
     "exception": false,
     "start_time": "2025-02-02T15:13:49.475658",
     "status": "completed"
    },
    "tags": []
   },
   "outputs": [],
   "source": [
    "input_review= remove_special_char(input_review)"
   ]
  },
  {
   "cell_type": "code",
   "execution_count": 14,
   "id": "3f650d63",
   "metadata": {
    "execution": {
     "iopub.execute_input": "2025-02-02T15:13:49.493006Z",
     "iopub.status.busy": "2025-02-02T15:13:49.493006Z",
     "iopub.status.idle": "2025-02-02T15:13:49.507753Z",
     "shell.execute_reply": "2025-02-02T15:13:49.507753Z"
    },
    "papermill": {
     "duration": 0.020856,
     "end_time": "2025-02-02T15:13:49.509430",
     "exception": false,
     "start_time": "2025-02-02T15:13:49.488574",
     "status": "completed"
    },
    "tags": []
   },
   "outputs": [],
   "source": [
    "from nltk.stem.porter import PorterStemmer\n",
    "ps = PorterStemmer()\n",
    "def stem_words(text):\n",
    "  return \" \".join([ps.stem(word) for word in text.split()])"
   ]
  },
  {
   "cell_type": "code",
   "execution_count": 15,
   "id": "77387988",
   "metadata": {
    "execution": {
     "iopub.execute_input": "2025-02-02T15:13:49.516628Z",
     "iopub.status.busy": "2025-02-02T15:13:49.516628Z",
     "iopub.status.idle": "2025-02-02T15:13:49.535382Z",
     "shell.execute_reply": "2025-02-02T15:13:49.535030Z"
    },
    "papermill": {
     "duration": 0.023776,
     "end_time": "2025-02-02T15:13:49.536437",
     "exception": false,
     "start_time": "2025-02-02T15:13:49.512661",
     "status": "completed"
    },
    "tags": []
   },
   "outputs": [],
   "source": [
    "input_review = stem_words(input_review)\n"
   ]
  },
  {
   "cell_type": "code",
   "execution_count": 16,
   "id": "ac9ea52b",
   "metadata": {
    "execution": {
     "iopub.execute_input": "2025-02-02T15:10:48.036415Z",
     "iopub.status.busy": "2025-02-02T15:10:48.036415Z",
     "iopub.status.idle": "2025-02-02T15:10:49.488538Z",
     "shell.execute_reply": "2025-02-02T15:10:49.488538Z"
    },
    "papermill": {
     "duration": null,
     "end_time": null,
     "exception": false,
     "start_time": "2025-02-02T15:13:49.540479",
     "status": "running"
    },
    "tags": []
   },
   "outputs": [
    {
     "name": "stderr",
     "output_type": "stream",
     "text": [
      "[nltk_data] Downloading package wordnet to\n",
      "[nltk_data]     C:\\Users\\achyu\\AppData\\Roaming\\nltk_data...\n",
      "[nltk_data] Downloading package averaged_perceptron_tagger to\n",
      "[nltk_data]     C:\\Users\\achyu\\AppData\\Roaming\\nltk_data...\n",
      "[nltk_data]   Unzipping taggers\\averaged_perceptron_tagger.zip.\n"
     ]
    },
    {
     "data": {
      "text/plain": [
       "True"
      ]
     },
     "execution_count": 16,
     "metadata": {},
     "output_type": "execute_result"
    }
   ],
   "source": [
    "from nltk import download\n",
    "download('wordnet', force=True)\n",
    "download('averaged_perceptron_tagger', force=True)"
   ]
  },
  {
   "cell_type": "code",
   "execution_count": 17,
   "id": "3e413189",
   "metadata": {
    "execution": {
     "iopub.execute_input": "2025-02-02T15:10:49.495547Z",
     "iopub.status.busy": "2025-02-02T15:10:49.495547Z",
     "iopub.status.idle": "2025-02-02T15:10:49.631555Z",
     "shell.execute_reply": "2025-02-02T15:10:49.630286Z"
    },
    "papermill": {
     "duration": null,
     "end_time": null,
     "exception": null,
     "start_time": null,
     "status": "pending"
    },
    "tags": []
   },
   "outputs": [
    {
     "name": "stdout",
     "output_type": "stream",
     "text": [
      "[('NLTK', 'NNP'), ('is', 'VBZ'), ('a', 'DT'), ('powerful', 'JJ'), ('library', 'NN'), ('for', 'IN'), ('NLP', 'NNP'), ('.', '.')]\n"
     ]
    }
   ],
   "source": [
    "from nltk import pos_tag\n",
    "from nltk.tokenize import word_tokenize\n",
    "\n",
    "text = \"NLTK is a powerful library for NLP.\"\n",
    "tokens = word_tokenize(text)\n",
    "tagged_tokens = pos_tag(tokens)\n",
    "\n",
    "print(tagged_tokens)"
   ]
  },
  {
   "cell_type": "code",
   "execution_count": 18,
   "id": "02b22ac1",
   "metadata": {
    "execution": {
     "iopub.execute_input": "2025-02-02T15:10:49.641102Z",
     "iopub.status.busy": "2025-02-02T15:10:49.641102Z",
     "iopub.status.idle": "2025-02-02T15:10:51.936015Z",
     "shell.execute_reply": "2025-02-02T15:10:51.936015Z"
    },
    "papermill": {
     "duration": null,
     "end_time": null,
     "exception": null,
     "start_time": null,
     "status": "pending"
    },
    "tags": []
   },
   "outputs": [
    {
     "name": "stderr",
     "output_type": "stream",
     "text": [
      "[nltk_data] Downloading package punkt to\n",
      "[nltk_data]     C:\\Users\\achyu\\AppData\\Roaming\\nltk_data...\n",
      "[nltk_data]   Package punkt is already up-to-date!\n",
      "[nltk_data] Downloading package averaged_perceptron_tagger to\n",
      "[nltk_data]     C:\\Users\\achyu\\AppData\\Roaming\\nltk_data...\n",
      "[nltk_data]   Package averaged_perceptron_tagger is already up-to-\n",
      "[nltk_data]       date!\n",
      "[nltk_data] Downloading package wordnet to\n",
      "[nltk_data]     C:\\Users\\achyu\\AppData\\Roaming\\nltk_data...\n",
      "[nltk_data]   Package wordnet is already up-to-date!\n"
     ]
    }
   ],
   "source": [
    "from nltk import pos_tag\n",
    "from nltk.corpus import wordnet\n",
    "from nltk.stem import WordNetLemmatizer\n",
    "\n",
    "nltk.download('punkt')\n",
    "nltk.download('averaged_perceptron_tagger')\n",
    "nltk.download('wordnet')\n",
    "\n",
    "lemmatizer = WordNetLemmatizer()\n",
    "wordnet_map = {'N':wordnet.NOUN, 'V':wordnet.VERB, 'J':wordnet.ADJ, 'R':wordnet.ADV}\n",
    "\n",
    "def lemmatize_words(text):\n",
    "  pos_text = pos_tag(text.split())\n",
    "  return \" \".join([lemmatizer.lemmatize(word, wordnet_map.get(pos[0], wordnet.NOUN)) for word, pos in pos_text])\n",
    "\n",
    "\n"
   ]
  },
  {
   "cell_type": "code",
   "execution_count": 19,
   "id": "3e006a7a",
   "metadata": {
    "execution": {
     "iopub.execute_input": "2025-02-02T15:10:51.947616Z",
     "iopub.status.busy": "2025-02-02T15:10:51.947616Z",
     "iopub.status.idle": "2025-02-02T15:10:51.961819Z",
     "shell.execute_reply": "2025-02-02T15:10:51.961819Z"
    },
    "papermill": {
     "duration": null,
     "end_time": null,
     "exception": null,
     "start_time": null,
     "status": "pending"
    },
    "tags": []
   },
   "outputs": [],
   "source": [
    "input_review = lemmatize_words(input_review)"
   ]
  },
  {
   "cell_type": "code",
   "execution_count": 20,
   "id": "ea375fee",
   "metadata": {
    "execution": {
     "iopub.execute_input": "2025-02-02T15:10:51.968148Z",
     "iopub.status.busy": "2025-02-02T15:10:51.968148Z",
     "iopub.status.idle": "2025-02-02T15:10:52.163786Z",
     "shell.execute_reply": "2025-02-02T15:10:52.163786Z"
    },
    "papermill": {
     "duration": null,
     "end_time": null,
     "exception": null,
     "start_time": null,
     "status": "pending"
    },
    "tags": []
   },
   "outputs": [],
   "source": [
    "import joblib\n",
    "\n",
    "tfidf_vectorizer = joblib.load('tfidf_vectorizer.pkl')\n",
    "\n",
    "svm_model = joblib.load('svm_model.pkl')\n",
    "\n",
    "rf_model = joblib.load('rf_model.pkl')\n",
    "\n",
    "lr_model = joblib.load('lr_model.pkl')"
   ]
  },
  {
   "cell_type": "code",
   "execution_count": 21,
   "id": "2b64eb60",
   "metadata": {
    "execution": {
     "iopub.execute_input": "2025-02-02T15:10:52.174470Z",
     "iopub.status.busy": "2025-02-02T15:10:52.172996Z",
     "iopub.status.idle": "2025-02-02T15:10:52.192116Z",
     "shell.execute_reply": "2025-02-02T15:10:52.191525Z"
    },
    "papermill": {
     "duration": null,
     "end_time": null,
     "exception": null,
     "start_time": null,
     "status": "pending"
    },
    "tags": []
   },
   "outputs": [],
   "source": [
    "from scipy.sparse import hstack\n"
   ]
  },
  {
   "cell_type": "code",
   "execution_count": 22,
   "id": "88bd2147",
   "metadata": {
    "execution": {
     "iopub.execute_input": "2025-02-02T15:10:52.202887Z",
     "iopub.status.busy": "2025-02-02T15:10:52.202887Z",
     "iopub.status.idle": "2025-02-02T15:10:52.511770Z",
     "shell.execute_reply": "2025-02-02T15:10:52.511770Z"
    },
    "papermill": {
     "duration": null,
     "end_time": null,
     "exception": null,
     "start_time": null,
     "status": "pending"
    },
    "tags": []
   },
   "outputs": [
    {
     "name": "stdout",
     "output_type": "stream",
     "text": [
      "SVM Prediction: Fake\n",
      "Random Forest Prediction: Fake\n",
      "Logistic Regression Prediction: Real\n"
     ]
    }
   ],
   "source": [
    "\n",
    "\n",
    "X_lemmatized_tfidf = tfidf_vectorizer.transform([input_review])\n",
    "\n",
    "\n",
    "final_features = hstack([[input_rating], X_lemmatized_tfidf])\n",
    "\n",
    "final_text = final_features.toarray()\n",
    "\n",
    "# Predictions from all models\n",
    "\n",
    "svm_prediction = svm_model.predict(final_text)\n",
    "rf_prediction = rf_model.predict(final_text)\n",
    "lr_prediction = lr_model.predict(final_text)\n",
    "\n",
    "\n",
    "labels = {0: \"Fake\", 1: \"Real\"}\n",
    "\n",
    "print(f\"SVM Prediction: {labels[svm_prediction[0]]}\")\n",
    "print(f\"Random Forest Prediction: {labels[rf_prediction[0]]}\")\n",
    "print(f\"Logistic Regression Prediction: {labels[lr_prediction[0]]}\")"
   ]
  }
 ],
 "metadata": {
  "kernelspec": {
   "display_name": "venv",
   "language": "python",
   "name": "python3"
  },
  "language_info": {
   "codemirror_mode": {
    "name": "ipython",
    "version": 3
   },
   "file_extension": ".py",
   "mimetype": "text/x-python",
   "name": "python",
   "nbconvert_exporter": "python",
   "pygments_lexer": "ipython3",
   "version": "3.10.0"
  },
  "papermill": {
   "default_parameters": {},
   "duration": null,
   "end_time": null,
   "environment_variables": {},
   "exception": null,
   "input_path": "C:/Rozanne/Minor Project/text_processing.ipynb",
   "output_path": "C:/Rozanne/Minor Project/text_processing.ipynb",
   "parameters": {
    "input_rating": 5,
    "input_review": "Good Forest, Hario ban nepal ko dhan."
   },
   "start_time": "2025-02-02T15:13:45.902265",
   "version": "2.6.0"
  }
 },
 "nbformat": 4,
 "nbformat_minor": 5
}
