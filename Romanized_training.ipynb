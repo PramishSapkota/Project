{
 "cells": [
  {
   "cell_type": "markdown",
   "metadata": {},
   "source": [
    "Importing Essential Libraries"
   ]
  },
  {
   "cell_type": "code",
   "execution_count": 1,
   "metadata": {},
   "outputs": [],
   "source": [
    "import numpy as np\n",
    "import pandas as pd\n",
    "import torch"
   ]
  },
  {
   "cell_type": "markdown",
   "metadata": {},
   "source": [
    "Using Graphics Card "
   ]
  },
  {
   "cell_type": "code",
   "execution_count": 2,
   "metadata": {},
   "outputs": [
    {
     "name": "stdout",
     "output_type": "stream",
     "text": [
      "Using device: cuda\n"
     ]
    }
   ],
   "source": [
    "device = torch.device(\"cuda\" if torch.cuda.is_available() else \"cpu\")\n",
    "print(f\"Using device: {device}\")"
   ]
  },
  {
   "cell_type": "markdown",
   "metadata": {},
   "source": [
    "Importing Dataset"
   ]
  },
  {
   "cell_type": "code",
   "execution_count": 3,
   "metadata": {},
   "outputs": [
    {
     "data": {
      "text/html": [
       "<div>\n",
       "<style scoped>\n",
       "    .dataframe tbody tr th:only-of-type {\n",
       "        vertical-align: middle;\n",
       "    }\n",
       "\n",
       "    .dataframe tbody tr th {\n",
       "        vertical-align: top;\n",
       "    }\n",
       "\n",
       "    .dataframe thead th {\n",
       "        text-align: right;\n",
       "    }\n",
       "</style>\n",
       "<table border=\"1\" class=\"dataframe\">\n",
       "  <thead>\n",
       "    <tr style=\"text-align: right;\">\n",
       "      <th></th>\n",
       "      <th>rating</th>\n",
       "      <th>label</th>\n",
       "      <th>Romanized Review</th>\n",
       "    </tr>\n",
       "  </thead>\n",
       "  <tbody>\n",
       "    <tr>\n",
       "      <th>0</th>\n",
       "      <td>5</td>\n",
       "      <td>1.0</td>\n",
       "      <td>product Ramro xw</td>\n",
       "    </tr>\n",
       "    <tr>\n",
       "      <th>1</th>\n",
       "      <td>4</td>\n",
       "      <td>0.0</td>\n",
       "      <td>Yo earbuds le noise cancellation vaneko jastai...</td>\n",
       "    </tr>\n",
       "    <tr>\n",
       "      <th>2</th>\n",
       "      <td>5</td>\n",
       "      <td>1.0</td>\n",
       "      <td>steel jhos ko jasto kam nagarni rahicha. 1/2 t...</td>\n",
       "    </tr>\n",
       "    <tr>\n",
       "      <th>3</th>\n",
       "      <td>4</td>\n",
       "      <td>1.0</td>\n",
       "      <td>Nice quality, 6 dekhi 60 kg samma raixa babal ...</td>\n",
       "    </tr>\n",
       "    <tr>\n",
       "      <th>4</th>\n",
       "      <td>4</td>\n",
       "      <td>0.0</td>\n",
       "      <td>Size perfect fit bhayo ani comfort pani top cl...</td>\n",
       "    </tr>\n",
       "  </tbody>\n",
       "</table>\n",
       "</div>"
      ],
      "text/plain": [
       "  rating  label                                   Romanized Review\n",
       "0      5    1.0                                   product Ramro xw\n",
       "1      4    0.0  Yo earbuds le noise cancellation vaneko jastai...\n",
       "2      5    1.0  steel jhos ko jasto kam nagarni rahicha. 1/2 t...\n",
       "3      4    1.0  Nice quality, 6 dekhi 60 kg samma raixa babal ...\n",
       "4      4    0.0  Size perfect fit bhayo ani comfort pani top cl..."
      ]
     },
     "execution_count": 3,
     "metadata": {},
     "output_type": "execute_result"
    }
   ],
   "source": [
    "\n",
    "dataset = pd.read_csv('romanized_nepali_dataset.csv')\n",
    "\n",
    "# Display first few rows\n",
    "dataset.head()\n"
   ]
  },
  {
   "cell_type": "markdown",
   "metadata": {},
   "source": [
    "Checking and Removing The Null values"
   ]
  },
  {
   "cell_type": "code",
   "execution_count": 4,
   "metadata": {},
   "outputs": [
    {
     "name": "stdout",
     "output_type": "stream",
     "text": [
      "rating              3\n",
      "label               4\n",
      "Romanized Review    5\n",
      "dtype: int64\n"
     ]
    }
   ],
   "source": [
    "# Check for null values\n",
    "print(dataset.isnull().sum())\n",
    "\n",
    "# Drop or fill missing data as necessary\n",
    "dataset.dropna(inplace = True)"
   ]
  },
  {
   "cell_type": "code",
   "execution_count": 5,
   "metadata": {},
   "outputs": [],
   "source": [
    "#Counting how many reviews are real and how many are fake\n",
    "count_label= dataset.value_counts('label')"
   ]
  },
  {
   "cell_type": "code",
   "execution_count": 6,
   "metadata": {},
   "outputs": [
    {
     "data": {
      "text/plain": [
       "label\n",
       "1.0    2540\n",
       "0.0    2411\n",
       "Name: count, dtype: int64"
      ]
     },
     "execution_count": 6,
     "metadata": {},
     "output_type": "execute_result"
    }
   ],
   "source": [
    "count_label"
   ]
  },
  {
   "cell_type": "code",
   "execution_count": 7,
   "metadata": {},
   "outputs": [
    {
     "data": {
      "image/png": "[encoded data removed]",
      "text/plain": [
       "<Figure size 800x500 with 1 Axes>"
      ]
     },
     "metadata": {},
     "output_type": "display_data"
    }
   ],
   "source": [
    "import matplotlib.pyplot as plt\n",
    "\n",
    "\n",
    "count_label = pd.Series(count_label)\n",
    "\n",
    "# Plot bar chart\n",
    "plt.figure(figsize=(8, 5))\n",
    "ax = count_label.plot(kind='bar', color=['orange', 'cyan'])\n",
    "\n",
    "# Add title and labels\n",
    "plt.title(\"Labels Distribution\", fontsize=14)\n",
    "plt.xlabel(\"Fake(CG) vs Real(OR)\", fontsize=12)\n",
    "plt.ylabel(\"Number of Reviews\", fontsize=12)\n",
    "\n",
    "# Add numeric values on bars\n",
    "for i, v in enumerate(count_label):\n",
    "    ax.text(i, v + 3, str(v), ha='center', fontsize=12)\n",
    "\n",
    "# Show the bar chart\n",
    "plt.xticks(rotation=0)  # Keep category labels horizontal\n",
    "plt.grid(axis='y', linestyle='--', alpha=0.7)  # Add grid for better readability\n",
    "plt.show()"
   ]
  },
  {
   "cell_type": "code",
   "execution_count": 8,
   "metadata": {},
   "outputs": [],
   "source": [
    "count= dataset.value_counts('rating')"
   ]
  },
  {
   "cell_type": "code",
   "execution_count": 9,
   "metadata": {},
   "outputs": [
    {
     "data": {
      "text/plain": [
       "rating\n",
       "5    2733\n",
       "4     996\n",
       "3     510\n",
       "1     386\n",
       "2     326\n",
       "Name: count, dtype: int64"
      ]
     },
     "execution_count": 9,
     "metadata": {},
     "output_type": "execute_result"
    }
   ],
   "source": [
    "count"
   ]
  },
  {
   "cell_type": "code",
   "execution_count": 10,
   "metadata": {},
   "outputs": [
    {
     "data": {
      "image/png": "[encoded data removed]",
      "text/plain": [
       "<Figure size 600x600 with 1 Axes>"
      ]
     },
     "metadata": {},
     "output_type": "display_data"
    }
   ],
   "source": [
    "import matplotlib.pyplot as plt\n",
    "\n",
    "plt.figure(figsize=(6,6))\n",
    "\n",
    "count.plot.pie(autopct ='%1.1f%%' , startangle= 0 , cmap= 'Set3', fontsize =12, explode = (0.1,0,0,0,0))\n",
    "\n",
    "plt.title(\"Rating Distribution\" , fontsize = 16)\n",
    "\n",
    "plt.show()"
   ]
  },
  {
   "cell_type": "markdown",
   "metadata": {},
   "source": [
    "Converting to lowercase"
   ]
  },
  {
   "cell_type": "code",
   "execution_count": 11,
   "metadata": {},
   "outputs": [],
   "source": [
    "dataset['Romanized Review'] = dataset['Romanized Review'].str.lower()"
   ]
  },
  {
   "cell_type": "code",
   "execution_count": 12,
   "metadata": {},
   "outputs": [
    {
     "data": {
      "text/html": [
       "<div>\n",
       "<style scoped>\n",
       "    .dataframe tbody tr th:only-of-type {\n",
       "        vertical-align: middle;\n",
       "    }\n",
       "\n",
       "    .dataframe tbody tr th {\n",
       "        vertical-align: top;\n",
       "    }\n",
       "\n",
       "    .dataframe thead th {\n",
       "        text-align: right;\n",
       "    }\n",
       "</style>\n",
       "<table border=\"1\" class=\"dataframe\">\n",
       "  <thead>\n",
       "    <tr style=\"text-align: right;\">\n",
       "      <th></th>\n",
       "      <th>rating</th>\n",
       "      <th>label</th>\n",
       "      <th>Romanized Review</th>\n",
       "    </tr>\n",
       "  </thead>\n",
       "  <tbody>\n",
       "    <tr>\n",
       "      <th>4951</th>\n",
       "      <td>3</td>\n",
       "      <td>0.0</td>\n",
       "      <td>gaming ko lagi kinya, tara performance moderat...</td>\n",
       "    </tr>\n",
       "    <tr>\n",
       "      <th>4952</th>\n",
       "      <td>3</td>\n",
       "      <td>1.0</td>\n",
       "      <td>thorai damage raixa aru ta sab thikxa</td>\n",
       "    </tr>\n",
       "    <tr>\n",
       "      <th>4953</th>\n",
       "      <td>2</td>\n",
       "      <td>0.0</td>\n",
       "      <td>product use garepaxi dherai asha gare jasto re...</td>\n",
       "    </tr>\n",
       "    <tr>\n",
       "      <th>4954</th>\n",
       "      <td>4</td>\n",
       "      <td>0.0</td>\n",
       "      <td>tel le kapaal chamkilo vayo 💇‍♀️❤️, tara chip-...</td>\n",
       "    </tr>\n",
       "    <tr>\n",
       "      <th>4955</th>\n",
       "      <td>5</td>\n",
       "      <td>0.0</td>\n",
       "      <td>the size is so big for me and i trying to but🥲</td>\n",
       "    </tr>\n",
       "  </tbody>\n",
       "</table>\n",
       "</div>"
      ],
      "text/plain": [
       "     rating  label                                   Romanized Review\n",
       "4951      3    0.0  gaming ko lagi kinya, tara performance moderat...\n",
       "4952      3    1.0              thorai damage raixa aru ta sab thikxa\n",
       "4953      2    0.0  product use garepaxi dherai asha gare jasto re...\n",
       "4954      4    0.0  tel le kapaal chamkilo vayo 💇‍♀️❤️, tara chip-...\n",
       "4955      5    0.0    the size is so big for me and i trying to but🥲 "
      ]
     },
     "execution_count": 12,
     "metadata": {},
     "output_type": "execute_result"
    }
   ],
   "source": [
    "dataset.tail()"
   ]
  },
  {
   "cell_type": "markdown",
   "metadata": {},
   "source": [
    "Converting emojis to their text equivalent"
   ]
  },
  {
   "cell_type": "code",
   "execution_count": 13,
   "metadata": {},
   "outputs": [],
   "source": [
    "import emoji\n",
    "\n",
    "def convert_emojis_to_text(text):\n",
    "    return emoji.demojize(text, delimiters=(\" \", \" \")) \n",
    "\n",
    "dataset['text_'] = dataset['Romanized Review'].apply(convert_emojis_to_text)"
   ]
  },
  {
   "cell_type": "code",
   "execution_count": 14,
   "metadata": {},
   "outputs": [
    {
     "data": {
      "text/html": [
       "<div>\n",
       "<style scoped>\n",
       "    .dataframe tbody tr th:only-of-type {\n",
       "        vertical-align: middle;\n",
       "    }\n",
       "\n",
       "    .dataframe tbody tr th {\n",
       "        vertical-align: top;\n",
       "    }\n",
       "\n",
       "    .dataframe thead th {\n",
       "        text-align: right;\n",
       "    }\n",
       "</style>\n",
       "<table border=\"1\" class=\"dataframe\">\n",
       "  <thead>\n",
       "    <tr style=\"text-align: right;\">\n",
       "      <th></th>\n",
       "      <th>rating</th>\n",
       "      <th>label</th>\n",
       "      <th>Romanized Review</th>\n",
       "      <th>text_</th>\n",
       "    </tr>\n",
       "  </thead>\n",
       "  <tbody>\n",
       "    <tr>\n",
       "      <th>4951</th>\n",
       "      <td>3</td>\n",
       "      <td>0.0</td>\n",
       "      <td>gaming ko lagi kinya, tara performance moderat...</td>\n",
       "      <td>gaming ko lagi kinya, tara performance moderat...</td>\n",
       "    </tr>\n",
       "    <tr>\n",
       "      <th>4952</th>\n",
       "      <td>3</td>\n",
       "      <td>1.0</td>\n",
       "      <td>thorai damage raixa aru ta sab thikxa</td>\n",
       "      <td>thorai damage raixa aru ta sab thikxa</td>\n",
       "    </tr>\n",
       "    <tr>\n",
       "      <th>4953</th>\n",
       "      <td>2</td>\n",
       "      <td>0.0</td>\n",
       "      <td>product use garepaxi dherai asha gare jasto re...</td>\n",
       "      <td>product use garepaxi dherai asha gare jasto re...</td>\n",
       "    </tr>\n",
       "    <tr>\n",
       "      <th>4954</th>\n",
       "      <td>4</td>\n",
       "      <td>0.0</td>\n",
       "      <td>tel le kapaal chamkilo vayo 💇‍♀️❤️, tara chip-...</td>\n",
       "      <td>tel le kapaal chamkilo vayo  woman_getting_hai...</td>\n",
       "    </tr>\n",
       "    <tr>\n",
       "      <th>4955</th>\n",
       "      <td>5</td>\n",
       "      <td>0.0</td>\n",
       "      <td>the size is so big for me and i trying to but🥲</td>\n",
       "      <td>the size is so big for me and i trying to but ...</td>\n",
       "    </tr>\n",
       "  </tbody>\n",
       "</table>\n",
       "</div>"
      ],
      "text/plain": [
       "     rating  label                                   Romanized Review  \\\n",
       "4951      3    0.0  gaming ko lagi kinya, tara performance moderat...   \n",
       "4952      3    1.0              thorai damage raixa aru ta sab thikxa   \n",
       "4953      2    0.0  product use garepaxi dherai asha gare jasto re...   \n",
       "4954      4    0.0  tel le kapaal chamkilo vayo 💇‍♀️❤️, tara chip-...   \n",
       "4955      5    0.0    the size is so big for me and i trying to but🥲    \n",
       "\n",
       "                                                  text_  \n",
       "4951  gaming ko lagi kinya, tara performance moderat...  \n",
       "4952              thorai damage raixa aru ta sab thikxa  \n",
       "4953  product use garepaxi dherai asha gare jasto re...  \n",
       "4954  tel le kapaal chamkilo vayo  woman_getting_hai...  \n",
       "4955  the size is so big for me and i trying to but ...  "
      ]
     },
     "execution_count": 14,
     "metadata": {},
     "output_type": "execute_result"
    }
   ],
   "source": [
    "dataset.tail()"
   ]
  },
  {
   "cell_type": "markdown",
   "metadata": {},
   "source": [
    "Normalize the text"
   ]
  },
  {
   "cell_type": "code",
   "execution_count": 15,
   "metadata": {},
   "outputs": [],
   "source": [
    "import re\n",
    "\n",
    "def normalize_text(text):\n",
    "    \n",
    "    text = re.sub(r'\\bu\\b', 'timi', text)  \n",
    "    text = re.sub(r'\\bm\\b', 'ma', text)\n",
    "    text = re.sub(r'\\beka\\b', 'ek', text)\n",
    "\n",
    "    # Remove extra spaces and normalize spacing\n",
    "    text = re.sub(r'\\s+', ' ', text).strip()\n",
    "    return text\n"
   ]
  },
  {
   "cell_type": "code",
   "execution_count": 16,
   "metadata": {},
   "outputs": [],
   "source": [
    "dataset['text_'] = dataset['text_'].apply(lambda X : normalize_text(X))"
   ]
  },
  {
   "cell_type": "markdown",
   "metadata": {},
   "source": [
    "Removes noise from the dataset and only keep alphabets and spaces."
   ]
  },
  {
   "cell_type": "code",
   "execution_count": 17,
   "metadata": {},
   "outputs": [],
   "source": [
    "# Keep only alphabets and spaces\n",
    "\n",
    "def remove_noise(text):\n",
    "    text = re.sub(r'[^a-zA-Z\\s]', '', text)\n",
    "    text = re.sub(r'nga', '', text)\n",
    "     \n",
    "    return text\n",
    "\n",
    "dataset['text_'] = dataset['text_'].apply(lambda X: remove_noise(X))"
   ]
  },
  {
   "cell_type": "code",
   "execution_count": 18,
   "metadata": {},
   "outputs": [
    {
     "data": {
      "text/html": [
       "<div>\n",
       "<style scoped>\n",
       "    .dataframe tbody tr th:only-of-type {\n",
       "        vertical-align: middle;\n",
       "    }\n",
       "\n",
       "    .dataframe tbody tr th {\n",
       "        vertical-align: top;\n",
       "    }\n",
       "\n",
       "    .dataframe thead th {\n",
       "        text-align: right;\n",
       "    }\n",
       "</style>\n",
       "<table border=\"1\" class=\"dataframe\">\n",
       "  <thead>\n",
       "    <tr style=\"text-align: right;\">\n",
       "      <th></th>\n",
       "      <th>rating</th>\n",
       "      <th>label</th>\n",
       "      <th>Romanized Review</th>\n",
       "      <th>text_</th>\n",
       "    </tr>\n",
       "  </thead>\n",
       "  <tbody>\n",
       "    <tr>\n",
       "      <th>4951</th>\n",
       "      <td>3</td>\n",
       "      <td>0.0</td>\n",
       "      <td>gaming ko lagi kinya, tara performance moderat...</td>\n",
       "      <td>gaming ko lagi kinya tara performance moderate...</td>\n",
       "    </tr>\n",
       "    <tr>\n",
       "      <th>4952</th>\n",
       "      <td>3</td>\n",
       "      <td>1.0</td>\n",
       "      <td>thorai damage raixa aru ta sab thikxa</td>\n",
       "      <td>thorai damage raixa aru ta sab thikxa</td>\n",
       "    </tr>\n",
       "    <tr>\n",
       "      <th>4953</th>\n",
       "      <td>2</td>\n",
       "      <td>0.0</td>\n",
       "      <td>product use garepaxi dherai asha gare jasto re...</td>\n",
       "      <td>product use garepaxi dherai asha gare jasto re...</td>\n",
       "    </tr>\n",
       "    <tr>\n",
       "      <th>4954</th>\n",
       "      <td>4</td>\n",
       "      <td>0.0</td>\n",
       "      <td>tel le kapaal chamkilo vayo 💇‍♀️❤️, tara chip-...</td>\n",
       "      <td>tel le kapaal chamkilo vayo womangettinghaircu...</td>\n",
       "    </tr>\n",
       "    <tr>\n",
       "      <th>4955</th>\n",
       "      <td>5</td>\n",
       "      <td>0.0</td>\n",
       "      <td>the size is so big for me and i trying to but🥲</td>\n",
       "      <td>the size is so big for me and i trying to but ...</td>\n",
       "    </tr>\n",
       "  </tbody>\n",
       "</table>\n",
       "</div>"
      ],
      "text/plain": [
       "     rating  label                                   Romanized Review  \\\n",
       "4951      3    0.0  gaming ko lagi kinya, tara performance moderat...   \n",
       "4952      3    1.0              thorai damage raixa aru ta sab thikxa   \n",
       "4953      2    0.0  product use garepaxi dherai asha gare jasto re...   \n",
       "4954      4    0.0  tel le kapaal chamkilo vayo 💇‍♀️❤️, tara chip-...   \n",
       "4955      5    0.0    the size is so big for me and i trying to but🥲    \n",
       "\n",
       "                                                  text_  \n",
       "4951  gaming ko lagi kinya tara performance moderate...  \n",
       "4952              thorai damage raixa aru ta sab thikxa  \n",
       "4953  product use garepaxi dherai asha gare jasto re...  \n",
       "4954  tel le kapaal chamkilo vayo womangettinghaircu...  \n",
       "4955  the size is so big for me and i trying to but ...  "
      ]
     },
     "execution_count": 18,
     "metadata": {},
     "output_type": "execute_result"
    }
   ],
   "source": [
    "dataset.tail()"
   ]
  },
  {
   "cell_type": "code",
   "execution_count": 19,
   "metadata": {},
   "outputs": [
    {
     "data": {
      "text/html": [
       "<div>\n",
       "<style scoped>\n",
       "    .dataframe tbody tr th:only-of-type {\n",
       "        vertical-align: middle;\n",
       "    }\n",
       "\n",
       "    .dataframe tbody tr th {\n",
       "        vertical-align: top;\n",
       "    }\n",
       "\n",
       "    .dataframe thead th {\n",
       "        text-align: right;\n",
       "    }\n",
       "</style>\n",
       "<table border=\"1\" class=\"dataframe\">\n",
       "  <thead>\n",
       "    <tr style=\"text-align: right;\">\n",
       "      <th></th>\n",
       "      <th>rating</th>\n",
       "      <th>label</th>\n",
       "      <th>text_</th>\n",
       "    </tr>\n",
       "  </thead>\n",
       "  <tbody>\n",
       "    <tr>\n",
       "      <th>0</th>\n",
       "      <td>5</td>\n",
       "      <td>1.0</td>\n",
       "      <td>product ramro xw</td>\n",
       "    </tr>\n",
       "    <tr>\n",
       "      <th>1</th>\n",
       "      <td>4</td>\n",
       "      <td>0.0</td>\n",
       "      <td>yo earbuds le noise cancellation vaneko jastai...</td>\n",
       "    </tr>\n",
       "    <tr>\n",
       "      <th>2</th>\n",
       "      <td>5</td>\n",
       "      <td>1.0</td>\n",
       "      <td>steel jhos ko jasto kam nagarni rahicha  time ...</td>\n",
       "    </tr>\n",
       "    <tr>\n",
       "      <th>3</th>\n",
       "      <td>4</td>\n",
       "      <td>1.0</td>\n",
       "      <td>nice quality  dekhi  kg samma raixa babal xa l...</td>\n",
       "    </tr>\n",
       "    <tr>\n",
       "      <th>4</th>\n",
       "      <td>4</td>\n",
       "      <td>0.0</td>\n",
       "      <td>size perfect fit bhayo ani comfort pani top cl...</td>\n",
       "    </tr>\n",
       "    <tr>\n",
       "      <th>...</th>\n",
       "      <td>...</td>\n",
       "      <td>...</td>\n",
       "      <td>...</td>\n",
       "    </tr>\n",
       "    <tr>\n",
       "      <th>4951</th>\n",
       "      <td>3</td>\n",
       "      <td>0.0</td>\n",
       "      <td>gaming ko lagi kinya tara performance moderate...</td>\n",
       "    </tr>\n",
       "    <tr>\n",
       "      <th>4952</th>\n",
       "      <td>3</td>\n",
       "      <td>1.0</td>\n",
       "      <td>thorai damage raixa aru ta sab thikxa</td>\n",
       "    </tr>\n",
       "    <tr>\n",
       "      <th>4953</th>\n",
       "      <td>2</td>\n",
       "      <td>0.0</td>\n",
       "      <td>product use garepaxi dherai asha gare jasto re...</td>\n",
       "    </tr>\n",
       "    <tr>\n",
       "      <th>4954</th>\n",
       "      <td>4</td>\n",
       "      <td>0.0</td>\n",
       "      <td>tel le kapaal chamkilo vayo womangettinghaircu...</td>\n",
       "    </tr>\n",
       "    <tr>\n",
       "      <th>4955</th>\n",
       "      <td>5</td>\n",
       "      <td>0.0</td>\n",
       "      <td>the size is so big for me and i trying to but ...</td>\n",
       "    </tr>\n",
       "  </tbody>\n",
       "</table>\n",
       "<p>4951 rows × 3 columns</p>\n",
       "</div>"
      ],
      "text/plain": [
       "     rating  label                                              text_\n",
       "0         5    1.0                                   product ramro xw\n",
       "1         4    0.0  yo earbuds le noise cancellation vaneko jastai...\n",
       "2         5    1.0  steel jhos ko jasto kam nagarni rahicha  time ...\n",
       "3         4    1.0  nice quality  dekhi  kg samma raixa babal xa l...\n",
       "4         4    0.0  size perfect fit bhayo ani comfort pani top cl...\n",
       "...     ...    ...                                                ...\n",
       "4951      3    0.0  gaming ko lagi kinya tara performance moderate...\n",
       "4952      3    1.0              thorai damage raixa aru ta sab thikxa\n",
       "4953      2    0.0  product use garepaxi dherai asha gare jasto re...\n",
       "4954      4    0.0  tel le kapaal chamkilo vayo womangettinghaircu...\n",
       "4955      5    0.0  the size is so big for me and i trying to but ...\n",
       "\n",
       "[4951 rows x 3 columns]"
      ]
     },
     "execution_count": 19,
     "metadata": {},
     "output_type": "execute_result"
    }
   ],
   "source": [
    "dataset.drop('Romanized Review', axis =1)"
   ]
  },
  {
   "cell_type": "markdown",
   "metadata": {},
   "source": [
    "Handle Slangs and common typing styles"
   ]
  },
  {
   "cell_type": "code",
   "execution_count": 20,
   "metadata": {},
   "outputs": [],
   "source": [
    "# Step 3: Handling Slang (Manual slang replacements)\n",
    "def handle_slang(text):\n",
    "    slang_dict = {'thikkk': 'thik', \n",
    "        'ghamta': 'samta', \n",
    "        'farkera': 'pachhi',\n",
    "        'xa': 'cha',\n",
    "        'hoina': 'haina',\n",
    "        'k': 'ke',\n",
    "        'khoi': 'kahaan',\n",
    "        'kati': 'kati',\n",
    "        'k garne': 'ke garne',\n",
    "        'thaxa': 'thaha',\n",
    "        'thaxaina': 'thaha chaina',\n",
    "        'kya': 'kya ho',\n",
    "        'la': 'la',\n",
    "        'hait': 'hait',\n",
    "        'dherai': 'dherai',\n",
    "        'ali': 'ali',\n",
    "        'kasto': 'kasto',\n",
    "        'k cha': 'ke cha',\n",
    "        'kura': 'kura',\n",
    "        'khate': 'khate',\n",
    "        'dai': 'dai',\n",
    "        'didi': 'didi',\n",
    "        'bhai': 'bhai',\n",
    "        'bahini': 'bahini',\n",
    "        'kukurrr': 'kukur',\n",
    "        'jastooo': 'jasto',\n",
    "        'testooo': 'testo',\n",
    "        'thank uh':'thank you',\n",
    "        'yesto': 'yesto',\n",
    "        'kinaaaa': 'kina',\n",
    "        'hunchaaaa': 'huncha',\n",
    "        'hunnaa': 'hunna',\n",
    "        'pugyooo': 'pugyo',\n",
    "        'pugenaaa': 'pugena',\n",
    "        'khaana': 'khaana',\n",
    "        'khayo': 'khayo',\n",
    "        'khana': 'khana',\n",
    "        'bas': 'bas',\n",
    "        'chhito': 'chhito',\n",
    "        'bholi': 'bholi',\n",
    "        'aaja': 'aaja',\n",
    "        'parla': 'parla',\n",
    "        'pardaina': 'pardaina',\n",
    "        'thik': 'thik',\n",
    "        'thikai': 'thikai',\n",
    "        'ramro': 'ramro',\n",
    "        'naramro': 'naramro',\n",
    "        'khatra': 'khatra',\n",
    "        'halka': 'halka',\n",
    "        'maile': 'maile',\n",
    "        'timi': 'timi',\n",
    "        'huss': 'huss',\n",
    "        'guff': 'guff',\n",
    "        'jhyau': 'jhyau',\n",
    "        'khuro': 'khuro',\n",
    "        'thulo': 'thulo',\n",
    "        'sano': 'sano',\n",
    "        'khaire': 'khaire',\n",
    "        'jholeyy': 'jholey',\n",
    "        'fuchhey': 'fuchhey',\n",
    "        'khatey': 'khatey',\n",
    "        'boka': 'boka',\n",
    "        'bokey': 'bokey',\n",
    "        'bokeycha': 'bokeycha',\n",
    "        'bokeko': 'bokeko',\n",
    "        'bokera': 'bokera',\n",
    "        'bokne': 'bokne',\n",
    "        'boknu': 'boknu',\n",
    "        'boknus': 'boknus',\n",
    "        'boknuparne': 'boknuparne',\n",
    "        'boknuparyo': 'boknuparyo',\n",
    "        'boknuparcha': 'boknuparcha',\n",
    "        'xa' : 'cha',\n",
    "        'khai': 'malai tha xaina',\n",
    "        'gr8': 'great',\n",
    "        'bro': 'bhai',\n",
    "        'thik xa': 'thik cha',\n",
    "        'k xa': 'k cha',\n",
    "        'ke cha' :'k cha',\n",
    "        'momo': 'dumpling',\n",
    "    }\n",
    "    for slang, standard in slang_dict.items():\n",
    "        text = text.replace(slang, standard)\n",
    "    return text\n",
    "\n",
    "dataset['text_'] = dataset['text_'].apply(lambda X : handle_slang(X))\n"
   ]
  },
  {
   "cell_type": "markdown",
   "metadata": {},
   "source": [
    "Remove Stopwords using custom dictionary"
   ]
  },
  {
   "cell_type": "code",
   "execution_count": 21,
   "metadata": {},
   "outputs": [],
   "source": [
    "# Step 4: Stopword Removal (Example list of Nepali stopwords)\n",
    "stopwords = ['ra', 'ko', 'le', 'lai', 'bata', 'xa', 'yo', 'tiyo', 'mero', 'maile', 'ma', 'lagi', 'mana', 'malai', 'ho', 'tara', 'pani', 'chan', 'garna', 'hunxa', 'of', 'a', 'an', 'the', 'is', 'and', 'but' ]\n",
    "def remove_stopwords(text):\n",
    "    text = ' '.join([word for word in text.split() if word not in stopwords])\n",
    "    return text\n",
    "\n",
    "\n",
    "dataset['text_'] = dataset['text_'].apply(lambda X : remove_stopwords(X))"
   ]
  },
  {
   "cell_type": "code",
   "execution_count": 22,
   "metadata": {},
   "outputs": [
    {
     "data": {
      "text/html": [
       "<div>\n",
       "<style scoped>\n",
       "    .dataframe tbody tr th:only-of-type {\n",
       "        vertical-align: middle;\n",
       "    }\n",
       "\n",
       "    .dataframe tbody tr th {\n",
       "        vertical-align: top;\n",
       "    }\n",
       "\n",
       "    .dataframe thead th {\n",
       "        text-align: right;\n",
       "    }\n",
       "</style>\n",
       "<table border=\"1\" class=\"dataframe\">\n",
       "  <thead>\n",
       "    <tr style=\"text-align: right;\">\n",
       "      <th></th>\n",
       "      <th>rating</th>\n",
       "      <th>label</th>\n",
       "      <th>Romanized Review</th>\n",
       "      <th>text_</th>\n",
       "    </tr>\n",
       "  </thead>\n",
       "  <tbody>\n",
       "    <tr>\n",
       "      <th>4951</th>\n",
       "      <td>3</td>\n",
       "      <td>0.0</td>\n",
       "      <td>gaming ko lagi kinya, tara performance moderat...</td>\n",
       "      <td>gaming keo keinya performance moderate jasto l...</td>\n",
       "    </tr>\n",
       "    <tr>\n",
       "      <th>4952</th>\n",
       "      <td>3</td>\n",
       "      <td>1.0</td>\n",
       "      <td>thorai damage raixa aru ta sab thikxa</td>\n",
       "      <td>thorai damage raicha aru ta sab thikecha</td>\n",
       "    </tr>\n",
       "    <tr>\n",
       "      <th>4953</th>\n",
       "      <td>2</td>\n",
       "      <td>0.0</td>\n",
       "      <td>product use garepaxi dherai asha gare jasto re...</td>\n",
       "      <td>product use garepaxi dherai asha gare jasto re...</td>\n",
       "    </tr>\n",
       "    <tr>\n",
       "      <th>4954</th>\n",
       "      <td>4</td>\n",
       "      <td>0.0</td>\n",
       "      <td>tel le kapaal chamkilo vayo 💇‍♀️❤️, tara chip-...</td>\n",
       "      <td>tel keapaal chamkeilo vayo womangettinghaircut...</td>\n",
       "    </tr>\n",
       "    <tr>\n",
       "      <th>4955</th>\n",
       "      <td>5</td>\n",
       "      <td>0.0</td>\n",
       "      <td>the size is so big for me and i trying to but🥲</td>\n",
       "      <td>size so big for me i trying to smilingfacewith...</td>\n",
       "    </tr>\n",
       "  </tbody>\n",
       "</table>\n",
       "</div>"
      ],
      "text/plain": [
       "     rating  label                                   Romanized Review  \\\n",
       "4951      3    0.0  gaming ko lagi kinya, tara performance moderat...   \n",
       "4952      3    1.0              thorai damage raixa aru ta sab thikxa   \n",
       "4953      2    0.0  product use garepaxi dherai asha gare jasto re...   \n",
       "4954      4    0.0  tel le kapaal chamkilo vayo 💇‍♀️❤️, tara chip-...   \n",
       "4955      5    0.0    the size is so big for me and i trying to but🥲    \n",
       "\n",
       "                                                  text_  \n",
       "4951  gaming keo keinya performance moderate jasto l...  \n",
       "4952           thorai damage raicha aru ta sab thikecha  \n",
       "4953  product use garepaxi dherai asha gare jasto re...  \n",
       "4954  tel keapaal chamkeilo vayo womangettinghaircut...  \n",
       "4955  size so big for me i trying to smilingfacewith...  "
      ]
     },
     "execution_count": 22,
     "metadata": {},
     "output_type": "execute_result"
    }
   ],
   "source": [
    "dataset.tail()"
   ]
  },
  {
   "cell_type": "markdown",
   "metadata": {},
   "source": [
    "Tokenize the text "
   ]
  },
  {
   "cell_type": "code",
   "execution_count": 23,
   "metadata": {},
   "outputs": [
    {
     "data": {
      "text/html": [
       "<div>\n",
       "<style scoped>\n",
       "    .dataframe tbody tr th:only-of-type {\n",
       "        vertical-align: middle;\n",
       "    }\n",
       "\n",
       "    .dataframe tbody tr th {\n",
       "        vertical-align: top;\n",
       "    }\n",
       "\n",
       "    .dataframe thead th {\n",
       "        text-align: right;\n",
       "    }\n",
       "</style>\n",
       "<table border=\"1\" class=\"dataframe\">\n",
       "  <thead>\n",
       "    <tr style=\"text-align: right;\">\n",
       "      <th></th>\n",
       "      <th>rating</th>\n",
       "      <th>label</th>\n",
       "      <th>Romanized Review</th>\n",
       "      <th>text_</th>\n",
       "    </tr>\n",
       "  </thead>\n",
       "  <tbody>\n",
       "    <tr>\n",
       "      <th>0</th>\n",
       "      <td>5</td>\n",
       "      <td>1.0</td>\n",
       "      <td>product ramro xw</td>\n",
       "      <td>[product, ramro, xw]</td>\n",
       "    </tr>\n",
       "    <tr>\n",
       "      <th>1</th>\n",
       "      <td>4</td>\n",
       "      <td>0.0</td>\n",
       "      <td>yo earbuds le noise cancellation vaneko jastai...</td>\n",
       "      <td>[earbuds, noise, cancellation, vanekeo, jastai...</td>\n",
       "    </tr>\n",
       "    <tr>\n",
       "      <th>2</th>\n",
       "      <td>5</td>\n",
       "      <td>1.0</td>\n",
       "      <td>steel jhos ko jasto kam nagarni rahicha. 1/2 t...</td>\n",
       "      <td>[steel, jhos, keo, jasto, keam, nagarni, rahic...</td>\n",
       "    </tr>\n",
       "    <tr>\n",
       "      <th>3</th>\n",
       "      <td>4</td>\n",
       "      <td>1.0</td>\n",
       "      <td>nice quality, 6 dekhi 60 kg samma raixa babal ...</td>\n",
       "      <td>[nice, quality, dekehi, keg, samma, raicha, ba...</td>\n",
       "    </tr>\n",
       "    <tr>\n",
       "      <th>4</th>\n",
       "      <td>4</td>\n",
       "      <td>0.0</td>\n",
       "      <td>size perfect fit bhayo ani comfort pani top cl...</td>\n",
       "      <td>[size, perfect, fit, bhayo, ani, comfort, top,...</td>\n",
       "    </tr>\n",
       "  </tbody>\n",
       "</table>\n",
       "</div>"
      ],
      "text/plain": [
       "  rating  label                                   Romanized Review  \\\n",
       "0      5    1.0                                   product ramro xw   \n",
       "1      4    0.0  yo earbuds le noise cancellation vaneko jastai...   \n",
       "2      5    1.0  steel jhos ko jasto kam nagarni rahicha. 1/2 t...   \n",
       "3      4    1.0  nice quality, 6 dekhi 60 kg samma raixa babal ...   \n",
       "4      4    0.0  size perfect fit bhayo ani comfort pani top cl...   \n",
       "\n",
       "                                               text_  \n",
       "0                               [product, ramro, xw]  \n",
       "1  [earbuds, noise, cancellation, vanekeo, jastai...  \n",
       "2  [steel, jhos, keo, jasto, keam, nagarni, rahic...  \n",
       "3  [nice, quality, dekehi, keg, samma, raicha, ba...  \n",
       "4  [size, perfect, fit, bhayo, ani, comfort, top,...  "
      ]
     },
     "execution_count": 23,
     "metadata": {},
     "output_type": "execute_result"
    }
   ],
   "source": [
    "def tokenize(text):\n",
    "    return text.split()\n",
    "\n",
    "dataset['text_'] = dataset['text_'].apply(lambda X : tokenize(X))\n",
    "\n",
    "dataset.head()"
   ]
  },
  {
   "cell_type": "markdown",
   "metadata": {},
   "source": [
    "Create a custom lemmatization dictionary and perform lemmatization"
   ]
  },
  {
   "cell_type": "code",
   "execution_count": 24,
   "metadata": {},
   "outputs": [],
   "source": [
    "import re\n",
    "\n",
    "# Step 1: Define the Lemmatizer Dictionary for common words and their lemma\n",
    "lemmatizer_dict = {\n",
    "    'gardaichha': 'garnu',\n",
    "    'garchha': 'garnu',\n",
    "    'garera': 'garnu',\n",
    "    'garne': 'garnu',\n",
    "    'bhayeko': 'bhayeko',\n",
    "    'jane': 'jan',\n",
    "    'huncha': 'hunu',\n",
    "    'hune': 'hunu',\n",
    "    'pugne': 'pugnu',\n",
    "    'garne': 'garnu',\n",
    "    'chha': 'cha',\n",
    "    'aune': 'aunu',\n",
    "    'jane': 'jan',\n",
    "    'dekhe': 'dekhnus',\n",
    "    'garaune': 'garnu',\n",
    "    'jaane': 'jan'\n",
    "}\n",
    "\n",
    "# Step 2: Regular Expression-based Lemmatization\n",
    "def lemmatize(text):\n",
    "    # Ensure the text is a string\n",
    "    if isinstance(text, list):\n",
    "        text = ' '.join(text)  # If the input is a list, join it into a single string\n",
    "\n",
    "    # Step 2.1: Check against the lemmatizer dictionary\n",
    "    words = text.split()\n",
    "    lemmatized_words = []\n",
    "\n",
    "    for word in words:\n",
    "        # If the word is in the lemmatizer dictionary, replace it with the lemma\n",
    "        if word in lemmatizer_dict:\n",
    "            lemmatized_words.append(lemmatizer_dict[word])\n",
    "        else:\n",
    "            lemmatized_words.append(word)  # If no lemma exists, keep the original word\n",
    "\n",
    "    # Step 2.2: Return the lemmatized version\n",
    "    return ' '.join(lemmatized_words)\n",
    "\n",
    "# Now apply lemmatize to your text column\n",
    "dataset['processed_review'] = dataset['text_'].apply(lambda X: lemmatize(X))"
   ]
  },
  {
   "cell_type": "code",
   "execution_count": 25,
   "metadata": {},
   "outputs": [
    {
     "data": {
      "text/html": [
       "<div>\n",
       "<style scoped>\n",
       "    .dataframe tbody tr th:only-of-type {\n",
       "        vertical-align: middle;\n",
       "    }\n",
       "\n",
       "    .dataframe tbody tr th {\n",
       "        vertical-align: top;\n",
       "    }\n",
       "\n",
       "    .dataframe thead th {\n",
       "        text-align: right;\n",
       "    }\n",
       "</style>\n",
       "<table border=\"1\" class=\"dataframe\">\n",
       "  <thead>\n",
       "    <tr style=\"text-align: right;\">\n",
       "      <th></th>\n",
       "      <th>rating</th>\n",
       "      <th>label</th>\n",
       "      <th>Romanized Review</th>\n",
       "      <th>text_</th>\n",
       "      <th>processed_review</th>\n",
       "    </tr>\n",
       "  </thead>\n",
       "  <tbody>\n",
       "    <tr>\n",
       "      <th>0</th>\n",
       "      <td>5</td>\n",
       "      <td>1.0</td>\n",
       "      <td>product ramro xw</td>\n",
       "      <td>[product, ramro, xw]</td>\n",
       "      <td>product ramro xw</td>\n",
       "    </tr>\n",
       "    <tr>\n",
       "      <th>1</th>\n",
       "      <td>4</td>\n",
       "      <td>0.0</td>\n",
       "      <td>yo earbuds le noise cancellation vaneko jastai...</td>\n",
       "      <td>[earbuds, noise, cancellation, vanekeo, jastai...</td>\n",
       "      <td>earbuds noise cancellation vanekeo jastai garc...</td>\n",
       "    </tr>\n",
       "    <tr>\n",
       "      <th>2</th>\n",
       "      <td>5</td>\n",
       "      <td>1.0</td>\n",
       "      <td>steel jhos ko jasto kam nagarni rahicha. 1/2 t...</td>\n",
       "      <td>[steel, jhos, keo, jasto, keam, nagarni, rahic...</td>\n",
       "      <td>steel jhos keo jasto keam nagarni rahicha time...</td>\n",
       "    </tr>\n",
       "    <tr>\n",
       "      <th>3</th>\n",
       "      <td>4</td>\n",
       "      <td>1.0</td>\n",
       "      <td>nice quality, 6 dekhi 60 kg samma raixa babal ...</td>\n",
       "      <td>[nice, quality, dekehi, keg, samma, raicha, ba...</td>\n",
       "      <td>nice quality dekehi keg samma raicha babal cha...</td>\n",
       "    </tr>\n",
       "    <tr>\n",
       "      <th>4</th>\n",
       "      <td>4</td>\n",
       "      <td>0.0</td>\n",
       "      <td>size perfect fit bhayo ani comfort pani top cl...</td>\n",
       "      <td>[size, perfect, fit, bhayo, ani, comfort, top,...</td>\n",
       "      <td>size perfect fit bhayo ani comfort top class w...</td>\n",
       "    </tr>\n",
       "  </tbody>\n",
       "</table>\n",
       "</div>"
      ],
      "text/plain": [
       "  rating  label                                   Romanized Review  \\\n",
       "0      5    1.0                                   product ramro xw   \n",
       "1      4    0.0  yo earbuds le noise cancellation vaneko jastai...   \n",
       "2      5    1.0  steel jhos ko jasto kam nagarni rahicha. 1/2 t...   \n",
       "3      4    1.0  nice quality, 6 dekhi 60 kg samma raixa babal ...   \n",
       "4      4    0.0  size perfect fit bhayo ani comfort pani top cl...   \n",
       "\n",
       "                                               text_  \\\n",
       "0                               [product, ramro, xw]   \n",
       "1  [earbuds, noise, cancellation, vanekeo, jastai...   \n",
       "2  [steel, jhos, keo, jasto, keam, nagarni, rahic...   \n",
       "3  [nice, quality, dekehi, keg, samma, raicha, ba...   \n",
       "4  [size, perfect, fit, bhayo, ani, comfort, top,...   \n",
       "\n",
       "                                    processed_review  \n",
       "0                                   product ramro xw  \n",
       "1  earbuds noise cancellation vanekeo jastai garc...  \n",
       "2  steel jhos keo jasto keam nagarni rahicha time...  \n",
       "3  nice quality dekehi keg samma raicha babal cha...  \n",
       "4  size perfect fit bhayo ani comfort top class w...  "
      ]
     },
     "execution_count": 25,
     "metadata": {},
     "output_type": "execute_result"
    }
   ],
   "source": [
    "dataset.head()"
   ]
  },
  {
   "cell_type": "markdown",
   "metadata": {},
   "source": [
    "Split dataset text and rating into training and testing sets"
   ]
  },
  {
   "cell_type": "code",
   "execution_count": 26,
   "metadata": {},
   "outputs": [],
   "source": [
    "from sklearn.model_selection import train_test_split\n",
    "\n",
    "# Train-test split\n",
    "X_train, X_test, y_train, y_test = train_test_split(dataset[\"processed_review\"], dataset[\"label\"], test_size=0.2, random_state=42, stratify=dataset[\"label\"])"
   ]
  },
  {
   "cell_type": "markdown",
   "metadata": {},
   "source": [
    "TFIDF Vectorizer"
   ]
  },
  {
   "cell_type": "code",
   "execution_count": 27,
   "metadata": {},
   "outputs": [],
   "source": [
    "from sklearn.feature_extraction.text import TfidfVectorizer\n",
    "\n",
    "# TF-IDF Vectorization\n",
    "\n",
    "tfidf_vectorizer = TfidfVectorizer(max_features=5000)\n",
    "X_train_tfidf = tfidf_vectorizer.fit_transform(X_train)\n",
    "X_test_tfidf = tfidf_vectorizer.transform(X_test)"
   ]
  },
  {
   "cell_type": "code",
   "execution_count": 28,
   "metadata": {},
   "outputs": [
    {
     "data": {
      "text/plain": [
       "<3960x5000 sparse matrix of type '<class 'numpy.float64'>'\n",
       "\twith 112357 stored elements in Compressed Sparse Row format>"
      ]
     },
     "execution_count": 28,
     "metadata": {},
     "output_type": "execute_result"
    }
   ],
   "source": [
    "X_train_tfidf"
   ]
  },
  {
   "cell_type": "markdown",
   "metadata": {},
   "source": [
    "Word2Vec "
   ]
  },
  {
   "cell_type": "code",
   "execution_count": 29,
   "metadata": {},
   "outputs": [],
   "source": [
    "# Word2Vec Embedding\n",
    "\n",
    "from gensim.models import Word2Vec\n",
    "\n",
    "sentences = [text.split() for text in X_train]\n",
    "word2vec_model = Word2Vec(sentences, vector_size=100, window=5, min_count=2, workers=4)\n",
    "\n",
    "def average_word2vec(text):\n",
    "    words = text.split()\n",
    "    vectors = [word2vec_model.wv[word] for word in words if word in word2vec_model.wv]\n",
    "    if len(vectors) == 0:\n",
    "        return np.zeros(100)  # Zero vector if no words match\n",
    "    return np.mean(vectors, axis=0)\n",
    "\n",
    "X_train_w2v = np.array([average_word2vec(text) for text in X_train])\n",
    "X_test_w2v = np.array([average_word2vec(text) for text in X_test])"
   ]
  },
  {
   "cell_type": "code",
   "execution_count": 30,
   "metadata": {},
   "outputs": [
    {
     "data": {
      "text/plain": [
       "array([[-0.1006986 ,  0.3498196 ,  0.07283095, ..., -0.57880723,\n",
       "         0.21022505,  0.06460913],\n",
       "       [-0.29812735,  0.5083257 ,  0.02364744, ..., -0.65014654,\n",
       "         0.25834522,  0.05589619],\n",
       "       [-0.24185485,  0.39971381,  0.03514061, ..., -0.57490206,\n",
       "         0.18333282,  0.06883209],\n",
       "       ...,\n",
       "       [-0.44020748,  0.52292424,  0.22813195, ..., -0.78743237,\n",
       "         0.30392233, -0.03155005],\n",
       "       [-0.30861008,  0.44699344,  0.08525875, ..., -0.65885842,\n",
       "         0.2428854 ,  0.06442632],\n",
       "       [-0.21964742,  0.43437231,  0.21437228, ..., -0.7944091 ,\n",
       "         0.36851978,  0.17533322]])"
      ]
     },
     "execution_count": 30,
     "metadata": {},
     "output_type": "execute_result"
    }
   ],
   "source": [
    "X_train_w2v"
   ]
  },
  {
   "cell_type": "markdown",
   "metadata": {},
   "source": [
    "Load and Use Pretrained Fasttext Model"
   ]
  },
  {
   "cell_type": "code",
   "execution_count": 31,
   "metadata": {},
   "outputs": [],
   "source": [
    "#Load Pretrained FastText Model\n",
    "\n",
    "import fasttext\n",
    "import fasttext.util\n",
    "\n",
    "fasttext.util.download_model('ne', if_exists='ignore')  # Download Nepali FastText model\n",
    "ft_model = fasttext.load_model('cc.ne.300.bin')  # Load model\n",
    "\n",
    "def average_fasttext(text):\n",
    "    words = text.split()\n",
    "    vectors = [ft_model.get_word_vector(word) for word in words if word in ft_model.words]\n",
    "    if len(vectors) == 0:\n",
    "        return np.zeros(300)  # Zero vector if no words match\n",
    "    return np.mean(vectors, axis=0)\n",
    "\n",
    "X_train_ft = np.array([average_fasttext(text) for text in X_train])\n",
    "X_test_ft = np.array([average_fasttext(text) for text in X_test])"
   ]
  },
  {
   "cell_type": "code",
   "execution_count": 32,
   "metadata": {},
   "outputs": [
    {
     "data": {
      "text/plain": [
       "array([[-1.16694327e-02,  1.35661131e-02, -7.91270193e-03, ...,\n",
       "        -7.53782503e-03,  3.98035627e-03, -8.84019677e-03],\n",
       "       [-2.99382576e-04,  2.25522965e-02, -8.17909930e-03, ...,\n",
       "        -5.66467689e-03, -2.85116653e-03, -1.72744512e-05],\n",
       "       [-1.67509876e-02,  3.26057859e-02, -1.43438084e-02, ...,\n",
       "        -2.34703952e-03, -2.18979903e-02, -7.05681276e-04],\n",
       "       ...,\n",
       "       [-3.63101019e-03,  1.65467206e-02, -4.35682200e-03, ...,\n",
       "         2.33883993e-03, -4.62530367e-03, -7.33795925e-04],\n",
       "       [-4.91617899e-03,  1.99237596e-02, -1.08222738e-02, ...,\n",
       "        -6.38176873e-03,  4.94577363e-03, -2.51867133e-03],\n",
       "       [ 0.00000000e+00,  0.00000000e+00,  0.00000000e+00, ...,\n",
       "         0.00000000e+00,  0.00000000e+00,  0.00000000e+00]])"
      ]
     },
     "execution_count": 32,
     "metadata": {},
     "output_type": "execute_result"
    }
   ],
   "source": [
    "X_train_ft"
   ]
  },
  {
   "cell_type": "markdown",
   "metadata": {},
   "source": [
    "Use hstack to combine TFIDF , Word2Vec and Fasttext"
   ]
  },
  {
   "cell_type": "code",
   "execution_count": 33,
   "metadata": {},
   "outputs": [],
   "source": [
    "from scipy.sparse import hstack\n",
    "\n",
    "# Combine TF-IDF, Word2Vec, and FastText Features\n",
    "X_train_combined = hstack([X_train_tfidf, X_train_w2v, X_train_ft])\n",
    "X_test_combined = hstack([X_test_tfidf, X_test_w2v, X_test_ft])"
   ]
  },
  {
   "cell_type": "code",
   "execution_count": 34,
   "metadata": {},
   "outputs": [
    {
     "data": {
      "text/plain": [
       "<3960x5400 sparse matrix of type '<class 'numpy.float64'>'\n",
       "\twith 1679957 stored elements in COOrdinate format>"
      ]
     },
     "execution_count": 34,
     "metadata": {},
     "output_type": "execute_result"
    }
   ],
   "source": [
    "X_train_combined"
   ]
  },
  {
   "cell_type": "markdown",
   "metadata": {},
   "source": [
    "Train a SVM Model"
   ]
  },
  {
   "cell_type": "code",
   "execution_count": 35,
   "metadata": {},
   "outputs": [
    {
     "name": "stdout",
     "output_type": "stream",
     "text": [
      "Accuracy: 0.8204\n",
      "\n",
      "Classification Report:\n",
      "              precision    recall  f1-score   support\n",
      "\n",
      "         0.0       0.80      0.83      0.82       483\n",
      "         1.0       0.84      0.81      0.82       508\n",
      "\n",
      "    accuracy                           0.82       991\n",
      "   macro avg       0.82      0.82      0.82       991\n",
      "weighted avg       0.82      0.82      0.82       991\n",
      "\n"
     ]
    },
    {
     "data": {
      "image/png": "[encoded data removed]",
      "text/plain": [
       "<Figure size 600x500 with 2 Axes>"
      ]
     },
     "metadata": {},
     "output_type": "display_data"
    }
   ],
   "source": [
    "from sklearn.svm import SVC\n",
    "from sklearn.metrics import accuracy_score, classification_report, confusion_matrix\n",
    "import seaborn as sns\n",
    "import matplotlib.pyplot as plt\n",
    "import numpy as np\n",
    "\n",
    "# Train the SVM model\n",
    "svm_model = SVC(kernel=\"linear\", class_weight=\"balanced\", probability=True)\n",
    "svm_model.fit(X_train_combined, y_train)\n",
    "\n",
    "# Make predictions on the test set\n",
    "y_pred = svm_model.predict(X_test_combined)\n",
    "\n",
    "# Calculate accuracy\n",
    "accuracy = accuracy_score(y_test, y_pred)\n",
    "print(f\"Accuracy: {accuracy:.4f}\")\n",
    "\n",
    "# Print classification report\n",
    "print(\"\\nClassification Report:\")\n",
    "print(classification_report(y_test, y_pred))\n",
    "\n",
    "# Generate the confusion matrix (raw and normalized)\n",
    "cm_raw = confusion_matrix(y_test, y_pred)\n",
    "cm_norm = confusion_matrix(y_test, y_pred, normalize='all')  # Normalize over total samples\n",
    "\n",
    "# Get the unique class labels\n",
    "class_names = sorted(list(set(y_test)))\n",
    "\n",
    "# Create a formatted annotation matrix (combine raw and percentage values)\n",
    "labels = np.array([[f\"True Positive\\n{cm_raw[0,0]}\\n{cm_norm[0,0]*100:.2f}%\",\n",
    "                    f\"False Negative\\n{cm_raw[0,1]}\\n{cm_norm[0,1]*100:.2f}%\"],\n",
    "                   [f\"False Positive\\n{cm_raw[1,0]}\\n{cm_norm[1,0]*100:.2f}%\",\n",
    "                    f\"True Negative\\n{cm_raw[1,1]}\\n{cm_norm[1,1]*100:.2f}%\"]])\n",
    "\n",
    "# Create a heatmap\n",
    "plt.figure(figsize=(6, 5))\n",
    "sns.heatmap(cm_raw, annot=labels, fmt='', cmap='Blues', xticklabels=class_names, yticklabels=class_names)\n",
    "plt.xlabel('Predicted')\n",
    "plt.ylabel('Actual')\n",
    "plt.title('Confusion Matrix Heatmap for SVM Model')\n",
    "plt.show()"
   ]
  },
  {
   "cell_type": "markdown",
   "metadata": {},
   "source": [
    "Evaluate the SVM Model"
   ]
  },
  {
   "cell_type": "markdown",
   "metadata": {},
   "source": [
    "Train Using Random Forrest Classifier"
   ]
  },
  {
   "cell_type": "code",
   "execution_count": 36,
   "metadata": {},
   "outputs": [
    {
     "name": "stdout",
     "output_type": "stream",
     "text": [
      "Accuracy: 0.7164\n",
      "\n",
      "Classification Report:\n",
      "              precision    recall  f1-score   support\n",
      "\n",
      "         0.0       0.69      0.76      0.72       483\n",
      "         1.0       0.75      0.67      0.71       508\n",
      "\n",
      "    accuracy                           0.72       991\n",
      "   macro avg       0.72      0.72      0.72       991\n",
      "weighted avg       0.72      0.72      0.72       991\n",
      "\n"
     ]
    },
    {
     "data": {
      "image/png": "[encoded data removed]",
      "text/plain": [
       "<Figure size 600x500 with 2 Axes>"
      ]
     },
     "metadata": {},
     "output_type": "display_data"
    }
   ],
   "source": [
    "from sklearn.ensemble import RandomForestClassifier\n",
    "from sklearn.metrics import accuracy_score, classification_report, confusion_matrix\n",
    "import seaborn as sns\n",
    "import matplotlib.pyplot as plt\n",
    "import numpy as np\n",
    "\n",
    "# Train the RandomForestClassifier\n",
    "rf_model = RandomForestClassifier()\n",
    "rf_model.fit(X_train_combined, y_train)\n",
    "\n",
    "# Make predictions on the test set\n",
    "y_pred = rf_model.predict(X_test_combined)\n",
    "\n",
    "# Calculate accuracy\n",
    "accuracy = accuracy_score(y_test, y_pred)\n",
    "print(f\"Accuracy: {accuracy:.4f}\")\n",
    "\n",
    "# Print classification report\n",
    "print(\"\\nClassification Report:\")\n",
    "print(classification_report(y_test, y_pred))\n",
    "\n",
    "# Generate the confusion matrix (raw and normalized)\n",
    "cm_raw = confusion_matrix(y_test, y_pred)\n",
    "cm_norm = confusion_matrix(y_test, y_pred, normalize='all')  # Normalize over total samples\n",
    "\n",
    "# Get the unique class labels\n",
    "class_names = sorted(list(set(y_test)))\n",
    "\n",
    "# Create a formatted annotation matrix (combine raw and percentage values)\n",
    "labels = np.array([[f\"True Positive\\n{cm_raw[0,0]}\\n{cm_norm[0,0]*100:.2f}%\",\n",
    "                    f\"False Negative\\n{cm_raw[0,1]}\\n{cm_norm[0,1]*100:.2f}%\"],\n",
    "                   [f\"False Positive\\n{cm_raw[1,0]}\\n{cm_norm[1,0]*100:.2f}%\",\n",
    "                    f\"True Negative\\n{cm_raw[1,1]}\\n{cm_norm[1,1]*100:.2f}%\"]])\n",
    "\n",
    "# Create a heatmap\n",
    "plt.figure(figsize=(6, 5))\n",
    "sns.heatmap(cm_raw, annot=labels, fmt='', cmap='Blues', xticklabels=class_names, yticklabels=class_names)\n",
    "plt.xlabel('Predicted')\n",
    "plt.ylabel('Actual')\n",
    "plt.title('Confusion Matrix Heatmap for RandomForestClassifier')\n",
    "plt.show()"
   ]
  },
  {
   "cell_type": "markdown",
   "metadata": {},
   "source": [
    "Train Using Logistic Regression Model"
   ]
  },
  {
   "cell_type": "code",
   "execution_count": 37,
   "metadata": {},
   "outputs": [
    {
     "name": "stdout",
     "output_type": "stream",
     "text": [
      "Accuracy: 0.7982\n",
      "\n",
      "Classification Report:\n",
      "              precision    recall  f1-score   support\n",
      "\n",
      "         0.0       0.80      0.79      0.79       483\n",
      "         1.0       0.80      0.81      0.80       508\n",
      "\n",
      "    accuracy                           0.80       991\n",
      "   macro avg       0.80      0.80      0.80       991\n",
      "weighted avg       0.80      0.80      0.80       991\n",
      "\n"
     ]
    },
    {
     "data": {
      "image/png": "[encoded data removed]",
      "text/plain": [
       "<Figure size 600x500 with 2 Axes>"
      ]
     },
     "metadata": {},
     "output_type": "display_data"
    }
   ],
   "source": [
    "from sklearn.linear_model import LogisticRegression\n",
    "from sklearn.metrics import accuracy_score, classification_report, confusion_matrix\n",
    "import seaborn as sns\n",
    "import matplotlib.pyplot as plt\n",
    "import numpy as np\n",
    "\n",
    "# Train the LogisticRegression\n",
    "lr_model = LogisticRegression()\n",
    "lr_model.fit(X_train_combined, y_train)\n",
    "\n",
    "# Make predictions on the test set\n",
    "y_pred = lr_model.predict(X_test_combined)\n",
    "\n",
    "# Calculate accuracy\n",
    "accuracy = accuracy_score(y_test, y_pred)\n",
    "print(f\"Accuracy: {accuracy:.4f}\")\n",
    "\n",
    "# Print classification report\n",
    "print(\"\\nClassification Report:\")\n",
    "print(classification_report(y_test, y_pred))\n",
    "\n",
    "# Generate the confusion matrix (raw and normalized)\n",
    "cm_raw = confusion_matrix(y_test, y_pred)\n",
    "cm_norm = confusion_matrix(y_test, y_pred, normalize='all')  # Normalize over total samples\n",
    "\n",
    "# Get the unique class labels\n",
    "class_names = sorted(list(set(y_test)))\n",
    "\n",
    "# Create a formatted annotation matrix (combine raw and percentage values)\n",
    "labels = np.array([[f\"True Positive\\n{cm_raw[0,0]}\\n{cm_norm[0,0]*100:.2f}%\",\n",
    "                    f\"False Negative\\n{cm_raw[0,1]}\\n{cm_norm[0,1]*100:.2f}%\"],\n",
    "                   [f\"False Positive\\n{cm_raw[1,0]}\\n{cm_norm[1,0]*100:.2f}%\",\n",
    "                    f\"True Negative\\n{cm_raw[1,1]}\\n{cm_norm[1,1]*100:.2f}%\"]])\n",
    "\n",
    "# Create a heatmap\n",
    "plt.figure(figsize=(6, 5))\n",
    "sns.heatmap(cm_raw, annot=labels, fmt='', cmap='Blues', xticklabels=class_names, yticklabels=class_names)\n",
    "plt.xlabel('Predicted')\n",
    "plt.ylabel('Actual')\n",
    "plt.title('Confusion Matrix Heatmap for LogisticRegression')\n",
    "plt.show()"
   ]
  },
  {
   "cell_type": "code",
   "execution_count": 38,
   "metadata": {},
   "outputs": [
    {
     "name": "stdout",
     "output_type": "stream",
     "text": [
      "Accuracy for sklearn LinearSVC: 0.8133198789101918\n",
      "Classification Report for sklearn LinearSVC:\n",
      "              precision    recall  f1-score   support\n",
      "\n",
      "         0.0       0.80      0.83      0.81       483\n",
      "         1.0       0.83      0.80      0.81       508\n",
      "\n",
      "    accuracy                           0.81       991\n",
      "   macro avg       0.81      0.81      0.81       991\n",
      "weighted avg       0.81      0.81      0.81       991\n",
      "\n"
     ]
    },
    {
     "data": {
      "image/png": "[encoded data removed]",
      "text/plain": [
       "<Figure size 600x500 with 2 Axes>"
      ]
     },
     "metadata": {},
     "output_type": "display_data"
    }
   ],
   "source": [
    "# from sklearn.svm import SVC\n",
    "from sklearn.svm import LinearSVC\n",
    "\n",
    "# Instantiate the SVM svm_skl_model\n",
    "svm_skl_model = LinearSVC(dual=False, max_iter=100000)\n",
    "# svm_skl_model = SVC(kernel = 'linear', max_iter = 1000)#, cache_size = 300)\n",
    "\n",
    "# Fit the svm_skl_model to the training data\n",
    "# Note: Ensure that 'y_train' is in a compatible shape (1D array)\n",
    "svm_skl_model.fit(X_train_combined, y_train)\n",
    "\n",
    "# Make predictions on the test set\n",
    "predictions = svm_skl_model.predict(X_test_combined)\n",
    "\n",
    "# Evaluate the svm_skl_model\n",
    "from sklearn.metrics import accuracy_score, classification_report #, ConfusionMatrixDisplay\n",
    "\n",
    "svm_skl_accuracy = accuracy_score(y_test, predictions)\n",
    "print(f\"Accuracy for sklearn LinearSVC: {svm_skl_accuracy}\")\n",
    "print(\"Classification Report for sklearn LinearSVC:\")\n",
    "print(classification_report(y_test, predictions))\n",
    "\n",
    "# Compute and display confusion matrix\n",
    "# ConfusionMatrixDisplay.from_predictions(y_test, predictions)\n",
    "\n",
    "from sklearn.metrics import confusion_matrix\n",
    "\n",
    "# Generate the confusion matrix (raw and normalized)\n",
    "cm_raw = confusion_matrix(y_test, predictions)\n",
    "cm_norm = confusion_matrix(y_test, predictions, normalize='all')  # Normalize over total samples\n",
    "\n",
    "# Get the unique class labels\n",
    "class_names = sorted(list(set(y_test)))\n",
    "\n",
    "# Create a formatted annotation matrix (combine raw and percentage values)\n",
    "labels = np.array([[f\"True Positive\\n{cm_raw[0,0]}\\n{cm_norm[0,0]*100:.2f}%\",\n",
    "                     f\"False Negative\\n{cm_raw[0,1]}\\n{cm_norm[0,1]*100:.2f}%\"],\n",
    "                   [f\"False Positive\\n{cm_raw[1,0]}\\n{cm_norm[1,0]*100:.2f}%\",\n",
    "                     f\"True Negative\\n{cm_raw[1,1]}\\n{cm_norm[1,1]*100:.2f}%\"]])\n",
    "\n",
    "# Create a heatmap\n",
    "plt.figure(figsize=(6,5))\n",
    "sns.heatmap(cm_raw, annot=labels, fmt='', cmap='Blues', xticklabels=class_names, yticklabels=class_names)\n",
    "plt.xlabel('Predicted')\n",
    "plt.ylabel('Actual')\n",
    "plt.title('Confusion Matrix Heatmap for sklearn LinearSVC')\n",
    "plt.show()"
   ]
  },
  {
   "cell_type": "markdown",
   "metadata": {},
   "source": [
    "Saving the pretrained model using Joblib"
   ]
  },
  {
   "cell_type": "code",
   "execution_count": null,
   "metadata": {},
   "outputs": [],
   "source": [
    "import joblib\n",
    "\n",
    "# Save other models as before\n",
    "joblib.dump(svm_model, \"roman_svm_model.pkl\")\n",
    "joblib.dump(tfidf_vectorizer, \"roman_tfidf_vectorizer.pkl\")\n",
    "joblib.dump(word2vec_model, \"roman_word2vec_model.pkl\")\n",
    "joblib.dump(rf_model, \"roman_rf_model.pkl\")\n",
    "joblib.dump(lr_model, \"roman_lr_model.pkl\")\n",
    "\n",
    "# Save FastText Model Separately\n",
    "ft_model.save_model(\"roman_fasttext_model.bin\")\n",
    "\n",
    "print(\"All models saved successfully!\")"
   ]
  }
 ],
 "metadata": {
  "kernelspec": {
   "display_name": "venv",
   "language": "python",
   "name": "python3"
  },
  "language_info": {
   "codemirror_mode": {
    "name": "ipython",
    "version": 3
   },
   "file_extension": ".py",
   "mimetype": "text/x-python",
   "name": "python",
   "nbconvert_exporter": "python",
   "pygments_lexer": "ipython3",
   "version": "3.10.0"
  }
 },
 "nbformat": 4,
 "nbformat_minor": 2
}
