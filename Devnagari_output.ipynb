{
 "cells": [
  {
   "cell_type": "code",
   "execution_count": 1,
   "id": "3b34d78f",
   "metadata": {
    "execution": {
     "iopub.execute_input": "2025-02-23T07:28:14.116670Z",
     "iopub.status.busy": "2025-02-23T07:28:14.116670Z",
     "iopub.status.idle": "2025-02-23T07:28:14.123864Z",
     "shell.execute_reply": "2025-02-23T07:28:14.123864Z"
    },
    "papermill": {
     "duration": 0.063894,
     "end_time": "2025-02-23T07:28:14.127519",
     "exception": false,
     "start_time": "2025-02-23T07:28:14.063625",
     "status": "completed"
    },
    "tags": [
     "parameters"
    ]
   },
   "outputs": [],
   "source": [
    "# Dont delete this cell although it is empty"
   ]
  },
  {
   "cell_type": "code",
   "execution_count": 2,
   "id": "21cd59d8",
   "metadata": {
    "execution": {
     "iopub.execute_input": "2025-02-23T07:28:14.158109Z",
     "iopub.status.busy": "2025-02-23T07:28:14.156104Z",
     "iopub.status.idle": "2025-02-23T07:28:14.164126Z",
     "shell.execute_reply": "2025-02-23T07:28:14.164126Z"
    },
    "papermill": {
     "duration": 0.02807,
     "end_time": "2025-02-23T07:28:14.170800",
     "exception": false,
     "start_time": "2025-02-23T07:28:14.142730",
     "status": "completed"
    },
    "tags": [
     "injected-parameters"
    ]
   },
   "outputs": [],
   "source": [
    "# Parameters\n",
    "input_rating = 5\n",
    "input_review = \"\\u092e\\u0947\\u0930\\u093e \\u0918\\u0930\\u092a\\u093e\\u0932\\u0941\\u0935\\u093e \\u091c\\u0928\\u093e\\u0935\\u0930\\u0939\\u0930\\u0942\\u0932\\u0947 \\u092f\\u094b \\u092a\\u094d\\u0930\\u092f\\u094b\\u0917 \\u0917\\u0930\\u094d\\u0928 \\u091a\\u093e\\u0939\\u0947\\u0928\\u0928\\u094d \\u0924\\u0930 \\u092f\\u094b \\u092e\\u0947\\u0930\\u093e \\u0918\\u0930\\u092a\\u093e\\u0932\\u0941\\u0935\\u093e \\u091c\\u0928\\u093e\\u0935\\u0930\\u0939\\u0930\\u0942 \\u092e\\u093e\\u0924\\u094d\\u0930 \\u0939\\u0941\\u0928 \\u0938\\u0915\\u094d\\u091b\\u0928\\u094d\\u0964\"\n"
   ]
  },
  {
   "cell_type": "markdown",
   "id": "fc014dc6",
   "metadata": {
    "id": "CMC96CT63Ear",
    "papermill": {
     "duration": 0.006471,
     "end_time": "2025-02-23T07:28:14.188941",
     "exception": false,
     "start_time": "2025-02-23T07:28:14.182470",
     "status": "completed"
    },
    "tags": []
   },
   "source": [
    "Importing From Papermill"
   ]
  },
  {
   "cell_type": "code",
   "execution_count": 3,
   "id": "b6bbe766",
   "metadata": {
    "colab": {
     "base_uri": "https://localhost:8080/"
    },
    "collapsed": true,
    "execution": {
     "iopub.execute_input": "2025-02-23T07:28:14.236976Z",
     "iopub.status.busy": "2025-02-23T07:28:14.236976Z",
     "iopub.status.idle": "2025-02-23T07:28:16.247606Z",
     "shell.execute_reply": "2025-02-23T07:28:16.245931Z"
    },
    "id": "ygcbUQ962-E-",
    "outputId": "eb70e71a-74f3-4cda-8c08-1ca3178fea8e",
    "papermill": {
     "duration": 2.031102,
     "end_time": "2025-02-23T07:28:16.251810",
     "exception": false,
     "start_time": "2025-02-23T07:28:14.220708",
     "status": "completed"
    },
    "tags": []
   },
   "outputs": [
    {
     "name": "stdout",
     "output_type": "stream",
     "text": [
      "Processing Review: मेरा घरपालुवा जनावरहरूले यो प्रयोग गर्न चाहेनन् तर यो मेरा घरपालुवा जनावरहरू मात्र हुन सक्छन्।\n",
      "Processing Rating: 5\n"
     ]
    }
   ],
   "source": [
    "import papermill as pm\n",
    "# import sys\n",
    "\n",
    "# Read input parameters\n",
    "try:\n",
    "    input_review = input_review  # This comes from papermill\n",
    "    input_rating = input_rating\n",
    "except NameError:\n",
    "    input_review = \"Default review\"\n",
    "    input_rating = 5.0  # Default values for testing\n",
    "\n",
    "# input_review_copy = input_review\n",
    "print(f\"Processing Review: {input_review}\")\n",
    "print(f\"Processing Rating: {input_rating}\")\n",
    "\n"
   ]
  },
  {
   "cell_type": "code",
   "execution_count": 4,
   "id": "f63d68a5",
   "metadata": {
    "execution": {
     "iopub.execute_input": "2025-02-23T07:28:16.273803Z",
     "iopub.status.busy": "2025-02-23T07:28:16.273803Z",
     "iopub.status.idle": "2025-02-23T07:28:16.283399Z",
     "shell.execute_reply": "2025-02-23T07:28:16.282159Z"
    },
    "papermill": {
     "duration": 0.028428,
     "end_time": "2025-02-23T07:28:16.289491",
     "exception": false,
     "start_time": "2025-02-23T07:28:16.261063",
     "status": "completed"
    },
    "tags": []
   },
   "outputs": [
    {
     "name": "stdout",
     "output_type": "stream",
     "text": [
      "Received Review: मेरा घरपालुवा जनावरहरूले यो प्रयोग गर्न चाहेनन् तर यो मेरा घरपालुवा जनावरहरू मात्र हुन सक्छन्।\n",
      "Received Rating: 5.0\n"
     ]
    }
   ],
   "source": [
    "input_review = globals().get('input_review', \"\")  # Default to empty string if not provided\n",
    "input_rating = globals().get('input_rating', 0.0)  # Default to 0.0 if not provided\n",
    "\n",
    "input_rating = float(input_rating)  \n",
    "input_review = str(input_review) \n",
    "\n",
    "# Make sure the inputs are properly received\n",
    "print(f\"Received Review: {input_review}\")\n",
    "print(f\"Received Rating: {input_rating}\")"
   ]
  },
  {
   "cell_type": "markdown",
   "id": "21e29d31",
   "metadata": {
    "id": "eiQ3n421B8SG",
    "papermill": {
     "duration": 0.01583,
     "end_time": "2025-02-23T07:28:16.308473",
     "exception": false,
     "start_time": "2025-02-23T07:28:16.292643",
     "status": "completed"
    },
    "tags": []
   },
   "source": [
    "Preprocessing text"
   ]
  },
  {
   "cell_type": "code",
   "execution_count": 5,
   "id": "9e15bbca",
   "metadata": {
    "execution": {
     "iopub.execute_input": "2025-02-23T07:28:16.324240Z",
     "iopub.status.busy": "2025-02-23T07:28:16.324240Z",
     "iopub.status.idle": "2025-02-23T07:28:16.340305Z",
     "shell.execute_reply": "2025-02-23T07:28:16.338557Z"
    },
    "id": "jtvwjfZUB71z",
    "papermill": {
     "duration": 0.026651,
     "end_time": "2025-02-23T07:28:16.342623",
     "exception": false,
     "start_time": "2025-02-23T07:28:16.315972",
     "status": "completed"
    },
    "tags": []
   },
   "outputs": [],
   "source": [
    "input_text = f\"{input_rating} [SEP] {input_review}\""
   ]
  },
  {
   "cell_type": "markdown",
   "id": "fca7a2a5",
   "metadata": {
    "id": "CNo4jwVNRZrG",
    "papermill": {
     "duration": 0.015287,
     "end_time": "2025-02-23T07:28:16.404149",
     "exception": false,
     "start_time": "2025-02-23T07:28:16.388862",
     "status": "completed"
    },
    "tags": []
   },
   "source": [
    "Giving input to model for Prediction"
   ]
  },
  {
   "cell_type": "code",
   "execution_count": 6,
   "id": "08044063",
   "metadata": {
    "colab": {
     "base_uri": "https://localhost:8080/"
    },
    "execution": {
     "iopub.execute_input": "2025-02-23T07:28:16.435992Z",
     "iopub.status.busy": "2025-02-23T07:28:16.434987Z",
     "iopub.status.idle": "2025-02-23T07:28:53.578059Z",
     "shell.execute_reply": "2025-02-23T07:28:53.574051Z"
    },
    "id": "J0giq0LfFSWD",
    "outputId": "021051f1-5fad-46cb-88ba-db755e6c3490",
    "papermill": {
     "duration": 37.170788,
     "end_time": "2025-02-23T07:28:53.587999",
     "exception": false,
     "start_time": "2025-02-23T07:28:16.417211",
     "status": "completed"
    },
    "tags": []
   },
   "outputs": [
    {
     "name": "stderr",
     "output_type": "stream",
     "text": [
      "Device set to use cpu\n"
     ]
    }
   ],
   "source": [
    "from transformers import pipeline,AutoTokenizer #,logging\n",
    "# logging.set_verbosity_error()  # Suppress logs\n",
    "\n",
    "tokenizer = AutoTokenizer.from_pretrained(\"NepBERTa/NepBERTa\")\n",
    "classifier = pipeline(\"text-classification\", model=\"./fine_tuned_nepbert\", tokenizer=tokenizer)\n",
    "result = classifier(input_text)\n",
    "\n",
    "# Extract label and confidence score\n",
    "label = result[0]['label']\n",
    "score = result[0]['score'] * 100  # Convert to percentage\n",
    "\n",
    "# Interpret the label (assuming LABEL_0 = Fake, LABEL_1 = Real)\n",
    "label_text = \"Fake\" if label == \"LABEL_0\" else \"Real\"\n"
   ]
  },
  {
   "cell_type": "markdown",
   "id": "77074f3c",
   "metadata": {
    "papermill": {
     "duration": 0.09787,
     "end_time": "2025-02-23T07:28:53.793034",
     "exception": false,
     "start_time": "2025-02-23T07:28:53.695164",
     "status": "completed"
    },
    "tags": []
   },
   "source": [
    "Display Model output"
   ]
  },
  {
   "cell_type": "code",
   "execution_count": 7,
   "id": "764a75f5",
   "metadata": {
    "execution": {
     "iopub.execute_input": "2025-02-23T07:28:53.825571Z",
     "iopub.status.busy": "2025-02-23T07:28:53.825571Z",
     "iopub.status.idle": "2025-02-23T07:28:53.844709Z",
     "shell.execute_reply": "2025-02-23T07:28:53.844709Z"
    },
    "papermill": {
     "duration": 0.051675,
     "end_time": "2025-02-23T07:28:53.844709",
     "exception": false,
     "start_time": "2025-02-23T07:28:53.793034",
     "status": "completed"
    },
    "tags": []
   },
   "outputs": [
    {
     "name": "stdout",
     "output_type": "stream",
     "text": [
      "Review: मेरा घरपालुवा जनावरहरूले यो प्रयोग गर्न चाहेनन् तर यो मेरा घरपालुवा जनावरहरू मात्र हुन सक्छन्।\n",
      "Rating: 5.0\n",
      "Review is Real with 99.96% accuracy.\n"
     ]
    }
   ],
   "source": [
    "# Display output\n",
    "print(f\"Review: {input_review}\")\n",
    "print(f\"Rating: {input_rating}\")\n",
    "print(f\"Review is {label_text} with {score:.2f}% accuracy.\")"
   ]
  }
 ],
 "metadata": {
  "accelerator": "GPU",
  "colab": {
   "gpuType": "T4",
   "provenance": []
  },
  "kernelspec": {
   "display_name": "base",
   "language": "python",
   "name": "python3"
  },
  "language_info": {
   "codemirror_mode": {
    "name": "ipython",
    "version": 3
   },
   "file_extension": ".py",
   "mimetype": "text/x-python",
   "name": "python",
   "nbconvert_exporter": "python",
   "pygments_lexer": "ipython3",
   "version": "3.12.7"
  },
  "papermill": {
   "default_parameters": {},
   "duration": 51.951231,
   "end_time": "2025-02-23T07:28:56.923893",
   "environment_variables": {},
   "exception": null,
   "input_path": "Devnagari_input.ipynb",
   "output_path": "Devnagari_output.ipynb",
   "parameters": {
    "input_rating": 5,
    "input_review": "मेरा घरपालुवा जनावरहरूले यो प्रयोग गर्न चाहेनन् तर यो मेरा घरपालुवा जनावरहरू मात्र हुन सक्छन्।"
   },
   "start_time": "2025-02-23T07:28:04.972662",
   "version": "2.6.0"
  }
 },
 "nbformat": 4,
 "nbformat_minor": 5
}