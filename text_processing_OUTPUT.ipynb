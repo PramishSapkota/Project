{
 "cells": [
  {
   "cell_type": "code",
   "execution_count": null,
   "id": "f9f77c17",
   "metadata": {
    "execution": {
     "iopub.execute_input": "2025-02-02T11:42:56.832990Z",
     "iopub.status.busy": "2025-02-02T11:42:56.832990Z",
     "iopub.status.idle": "2025-02-02T11:42:56.839060Z",
     "shell.execute_reply": "2025-02-02T11:42:56.839060Z"
    },
    "papermill": {
     "duration": 0.0,
     "end_time": "2025-02-03T11:11:16.194001",
     "exception": false,
     "start_time": "2025-02-03T11:11:16.194001",
     "status": "completed"
    },
    "tags": [
     "parameters"
    ]
   },
   "outputs": [],
   "source": []
  },
  {
   "cell_type": "code",
   "execution_count": 1,
   "id": "0c311d13",
   "metadata": {
    "execution": {
     "iopub.execute_input": "2025-02-03T11:11:16.200962Z",
     "iopub.status.busy": "2025-02-03T11:11:16.200962Z",
     "iopub.status.idle": "2025-02-03T11:11:16.216345Z",
     "shell.execute_reply": "2025-02-03T11:11:16.216345Z"
    },
    "papermill": {
     "duration": 0.016384,
     "end_time": "2025-02-03T11:11:16.217346",
     "exception": false,
     "start_time": "2025-02-03T11:11:16.200962",
     "status": "completed"
    },
    "tags": [
     "injected-parameters"
    ]
   },
   "outputs": [],
   "source": [
    "# Parameters\n",
    "input_review = \"I have read James Kipling's books and thoroughly enjoyed them. This one, I had to force myself to read. The ending sucked big time. I can't say it in any other way. Very disappointed. So fake. So unbelievable.\"\n",
    "input_rating = 2.0\n"
   ]
  },
  {
   "cell_type": "code",
   "execution_count": 2,
   "id": "631b4f96",
   "metadata": {
    "execution": {
     "iopub.execute_input": "2025-02-03T11:11:16.222731Z",
     "iopub.status.busy": "2025-02-03T11:11:16.222731Z",
     "iopub.status.idle": "2025-02-03T11:11:16.453032Z",
     "shell.execute_reply": "2025-02-03T11:11:16.453032Z"
    },
    "papermill": {
     "duration": 0.232556,
     "end_time": "2025-02-03T11:11:16.453032",
     "exception": false,
     "start_time": "2025-02-03T11:11:16.220476",
     "status": "completed"
    },
    "tags": []
   },
   "outputs": [
    {
     "name": "stdout",
     "output_type": "stream",
     "text": [
      "Processing Review: I have read James Kipling's books and thoroughly enjoyed them. This one, I had to force myself to read. The ending sucked big time. I can't say it in any other way. Very disappointed. So fake. So unbelievable.\n",
      "Processing Rating: 2.0\n"
     ]
    }
   ],
   "source": [
    "import papermill as pm\n",
    "import sys\n",
    "\n",
    "# Read input parameters\n",
    "try:\n",
    "    input_review = input_review  # This comes from papermill\n",
    "    input_rating = input_rating\n",
    "except NameError:\n",
    "    input_review = \"Default review\"\n",
    "    input_rating = 5.0  # Default values for testing\n",
    "\n",
    "print(f\"Processing Review: {input_review}\")\n",
    "print(f\"Processing Rating: {input_rating}\")\n"
   ]
  },
  {
   "cell_type": "code",
   "execution_count": 3,
   "id": "e739bd97",
   "metadata": {
    "execution": {
     "iopub.execute_input": "2025-02-03T11:11:16.463155Z",
     "iopub.status.busy": "2025-02-03T11:11:16.462127Z",
     "iopub.status.idle": "2025-02-03T11:11:18.419883Z",
     "shell.execute_reply": "2025-02-03T11:11:18.419883Z"
    },
    "papermill": {
     "duration": 1.963686,
     "end_time": "2025-02-03T11:11:18.422423",
     "exception": false,
     "start_time": "2025-02-03T11:11:16.458737",
     "status": "completed"
    },
    "tags": []
   },
   "outputs": [
    {
     "name": "stderr",
     "output_type": "stream",
     "text": [
      "[nltk_data] Downloading package stopwords to\n",
      "[nltk_data]     C:\\Users\\achyu\\AppData\\Roaming\\nltk_data...\n",
      "[nltk_data]   Package stopwords is already up-to-date!\n",
      "[nltk_data] Downloading package wordnet to\n",
      "[nltk_data]     C:\\Users\\achyu\\AppData\\Roaming\\nltk_data...\n",
      "[nltk_data]   Package wordnet is already up-to-date!\n",
      "[nltk_data] Downloading collection 'popular'\n",
      "[nltk_data]    | \n",
      "[nltk_data]    | Downloading package cmudict to\n",
      "[nltk_data]    |     C:\\Users\\achyu\\AppData\\Roaming\\nltk_data...\n",
      "[nltk_data]    |   Package cmudict is already up-to-date!\n",
      "[nltk_data]    | Downloading package gazetteers to\n",
      "[nltk_data]    |     C:\\Users\\achyu\\AppData\\Roaming\\nltk_data...\n",
      "[nltk_data]    |   Package gazetteers is already up-to-date!\n",
      "[nltk_data]    | Downloading package genesis to\n",
      "[nltk_data]    |     C:\\Users\\achyu\\AppData\\Roaming\\nltk_data...\n",
      "[nltk_data]    |   Package genesis is already up-to-date!\n",
      "[nltk_data]    | Downloading package gutenberg to\n",
      "[nltk_data]    |     C:\\Users\\achyu\\AppData\\Roaming\\nltk_data...\n",
      "[nltk_data]    |   Package gutenberg is already up-to-date!\n",
      "[nltk_data]    | Downloading package inaugural to\n",
      "[nltk_data]    |     C:\\Users\\achyu\\AppData\\Roaming\\nltk_data...\n",
      "[nltk_data]    |   Package inaugural is already up-to-date!\n",
      "[nltk_data]    | Downloading package movie_reviews to\n",
      "[nltk_data]    |     C:\\Users\\achyu\\AppData\\Roaming\\nltk_data...\n",
      "[nltk_data]    |   Package movie_reviews is already up-to-date!\n",
      "[nltk_data]    | Downloading package names to\n",
      "[nltk_data]    |     C:\\Users\\achyu\\AppData\\Roaming\\nltk_data...\n",
      "[nltk_data]    |   Package names is already up-to-date!\n",
      "[nltk_data]    | Downloading package shakespeare to\n",
      "[nltk_data]    |     C:\\Users\\achyu\\AppData\\Roaming\\nltk_data...\n",
      "[nltk_data]    |   Package shakespeare is already up-to-date!\n",
      "[nltk_data]    | Downloading package stopwords to\n",
      "[nltk_data]    |     C:\\Users\\achyu\\AppData\\Roaming\\nltk_data...\n",
      "[nltk_data]    |   Package stopwords is already up-to-date!\n",
      "[nltk_data]    | Downloading package treebank to\n",
      "[nltk_data]    |     C:\\Users\\achyu\\AppData\\Roaming\\nltk_data...\n",
      "[nltk_data]    |   Package treebank is already up-to-date!\n",
      "[nltk_data]    | Downloading package twitter_samples to\n",
      "[nltk_data]    |     C:\\Users\\achyu\\AppData\\Roaming\\nltk_data...\n",
      "[nltk_data]    |   Package twitter_samples is already up-to-date!\n",
      "[nltk_data]    | Downloading package omw to\n",
      "[nltk_data]    |     C:\\Users\\achyu\\AppData\\Roaming\\nltk_data...\n",
      "[nltk_data]    |   Package omw is already up-to-date!\n",
      "[nltk_data]    | Downloading package omw-1.4 to\n",
      "[nltk_data]    |     C:\\Users\\achyu\\AppData\\Roaming\\nltk_data...\n",
      "[nltk_data]    |   Package omw-1.4 is already up-to-date!\n",
      "[nltk_data]    | Downloading package wordnet to\n",
      "[nltk_data]    |     C:\\Users\\achyu\\AppData\\Roaming\\nltk_data...\n",
      "[nltk_data]    |   Package wordnet is already up-to-date!\n",
      "[nltk_data]    | Downloading package wordnet2021 to\n",
      "[nltk_data]    |     C:\\Users\\achyu\\AppData\\Roaming\\nltk_data...\n"
     ]
    },
    {
     "name": "stderr",
     "output_type": "stream",
     "text": [
      "[nltk_data]    |   Package wordnet2021 is already up-to-date!\n",
      "[nltk_data]    | Downloading package wordnet31 to\n",
      "[nltk_data]    |     C:\\Users\\achyu\\AppData\\Roaming\\nltk_data...\n",
      "[nltk_data]    |   Package wordnet31 is already up-to-date!\n",
      "[nltk_data]    | Downloading package wordnet_ic to\n",
      "[nltk_data]    |     C:\\Users\\achyu\\AppData\\Roaming\\nltk_data...\n",
      "[nltk_data]    |   Package wordnet_ic is already up-to-date!\n",
      "[nltk_data]    | Downloading package words to\n",
      "[nltk_data]    |     C:\\Users\\achyu\\AppData\\Roaming\\nltk_data...\n",
      "[nltk_data]    |   Package words is already up-to-date!\n",
      "[nltk_data]    | Downloading package maxent_ne_chunker to\n",
      "[nltk_data]    |     C:\\Users\\achyu\\AppData\\Roaming\\nltk_data...\n",
      "[nltk_data]    |   Package maxent_ne_chunker is already up-to-date!\n",
      "[nltk_data]    | Downloading package punkt to\n",
      "[nltk_data]    |     C:\\Users\\achyu\\AppData\\Roaming\\nltk_data...\n",
      "[nltk_data]    |   Package punkt is already up-to-date!\n",
      "[nltk_data]    | Downloading package snowball_data to\n",
      "[nltk_data]    |     C:\\Users\\achyu\\AppData\\Roaming\\nltk_data...\n",
      "[nltk_data]    |   Package snowball_data is already up-to-date!\n",
      "[nltk_data]    | Downloading package averaged_perceptron_tagger to\n",
      "[nltk_data]    |     C:\\Users\\achyu\\AppData\\Roaming\\nltk_data...\n",
      "[nltk_data]    |   Package averaged_perceptron_tagger is already up-\n",
      "[nltk_data]    |       to-date!\n",
      "[nltk_data]    | \n",
      "[nltk_data]  Done downloading collection popular\n",
      "[nltk_data] Downloading package punkt to\n",
      "[nltk_data]     C:\\Users\\achyu\\AppData\\Roaming\\nltk_data...\n",
      "[nltk_data]   Package punkt is already up-to-date!\n",
      "[nltk_data] Downloading package wordnet to\n",
      "[nltk_data]     C:\\Users\\achyu\\AppData\\Roaming\\nltk_data...\n",
      "[nltk_data]   Package wordnet is already up-to-date!\n",
      "[nltk_data] Downloading package averaged_perceptron_tagger to\n",
      "[nltk_data]     C:\\Users\\achyu\\AppData\\Roaming\\nltk_data...\n",
      "[nltk_data]   Package averaged_perceptron_tagger is already up-to-\n",
      "[nltk_data]       date!\n"
     ]
    },
    {
     "data": {
      "text/plain": [
       "True"
      ]
     },
     "execution_count": 3,
     "metadata": {},
     "output_type": "execute_result"
    }
   ],
   "source": [
    "import pandas as pd\n",
    "import numpy as np\n",
    "import matplotlib.pyplot as plt\n",
    "import nltk\n",
    "\n",
    "\n",
    "import string\n",
    "\n",
    "\n",
    "# Download NLTK data\n",
    "nltk.download('stopwords')\n",
    "nltk.download('wordnet')\n",
    "nltk.download('popular')\n",
    "nltk.download('punkt')\n",
    "nltk.download('wordnet')\n",
    "nltk.download('averaged_perceptron_tagger')"
   ]
  },
  {
   "cell_type": "code",
   "execution_count": 4,
   "id": "12dceac1",
   "metadata": {
    "execution": {
     "iopub.execute_input": "2025-02-03T11:11:18.430747Z",
     "iopub.status.busy": "2025-02-03T11:11:18.429729Z",
     "iopub.status.idle": "2025-02-03T11:11:18.436880Z",
     "shell.execute_reply": "2025-02-03T11:11:18.436517Z"
    },
    "papermill": {
     "duration": 0.013393,
     "end_time": "2025-02-03T11:11:18.437878",
     "exception": false,
     "start_time": "2025-02-03T11:11:18.424485",
     "status": "completed"
    },
    "tags": []
   },
   "outputs": [
    {
     "name": "stdout",
     "output_type": "stream",
     "text": [
      "Received Review: I have read James Kipling's books and thoroughly enjoyed them. This one, I had to force myself to read. The ending sucked big time. I can't say it in any other way. Very disappointed. So fake. So unbelievable.\n",
      "Received Rating: 2.0\n"
     ]
    }
   ],
   "source": [
    "input_review = globals().get('input_review', \"\")  # Default to empty string if not provided\n",
    "input_rating = globals().get('input_rating', 0.0)  # Default to 0.0 if not provided\n",
    "\n",
    "input_rating = float(input_rating)  \n",
    "input_review = str(input_review) \n",
    "\n",
    "# Make sure the inputs are properly received\n",
    "print(f\"Received Review: {input_review}\")\n",
    "print(f\"Received Rating: {input_rating}\")"
   ]
  },
  {
   "cell_type": "code",
   "execution_count": 5,
   "id": "ebf987f5",
   "metadata": {
    "execution": {
     "iopub.execute_input": "2025-02-03T11:11:18.445124Z",
     "iopub.status.busy": "2025-02-03T11:11:18.445124Z",
     "iopub.status.idle": "2025-02-03T11:11:18.451787Z",
     "shell.execute_reply": "2025-02-03T11:11:18.451787Z"
    },
    "papermill": {
     "duration": 0.011643,
     "end_time": "2025-02-03T11:11:18.452830",
     "exception": false,
     "start_time": "2025-02-03T11:11:18.441187",
     "status": "completed"
    },
    "tags": []
   },
   "outputs": [],
   "source": [
    "\n",
    "input_review = input_review.lower()\n"
   ]
  },
  {
   "cell_type": "code",
   "execution_count": 6,
   "id": "3a7851f0",
   "metadata": {
    "execution": {
     "iopub.execute_input": "2025-02-03T11:11:18.460993Z",
     "iopub.status.busy": "2025-02-03T11:11:18.460993Z",
     "iopub.status.idle": "2025-02-03T11:11:18.473674Z",
     "shell.execute_reply": "2025-02-03T11:11:18.473674Z"
    },
    "papermill": {
     "duration": 0.018884,
     "end_time": "2025-02-03T11:11:18.474722",
     "exception": false,
     "start_time": "2025-02-03T11:11:18.455838",
     "status": "completed"
    },
    "tags": []
   },
   "outputs": [],
   "source": [
    "# Remove special characters\n",
    "\n",
    "def remove_punctuation(text):\n",
    "    punctuations = string.punctuation\n",
    "    return text.translate(str.maketrans('','',punctuations))\n",
    "input_review = remove_punctuation(input_review)\n",
    "\n"
   ]
  },
  {
   "cell_type": "code",
   "execution_count": 7,
   "id": "a4d63aad",
   "metadata": {
    "execution": {
     "iopub.execute_input": "2025-02-03T11:11:18.481097Z",
     "iopub.status.busy": "2025-02-03T11:11:18.481097Z",
     "iopub.status.idle": "2025-02-03T11:11:18.494670Z",
     "shell.execute_reply": "2025-02-03T11:11:18.494670Z"
    },
    "papermill": {
     "duration": 0.015849,
     "end_time": "2025-02-03T11:11:18.494670",
     "exception": false,
     "start_time": "2025-02-03T11:11:18.478821",
     "status": "completed"
    },
    "tags": []
   },
   "outputs": [
    {
     "data": {
      "text/plain": [
       "\"i, me, my, myself, we, our, ours, ourselves, you, you're, you've, you'll, you'd, your, yours, yourself, yourselves, he, him, his, himself, she, she's, her, hers, herself, it, it's, its, itself, they, them, their, theirs, themselves, what, which, who, whom, this, that, that'll, these, those, am, is, are, was, were, be, been, being, have, has, had, having, do, does, did, doing, a, an, the, and, but, if, or, because, as, until, while, of, at, by, for, with, about, against, between, into, through, during, before, after, above, below, to, from, up, down, in, out, on, off, over, under, again, further, then, once, here, there, when, where, why, how, all, any, both, each, few, more, most, other, some, such, no, nor, not, only, own, same, so, than, too, very, s, t, can, will, just, don, don't, should, should've, now, d, ll, m, o, re, ve, y, ain, aren, aren't, couldn, couldn't, didn, didn't, doesn, doesn't, hadn, hadn't, hasn, hasn't, haven, haven't, isn, isn't, ma, mightn, mightn't, mustn, mustn't, needn, needn't, shan, shan't, shouldn, shouldn't, wasn, wasn't, weren, weren't, won, won't, wouldn, wouldn't\""
      ]
     },
     "execution_count": 7,
     "metadata": {},
     "output_type": "execute_result"
    }
   ],
   "source": [
    "from nltk.corpus import stopwords\n",
    "\", \".join(stopwords.words(\"english\"))\n"
   ]
  },
  {
   "cell_type": "code",
   "execution_count": 8,
   "id": "4102d54d",
   "metadata": {
    "execution": {
     "iopub.execute_input": "2025-02-03T11:11:18.513273Z",
     "iopub.status.busy": "2025-02-03T11:11:18.513273Z",
     "iopub.status.idle": "2025-02-03T11:11:18.529072Z",
     "shell.execute_reply": "2025-02-03T11:11:18.529072Z"
    },
    "papermill": {
     "duration": 0.028372,
     "end_time": "2025-02-03T11:11:18.529072",
     "exception": false,
     "start_time": "2025-02-03T11:11:18.500700",
     "status": "completed"
    },
    "tags": []
   },
   "outputs": [],
   "source": [
    "STOPWORDS = set(stopwords.words('english'))\n",
    "def remove_stopwords(text):\n",
    "  return \" \".join([word for word in text.split() if word not in STOPWORDS])"
   ]
  },
  {
   "cell_type": "code",
   "execution_count": 9,
   "id": "e7d438df",
   "metadata": {
    "execution": {
     "iopub.execute_input": "2025-02-03T11:11:18.539586Z",
     "iopub.status.busy": "2025-02-03T11:11:18.538571Z",
     "iopub.status.idle": "2025-02-03T11:11:18.556820Z",
     "shell.execute_reply": "2025-02-03T11:11:18.555787Z"
    },
    "papermill": {
     "duration": 0.023298,
     "end_time": "2025-02-03T11:11:18.558159",
     "exception": false,
     "start_time": "2025-02-03T11:11:18.534861",
     "status": "completed"
    },
    "tags": []
   },
   "outputs": [],
   "source": [
    "input_review = remove_stopwords(input_review)\n"
   ]
  },
  {
   "cell_type": "code",
   "execution_count": 10,
   "id": "c3c05f61",
   "metadata": {
    "execution": {
     "iopub.execute_input": "2025-02-03T11:11:18.566168Z",
     "iopub.status.busy": "2025-02-03T11:11:18.566168Z",
     "iopub.status.idle": "2025-02-03T11:11:18.575670Z",
     "shell.execute_reply": "2025-02-03T11:11:18.575670Z"
    },
    "papermill": {
     "duration": 0.015897,
     "end_time": "2025-02-03T11:11:18.577719",
     "exception": false,
     "start_time": "2025-02-03T11:11:18.561822",
     "status": "completed"
    },
    "tags": []
   },
   "outputs": [
    {
     "data": {
      "text/plain": [
       "[('e', 15),\n",
       " ('a', 9),\n",
       " ('i', 8),\n",
       " ('n', 8),\n",
       " ('o', 8),\n",
       " ('d', 7),\n",
       " ('s', 6),\n",
       " ('r', 4),\n",
       " ('k', 4),\n",
       " ('l', 4)]"
      ]
     },
     "execution_count": 10,
     "metadata": {},
     "output_type": "execute_result"
    }
   ],
   "source": [
    "# Removing of Frequent Words\n",
    "\n",
    "from collections import Counter\n",
    "word_count = Counter()\n",
    "\n",
    "for text in input_review:\n",
    "  for word in text.split():\n",
    "    word_count[word] += 1\n",
    "\n",
    "word_count.most_common(10)"
   ]
  },
  {
   "cell_type": "code",
   "execution_count": 11,
   "id": "d76a083f",
   "metadata": {
    "execution": {
     "iopub.execute_input": "2025-02-03T11:11:18.582778Z",
     "iopub.status.busy": "2025-02-03T11:11:18.582778Z",
     "iopub.status.idle": "2025-02-03T11:11:18.598814Z",
     "shell.execute_reply": "2025-02-03T11:11:18.598814Z"
    },
    "papermill": {
     "duration": 0.018059,
     "end_time": "2025-02-03T11:11:18.598814",
     "exception": false,
     "start_time": "2025-02-03T11:11:18.580755",
     "status": "completed"
    },
    "tags": []
   },
   "outputs": [
    {
     "name": "stdout",
     "output_type": "stream",
     "text": [
      "{'m', 'y', 'h', 'w', 'j', 'c', 'v', 'p', 'f', 'u'}\n"
     ]
    }
   ],
   "source": [
    "RARE_WORDS = set(word for (word, wc) in word_count.most_common()[-10:])\n",
    "print(RARE_WORDS)"
   ]
  },
  {
   "cell_type": "code",
   "execution_count": 12,
   "id": "b1e483a7",
   "metadata": {
    "execution": {
     "iopub.execute_input": "2025-02-03T11:11:18.609444Z",
     "iopub.status.busy": "2025-02-03T11:11:18.609444Z",
     "iopub.status.idle": "2025-02-03T11:11:18.634035Z",
     "shell.execute_reply": "2025-02-03T11:11:18.634035Z"
    },
    "papermill": {
     "duration": 0.029703,
     "end_time": "2025-02-03T11:11:18.634035",
     "exception": false,
     "start_time": "2025-02-03T11:11:18.604332",
     "status": "completed"
    },
    "tags": []
   },
   "outputs": [],
   "source": [
    "import re\n",
    "def remove_special_char(text):\n",
    "    text = re.sub(r'[^a-zA-Z0-9]', ' ', text)\n",
    "    text = re.sub(r'\\s+', ' ', text).strip()\n",
    "    return text\n"
   ]
  },
  {
   "cell_type": "code",
   "execution_count": 13,
   "id": "332cda42",
   "metadata": {
    "execution": {
     "iopub.execute_input": "2025-02-03T11:11:18.645043Z",
     "iopub.status.busy": "2025-02-03T11:11:18.645043Z",
     "iopub.status.idle": "2025-02-03T11:11:18.668768Z",
     "shell.execute_reply": "2025-02-03T11:11:18.668768Z"
    },
    "papermill": {
     "duration": 0.031295,
     "end_time": "2025-02-03T11:11:18.671540",
     "exception": false,
     "start_time": "2025-02-03T11:11:18.640245",
     "status": "completed"
    },
    "tags": []
   },
   "outputs": [],
   "source": [
    "input_review= remove_special_char(input_review)"
   ]
  },
  {
   "cell_type": "code",
   "execution_count": 14,
   "id": "3f650d63",
   "metadata": {
    "execution": {
     "iopub.execute_input": "2025-02-03T11:11:18.679844Z",
     "iopub.status.busy": "2025-02-03T11:11:18.679844Z",
     "iopub.status.idle": "2025-02-03T11:11:18.686474Z",
     "shell.execute_reply": "2025-02-03T11:11:18.686474Z"
    },
    "papermill": {
     "duration": 0.012149,
     "end_time": "2025-02-03T11:11:18.687512",
     "exception": false,
     "start_time": "2025-02-03T11:11:18.675363",
     "status": "completed"
    },
    "tags": []
   },
   "outputs": [],
   "source": [
    "from nltk.stem.porter import PorterStemmer\n",
    "ps = PorterStemmer()\n",
    "def stem_words(text):\n",
    "  return \" \".join([ps.stem(word) for word in text.split()])"
   ]
  },
  {
   "cell_type": "code",
   "execution_count": 15,
   "id": "77387988",
   "metadata": {
    "execution": {
     "iopub.execute_input": "2025-02-03T11:11:18.693954Z",
     "iopub.status.busy": "2025-02-03T11:11:18.693954Z",
     "iopub.status.idle": "2025-02-03T11:11:18.709837Z",
     "shell.execute_reply": "2025-02-03T11:11:18.709837Z"
    },
    "papermill": {
     "duration": 0.01825,
     "end_time": "2025-02-03T11:11:18.709837",
     "exception": false,
     "start_time": "2025-02-03T11:11:18.691587",
     "status": "completed"
    },
    "tags": []
   },
   "outputs": [],
   "source": [
    "input_review = stem_words(input_review)\n"
   ]
  },
  {
   "cell_type": "code",
   "execution_count": 16,
   "id": "ac9ea52b",
   "metadata": {
    "execution": {
     "iopub.execute_input": "2025-02-03T11:11:18.720544Z",
     "iopub.status.busy": "2025-02-03T11:11:18.720544Z",
     "iopub.status.idle": "2025-02-03T11:11:19.926135Z",
     "shell.execute_reply": "2025-02-03T11:11:19.926135Z"
    },
    "papermill": {
     "duration": 1.2097,
     "end_time": "2025-02-03T11:11:19.926135",
     "exception": false,
     "start_time": "2025-02-03T11:11:18.716435",
     "status": "completed"
    },
    "tags": []
   },
   "outputs": [
    {
     "name": "stderr",
     "output_type": "stream",
     "text": [
      "[nltk_data] Downloading package wordnet to\n",
      "[nltk_data]     C:\\Users\\achyu\\AppData\\Roaming\\nltk_data...\n"
     ]
    },
    {
     "name": "stderr",
     "output_type": "stream",
     "text": [
      "[nltk_data] Downloading package averaged_perceptron_tagger to\n",
      "[nltk_data]     C:\\Users\\achyu\\AppData\\Roaming\\nltk_data...\n"
     ]
    },
    {
     "name": "stderr",
     "output_type": "stream",
     "text": [
      "[nltk_data]   Unzipping taggers\\averaged_perceptron_tagger.zip.\n"
     ]
    },
    {
     "data": {
      "text/plain": [
       "True"
      ]
     },
     "execution_count": 16,
     "metadata": {},
     "output_type": "execute_result"
    }
   ],
   "source": [
    "from nltk import download\n",
    "download('wordnet', force=True)\n",
    "download('averaged_perceptron_tagger', force=True)"
   ]
  },
  {
   "cell_type": "code",
   "execution_count": 17,
   "id": "3e413189",
   "metadata": {
    "execution": {
     "iopub.execute_input": "2025-02-03T11:11:19.936691Z",
     "iopub.status.busy": "2025-02-03T11:11:19.935817Z",
     "iopub.status.idle": "2025-02-03T11:11:20.064693Z",
     "shell.execute_reply": "2025-02-03T11:11:20.064693Z"
    },
    "papermill": {
     "duration": 0.133048,
     "end_time": "2025-02-03T11:11:20.064693",
     "exception": false,
     "start_time": "2025-02-03T11:11:19.931645",
     "status": "completed"
    },
    "tags": []
   },
   "outputs": [
    {
     "name": "stdout",
     "output_type": "stream",
     "text": [
      "[('NLTK', 'NNP'), ('is', 'VBZ'), ('a', 'DT'), ('powerful', 'JJ'), ('library', 'NN'), ('for', 'IN'), ('NLP', 'NNP'), ('.', '.')]\n"
     ]
    }
   ],
   "source": [
    "from nltk import pos_tag\n",
    "from nltk.tokenize import word_tokenize\n",
    "\n",
    "text = \"NLTK is a powerful library for NLP.\"\n",
    "tokens = word_tokenize(text)\n",
    "tagged_tokens = pos_tag(tokens)\n",
    "\n",
    "print(tagged_tokens)"
   ]
  },
  {
   "cell_type": "code",
   "execution_count": 18,
   "id": "02b22ac1",
   "metadata": {
    "execution": {
     "iopub.execute_input": "2025-02-03T11:11:20.075583Z",
     "iopub.status.busy": "2025-02-03T11:11:20.074705Z",
     "iopub.status.idle": "2025-02-03T11:11:22.397505Z",
     "shell.execute_reply": "2025-02-03T11:11:22.397505Z"
    },
    "papermill": {
     "duration": 2.32694,
     "end_time": "2025-02-03T11:11:22.397505",
     "exception": false,
     "start_time": "2025-02-03T11:11:20.070565",
     "status": "completed"
    },
    "tags": []
   },
   "outputs": [
    {
     "name": "stderr",
     "output_type": "stream",
     "text": [
      "[nltk_data] Downloading package punkt to\n",
      "[nltk_data]     C:\\Users\\achyu\\AppData\\Roaming\\nltk_data...\n",
      "[nltk_data]   Package punkt is already up-to-date!\n",
      "[nltk_data] Downloading package averaged_perceptron_tagger to\n",
      "[nltk_data]     C:\\Users\\achyu\\AppData\\Roaming\\nltk_data...\n",
      "[nltk_data]   Package averaged_perceptron_tagger is already up-to-\n",
      "[nltk_data]       date!\n",
      "[nltk_data] Downloading package wordnet to\n",
      "[nltk_data]     C:\\Users\\achyu\\AppData\\Roaming\\nltk_data...\n",
      "[nltk_data]   Package wordnet is already up-to-date!\n"
     ]
    }
   ],
   "source": [
    "from nltk import pos_tag\n",
    "from nltk.corpus import wordnet\n",
    "from nltk.stem import WordNetLemmatizer\n",
    "\n",
    "nltk.download('punkt')\n",
    "nltk.download('averaged_perceptron_tagger')\n",
    "nltk.download('wordnet')\n",
    "\n",
    "lemmatizer = WordNetLemmatizer()\n",
    "wordnet_map = {'N':wordnet.NOUN, 'V':wordnet.VERB, 'J':wordnet.ADJ, 'R':wordnet.ADV}\n",
    "\n",
    "def lemmatize_words(text):\n",
    "  pos_text = pos_tag(text.split())\n",
    "  return \" \".join([lemmatizer.lemmatize(word, wordnet_map.get(pos[0], wordnet.NOUN)) for word, pos in pos_text])\n",
    "\n",
    "\n"
   ]
  },
  {
   "cell_type": "code",
   "execution_count": 19,
   "id": "3e006a7a",
   "metadata": {
    "execution": {
     "iopub.execute_input": "2025-02-03T11:11:22.408842Z",
     "iopub.status.busy": "2025-02-03T11:11:22.408842Z",
     "iopub.status.idle": "2025-02-03T11:11:22.413939Z",
     "shell.execute_reply": "2025-02-03T11:11:22.413939Z"
    },
    "papermill": {
     "duration": 0.011172,
     "end_time": "2025-02-03T11:11:22.414954",
     "exception": false,
     "start_time": "2025-02-03T11:11:22.403782",
     "status": "completed"
    },
    "tags": []
   },
   "outputs": [],
   "source": [
    "input_review = lemmatize_words(input_review)"
   ]
  },
  {
   "cell_type": "code",
   "execution_count": 20,
   "id": "ea375fee",
   "metadata": {
    "execution": {
     "iopub.execute_input": "2025-02-03T11:11:22.423853Z",
     "iopub.status.busy": "2025-02-03T11:11:22.423853Z",
     "iopub.status.idle": "2025-02-03T11:11:22.606014Z",
     "shell.execute_reply": "2025-02-03T11:11:22.606014Z"
    },
    "papermill": {
     "duration": 0.187052,
     "end_time": "2025-02-03T11:11:22.606014",
     "exception": false,
     "start_time": "2025-02-03T11:11:22.418962",
     "status": "completed"
    },
    "tags": []
   },
   "outputs": [],
   "source": [
    "import joblib\n",
    "\n",
    "tfidf_vectorizer = joblib.load('tfidf_vectorizer.pkl')\n",
    "\n",
    "svm_model = joblib.load('svm_model.pkl')\n",
    "\n",
    "rf_model = joblib.load('rf_model.pkl')\n",
    "\n",
    "lr_model = joblib.load('lr_model.pkl')"
   ]
  },
  {
   "cell_type": "code",
   "execution_count": 21,
   "id": "2b64eb60",
   "metadata": {
    "execution": {
     "iopub.execute_input": "2025-02-03T11:11:22.617256Z",
     "iopub.status.busy": "2025-02-03T11:11:22.617256Z",
     "iopub.status.idle": "2025-02-03T11:11:22.633579Z",
     "shell.execute_reply": "2025-02-03T11:11:22.632432Z"
    },
    "papermill": {
     "duration": 0.020793,
     "end_time": "2025-02-03T11:11:22.634024",
     "exception": false,
     "start_time": "2025-02-03T11:11:22.613231",
     "status": "completed"
    },
    "tags": []
   },
   "outputs": [],
   "source": [
    "from scipy.sparse import hstack\n"
   ]
  },
  {
   "cell_type": "code",
   "execution_count": 22,
   "id": "88bd2147",
   "metadata": {
    "execution": {
     "iopub.execute_input": "2025-02-03T11:11:22.638609Z",
     "iopub.status.busy": "2025-02-03T11:11:22.638609Z",
     "iopub.status.idle": "2025-02-03T11:11:22.936820Z",
     "shell.execute_reply": "2025-02-03T11:11:22.936820Z"
    },
    "papermill": {
     "duration": 0.299209,
     "end_time": "2025-02-03T11:11:22.937818",
     "exception": false,
     "start_time": "2025-02-03T11:11:22.638609",
     "status": "completed"
    },
    "tags": []
   },
   "outputs": [
    {
     "name": "stdout",
     "output_type": "stream",
     "text": [
      "SVM Prediction: Fake\n",
      "Random Forest Prediction: Real\n",
      "Logistic Regression Prediction: Fake\n"
     ]
    }
   ],
   "source": [
    "\n",
    "\n",
    "X_lemmatized_tfidf = tfidf_vectorizer.transform([input_review])\n",
    "\n",
    "\n",
    "final_features = hstack([[input_rating], X_lemmatized_tfidf])\n",
    "\n",
    "final_text = final_features.toarray()\n",
    "\n",
    "# Predictions from all models\n",
    "\n",
    "svm_prediction = svm_model.predict(final_text)\n",
    "rf_prediction = rf_model.predict(final_text)\n",
    "lr_prediction = lr_model.predict(final_text)\n",
    "\n",
    "\n",
    "labels = {0: \"Fake\", 1: \"Real\"}\n",
    "\n",
    "print(f\"SVM Prediction: {labels[svm_prediction[0]]}\")\n",
    "print(f\"Random Forest Prediction: {labels[rf_prediction[0]]}\")\n",
    "print(f\"Logistic Regression Prediction: {labels[lr_prediction[0]]}\")"
   ]
  }
 ],
 "metadata": {
  "kernelspec": {
   "display_name": "venv",
   "language": "python",
   "name": "python3"
  },
  "language_info": {
   "codemirror_mode": {
    "name": "ipython",
    "version": 3
   },
   "file_extension": ".py",
   "mimetype": "text/x-python",
   "name": "python",
   "nbconvert_exporter": "python",
   "pygments_lexer": "ipython3",
   "version": "3.10.0"
  },
  "papermill": {
   "default_parameters": {},
   "duration": 8.684312,
   "end_time": "2025-02-03T11:11:23.611347",
   "environment_variables": {},
   "exception": null,
   "input_path": "C:/Rozanne/Minor Project/text_processing.ipynb",
   "output_path": "C:/Rozanne/Minor Project/text_processing_OUTPUT.ipynb",
   "parameters": {
    "input_rating": 2.0,
    "input_review": "I have read James Kipling's books and thoroughly enjoyed them. This one, I had to force myself to read. The ending sucked big time. I can't say it in any other way. Very disappointed. So fake. So unbelievable."
   },
   "start_time": "2025-02-03T11:11:14.927035",
   "version": "2.6.0"
  }
 },
 "nbformat": 4,
 "nbformat_minor": 5
}