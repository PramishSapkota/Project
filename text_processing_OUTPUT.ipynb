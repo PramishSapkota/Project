{
 "cells": [
  {
   "cell_type": "code",
   "execution_count": null,
   "id": "f9f77c17",
   "metadata": {
    "execution": {
     "iopub.execute_input": "2025-02-02T11:42:56.832990Z",
     "iopub.status.busy": "2025-02-02T11:42:56.832990Z",
     "iopub.status.idle": "2025-02-02T11:42:56.839060Z",
     "shell.execute_reply": "2025-02-02T11:42:56.839060Z"
    },
    "papermill": {
     "duration": 0.025659,
     "end_time": "2025-02-08T08:38:48.394225",
     "exception": false,
     "start_time": "2025-02-08T08:38:48.368566",
     "status": "completed"
    },
    "tags": [
     "parameters"
    ]
   },
   "outputs": [],
   "source": []
  },
  {
   "cell_type": "code",
   "execution_count": 1,
   "id": "9f43d0b3",
   "metadata": {
    "execution": {
     "iopub.execute_input": "2025-02-08T08:38:48.443129Z",
     "iopub.status.busy": "2025-02-08T08:38:48.441165Z",
     "iopub.status.idle": "2025-02-08T08:38:48.450674Z",
     "shell.execute_reply": "2025-02-08T08:38:48.450674Z"
    },
    "papermill": {
     "duration": 0.031527,
     "end_time": "2025-02-08T08:38:48.450674",
     "exception": false,
     "start_time": "2025-02-08T08:38:48.419147",
     "status": "completed"
    },
    "tags": [
     "injected-parameters"
    ]
   },
   "outputs": [],
   "source": [
    "# Parameters\n",
    "input_review = \"Just bought some of these from Walmart for $1.98....$8 seems a little ridiculous.  I haven't used them yet...trying to make an adapter to match the threaded part (my hydration pack is not Outdoor Products). Other than that they seem well designed and worth 2-5 dollars.\"\n",
    "input_rating = 5.0\n"
   ]
  },
  {
   "cell_type": "code",
   "execution_count": 2,
   "id": "631b4f96",
   "metadata": {
    "execution": {
     "iopub.execute_input": "2025-02-08T08:38:48.483734Z",
     "iopub.status.busy": "2025-02-08T08:38:48.483734Z",
     "iopub.status.idle": "2025-02-08T08:38:49.885359Z",
     "shell.execute_reply": "2025-02-08T08:38:49.885359Z"
    },
    "papermill": {
     "duration": 1.420176,
     "end_time": "2025-02-08T08:38:49.887368",
     "exception": false,
     "start_time": "2025-02-08T08:38:48.467192",
     "status": "completed"
    },
    "tags": []
   },
   "outputs": [
    {
     "name": "stdout",
     "output_type": "stream",
     "text": [
      "Processing Review: Just bought some of these from Walmart for $1.98....$8 seems a little ridiculous.  I haven't used them yet...trying to make an adapter to match the threaded part (my hydration pack is not Outdoor Products). Other than that they seem well designed and worth 2-5 dollars.\n",
      "Processing Rating: 5.0\n"
     ]
    }
   ],
   "source": [
    "import papermill as pm\n",
    "import sys\n",
    "\n",
    "# Read input parameters\n",
    "try:\n",
    "    input_review = input_review  # This comes from papermill\n",
    "    input_rating = input_rating\n",
    "except NameError:\n",
    "    input_review = \"Default review\"\n",
    "    input_rating = 5.0  # Default values for testing\n",
    "\n",
    "input_review_copy = input_review\n",
    "print(f\"Processing Review: {input_review}\")\n",
    "print(f\"Processing Rating: {input_rating}\")\n"
   ]
  },
  {
   "cell_type": "code",
   "execution_count": 3,
   "id": "e739bd97",
   "metadata": {
    "execution": {
     "iopub.execute_input": "2025-02-08T08:38:49.917553Z",
     "iopub.status.busy": "2025-02-08T08:38:49.917553Z",
     "iopub.status.idle": "2025-02-08T08:39:01.288410Z",
     "shell.execute_reply": "2025-02-08T08:39:01.286419Z"
    },
    "papermill": {
     "duration": 11.392347,
     "end_time": "2025-02-08T08:39:01.293260",
     "exception": false,
     "start_time": "2025-02-08T08:38:49.900913",
     "status": "completed"
    },
    "tags": []
   },
   "outputs": [
    {
     "name": "stderr",
     "output_type": "stream",
     "text": [
      "[nltk_data] Downloading package stopwords to\n",
      "[nltk_data]     C:\\Users\\Dell\\AppData\\Roaming\\nltk_data...\n",
      "[nltk_data]   Package stopwords is already up-to-date!\n",
      "[nltk_data] Downloading package wordnet to\n",
      "[nltk_data]     C:\\Users\\Dell\\AppData\\Roaming\\nltk_data...\n",
      "[nltk_data]   Package wordnet is already up-to-date!\n",
      "[nltk_data] Downloading collection 'popular'\n",
      "[nltk_data]    | \n",
      "[nltk_data]    | Downloading package cmudict to\n",
      "[nltk_data]    |     C:\\Users\\Dell\\AppData\\Roaming\\nltk_data...\n",
      "[nltk_data]    |   Package cmudict is already up-to-date!\n",
      "[nltk_data]    | Downloading package gazetteers to\n",
      "[nltk_data]    |     C:\\Users\\Dell\\AppData\\Roaming\\nltk_data...\n",
      "[nltk_data]    |   Package gazetteers is already up-to-date!\n",
      "[nltk_data]    | Downloading package genesis to\n",
      "[nltk_data]    |     C:\\Users\\Dell\\AppData\\Roaming\\nltk_data...\n",
      "[nltk_data]    |   Package genesis is already up-to-date!\n",
      "[nltk_data]    | Downloading package gutenberg to\n",
      "[nltk_data]    |     C:\\Users\\Dell\\AppData\\Roaming\\nltk_data...\n",
      "[nltk_data]    |   Package gutenberg is already up-to-date!\n",
      "[nltk_data]    | Downloading package inaugural to\n",
      "[nltk_data]    |     C:\\Users\\Dell\\AppData\\Roaming\\nltk_data...\n",
      "[nltk_data]    |   Package inaugural is already up-to-date!\n",
      "[nltk_data]    | Downloading package movie_reviews to\n",
      "[nltk_data]    |     C:\\Users\\Dell\\AppData\\Roaming\\nltk_data...\n"
     ]
    },
    {
     "name": "stderr",
     "output_type": "stream",
     "text": [
      "[nltk_data]    |   Package movie_reviews is already up-to-date!\n",
      "[nltk_data]    | Downloading package names to\n",
      "[nltk_data]    |     C:\\Users\\Dell\\AppData\\Roaming\\nltk_data...\n",
      "[nltk_data]    |   Package names is already up-to-date!\n",
      "[nltk_data]    | Downloading package shakespeare to\n",
      "[nltk_data]    |     C:\\Users\\Dell\\AppData\\Roaming\\nltk_data...\n",
      "[nltk_data]    |   Package shakespeare is already up-to-date!\n",
      "[nltk_data]    | Downloading package stopwords to\n",
      "[nltk_data]    |     C:\\Users\\Dell\\AppData\\Roaming\\nltk_data...\n",
      "[nltk_data]    |   Package stopwords is already up-to-date!\n",
      "[nltk_data]    | Downloading package treebank to\n",
      "[nltk_data]    |     C:\\Users\\Dell\\AppData\\Roaming\\nltk_data...\n",
      "[nltk_data]    |   Package treebank is already up-to-date!\n",
      "[nltk_data]    | Downloading package twitter_samples to\n",
      "[nltk_data]    |     C:\\Users\\Dell\\AppData\\Roaming\\nltk_data...\n"
     ]
    },
    {
     "name": "stderr",
     "output_type": "stream",
     "text": [
      "[nltk_data]    |   Package twitter_samples is already up-to-date!\n",
      "[nltk_data]    | Downloading package omw to\n",
      "[nltk_data]    |     C:\\Users\\Dell\\AppData\\Roaming\\nltk_data...\n",
      "[nltk_data]    |   Package omw is already up-to-date!\n",
      "[nltk_data]    | Downloading package omw-1.4 to\n",
      "[nltk_data]    |     C:\\Users\\Dell\\AppData\\Roaming\\nltk_data...\n"
     ]
    },
    {
     "name": "stderr",
     "output_type": "stream",
     "text": [
      "[nltk_data]    |   Package omw-1.4 is already up-to-date!\n",
      "[nltk_data]    | Downloading package wordnet to\n",
      "[nltk_data]    |     C:\\Users\\Dell\\AppData\\Roaming\\nltk_data...\n",
      "[nltk_data]    |   Package wordnet is already up-to-date!\n",
      "[nltk_data]    | Downloading package wordnet2021 to\n",
      "[nltk_data]    |     C:\\Users\\Dell\\AppData\\Roaming\\nltk_data...\n",
      "[nltk_data]    |   Package wordnet2021 is already up-to-date!\n",
      "[nltk_data]    | Downloading package wordnet31 to\n",
      "[nltk_data]    |     C:\\Users\\Dell\\AppData\\Roaming\\nltk_data...\n",
      "[nltk_data]    |   Package wordnet31 is already up-to-date!\n",
      "[nltk_data]    | Downloading package wordnet_ic to\n",
      "[nltk_data]    |     C:\\Users\\Dell\\AppData\\Roaming\\nltk_data...\n"
     ]
    },
    {
     "name": "stderr",
     "output_type": "stream",
     "text": [
      "[nltk_data]    |   Package wordnet_ic is already up-to-date!\n",
      "[nltk_data]    | Downloading package words to\n",
      "[nltk_data]    |     C:\\Users\\Dell\\AppData\\Roaming\\nltk_data...\n",
      "[nltk_data]    |   Package words is already up-to-date!\n",
      "[nltk_data]    | Downloading package maxent_ne_chunker to\n",
      "[nltk_data]    |     C:\\Users\\Dell\\AppData\\Roaming\\nltk_data...\n",
      "[nltk_data]    |   Package maxent_ne_chunker is already up-to-date!\n",
      "[nltk_data]    | Downloading package punkt to\n",
      "[nltk_data]    |     C:\\Users\\Dell\\AppData\\Roaming\\nltk_data...\n",
      "[nltk_data]    |   Package punkt is already up-to-date!\n",
      "[nltk_data]    | Downloading package snowball_data to\n",
      "[nltk_data]    |     C:\\Users\\Dell\\AppData\\Roaming\\nltk_data...\n"
     ]
    },
    {
     "name": "stderr",
     "output_type": "stream",
     "text": [
      "[nltk_data]    |   Package snowball_data is already up-to-date!\n",
      "[nltk_data]    | Downloading package averaged_perceptron_tagger to\n",
      "[nltk_data]    |     C:\\Users\\Dell\\AppData\\Roaming\\nltk_data...\n",
      "[nltk_data]    |   Package averaged_perceptron_tagger is already up-\n",
      "[nltk_data]    |       to-date!\n",
      "[nltk_data]    | \n",
      "[nltk_data]  Done downloading collection popular\n",
      "[nltk_data] Downloading package punkt to\n",
      "[nltk_data]     C:\\Users\\Dell\\AppData\\Roaming\\nltk_data...\n",
      "[nltk_data]   Package punkt is already up-to-date!\n",
      "[nltk_data] Downloading package wordnet to\n",
      "[nltk_data]     C:\\Users\\Dell\\AppData\\Roaming\\nltk_data...\n",
      "[nltk_data]   Package wordnet is already up-to-date!\n",
      "[nltk_data] Downloading package averaged_perceptron_tagger to\n",
      "[nltk_data]     C:\\Users\\Dell\\AppData\\Roaming\\nltk_data...\n",
      "[nltk_data]   Package averaged_perceptron_tagger is already up-to-\n",
      "[nltk_data]       date!\n"
     ]
    },
    {
     "data": {
      "text/plain": [
       "True"
      ]
     },
     "execution_count": 3,
     "metadata": {},
     "output_type": "execute_result"
    }
   ],
   "source": [
    "import pandas as pd\n",
    "import numpy as np\n",
    "import matplotlib.pyplot as plt\n",
    "import nltk\n",
    "\n",
    "\n",
    "import string\n",
    "\n",
    "\n",
    "# Download NLTK data\n",
    "nltk.download('stopwords')\n",
    "nltk.download('wordnet')\n",
    "nltk.download('popular')\n",
    "nltk.download('punkt')\n",
    "nltk.download('wordnet')\n",
    "nltk.download('averaged_perceptron_tagger')"
   ]
  },
  {
   "cell_type": "code",
   "execution_count": 4,
   "id": "12dceac1",
   "metadata": {
    "execution": {
     "iopub.execute_input": "2025-02-08T08:39:01.326185Z",
     "iopub.status.busy": "2025-02-08T08:39:01.326185Z",
     "iopub.status.idle": "2025-02-08T08:39:01.345128Z",
     "shell.execute_reply": "2025-02-08T08:39:01.345128Z"
    },
    "papermill": {
     "duration": 0.041012,
     "end_time": "2025-02-08T08:39:01.350847",
     "exception": false,
     "start_time": "2025-02-08T08:39:01.309835",
     "status": "completed"
    },
    "tags": []
   },
   "outputs": [
    {
     "name": "stdout",
     "output_type": "stream",
     "text": [
      "Received Review: Just bought some of these from Walmart for $1.98....$8 seems a little ridiculous.  I haven't used them yet...trying to make an adapter to match the threaded part (my hydration pack is not Outdoor Products). Other than that they seem well designed and worth 2-5 dollars.\n",
      "Received Rating: 5.0\n"
     ]
    }
   ],
   "source": [
    "input_review = globals().get('input_review', \"\")  # Default to empty string if not provided\n",
    "input_rating = globals().get('input_rating', 0.0)  # Default to 0.0 if not provided\n",
    "\n",
    "input_rating = float(input_rating)  \n",
    "input_review = str(input_review) \n",
    "\n",
    "# Make sure the inputs are properly received\n",
    "print(f\"Received Review: {input_review}\")\n",
    "print(f\"Received Rating: {input_rating}\")"
   ]
  },
  {
   "cell_type": "code",
   "execution_count": 5,
   "id": "ebf987f5",
   "metadata": {
    "execution": {
     "iopub.execute_input": "2025-02-08T08:39:01.387331Z",
     "iopub.status.busy": "2025-02-08T08:39:01.387331Z",
     "iopub.status.idle": "2025-02-08T08:39:01.397370Z",
     "shell.execute_reply": "2025-02-08T08:39:01.397370Z"
    },
    "papermill": {
     "duration": 0.03728,
     "end_time": "2025-02-08T08:39:01.404246",
     "exception": false,
     "start_time": "2025-02-08T08:39:01.366966",
     "status": "completed"
    },
    "tags": []
   },
   "outputs": [],
   "source": [
    "\n",
    "input_review = input_review.lower()\n"
   ]
  },
  {
   "cell_type": "code",
   "execution_count": 6,
   "id": "3a7851f0",
   "metadata": {
    "execution": {
     "iopub.execute_input": "2025-02-08T08:39:01.441375Z",
     "iopub.status.busy": "2025-02-08T08:39:01.441375Z",
     "iopub.status.idle": "2025-02-08T08:39:01.454272Z",
     "shell.execute_reply": "2025-02-08T08:39:01.454272Z"
    },
    "papermill": {
     "duration": 0.035168,
     "end_time": "2025-02-08T08:39:01.457218",
     "exception": false,
     "start_time": "2025-02-08T08:39:01.422050",
     "status": "completed"
    },
    "tags": []
   },
   "outputs": [],
   "source": [
    "# Remove special characters\n",
    "\n",
    "def remove_punctuation(text):\n",
    "    punctuations = string.punctuation\n",
    "    return text.translate(str.maketrans('','',punctuations))\n",
    "input_review = remove_punctuation(input_review)\n",
    "\n"
   ]
  },
  {
   "cell_type": "code",
   "execution_count": 7,
   "id": "a4d63aad",
   "metadata": {
    "execution": {
     "iopub.execute_input": "2025-02-08T08:39:01.496941Z",
     "iopub.status.busy": "2025-02-08T08:39:01.490986Z",
     "iopub.status.idle": "2025-02-08T08:39:01.516935Z",
     "shell.execute_reply": "2025-02-08T08:39:01.516935Z"
    },
    "papermill": {
     "duration": 0.049401,
     "end_time": "2025-02-08T08:39:01.523228",
     "exception": false,
     "start_time": "2025-02-08T08:39:01.473827",
     "status": "completed"
    },
    "tags": []
   },
   "outputs": [
    {
     "data": {
      "text/plain": [
       "\"i, me, my, myself, we, our, ours, ourselves, you, you're, you've, you'll, you'd, your, yours, yourself, yourselves, he, him, his, himself, she, she's, her, hers, herself, it, it's, its, itself, they, them, their, theirs, themselves, what, which, who, whom, this, that, that'll, these, those, am, is, are, was, were, be, been, being, have, has, had, having, do, does, did, doing, a, an, the, and, but, if, or, because, as, until, while, of, at, by, for, with, about, against, between, into, through, during, before, after, above, below, to, from, up, down, in, out, on, off, over, under, again, further, then, once, here, there, when, where, why, how, all, any, both, each, few, more, most, other, some, such, no, nor, not, only, own, same, so, than, too, very, s, t, can, will, just, don, don't, should, should've, now, d, ll, m, o, re, ve, y, ain, aren, aren't, couldn, couldn't, didn, didn't, doesn, doesn't, hadn, hadn't, hasn, hasn't, haven, haven't, isn, isn't, ma, mightn, mightn't, mustn, mustn't, needn, needn't, shan, shan't, shouldn, shouldn't, wasn, wasn't, weren, weren't, won, won't, wouldn, wouldn't\""
      ]
     },
     "execution_count": 7,
     "metadata": {},
     "output_type": "execute_result"
    }
   ],
   "source": [
    "from nltk.corpus import stopwords\n",
    "\", \".join(stopwords.words(\"english\"))\n"
   ]
  },
  {
   "cell_type": "code",
   "execution_count": 8,
   "id": "4102d54d",
   "metadata": {
    "execution": {
     "iopub.execute_input": "2025-02-08T08:39:01.564276Z",
     "iopub.status.busy": "2025-02-08T08:39:01.564276Z",
     "iopub.status.idle": "2025-02-08T08:39:01.577468Z",
     "shell.execute_reply": "2025-02-08T08:39:01.577468Z"
    },
    "papermill": {
     "duration": 0.041469,
     "end_time": "2025-02-08T08:39:01.581094",
     "exception": false,
     "start_time": "2025-02-08T08:39:01.539625",
     "status": "completed"
    },
    "tags": []
   },
   "outputs": [],
   "source": [
    "STOPWORDS = set(stopwords.words('english'))\n",
    "def remove_stopwords(text):\n",
    "  return \" \".join([word for word in text.split() if word not in STOPWORDS])"
   ]
  },
  {
   "cell_type": "code",
   "execution_count": 9,
   "id": "e7d438df",
   "metadata": {
    "execution": {
     "iopub.execute_input": "2025-02-08T08:39:01.621778Z",
     "iopub.status.busy": "2025-02-08T08:39:01.621778Z",
     "iopub.status.idle": "2025-02-08T08:39:01.631849Z",
     "shell.execute_reply": "2025-02-08T08:39:01.630101Z"
    },
    "papermill": {
     "duration": 0.041576,
     "end_time": "2025-02-08T08:39:01.639153",
     "exception": false,
     "start_time": "2025-02-08T08:39:01.597577",
     "status": "completed"
    },
    "tags": []
   },
   "outputs": [],
   "source": [
    "input_review = remove_stopwords(input_review)\n"
   ]
  },
  {
   "cell_type": "code",
   "execution_count": 10,
   "id": "c3c05f61",
   "metadata": {
    "execution": {
     "iopub.execute_input": "2025-02-08T08:39:01.681003Z",
     "iopub.status.busy": "2025-02-08T08:39:01.681003Z",
     "iopub.status.idle": "2025-02-08T08:39:01.704489Z",
     "shell.execute_reply": "2025-02-08T08:39:01.702170Z"
    },
    "papermill": {
     "duration": 0.051512,
     "end_time": "2025-02-08T08:39:01.708110",
     "exception": false,
     "start_time": "2025-02-08T08:39:01.656598",
     "status": "completed"
    },
    "tags": []
   },
   "outputs": [
    {
     "data": {
      "text/plain": [
       "[('t', 15),\n",
       " ('e', 15),\n",
       " ('a', 12),\n",
       " ('r', 11),\n",
       " ('d', 11),\n",
       " ('o', 9),\n",
       " ('l', 8),\n",
       " ('s', 8),\n",
       " ('u', 6),\n",
       " ('h', 6)]"
      ]
     },
     "execution_count": 10,
     "metadata": {},
     "output_type": "execute_result"
    }
   ],
   "source": [
    "# Removing of Frequent Words\n",
    "\n",
    "from collections import Counter\n",
    "word_count = Counter()\n",
    "\n",
    "for text in input_review:\n",
    "  for word in text.split():\n",
    "    word_count[word] += 1\n",
    "\n",
    "word_count.most_common(10)"
   ]
  },
  {
   "cell_type": "code",
   "execution_count": 11,
   "id": "d76a083f",
   "metadata": {
    "execution": {
     "iopub.execute_input": "2025-02-08T08:39:01.755792Z",
     "iopub.status.busy": "2025-02-08T08:39:01.754574Z",
     "iopub.status.idle": "2025-02-08T08:39:01.765918Z",
     "shell.execute_reply": "2025-02-08T08:39:01.765918Z"
    },
    "papermill": {
     "duration": 0.044949,
     "end_time": "2025-02-08T08:39:01.774177",
     "exception": false,
     "start_time": "2025-02-08T08:39:01.729228",
     "status": "completed"
    },
    "tags": []
   },
   "outputs": [
    {
     "name": "stdout",
     "output_type": "stream",
     "text": [
      "{'8', 'v', '2', '5', '9', 'w', '1', 'k', 'y', 'b'}\n"
     ]
    }
   ],
   "source": [
    "RARE_WORDS = set(word for (word, wc) in word_count.most_common()[-10:])\n",
    "print(RARE_WORDS)"
   ]
  },
  {
   "cell_type": "code",
   "execution_count": 12,
   "id": "b1e483a7",
   "metadata": {
    "execution": {
     "iopub.execute_input": "2025-02-08T08:39:01.811619Z",
     "iopub.status.busy": "2025-02-08T08:39:01.811619Z",
     "iopub.status.idle": "2025-02-08T08:39:01.825325Z",
     "shell.execute_reply": "2025-02-08T08:39:01.823362Z"
    },
    "papermill": {
     "duration": 0.040842,
     "end_time": "2025-02-08T08:39:01.829696",
     "exception": false,
     "start_time": "2025-02-08T08:39:01.788854",
     "status": "completed"
    },
    "tags": []
   },
   "outputs": [],
   "source": [
    "import re\n",
    "def remove_special_char(text):\n",
    "    text = re.sub(r'[^a-zA-Z0-9]', ' ', text)\n",
    "    text = re.sub(r'\\s+', ' ', text).strip()\n",
    "    return text\n"
   ]
  },
  {
   "cell_type": "code",
   "execution_count": 13,
   "id": "332cda42",
   "metadata": {
    "execution": {
     "iopub.execute_input": "2025-02-08T08:39:01.871289Z",
     "iopub.status.busy": "2025-02-08T08:39:01.869493Z",
     "iopub.status.idle": "2025-02-08T08:39:01.880281Z",
     "shell.execute_reply": "2025-02-08T08:39:01.880281Z"
    },
    "papermill": {
     "duration": 0.041732,
     "end_time": "2025-02-08T08:39:01.886142",
     "exception": false,
     "start_time": "2025-02-08T08:39:01.844410",
     "status": "completed"
    },
    "tags": []
   },
   "outputs": [],
   "source": [
    "input_review= remove_special_char(input_review)"
   ]
  },
  {
   "cell_type": "code",
   "execution_count": 14,
   "id": "3f650d63",
   "metadata": {
    "execution": {
     "iopub.execute_input": "2025-02-08T08:39:01.927325Z",
     "iopub.status.busy": "2025-02-08T08:39:01.927325Z",
     "iopub.status.idle": "2025-02-08T08:39:01.939786Z",
     "shell.execute_reply": "2025-02-08T08:39:01.939786Z"
    },
    "papermill": {
     "duration": 0.040679,
     "end_time": "2025-02-08T08:39:01.943966",
     "exception": false,
     "start_time": "2025-02-08T08:39:01.903287",
     "status": "completed"
    },
    "tags": []
   },
   "outputs": [],
   "source": [
    "from nltk.stem.porter import PorterStemmer\n",
    "ps = PorterStemmer()\n",
    "def stem_words(text):\n",
    "  return \" \".join([ps.stem(word) for word in text.split()])"
   ]
  },
  {
   "cell_type": "code",
   "execution_count": 15,
   "id": "77387988",
   "metadata": {
    "execution": {
     "iopub.execute_input": "2025-02-08T08:39:01.991084Z",
     "iopub.status.busy": "2025-02-08T08:39:01.991084Z",
     "iopub.status.idle": "2025-02-08T08:39:02.001419Z",
     "shell.execute_reply": "2025-02-08T08:39:02.001419Z"
    },
    "papermill": {
     "duration": 0.049197,
     "end_time": "2025-02-08T08:39:02.009858",
     "exception": false,
     "start_time": "2025-02-08T08:39:01.960661",
     "status": "completed"
    },
    "tags": []
   },
   "outputs": [],
   "source": [
    "input_review = stem_words(input_review)\n"
   ]
  },
  {
   "cell_type": "code",
   "execution_count": 16,
   "id": "ac9ea52b",
   "metadata": {
    "execution": {
     "iopub.execute_input": "2025-02-08T08:39:02.045532Z",
     "iopub.status.busy": "2025-02-08T08:39:02.045532Z",
     "iopub.status.idle": "2025-02-08T08:39:04.124912Z",
     "shell.execute_reply": "2025-02-08T08:39:04.123104Z"
    },
    "papermill": {
     "duration": 2.104391,
     "end_time": "2025-02-08T08:39:04.131312",
     "exception": false,
     "start_time": "2025-02-08T08:39:02.026921",
     "status": "completed"
    },
    "tags": []
   },
   "outputs": [
    {
     "name": "stderr",
     "output_type": "stream",
     "text": [
      "[nltk_data] Downloading package wordnet to\n",
      "[nltk_data]     C:\\Users\\Dell\\AppData\\Roaming\\nltk_data...\n"
     ]
    },
    {
     "name": "stderr",
     "output_type": "stream",
     "text": [
      "[nltk_data] Downloading package averaged_perceptron_tagger to\n",
      "[nltk_data]     C:\\Users\\Dell\\AppData\\Roaming\\nltk_data...\n"
     ]
    },
    {
     "name": "stderr",
     "output_type": "stream",
     "text": [
      "[nltk_data]   Unzipping taggers\\averaged_perceptron_tagger.zip.\n"
     ]
    },
    {
     "data": {
      "text/plain": [
       "True"
      ]
     },
     "execution_count": 16,
     "metadata": {},
     "output_type": "execute_result"
    }
   ],
   "source": [
    "from nltk import download\n",
    "download('wordnet', force=True)\n",
    "download('averaged_perceptron_tagger', force=True)"
   ]
  },
  {
   "cell_type": "code",
   "execution_count": 17,
   "id": "3e413189",
   "metadata": {
    "execution": {
     "iopub.execute_input": "2025-02-08T08:39:04.173811Z",
     "iopub.status.busy": "2025-02-08T08:39:04.173811Z",
     "iopub.status.idle": "2025-02-08T08:39:04.784379Z",
     "shell.execute_reply": "2025-02-08T08:39:04.784379Z"
    },
    "papermill": {
     "duration": 0.641207,
     "end_time": "2025-02-08T08:39:04.789528",
     "exception": false,
     "start_time": "2025-02-08T08:39:04.148321",
     "status": "completed"
    },
    "tags": []
   },
   "outputs": [
    {
     "name": "stdout",
     "output_type": "stream",
     "text": [
      "[('NLTK', 'NNP'), ('is', 'VBZ'), ('a', 'DT'), ('powerful', 'JJ'), ('library', 'NN'), ('for', 'IN'), ('NLP', 'NNP'), ('.', '.')]\n"
     ]
    }
   ],
   "source": [
    "from nltk import pos_tag\n",
    "from nltk.tokenize import word_tokenize\n",
    "\n",
    "text = \"NLTK is a powerful library for NLP.\"\n",
    "tokens = word_tokenize(text)\n",
    "tagged_tokens = pos_tag(tokens)\n",
    "\n",
    "print(tagged_tokens)"
   ]
  },
  {
   "cell_type": "code",
   "execution_count": 18,
   "id": "02b22ac1",
   "metadata": {
    "execution": {
     "iopub.execute_input": "2025-02-08T08:39:04.832955Z",
     "iopub.status.busy": "2025-02-08T08:39:04.831354Z",
     "iopub.status.idle": "2025-02-08T08:39:13.770917Z",
     "shell.execute_reply": "2025-02-08T08:39:13.770917Z"
    },
    "papermill": {
     "duration": 8.970533,
     "end_time": "2025-02-08T08:39:13.779257",
     "exception": false,
     "start_time": "2025-02-08T08:39:04.808724",
     "status": "completed"
    },
    "tags": []
   },
   "outputs": [
    {
     "name": "stderr",
     "output_type": "stream",
     "text": [
      "[nltk_data] Downloading package punkt to\n",
      "[nltk_data]     C:\\Users\\Dell\\AppData\\Roaming\\nltk_data...\n",
      "[nltk_data]   Package punkt is already up-to-date!\n",
      "[nltk_data] Downloading package averaged_perceptron_tagger to\n",
      "[nltk_data]     C:\\Users\\Dell\\AppData\\Roaming\\nltk_data...\n",
      "[nltk_data]   Package averaged_perceptron_tagger is already up-to-\n",
      "[nltk_data]       date!\n",
      "[nltk_data] Downloading package wordnet to\n",
      "[nltk_data]     C:\\Users\\Dell\\AppData\\Roaming\\nltk_data...\n"
     ]
    },
    {
     "name": "stderr",
     "output_type": "stream",
     "text": [
      "[nltk_data]   Package wordnet is already up-to-date!\n"
     ]
    }
   ],
   "source": [
    "from nltk import pos_tag\n",
    "from nltk.corpus import wordnet\n",
    "from nltk.stem import WordNetLemmatizer\n",
    "\n",
    "nltk.download('punkt')\n",
    "nltk.download('averaged_perceptron_tagger')\n",
    "nltk.download('wordnet')\n",
    "\n",
    "lemmatizer = WordNetLemmatizer()\n",
    "wordnet_map = {'N':wordnet.NOUN, 'V':wordnet.VERB, 'J':wordnet.ADJ, 'R':wordnet.ADV}\n",
    "\n",
    "def lemmatize_words(text):\n",
    "  pos_text = pos_tag(text.split())\n",
    "  return \" \".join([lemmatizer.lemmatize(word, wordnet_map.get(pos[0], wordnet.NOUN)) for word, pos in pos_text])\n",
    "\n",
    "\n"
   ]
  },
  {
   "cell_type": "code",
   "execution_count": 19,
   "id": "3e006a7a",
   "metadata": {
    "execution": {
     "iopub.execute_input": "2025-02-08T08:39:13.828135Z",
     "iopub.status.busy": "2025-02-08T08:39:13.828135Z",
     "iopub.status.idle": "2025-02-08T08:39:13.849681Z",
     "shell.execute_reply": "2025-02-08T08:39:13.847671Z"
    },
    "papermill": {
     "duration": 0.054106,
     "end_time": "2025-02-08T08:39:13.853374",
     "exception": false,
     "start_time": "2025-02-08T08:39:13.799268",
     "status": "completed"
    },
    "tags": []
   },
   "outputs": [],
   "source": [
    "input_review = lemmatize_words(input_review)"
   ]
  },
  {
   "cell_type": "code",
   "execution_count": 20,
   "id": "ea375fee",
   "metadata": {
    "execution": {
     "iopub.execute_input": "2025-02-08T08:39:13.903484Z",
     "iopub.status.busy": "2025-02-08T08:39:13.903484Z",
     "iopub.status.idle": "2025-02-08T08:39:16.589178Z",
     "shell.execute_reply": "2025-02-08T08:39:16.588540Z"
    },
    "papermill": {
     "duration": 2.715347,
     "end_time": "2025-02-08T08:39:16.593089",
     "exception": false,
     "start_time": "2025-02-08T08:39:13.877742",
     "status": "completed"
    },
    "tags": []
   },
   "outputs": [
    {
     "name": "stderr",
     "output_type": "stream",
     "text": [
      "C:\\Users\\Dell\\anaconda3\\Lib\\site-packages\\sklearn\\base.py:376: InconsistentVersionWarning: Trying to unpickle estimator TfidfTransformer from version 1.6.1 when using version 1.5.1. This might lead to breaking code or invalid results. Use at your own risk. For more info please refer to:\n",
      "https://scikit-learn.org/stable/model_persistence.html#security-maintainability-limitations\n",
      "  warnings.warn(\n"
     ]
    },
    {
     "name": "stderr",
     "output_type": "stream",
     "text": [
      "C:\\Users\\Dell\\anaconda3\\Lib\\site-packages\\sklearn\\base.py:376: InconsistentVersionWarning: Trying to unpickle estimator TfidfVectorizer from version 1.6.1 when using version 1.5.1. This might lead to breaking code or invalid results. Use at your own risk. For more info please refer to:\n",
      "https://scikit-learn.org/stable/model_persistence.html#security-maintainability-limitations\n",
      "  warnings.warn(\n",
      "C:\\Users\\Dell\\anaconda3\\Lib\\site-packages\\sklearn\\base.py:376: InconsistentVersionWarning: Trying to unpickle estimator StandardScaler from version 1.6.1 when using version 1.5.1. This might lead to breaking code or invalid results. Use at your own risk. For more info please refer to:\n",
      "https://scikit-learn.org/stable/model_persistence.html#security-maintainability-limitations\n",
      "  warnings.warn(\n"
     ]
    },
    {
     "name": "stderr",
     "output_type": "stream",
     "text": [
      "C:\\Users\\Dell\\anaconda3\\Lib\\site-packages\\sklearn\\base.py:376: InconsistentVersionWarning: Trying to unpickle estimator DecisionTreeClassifier from version 1.6.1 when using version 1.5.1. This might lead to breaking code or invalid results. Use at your own risk. For more info please refer to:\n",
      "https://scikit-learn.org/stable/model_persistence.html#security-maintainability-limitations\n",
      "  warnings.warn(\n"
     ]
    },
    {
     "name": "stderr",
     "output_type": "stream",
     "text": [
      "C:\\Users\\Dell\\anaconda3\\Lib\\site-packages\\sklearn\\base.py:376: InconsistentVersionWarning: Trying to unpickle estimator RandomForestClassifier from version 1.6.1 when using version 1.5.1. This might lead to breaking code or invalid results. Use at your own risk. For more info please refer to:\n",
      "https://scikit-learn.org/stable/model_persistence.html#security-maintainability-limitations\n",
      "  warnings.warn(\n"
     ]
    }
   ],
   "source": [
    "import joblib\n",
    "\n",
    "tfidf_vectorizer = joblib.load('tfidf_vectorizer.pkl')\n",
    "\n",
    "svm_model = joblib.load('svm_model.pkl')\n",
    "\n",
    "rf_model = joblib.load('rf_model.pkl')\n",
    "\n",
    "lr_model = joblib.load('lr_model.pkl')"
   ]
  },
  {
   "cell_type": "code",
   "execution_count": 21,
   "id": "2b64eb60",
   "metadata": {
    "execution": {
     "iopub.execute_input": "2025-02-08T08:39:16.639499Z",
     "iopub.status.busy": "2025-02-08T08:39:16.638993Z",
     "iopub.status.idle": "2025-02-08T08:39:16.648394Z",
     "shell.execute_reply": "2025-02-08T08:39:16.648394Z"
    },
    "papermill": {
     "duration": 0.041086,
     "end_time": "2025-02-08T08:39:16.650995",
     "exception": false,
     "start_time": "2025-02-08T08:39:16.609909",
     "status": "completed"
    },
    "tags": []
   },
   "outputs": [],
   "source": [
    "from scipy.sparse import hstack\n"
   ]
  },
  {
   "cell_type": "code",
   "execution_count": 22,
   "id": "88bd2147",
   "metadata": {
    "execution": {
     "iopub.execute_input": "2025-02-08T08:39:16.692432Z",
     "iopub.status.busy": "2025-02-08T08:39:16.692432Z",
     "iopub.status.idle": "2025-02-08T08:39:16.921020Z",
     "shell.execute_reply": "2025-02-08T08:39:16.918733Z"
    },
    "papermill": {
     "duration": 0.252889,
     "end_time": "2025-02-08T08:39:16.923591",
     "exception": false,
     "start_time": "2025-02-08T08:39:16.670702",
     "status": "completed"
    },
    "tags": []
   },
   "outputs": [
    {
     "name": "stdout",
     "output_type": "stream",
     "text": [
      "Review: Just bought some of these from Walmart for $1.98....$8 seems a little ridiculous.  I haven't used them yet...trying to make an adapter to match the threaded part (my hydration pack is not Outdoor Products). Other than that they seem well designed and worth 2-5 dollars.\n",
      "Rating: 5.0\n",
      "SVM Prediction: Fake\n",
      "Random Forest Prediction: Real\n",
      "Logistic Regression Prediction: Real\n"
     ]
    }
   ],
   "source": [
    "from scipy.sparse import hstack, csr_matrix\n",
    "import numpy as np\n",
    "\n",
    "\n",
    "X_lemmatized_tfidf = tfidf_vectorizer.transform([input_review])\n",
    "\n",
    "# Reshape input_rating to be a 1x1 sparse matrix\n",
    "input_rating_sparse = csr_matrix(np.reshape(input_rating, (1, 1))) \n",
    "\n",
    "# Now stack the features\n",
    "final_features = hstack([input_rating_sparse, X_lemmatized_tfidf])\n",
    "\n",
    "final_text = final_features.toarray()\n",
    "\n",
    "\n",
    "# Predictions from all models\n",
    "\n",
    "svm_prediction = svm_model.predict(final_text)\n",
    "rf_prediction = rf_model.predict(final_text)\n",
    "lr_prediction = lr_model.predict(final_text)\n",
    "\n",
    "\n",
    "labels = {0: \"Fake\", 1: \"Real\"}\n",
    "print(f\"Review: {input_review_copy}\")\n",
    "print(f\"Rating: {input_rating}\")\n",
    "print(f\"SVM Prediction: {labels[svm_prediction[0]]}\")\n",
    "print(f\"Random Forest Prediction: {labels[rf_prediction[0]]}\")\n",
    "print(f\"Logistic Regression Prediction: {labels[lr_prediction[0]]}\")"
   ]
  }
 ],
 "metadata": {
  "kernelspec": {
   "display_name": "base",
   "language": "python",
   "name": "python3"
  },
  "language_info": {
   "codemirror_mode": {
    "name": "ipython",
    "version": 3
   },
   "file_extension": ".py",
   "mimetype": "text/x-python",
   "name": "python",
   "nbconvert_exporter": "python",
   "pygments_lexer": "ipython3",
   "version": "3.12.7"
  },
  "papermill": {
   "default_parameters": {},
   "duration": 36.673689,
   "end_time": "2025-02-08T08:39:18.835078",
   "environment_variables": {},
   "exception": null,
   "input_path": "text_processing.ipynb",
   "output_path": "text_processing_OUTPUT.ipynb",
   "parameters": {
    "input_rating": 5.0,
    "input_review": "Just bought some of these from Walmart for $1.98....$8 seems a little ridiculous.  I haven't used them yet...trying to make an adapter to match the threaded part (my hydration pack is not Outdoor Products). Other than that they seem well designed and worth 2-5 dollars."
   },
   "start_time": "2025-02-08T08:38:42.161389",
   "version": "2.6.0"
  }
 },
 "nbformat": 4,
 "nbformat_minor": 5
}