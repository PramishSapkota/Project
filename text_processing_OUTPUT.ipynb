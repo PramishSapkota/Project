{
 "cells": [
  {
   "cell_type": "code",
   "execution_count": 1,
   "id": "f356411b",
   "metadata": {
    "execution": {
     "iopub.execute_input": "2025-02-23T06:39:21.674136Z",
     "iopub.status.busy": "2025-02-23T06:39:21.674136Z",
     "iopub.status.idle": "2025-02-23T06:39:21.689982Z",
     "shell.execute_reply": "2025-02-23T06:39:21.688981Z"
    },
    "papermill": {
     "duration": 0.015846,
     "end_time": "2025-02-23T06:39:21.689982",
     "exception": false,
     "start_time": "2025-02-23T06:39:21.674136",
     "status": "completed"
    },
    "tags": [
     "parameters"
    ]
   },
   "outputs": [],
   "source": [
    "# Dont delete this cell although it is empty"
   ]
  },
  {
   "cell_type": "code",
   "execution_count": 2,
   "id": "e388ee30",
   "metadata": {
    "execution": {
     "iopub.execute_input": "2025-02-23T06:39:21.706006Z",
     "iopub.status.busy": "2025-02-23T06:39:21.706006Z",
     "iopub.status.idle": "2025-02-23T06:39:21.711839Z",
     "shell.execute_reply": "2025-02-23T06:39:21.711293Z"
    },
    "papermill": {
     "duration": 0.026469,
     "end_time": "2025-02-23T06:39:21.716451",
     "exception": false,
     "start_time": "2025-02-23T06:39:21.689982",
     "status": "completed"
    },
    "tags": [
     "injected-parameters"
    ]
   },
   "outputs": [],
   "source": [
    "# Parameters\n",
    "input_review = \"very bad\"\n",
    "input_rating = 5\n"
   ]
  },
  {
   "cell_type": "code",
   "execution_count": 3,
   "id": "631b4f96",
   "metadata": {
    "execution": {
     "iopub.execute_input": "2025-02-23T06:39:21.728592Z",
     "iopub.status.busy": "2025-02-23T06:39:21.728592Z",
     "iopub.status.idle": "2025-02-23T06:39:23.772087Z",
     "shell.execute_reply": "2025-02-23T06:39:23.772087Z"
    },
    "papermill": {
     "duration": 2.051011,
     "end_time": "2025-02-23T06:39:23.772087",
     "exception": false,
     "start_time": "2025-02-23T06:39:21.721076",
     "status": "completed"
    },
    "tags": []
   },
   "outputs": [
    {
     "name": "stdout",
     "output_type": "stream",
     "text": [
      "Processing Review: very bad\n",
      "Processing Rating: 5\n"
     ]
    }
   ],
   "source": [
    "import papermill as pm\n",
    "import sys\n",
    "\n",
    "# Read input parameters\n",
    "try:\n",
    "    input_review = input_review  # This comes from papermill\n",
    "    input_rating = input_rating\n",
    "except NameError:\n",
    "    input_review = \"Default review\"\n",
    "    input_rating = 5.0  # Default values for testing\n",
    "\n",
    "input_review_copy = input_review\n",
    "print(f\"Processing Review: {input_review}\")\n",
    "print(f\"Processing Rating: {input_rating}\")\n"
   ]
  },
  {
   "cell_type": "code",
   "execution_count": 4,
   "id": "e739bd97",
   "metadata": {
    "execution": {
     "iopub.execute_input": "2025-02-23T06:39:23.782308Z",
     "iopub.status.busy": "2025-02-23T06:39:23.782308Z",
     "iopub.status.idle": "2025-02-23T06:39:30.769361Z",
     "shell.execute_reply": "2025-02-23T06:39:30.768833Z"
    },
    "papermill": {
     "duration": 6.997274,
     "end_time": "2025-02-23T06:39:30.769361",
     "exception": false,
     "start_time": "2025-02-23T06:39:23.772087",
     "status": "completed"
    },
    "tags": []
   },
   "outputs": [
    {
     "name": "stderr",
     "output_type": "stream",
     "text": [
      "[nltk_data] Downloading package stopwords to\n",
      "[nltk_data]     C:\\Users\\Dell\\AppData\\Roaming\\nltk_data...\n",
      "[nltk_data]   Package stopwords is already up-to-date!\n",
      "[nltk_data] Downloading package wordnet to\n",
      "[nltk_data]     C:\\Users\\Dell\\AppData\\Roaming\\nltk_data...\n",
      "[nltk_data]   Package wordnet is already up-to-date!\n",
      "[nltk_data] Downloading collection 'popular'\n",
      "[nltk_data]    | \n",
      "[nltk_data]    | Downloading package cmudict to\n",
      "[nltk_data]    |     C:\\Users\\Dell\\AppData\\Roaming\\nltk_data...\n",
      "[nltk_data]    |   Package cmudict is already up-to-date!\n",
      "[nltk_data]    | Downloading package gazetteers to\n",
      "[nltk_data]    |     C:\\Users\\Dell\\AppData\\Roaming\\nltk_data...\n",
      "[nltk_data]    |   Package gazetteers is already up-to-date!\n",
      "[nltk_data]    | Downloading package genesis to\n",
      "[nltk_data]    |     C:\\Users\\Dell\\AppData\\Roaming\\nltk_data...\n",
      "[nltk_data]    |   Package genesis is already up-to-date!\n",
      "[nltk_data]    | Downloading package gutenberg to\n",
      "[nltk_data]    |     C:\\Users\\Dell\\AppData\\Roaming\\nltk_data...\n",
      "[nltk_data]    |   Package gutenberg is already up-to-date!\n",
      "[nltk_data]    | Downloading package inaugural to\n",
      "[nltk_data]    |     C:\\Users\\Dell\\AppData\\Roaming\\nltk_data...\n",
      "[nltk_data]    |   Package inaugural is already up-to-date!\n",
      "[nltk_data]    | Downloading package movie_reviews to\n",
      "[nltk_data]    |     C:\\Users\\Dell\\AppData\\Roaming\\nltk_data...\n"
     ]
    },
    {
     "name": "stderr",
     "output_type": "stream",
     "text": [
      "[nltk_data]    |   Package movie_reviews is already up-to-date!\n",
      "[nltk_data]    | Downloading package names to\n",
      "[nltk_data]    |     C:\\Users\\Dell\\AppData\\Roaming\\nltk_data...\n",
      "[nltk_data]    |   Package names is already up-to-date!\n",
      "[nltk_data]    | Downloading package shakespeare to\n",
      "[nltk_data]    |     C:\\Users\\Dell\\AppData\\Roaming\\nltk_data...\n",
      "[nltk_data]    |   Package shakespeare is already up-to-date!\n",
      "[nltk_data]    | Downloading package stopwords to\n",
      "[nltk_data]    |     C:\\Users\\Dell\\AppData\\Roaming\\nltk_data...\n",
      "[nltk_data]    |   Package stopwords is already up-to-date!\n",
      "[nltk_data]    | Downloading package treebank to\n",
      "[nltk_data]    |     C:\\Users\\Dell\\AppData\\Roaming\\nltk_data...\n",
      "[nltk_data]    |   Package treebank is already up-to-date!\n",
      "[nltk_data]    | Downloading package twitter_samples to\n",
      "[nltk_data]    |     C:\\Users\\Dell\\AppData\\Roaming\\nltk_data...\n",
      "[nltk_data]    |   Package twitter_samples is already up-to-date!\n",
      "[nltk_data]    | Downloading package omw to\n",
      "[nltk_data]    |     C:\\Users\\Dell\\AppData\\Roaming\\nltk_data...\n",
      "[nltk_data]    |   Package omw is already up-to-date!\n",
      "[nltk_data]    | Downloading package omw-1.4 to\n",
      "[nltk_data]    |     C:\\Users\\Dell\\AppData\\Roaming\\nltk_data...\n"
     ]
    },
    {
     "name": "stderr",
     "output_type": "stream",
     "text": [
      "[nltk_data]    |   Package omw-1.4 is already up-to-date!\n",
      "[nltk_data]    | Downloading package wordnet to\n",
      "[nltk_data]    |     C:\\Users\\Dell\\AppData\\Roaming\\nltk_data...\n",
      "[nltk_data]    |   Package wordnet is already up-to-date!\n",
      "[nltk_data]    | Downloading package wordnet2021 to\n",
      "[nltk_data]    |     C:\\Users\\Dell\\AppData\\Roaming\\nltk_data...\n",
      "[nltk_data]    |   Package wordnet2021 is already up-to-date!\n",
      "[nltk_data]    | Downloading package wordnet31 to\n",
      "[nltk_data]    |     C:\\Users\\Dell\\AppData\\Roaming\\nltk_data...\n",
      "[nltk_data]    |   Package wordnet31 is already up-to-date!\n",
      "[nltk_data]    | Downloading package wordnet_ic to\n",
      "[nltk_data]    |     C:\\Users\\Dell\\AppData\\Roaming\\nltk_data...\n",
      "[nltk_data]    |   Package wordnet_ic is already up-to-date!\n",
      "[nltk_data]    | Downloading package words to\n",
      "[nltk_data]    |     C:\\Users\\Dell\\AppData\\Roaming\\nltk_data...\n",
      "[nltk_data]    |   Package words is already up-to-date!\n",
      "[nltk_data]    | Downloading package maxent_ne_chunker to\n",
      "[nltk_data]    |     C:\\Users\\Dell\\AppData\\Roaming\\nltk_data...\n",
      "[nltk_data]    |   Package maxent_ne_chunker is already up-to-date!\n",
      "[nltk_data]    | Downloading package punkt to\n",
      "[nltk_data]    |     C:\\Users\\Dell\\AppData\\Roaming\\nltk_data...\n",
      "[nltk_data]    |   Package punkt is already up-to-date!\n",
      "[nltk_data]    | Downloading package snowball_data to\n",
      "[nltk_data]    |     C:\\Users\\Dell\\AppData\\Roaming\\nltk_data...\n",
      "[nltk_data]    |   Package snowball_data is already up-to-date!\n",
      "[nltk_data]    | Downloading package averaged_perceptron_tagger to\n",
      "[nltk_data]    |     C:\\Users\\Dell\\AppData\\Roaming\\nltk_data...\n"
     ]
    },
    {
     "name": "stderr",
     "output_type": "stream",
     "text": [
      "[nltk_data]    |   Package averaged_perceptron_tagger is already up-\n",
      "[nltk_data]    |       to-date!\n",
      "[nltk_data]    | \n",
      "[nltk_data]  Done downloading collection popular\n",
      "[nltk_data] Downloading package punkt to\n",
      "[nltk_data]     C:\\Users\\Dell\\AppData\\Roaming\\nltk_data...\n",
      "[nltk_data]   Package punkt is already up-to-date!\n",
      "[nltk_data] Downloading package wordnet to\n",
      "[nltk_data]     C:\\Users\\Dell\\AppData\\Roaming\\nltk_data...\n",
      "[nltk_data]   Package wordnet is already up-to-date!\n",
      "[nltk_data] Downloading package averaged_perceptron_tagger to\n",
      "[nltk_data]     C:\\Users\\Dell\\AppData\\Roaming\\nltk_data...\n",
      "[nltk_data]   Package averaged_perceptron_tagger is already up-to-\n",
      "[nltk_data]       date!\n"
     ]
    },
    {
     "data": {
      "text/plain": [
       "True"
      ]
     },
     "execution_count": 4,
     "metadata": {},
     "output_type": "execute_result"
    }
   ],
   "source": [
    "import pandas as pd\n",
    "import numpy as np\n",
    "import matplotlib.pyplot as plt\n",
    "import nltk\n",
    "\n",
    "\n",
    "import string\n",
    "\n",
    "\n",
    "# Download NLTK data\n",
    "nltk.download('stopwords')\n",
    "nltk.download('wordnet')\n",
    "nltk.download('popular')\n",
    "nltk.download('punkt')\n",
    "nltk.download('wordnet')\n",
    "nltk.download('averaged_perceptron_tagger')"
   ]
  },
  {
   "cell_type": "code",
   "execution_count": 5,
   "id": "12dceac1",
   "metadata": {
    "execution": {
     "iopub.execute_input": "2025-02-23T06:39:30.786585Z",
     "iopub.status.busy": "2025-02-23T06:39:30.786585Z",
     "iopub.status.idle": "2025-02-23T06:39:30.793475Z",
     "shell.execute_reply": "2025-02-23T06:39:30.793475Z"
    },
    "papermill": {
     "duration": 0.016955,
     "end_time": "2025-02-23T06:39:30.793475",
     "exception": false,
     "start_time": "2025-02-23T06:39:30.776520",
     "status": "completed"
    },
    "tags": []
   },
   "outputs": [
    {
     "name": "stdout",
     "output_type": "stream",
     "text": [
      "Received Review: very bad\n",
      "Received Rating: 5.0\n"
     ]
    }
   ],
   "source": [
    "input_review = globals().get('input_review', \"\")  # Default to empty string if not provided\n",
    "input_rating = globals().get('input_rating', 0.0)  # Default to 0.0 if not provided\n",
    "\n",
    "input_rating = float(input_rating)  \n",
    "input_review = str(input_review) \n",
    "\n",
    "# Make sure the inputs are properly received\n",
    "print(f\"Received Review: {input_review}\")\n",
    "print(f\"Received Rating: {input_rating}\")"
   ]
  },
  {
   "cell_type": "code",
   "execution_count": 6,
   "id": "ebf987f5",
   "metadata": {
    "execution": {
     "iopub.execute_input": "2025-02-23T06:39:30.809261Z",
     "iopub.status.busy": "2025-02-23T06:39:30.801209Z",
     "iopub.status.idle": "2025-02-23T06:39:30.812403Z",
     "shell.execute_reply": "2025-02-23T06:39:30.812403Z"
    },
    "papermill": {
     "duration": 0.011194,
     "end_time": "2025-02-23T06:39:30.812403",
     "exception": false,
     "start_time": "2025-02-23T06:39:30.801209",
     "status": "completed"
    },
    "tags": []
   },
   "outputs": [],
   "source": [
    "\n",
    "input_review = input_review.lower()\n"
   ]
  },
  {
   "cell_type": "code",
   "execution_count": 7,
   "id": "3a7851f0",
   "metadata": {
    "execution": {
     "iopub.execute_input": "2025-02-23T06:39:30.826945Z",
     "iopub.status.busy": "2025-02-23T06:39:30.826945Z",
     "iopub.status.idle": "2025-02-23T06:39:30.837172Z",
     "shell.execute_reply": "2025-02-23T06:39:30.837172Z"
    },
    "papermill": {
     "duration": 0.022899,
     "end_time": "2025-02-23T06:39:30.840594",
     "exception": false,
     "start_time": "2025-02-23T06:39:30.817695",
     "status": "completed"
    },
    "tags": []
   },
   "outputs": [],
   "source": [
    "# Remove special characters\n",
    "\n",
    "def remove_punctuation(text):\n",
    "    punctuations = string.punctuation\n",
    "    return text.translate(str.maketrans('','',punctuations))\n",
    "input_review = remove_punctuation(input_review)\n",
    "\n"
   ]
  },
  {
   "cell_type": "code",
   "execution_count": 8,
   "id": "a4d63aad",
   "metadata": {
    "execution": {
     "iopub.execute_input": "2025-02-23T06:39:30.866124Z",
     "iopub.status.busy": "2025-02-23T06:39:30.866124Z",
     "iopub.status.idle": "2025-02-23T06:39:30.877706Z",
     "shell.execute_reply": "2025-02-23T06:39:30.877706Z"
    },
    "papermill": {
     "duration": 0.022021,
     "end_time": "2025-02-23T06:39:30.877706",
     "exception": false,
     "start_time": "2025-02-23T06:39:30.855685",
     "status": "completed"
    },
    "tags": []
   },
   "outputs": [
    {
     "data": {
      "text/plain": [
       "\"a, about, above, after, again, against, ain, all, am, an, and, any, are, aren, aren't, as, at, be, because, been, before, being, below, between, both, but, by, can, couldn, couldn't, d, did, didn, didn't, do, does, doesn, doesn't, doing, don, don't, down, during, each, few, for, from, further, had, hadn, hadn't, has, hasn, hasn't, have, haven, haven't, having, he, he'd, he'll, her, here, hers, herself, he's, him, himself, his, how, i, i'd, if, i'll, i'm, in, into, is, isn, isn't, it, it'd, it'll, it's, its, itself, i've, just, ll, m, ma, me, mightn, mightn't, more, most, mustn, mustn't, my, myself, needn, needn't, no, nor, not, now, o, of, off, on, once, only, or, other, our, ours, ourselves, out, over, own, re, s, same, shan, shan't, she, she'd, she'll, she's, should, shouldn, shouldn't, should've, so, some, such, t, than, that, that'll, the, their, theirs, them, themselves, then, there, these, they, they'd, they'll, they're, they've, this, those, through, to, too, under, until, up, ve, very, was, wasn, wasn't, we, we'd, we'll, we're, were, weren, weren't, we've, what, when, where, which, while, who, whom, why, will, with, won, won't, wouldn, wouldn't, y, you, you'd, you'll, your, you're, yours, yourself, yourselves, you've\""
      ]
     },
     "execution_count": 8,
     "metadata": {},
     "output_type": "execute_result"
    }
   ],
   "source": [
    "from nltk.corpus import stopwords\n",
    "\", \".join(stopwords.words(\"english\"))\n"
   ]
  },
  {
   "cell_type": "code",
   "execution_count": 9,
   "id": "4102d54d",
   "metadata": {
    "execution": {
     "iopub.execute_input": "2025-02-23T06:39:30.895870Z",
     "iopub.status.busy": "2025-02-23T06:39:30.895870Z",
     "iopub.status.idle": "2025-02-23T06:39:30.904672Z",
     "shell.execute_reply": "2025-02-23T06:39:30.904672Z"
    },
    "papermill": {
     "duration": 0.020017,
     "end_time": "2025-02-23T06:39:30.907187",
     "exception": false,
     "start_time": "2025-02-23T06:39:30.887170",
     "status": "completed"
    },
    "tags": []
   },
   "outputs": [],
   "source": [
    "STOPWORDS = set(stopwords.words('english'))\n",
    "def remove_stopwords(text):\n",
    "  return \" \".join([word for word in text.split() if word not in STOPWORDS])"
   ]
  },
  {
   "cell_type": "code",
   "execution_count": 10,
   "id": "e7d438df",
   "metadata": {
    "execution": {
     "iopub.execute_input": "2025-02-23T06:39:30.923312Z",
     "iopub.status.busy": "2025-02-23T06:39:30.915231Z",
     "iopub.status.idle": "2025-02-23T06:39:30.927190Z",
     "shell.execute_reply": "2025-02-23T06:39:30.927190Z"
    },
    "papermill": {
     "duration": 0.016849,
     "end_time": "2025-02-23T06:39:30.927190",
     "exception": false,
     "start_time": "2025-02-23T06:39:30.910341",
     "status": "completed"
    },
    "tags": []
   },
   "outputs": [],
   "source": [
    "input_review = remove_stopwords(input_review)\n"
   ]
  },
  {
   "cell_type": "code",
   "execution_count": 11,
   "id": "c3c05f61",
   "metadata": {
    "execution": {
     "iopub.execute_input": "2025-02-23T06:39:30.947567Z",
     "iopub.status.busy": "2025-02-23T06:39:30.947567Z",
     "iopub.status.idle": "2025-02-23T06:39:30.955685Z",
     "shell.execute_reply": "2025-02-23T06:39:30.955685Z"
    },
    "papermill": {
     "duration": 0.022372,
     "end_time": "2025-02-23T06:39:30.955685",
     "exception": false,
     "start_time": "2025-02-23T06:39:30.933313",
     "status": "completed"
    },
    "tags": []
   },
   "outputs": [
    {
     "data": {
      "text/plain": [
       "[('b', 1), ('a', 1), ('d', 1)]"
      ]
     },
     "execution_count": 11,
     "metadata": {},
     "output_type": "execute_result"
    }
   ],
   "source": [
    "# Removing of Frequent Words\n",
    "\n",
    "from collections import Counter\n",
    "word_count = Counter()\n",
    "\n",
    "for text in input_review:\n",
    "  for word in text.split():\n",
    "    word_count[word] += 1\n",
    "\n",
    "word_count.most_common(10)"
   ]
  },
  {
   "cell_type": "code",
   "execution_count": 12,
   "id": "d76a083f",
   "metadata": {
    "execution": {
     "iopub.execute_input": "2025-02-23T06:39:30.979677Z",
     "iopub.status.busy": "2025-02-23T06:39:30.977311Z",
     "iopub.status.idle": "2025-02-23T06:39:30.983327Z",
     "shell.execute_reply": "2025-02-23T06:39:30.983327Z"
    },
    "papermill": {
     "duration": 0.021899,
     "end_time": "2025-02-23T06:39:30.985331",
     "exception": false,
     "start_time": "2025-02-23T06:39:30.963432",
     "status": "completed"
    },
    "tags": []
   },
   "outputs": [
    {
     "name": "stdout",
     "output_type": "stream",
     "text": [
      "{'a', 'b', 'd'}\n"
     ]
    }
   ],
   "source": [
    "RARE_WORDS = set(word for (word, wc) in word_count.most_common()[-10:])\n",
    "print(RARE_WORDS)"
   ]
  },
  {
   "cell_type": "code",
   "execution_count": 13,
   "id": "b1e483a7",
   "metadata": {
    "execution": {
     "iopub.execute_input": "2025-02-23T06:39:31.003642Z",
     "iopub.status.busy": "2025-02-23T06:39:30.995497Z",
     "iopub.status.idle": "2025-02-23T06:39:31.008160Z",
     "shell.execute_reply": "2025-02-23T06:39:31.008160Z"
    },
    "papermill": {
     "duration": 0.016456,
     "end_time": "2025-02-23T06:39:31.010235",
     "exception": false,
     "start_time": "2025-02-23T06:39:30.993779",
     "status": "completed"
    },
    "tags": []
   },
   "outputs": [],
   "source": [
    "import re\n",
    "def remove_special_char(text):\n",
    "    text = re.sub(r'[^a-zA-Z0-9]', ' ', text)\n",
    "    text = re.sub(r'\\s+', ' ', text).strip()\n",
    "    return text\n"
   ]
  },
  {
   "cell_type": "code",
   "execution_count": 14,
   "id": "332cda42",
   "metadata": {
    "execution": {
     "iopub.execute_input": "2025-02-23T06:39:31.020281Z",
     "iopub.status.busy": "2025-02-23T06:39:31.020281Z",
     "iopub.status.idle": "2025-02-23T06:39:31.029862Z",
     "shell.execute_reply": "2025-02-23T06:39:31.029862Z"
    },
    "papermill": {
     "duration": 0.017591,
     "end_time": "2025-02-23T06:39:31.029862",
     "exception": false,
     "start_time": "2025-02-23T06:39:31.012271",
     "status": "completed"
    },
    "tags": []
   },
   "outputs": [],
   "source": [
    "input_review= remove_special_char(input_review)"
   ]
  },
  {
   "cell_type": "code",
   "execution_count": 15,
   "id": "3f650d63",
   "metadata": {
    "execution": {
     "iopub.execute_input": "2025-02-23T06:39:31.043542Z",
     "iopub.status.busy": "2025-02-23T06:39:31.043542Z",
     "iopub.status.idle": "2025-02-23T06:39:31.048032Z",
     "shell.execute_reply": "2025-02-23T06:39:31.048032Z"
    },
    "papermill": {
     "duration": 0.01817,
     "end_time": "2025-02-23T06:39:31.048032",
     "exception": false,
     "start_time": "2025-02-23T06:39:31.029862",
     "status": "completed"
    },
    "tags": []
   },
   "outputs": [],
   "source": [
    "from nltk.stem.porter import PorterStemmer\n",
    "ps = PorterStemmer()\n",
    "def stem_words(text):\n",
    "  return \" \".join([ps.stem(word) for word in text.split()])"
   ]
  },
  {
   "cell_type": "code",
   "execution_count": 16,
   "id": "77387988",
   "metadata": {
    "execution": {
     "iopub.execute_input": "2025-02-23T06:39:31.077980Z",
     "iopub.status.busy": "2025-02-23T06:39:31.077122Z",
     "iopub.status.idle": "2025-02-23T06:39:31.087924Z",
     "shell.execute_reply": "2025-02-23T06:39:31.085916Z"
    },
    "papermill": {
     "duration": 0.030537,
     "end_time": "2025-02-23T06:39:31.091667",
     "exception": false,
     "start_time": "2025-02-23T06:39:31.061130",
     "status": "completed"
    },
    "tags": []
   },
   "outputs": [],
   "source": [
    "input_review = stem_words(input_review)\n"
   ]
  },
  {
   "cell_type": "code",
   "execution_count": 17,
   "id": "ac9ea52b",
   "metadata": {
    "execution": {
     "iopub.execute_input": "2025-02-23T06:39:31.133278Z",
     "iopub.status.busy": "2025-02-23T06:39:31.133278Z",
     "iopub.status.idle": "2025-02-23T06:39:36.397109Z",
     "shell.execute_reply": "2025-02-23T06:39:36.396106Z"
    },
    "papermill": {
     "duration": 5.281398,
     "end_time": "2025-02-23T06:39:36.398740",
     "exception": false,
     "start_time": "2025-02-23T06:39:31.117342",
     "status": "completed"
    },
    "tags": []
   },
   "outputs": [
    {
     "name": "stderr",
     "output_type": "stream",
     "text": [
      "[nltk_data] Downloading package wordnet to\n",
      "[nltk_data]     C:\\Users\\Dell\\AppData\\Roaming\\nltk_data...\n"
     ]
    },
    {
     "name": "stderr",
     "output_type": "stream",
     "text": [
      "[nltk_data] Downloading package averaged_perceptron_tagger to\n",
      "[nltk_data]     C:\\Users\\Dell\\AppData\\Roaming\\nltk_data...\n"
     ]
    },
    {
     "name": "stderr",
     "output_type": "stream",
     "text": [
      "[nltk_data]   Unzipping taggers\\averaged_perceptron_tagger.zip.\n"
     ]
    },
    {
     "data": {
      "text/plain": [
       "True"
      ]
     },
     "execution_count": 17,
     "metadata": {},
     "output_type": "execute_result"
    }
   ],
   "source": [
    "from nltk import download\n",
    "download('wordnet', force=True)\n",
    "download('averaged_perceptron_tagger', force=True)"
   ]
  },
  {
   "cell_type": "code",
   "execution_count": 18,
   "id": "3e413189",
   "metadata": {
    "execution": {
     "iopub.execute_input": "2025-02-23T06:39:36.418921Z",
     "iopub.status.busy": "2025-02-23T06:39:36.418921Z",
     "iopub.status.idle": "2025-02-23T06:39:36.735451Z",
     "shell.execute_reply": "2025-02-23T06:39:36.735451Z"
    },
    "papermill": {
     "duration": 0.336711,
     "end_time": "2025-02-23T06:39:36.735451",
     "exception": false,
     "start_time": "2025-02-23T06:39:36.398740",
     "status": "completed"
    },
    "tags": []
   },
   "outputs": [
    {
     "name": "stdout",
     "output_type": "stream",
     "text": [
      "[('NLTK', 'NNP'), ('is', 'VBZ'), ('a', 'DT'), ('powerful', 'JJ'), ('library', 'NN'), ('for', 'IN'), ('NLP', 'NNP'), ('.', '.')]\n"
     ]
    }
   ],
   "source": [
    "from nltk import pos_tag\n",
    "from nltk.tokenize import word_tokenize\n",
    "\n",
    "text = \"NLTK is a powerful library for NLP.\"\n",
    "tokens = word_tokenize(text)\n",
    "tagged_tokens = pos_tag(tokens)\n",
    "\n",
    "print(tagged_tokens)"
   ]
  },
  {
   "cell_type": "code",
   "execution_count": 19,
   "id": "02b22ac1",
   "metadata": {
    "execution": {
     "iopub.execute_input": "2025-02-23T06:39:36.749605Z",
     "iopub.status.busy": "2025-02-23T06:39:36.749605Z",
     "iopub.status.idle": "2025-02-23T06:39:42.141842Z",
     "shell.execute_reply": "2025-02-23T06:39:42.141842Z"
    },
    "papermill": {
     "duration": 5.415524,
     "end_time": "2025-02-23T06:39:42.150975",
     "exception": false,
     "start_time": "2025-02-23T06:39:36.735451",
     "status": "completed"
    },
    "tags": []
   },
   "outputs": [
    {
     "name": "stderr",
     "output_type": "stream",
     "text": [
      "[nltk_data] Downloading package punkt to\n",
      "[nltk_data]     C:\\Users\\Dell\\AppData\\Roaming\\nltk_data...\n",
      "[nltk_data]   Package punkt is already up-to-date!\n",
      "[nltk_data] Downloading package averaged_perceptron_tagger to\n",
      "[nltk_data]     C:\\Users\\Dell\\AppData\\Roaming\\nltk_data...\n",
      "[nltk_data]   Package averaged_perceptron_tagger is already up-to-\n",
      "[nltk_data]       date!\n",
      "[nltk_data] Downloading package wordnet to\n",
      "[nltk_data]     C:\\Users\\Dell\\AppData\\Roaming\\nltk_data...\n",
      "[nltk_data]   Package wordnet is already up-to-date!\n"
     ]
    }
   ],
   "source": [
    "from nltk import pos_tag\n",
    "from nltk.corpus import wordnet\n",
    "from nltk.stem import WordNetLemmatizer\n",
    "\n",
    "nltk.download('punkt')\n",
    "nltk.download('averaged_perceptron_tagger')\n",
    "nltk.download('wordnet')\n",
    "\n",
    "lemmatizer = WordNetLemmatizer()\n",
    "wordnet_map = {'N':wordnet.NOUN, 'V':wordnet.VERB, 'J':wordnet.ADJ, 'R':wordnet.ADV}\n",
    "\n",
    "def lemmatize_words(text):\n",
    "  pos_text = pos_tag(text.split())\n",
    "  return \" \".join([lemmatizer.lemmatize(word, wordnet_map.get(pos[0], wordnet.NOUN)) for word, pos in pos_text])\n",
    "\n",
    "\n"
   ]
  },
  {
   "cell_type": "code",
   "execution_count": 20,
   "id": "3e006a7a",
   "metadata": {
    "execution": {
     "iopub.execute_input": "2025-02-23T06:39:42.205790Z",
     "iopub.status.busy": "2025-02-23T06:39:42.205790Z",
     "iopub.status.idle": "2025-02-23T06:39:42.222192Z",
     "shell.execute_reply": "2025-02-23T06:39:42.220684Z"
    },
    "papermill": {
     "duration": 0.050921,
     "end_time": "2025-02-23T06:39:42.230367",
     "exception": false,
     "start_time": "2025-02-23T06:39:42.179446",
     "status": "completed"
    },
    "tags": []
   },
   "outputs": [],
   "source": [
    "input_review = lemmatize_words(input_review)"
   ]
  },
  {
   "cell_type": "code",
   "execution_count": 21,
   "id": "ea375fee",
   "metadata": {
    "execution": {
     "iopub.execute_input": "2025-02-23T06:39:42.282766Z",
     "iopub.status.busy": "2025-02-23T06:39:42.279271Z",
     "iopub.status.idle": "2025-02-23T06:39:51.041502Z",
     "shell.execute_reply": "2025-02-23T06:39:51.041502Z"
    },
    "papermill": {
     "duration": 8.809526,
     "end_time": "2025-02-23T06:39:51.056090",
     "exception": false,
     "start_time": "2025-02-23T06:39:42.246564",
     "status": "completed"
    },
    "tags": []
   },
   "outputs": [
    {
     "name": "stderr",
     "output_type": "stream",
     "text": [
      "C:\\Users\\Dell\\anaconda3\\Lib\\site-packages\\sklearn\\base.py:376: InconsistentVersionWarning: Trying to unpickle estimator TfidfTransformer from version 1.6.1 when using version 1.5.1. This might lead to breaking code or invalid results. Use at your own risk. For more info please refer to:\n",
      "https://scikit-learn.org/stable/model_persistence.html#security-maintainability-limitations\n",
      "  warnings.warn(\n"
     ]
    },
    {
     "name": "stderr",
     "output_type": "stream",
     "text": [
      "C:\\Users\\Dell\\anaconda3\\Lib\\site-packages\\sklearn\\base.py:376: InconsistentVersionWarning: Trying to unpickle estimator TfidfVectorizer from version 1.6.1 when using version 1.5.1. This might lead to breaking code or invalid results. Use at your own risk. For more info please refer to:\n",
      "https://scikit-learn.org/stable/model_persistence.html#security-maintainability-limitations\n",
      "  warnings.warn(\n"
     ]
    },
    {
     "name": "stderr",
     "output_type": "stream",
     "text": [
      "C:\\Users\\Dell\\anaconda3\\Lib\\site-packages\\sklearn\\base.py:376: InconsistentVersionWarning: Trying to unpickle estimator StandardScaler from version 1.6.1 when using version 1.5.1. This might lead to breaking code or invalid results. Use at your own risk. For more info please refer to:\n",
      "https://scikit-learn.org/stable/model_persistence.html#security-maintainability-limitations\n",
      "  warnings.warn(\n"
     ]
    },
    {
     "name": "stderr",
     "output_type": "stream",
     "text": [
      "C:\\Users\\Dell\\anaconda3\\Lib\\site-packages\\sklearn\\base.py:376: InconsistentVersionWarning: Trying to unpickle estimator DecisionTreeClassifier from version 1.6.1 when using version 1.5.1. This might lead to breaking code or invalid results. Use at your own risk. For more info please refer to:\n",
      "https://scikit-learn.org/stable/model_persistence.html#security-maintainability-limitations\n",
      "  warnings.warn(\n"
     ]
    },
    {
     "name": "stderr",
     "output_type": "stream",
     "text": [
      "C:\\Users\\Dell\\anaconda3\\Lib\\site-packages\\sklearn\\base.py:376: InconsistentVersionWarning: Trying to unpickle estimator RandomForestClassifier from version 1.6.1 when using version 1.5.1. This might lead to breaking code or invalid results. Use at your own risk. For more info please refer to:\n",
      "https://scikit-learn.org/stable/model_persistence.html#security-maintainability-limitations\n",
      "  warnings.warn(\n"
     ]
    }
   ],
   "source": [
    "import joblib\n",
    "\n",
    "tfidf_vectorizer = joblib.load('tfidf_vectorizer.pkl')\n",
    "\n",
    "svm_model = joblib.load('svm_model.pkl')\n",
    "\n",
    "rf_model = joblib.load('rf_model.pkl')\n",
    "\n",
    "lr_model = joblib.load('lr_model.pkl')"
   ]
  },
  {
   "cell_type": "code",
   "execution_count": 22,
   "id": "2b64eb60",
   "metadata": {
    "execution": {
     "iopub.execute_input": "2025-02-23T06:39:51.116421Z",
     "iopub.status.busy": "2025-02-23T06:39:51.113923Z",
     "iopub.status.idle": "2025-02-23T06:39:51.124324Z",
     "shell.execute_reply": "2025-02-23T06:39:51.124324Z"
    },
    "papermill": {
     "duration": 0.047338,
     "end_time": "2025-02-23T06:39:51.132338",
     "exception": false,
     "start_time": "2025-02-23T06:39:51.085000",
     "status": "completed"
    },
    "tags": []
   },
   "outputs": [],
   "source": [
    "from scipy.sparse import hstack\n"
   ]
  },
  {
   "cell_type": "code",
   "execution_count": 23,
   "id": "88bd2147",
   "metadata": {
    "execution": {
     "iopub.execute_input": "2025-02-23T06:39:51.188604Z",
     "iopub.status.busy": "2025-02-23T06:39:51.182286Z",
     "iopub.status.idle": "2025-02-23T06:39:54.818312Z",
     "shell.execute_reply": "2025-02-23T06:39:54.816308Z"
    },
    "papermill": {
     "duration": 3.665328,
     "end_time": "2025-02-23T06:39:54.820746",
     "exception": false,
     "start_time": "2025-02-23T06:39:51.155418",
     "status": "completed"
    },
    "tags": []
   },
   "outputs": [
    {
     "name": "stdout",
     "output_type": "stream",
     "text": [
      "Review: very bad\n",
      "Rating: 5.0\n",
      "SVM Prediction: Fake\n",
      "Random Forest Prediction: Real\n",
      "Logistic Regression Prediction: Real\n"
     ]
    }
   ],
   "source": [
    "from scipy.sparse import hstack, csr_matrix\n",
    "import numpy as np\n",
    "\n",
    "\n",
    "X_lemmatized_tfidf = tfidf_vectorizer.transform([input_review])\n",
    "\n",
    "# Reshape input_rating to be a 1x1 sparse matrix\n",
    "input_rating_sparse = csr_matrix(np.reshape(input_rating, (1, 1))) \n",
    "\n",
    "# Now stack the features\n",
    "final_features = hstack([input_rating_sparse, X_lemmatized_tfidf])\n",
    "\n",
    "final_text = final_features.toarray()\n",
    "\n",
    "\n",
    "# Predictions from all models\n",
    "\n",
    "svm_prediction = svm_model.predict(final_text)\n",
    "rf_prediction = rf_model.predict(final_text)\n",
    "lr_prediction = lr_model.predict(final_text)\n",
    "\n",
    "\n",
    "labels = {0: \"Fake\", 1: \"Real\"}\n",
    "print(f\"Review: {input_review_copy}\")\n",
    "print(f\"Rating: {input_rating}\")\n",
    "print(f\"SVM Prediction: {labels[svm_prediction[0]]}\")\n",
    "print(f\"Random Forest Prediction: {labels[rf_prediction[0]]}\")\n",
    "print(f\"Logistic Regression Prediction: {labels[lr_prediction[0]]}\")"
   ]
  }
 ],
 "metadata": {
  "kernelspec": {
   "display_name": "base",
   "language": "python",
   "name": "python3"
  },
  "language_info": {
   "codemirror_mode": {
    "name": "ipython",
    "version": 3
   },
   "file_extension": ".py",
   "mimetype": "text/x-python",
   "name": "python",
   "nbconvert_exporter": "python",
   "pygments_lexer": "ipython3",
   "version": "3.12.7"
  },
  "papermill": {
   "default_parameters": {},
   "duration": 42.129038,
   "end_time": "2025-02-23T06:39:57.889881",
   "environment_variables": {},
   "exception": null,
   "input_path": "text_processing.ipynb",
   "output_path": "text_processing_OUTPUT.ipynb",
   "parameters": {
    "input_rating": 5,
    "input_review": "very bad"
   },
   "start_time": "2025-02-23T06:39:15.760843",
   "version": "2.6.0"
  }
 },
 "nbformat": 4,
 "nbformat_minor": 5
}