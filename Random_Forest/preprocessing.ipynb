{
  "cells": [
    {
      "cell_type": "code",
      "execution_count": 1,
      "metadata": {
        "id": "LM28afM0g_8r"
      },
      "outputs": [],
      "source": [
        "import pandas as pd\n",
        "import numpy as np\n",
        "import matplotlib.pyplot as plt\n",
        "import string"
      ]
    },
    {
      "cell_type": "markdown",
      "metadata": {
        "id": "Eezi3IO194w2"
      },
      "source": [
        "Mounting google drive and making sure that our class implementation is added to the python intrepreter path"
      ]
    },
    {
      "cell_type": "code",
      "execution_count": 2,
      "metadata": {
        "colab": {
          "base_uri": "https://localhost:8080/"
        },
        "id": "_2WRYYw1hjCZ",
        "outputId": "d567e726-3253-4e0e-962e-f980a3004065"
      },
      "outputs": [],
      "source": [
        "# from google.colab import drive\n",
        "# drive.mount('/content/drive')\n",
        "\n",
        "# import sys\n",
        "# # import os\n",
        "\n",
        "# # Get the current working directory\n",
        "# # current_directory = os.getcwd()\n",
        "\n",
        "# # Add the current directory to Python's search path\n",
        "# sys.path.append(\"/content/drive/MyDrive/Colab Notebooks\")"
      ]
    },
    {
      "cell_type": "code",
      "execution_count": 3,
      "metadata": {
        "id": "8E1sOzFKhknk"
      },
      "outputs": [],
      "source": [
        "df = pd.read_csv(\"E:/Minor_Project/fake reviews dataset.csv\")\n",
        "df = df.sample(frac=0.2, random_state=42)"
      ]
    },
    {
      "cell_type": "code",
      "execution_count": 4,
      "metadata": {
        "colab": {
          "base_uri": "https://localhost:8080/",
          "height": 258
        },
        "id": "DcmQ8RaRiMjE",
        "outputId": "25449d4c-8987-43f4-9b5f-c0bc2f5b274b"
      },
      "outputs": [
        {
          "data": {
            "text/html": [
              "<div>\n",
              "<style scoped>\n",
              "    .dataframe tbody tr th:only-of-type {\n",
              "        vertical-align: middle;\n",
              "    }\n",
              "\n",
              "    .dataframe tbody tr th {\n",
              "        vertical-align: top;\n",
              "    }\n",
              "\n",
              "    .dataframe thead th {\n",
              "        text-align: right;\n",
              "    }\n",
              "</style>\n",
              "<table border=\"1\" class=\"dataframe\">\n",
              "  <thead>\n",
              "    <tr style=\"text-align: right;\">\n",
              "      <th></th>\n",
              "      <th>category</th>\n",
              "      <th>rating</th>\n",
              "      <th>label</th>\n",
              "      <th>text_</th>\n",
              "    </tr>\n",
              "  </thead>\n",
              "  <tbody>\n",
              "    <tr>\n",
              "      <th>27957</th>\n",
              "      <td>Kindle_Store_5</td>\n",
              "      <td>3.0</td>\n",
              "      <td>CG</td>\n",
              "      <td>Eva is on her to find a way to escape her abus...</td>\n",
              "    </tr>\n",
              "    <tr>\n",
              "      <th>39755</th>\n",
              "      <td>Clothing_Shoes_and_Jewelry_5</td>\n",
              "      <td>5.0</td>\n",
              "      <td>CG</td>\n",
              "      <td>This is my second Glamorise and I love the loo...</td>\n",
              "    </tr>\n",
              "    <tr>\n",
              "      <th>24983</th>\n",
              "      <td>Kindle_Store_5</td>\n",
              "      <td>4.0</td>\n",
              "      <td>OR</td>\n",
              "      <td>I absolutely love this series. The Ravens are ...</td>\n",
              "    </tr>\n",
              "    <tr>\n",
              "      <th>13985</th>\n",
              "      <td>Movies_and_TV_5</td>\n",
              "      <td>5.0</td>\n",
              "      <td>CG</td>\n",
              "      <td>Probably best movie Rutger Howerton has made. ...</td>\n",
              "    </tr>\n",
              "    <tr>\n",
              "      <th>39275</th>\n",
              "      <td>Clothing_Shoes_and_Jewelry_5</td>\n",
              "      <td>5.0</td>\n",
              "      <td>OR</td>\n",
              "      <td>Unfortunately the black didn't work for a lot ...</td>\n",
              "    </tr>\n",
              "  </tbody>\n",
              "</table>\n",
              "</div>"
            ],
            "text/plain": [
              "                           category  rating label  \\\n",
              "27957                Kindle_Store_5     3.0    CG   \n",
              "39755  Clothing_Shoes_and_Jewelry_5     5.0    CG   \n",
              "24983                Kindle_Store_5     4.0    OR   \n",
              "13985               Movies_and_TV_5     5.0    CG   \n",
              "39275  Clothing_Shoes_and_Jewelry_5     5.0    OR   \n",
              "\n",
              "                                                   text_  \n",
              "27957  Eva is on her to find a way to escape her abus...  \n",
              "39755  This is my second Glamorise and I love the loo...  \n",
              "24983  I absolutely love this series. The Ravens are ...  \n",
              "13985  Probably best movie Rutger Howerton has made. ...  \n",
              "39275  Unfortunately the black didn't work for a lot ...  "
            ]
          },
          "execution_count": 4,
          "metadata": {},
          "output_type": "execute_result"
        }
      ],
      "source": [
        "df.head()"
      ]
    },
    {
      "cell_type": "code",
      "execution_count": 5,
      "metadata": {
        "colab": {
          "base_uri": "https://localhost:8080/"
        },
        "id": "oCGPx1Qqj8wb",
        "outputId": "78a471f8-391f-433f-fcc2-cf827ef7cf8d"
      },
      "outputs": [
        {
          "name": "stdout",
          "output_type": "stream",
          "text": [
            "['Kindle_Store_5' 'Clothing_Shoes_and_Jewelry_5' 'Movies_and_TV_5'\n",
            " 'Sports_and_Outdoors_5' 'Tools_and_Home_Improvement_5' 'Books_5'\n",
            " 'Toys_and_Games_5' 'Pet_Supplies_5' 'Home_and_Kitchen_5' 'Electronics_5']\n"
          ]
        }
      ],
      "source": [
        "print(df['category'].unique())"
      ]
    },
    {
      "cell_type": "code",
      "execution_count": 6,
      "metadata": {
        "colab": {
          "base_uri": "https://localhost:8080/"
        },
        "id": "AVsW1mLmkz3X",
        "outputId": "48fe29b9-1b98-477b-9fcc-8a89c9e1dd99"
      },
      "outputs": [
        {
          "name": "stdout",
          "output_type": "stream",
          "text": [
            "<class 'pandas.core.frame.DataFrame'>\n",
            "Index: 8086 entries, 27957 to 33988\n",
            "Data columns (total 4 columns):\n",
            " #   Column    Non-Null Count  Dtype  \n",
            "---  ------    --------------  -----  \n",
            " 0   category  8086 non-null   object \n",
            " 1   rating    8086 non-null   float64\n",
            " 2   label     8086 non-null   object \n",
            " 3   text_     8086 non-null   object \n",
            "dtypes: float64(1), object(3)\n",
            "memory usage: 315.9+ KB\n"
          ]
        }
      ],
      "source": [
        "df.info()"
      ]
    },
    {
      "cell_type": "code",
      "execution_count": 7,
      "metadata": {
        "colab": {
          "base_uri": "https://localhost:8080/",
          "height": 209
        },
        "id": "3D1bYFj9nG4X",
        "outputId": "2b6bd4e5-83e8-4355-e6f6-067904770795"
      },
      "outputs": [
        {
          "data": {
            "text/plain": [
              "category    0\n",
              "rating      0\n",
              "label       0\n",
              "text_       0\n",
              "dtype: int64"
            ]
          },
          "execution_count": 7,
          "metadata": {},
          "output_type": "execute_result"
        }
      ],
      "source": [
        "df.isnull().sum()"
      ]
    },
    {
      "cell_type": "code",
      "execution_count": 8,
      "metadata": {
        "colab": {
          "base_uri": "https://localhost:8080/",
          "height": 272
        },
        "id": "YkeZlgHaoeeD",
        "outputId": "5e33b68f-3feb-4b66-b63a-1fbb62501580"
      },
      "outputs": [
        {
          "data": {
            "text/plain": [
              "rating\n",
              "5.0    4900\n",
              "4.0    1614\n",
              "3.0     788\n",
              "1.0     415\n",
              "2.0     369\n",
              "Name: count, dtype: int64"
            ]
          },
          "execution_count": 8,
          "metadata": {},
          "output_type": "execute_result"
        }
      ],
      "source": [
        "df['rating'].value_counts()"
      ]
    },
    {
      "cell_type": "code",
      "execution_count": 9,
      "metadata": {
        "colab": {
          "base_uri": "https://localhost:8080/"
        },
        "id": "UVrwKaTVoi-d",
        "outputId": "6e675b9f-c8e1-46e9-e44e-8a0fe319b339"
      },
      "outputs": [
        {
          "name": "stdout",
          "output_type": "stream",
          "text": [
            "Index([5.0, 4.0, 3.0, 1.0, 2.0], dtype='float64', name='rating')\n",
            "[4900 1614  788  415  369]\n"
          ]
        }
      ],
      "source": [
        "labels = df['rating'].value_counts().keys()\n",
        "values = df['rating'].value_counts().values\n",
        "# plt.pie(values ,labels=labels, explode=(0.1,0,0,0,0), shadow=True,autopct='%1.1f%%')\n",
        "# plt.show()\n",
        "print(labels)\n",
        "print(values)"
      ]
    },
    {
      "cell_type": "code",
      "execution_count": 10,
      "metadata": {
        "colab": {
          "base_uri": "https://localhost:8080/",
          "height": 379
        },
        "id": "WN14ona4qvE9",
        "outputId": "d1a93c44-722c-480a-b685-57133a1f22ea"
      },
      "outputs": [
        {
          "data": {
            "text/html": [
              "<div>\n",
              "<style scoped>\n",
              "    .dataframe tbody tr th:only-of-type {\n",
              "        vertical-align: middle;\n",
              "    }\n",
              "\n",
              "    .dataframe tbody tr th {\n",
              "        vertical-align: top;\n",
              "    }\n",
              "\n",
              "    .dataframe thead th {\n",
              "        text-align: right;\n",
              "    }\n",
              "</style>\n",
              "<table border=\"1\" class=\"dataframe\">\n",
              "  <thead>\n",
              "    <tr style=\"text-align: right;\">\n",
              "      <th></th>\n",
              "      <th>category</th>\n",
              "      <th>rating</th>\n",
              "      <th>label</th>\n",
              "      <th>text_</th>\n",
              "      <th>new_text</th>\n",
              "    </tr>\n",
              "  </thead>\n",
              "  <tbody>\n",
              "    <tr>\n",
              "      <th>27957</th>\n",
              "      <td>Kindle_Store_5</td>\n",
              "      <td>3.0</td>\n",
              "      <td>CG</td>\n",
              "      <td>Eva is on her to find a way to escape her abus...</td>\n",
              "      <td>eva is on her to find a way to escape her abus...</td>\n",
              "    </tr>\n",
              "    <tr>\n",
              "      <th>39755</th>\n",
              "      <td>Clothing_Shoes_and_Jewelry_5</td>\n",
              "      <td>5.0</td>\n",
              "      <td>CG</td>\n",
              "      <td>This is my second Glamorise and I love the loo...</td>\n",
              "      <td>this is my second glamorise and i love the loo...</td>\n",
              "    </tr>\n",
              "    <tr>\n",
              "      <th>24983</th>\n",
              "      <td>Kindle_Store_5</td>\n",
              "      <td>4.0</td>\n",
              "      <td>OR</td>\n",
              "      <td>I absolutely love this series. The Ravens are ...</td>\n",
              "      <td>i absolutely love this series. the ravens are ...</td>\n",
              "    </tr>\n",
              "    <tr>\n",
              "      <th>13985</th>\n",
              "      <td>Movies_and_TV_5</td>\n",
              "      <td>5.0</td>\n",
              "      <td>CG</td>\n",
              "      <td>Probably best movie Rutger Howerton has made. ...</td>\n",
              "      <td>probably best movie rutger howerton has made. ...</td>\n",
              "    </tr>\n",
              "    <tr>\n",
              "      <th>39275</th>\n",
              "      <td>Clothing_Shoes_and_Jewelry_5</td>\n",
              "      <td>5.0</td>\n",
              "      <td>OR</td>\n",
              "      <td>Unfortunately the black didn't work for a lot ...</td>\n",
              "      <td>unfortunately the black didn't work for a lot ...</td>\n",
              "    </tr>\n",
              "  </tbody>\n",
              "</table>\n",
              "</div>"
            ],
            "text/plain": [
              "                           category  rating label  \\\n",
              "27957                Kindle_Store_5     3.0    CG   \n",
              "39755  Clothing_Shoes_and_Jewelry_5     5.0    CG   \n",
              "24983                Kindle_Store_5     4.0    OR   \n",
              "13985               Movies_and_TV_5     5.0    CG   \n",
              "39275  Clothing_Shoes_and_Jewelry_5     5.0    OR   \n",
              "\n",
              "                                                   text_  \\\n",
              "27957  Eva is on her to find a way to escape her abus...   \n",
              "39755  This is my second Glamorise and I love the loo...   \n",
              "24983  I absolutely love this series. The Ravens are ...   \n",
              "13985  Probably best movie Rutger Howerton has made. ...   \n",
              "39275  Unfortunately the black didn't work for a lot ...   \n",
              "\n",
              "                                                new_text  \n",
              "27957  eva is on her to find a way to escape her abus...  \n",
              "39755  this is my second glamorise and i love the loo...  \n",
              "24983  i absolutely love this series. the ravens are ...  \n",
              "13985  probably best movie rutger howerton has made. ...  \n",
              "39275  unfortunately the black didn't work for a lot ...  "
            ]
          },
          "execution_count": 10,
          "metadata": {},
          "output_type": "execute_result"
        }
      ],
      "source": [
        "# Converting into LOWER_CASE\n",
        "df['new_text'] = df['text_'].str.lower()\n",
        "df.head()"
      ]
    },
    {
      "cell_type": "code",
      "execution_count": 11,
      "metadata": {
        "colab": {
          "base_uri": "https://localhost:8080/",
          "height": 35
        },
        "id": "KBQYQj9BVKu2",
        "outputId": "c360e005-b858-4caf-ae81-3db7ba7f64cc"
      },
      "outputs": [
        {
          "data": {
            "text/plain": [
              "'!\"#$%&\\'()*+,-./:;<=>?@[\\\\]^_`{|}~'"
            ]
          },
          "execution_count": 11,
          "metadata": {},
          "output_type": "execute_result"
        }
      ],
      "source": [
        "# Remove Puncutation\n",
        "\n",
        "string.punctuation"
      ]
    },
    {
      "cell_type": "code",
      "execution_count": 12,
      "metadata": {
        "id": "HJ0QaQcVWhEV"
      },
      "outputs": [],
      "source": [
        "def remove_punctuation(text):\n",
        "  punctuations = string.punctuation\n",
        "  return text.translate(str.maketrans('','',punctuations))\n",
        "  # The first two arguments ('' and '') are empty strings, meaning there's nothing to replace and nothing to replace with."
      ]
    },
    {
      "cell_type": "code",
      "execution_count": 13,
      "metadata": {
        "id": "SN4pApmFXKq_"
      },
      "outputs": [],
      "source": [
        "df['new_text'] = df['new_text'].apply(lambda X: remove_punctuation(X))"
      ]
    },
    {
      "cell_type": "code",
      "execution_count": 14,
      "metadata": {
        "colab": {
          "base_uri": "https://localhost:8080/",
          "height": 379
        },
        "id": "kiFJSSDDYSXL",
        "outputId": "c5d6e649-bc85-49b2-b7fe-43c79ef1ad4f"
      },
      "outputs": [
        {
          "data": {
            "text/html": [
              "<div>\n",
              "<style scoped>\n",
              "    .dataframe tbody tr th:only-of-type {\n",
              "        vertical-align: middle;\n",
              "    }\n",
              "\n",
              "    .dataframe tbody tr th {\n",
              "        vertical-align: top;\n",
              "    }\n",
              "\n",
              "    .dataframe thead th {\n",
              "        text-align: right;\n",
              "    }\n",
              "</style>\n",
              "<table border=\"1\" class=\"dataframe\">\n",
              "  <thead>\n",
              "    <tr style=\"text-align: right;\">\n",
              "      <th></th>\n",
              "      <th>category</th>\n",
              "      <th>rating</th>\n",
              "      <th>label</th>\n",
              "      <th>text_</th>\n",
              "      <th>new_text</th>\n",
              "    </tr>\n",
              "  </thead>\n",
              "  <tbody>\n",
              "    <tr>\n",
              "      <th>27957</th>\n",
              "      <td>Kindle_Store_5</td>\n",
              "      <td>3.0</td>\n",
              "      <td>CG</td>\n",
              "      <td>Eva is on her to find a way to escape her abus...</td>\n",
              "      <td>eva is on her to find a way to escape her abus...</td>\n",
              "    </tr>\n",
              "    <tr>\n",
              "      <th>39755</th>\n",
              "      <td>Clothing_Shoes_and_Jewelry_5</td>\n",
              "      <td>5.0</td>\n",
              "      <td>CG</td>\n",
              "      <td>This is my second Glamorise and I love the loo...</td>\n",
              "      <td>this is my second glamorise and i love the loo...</td>\n",
              "    </tr>\n",
              "    <tr>\n",
              "      <th>24983</th>\n",
              "      <td>Kindle_Store_5</td>\n",
              "      <td>4.0</td>\n",
              "      <td>OR</td>\n",
              "      <td>I absolutely love this series. The Ravens are ...</td>\n",
              "      <td>i absolutely love this series the ravens are t...</td>\n",
              "    </tr>\n",
              "    <tr>\n",
              "      <th>13985</th>\n",
              "      <td>Movies_and_TV_5</td>\n",
              "      <td>5.0</td>\n",
              "      <td>CG</td>\n",
              "      <td>Probably best movie Rutger Howerton has made. ...</td>\n",
              "      <td>probably best movie rutger howerton has made n...</td>\n",
              "    </tr>\n",
              "    <tr>\n",
              "      <th>39275</th>\n",
              "      <td>Clothing_Shoes_and_Jewelry_5</td>\n",
              "      <td>5.0</td>\n",
              "      <td>OR</td>\n",
              "      <td>Unfortunately the black didn't work for a lot ...</td>\n",
              "      <td>unfortunately the black didnt work for a lot o...</td>\n",
              "    </tr>\n",
              "  </tbody>\n",
              "</table>\n",
              "</div>"
            ],
            "text/plain": [
              "                           category  rating label  \\\n",
              "27957                Kindle_Store_5     3.0    CG   \n",
              "39755  Clothing_Shoes_and_Jewelry_5     5.0    CG   \n",
              "24983                Kindle_Store_5     4.0    OR   \n",
              "13985               Movies_and_TV_5     5.0    CG   \n",
              "39275  Clothing_Shoes_and_Jewelry_5     5.0    OR   \n",
              "\n",
              "                                                   text_  \\\n",
              "27957  Eva is on her to find a way to escape her abus...   \n",
              "39755  This is my second Glamorise and I love the loo...   \n",
              "24983  I absolutely love this series. The Ravens are ...   \n",
              "13985  Probably best movie Rutger Howerton has made. ...   \n",
              "39275  Unfortunately the black didn't work for a lot ...   \n",
              "\n",
              "                                                new_text  \n",
              "27957  eva is on her to find a way to escape her abus...  \n",
              "39755  this is my second glamorise and i love the loo...  \n",
              "24983  i absolutely love this series the ravens are t...  \n",
              "13985  probably best movie rutger howerton has made n...  \n",
              "39275  unfortunately the black didnt work for a lot o...  "
            ]
          },
          "execution_count": 14,
          "metadata": {},
          "output_type": "execute_result"
        }
      ],
      "source": [
        "df.head()"
      ]
    },
    {
      "cell_type": "code",
      "execution_count": 15,
      "metadata": {
        "colab": {
          "base_uri": "https://localhost:8080/"
        },
        "id": "x0aotyUAdu-A",
        "outputId": "3495615b-8450-41e4-c119-f8a3c6ba962c"
      },
      "outputs": [
        {
          "name": "stderr",
          "output_type": "stream",
          "text": [
            "[nltk_data] Downloading collection 'popular'\n",
            "[nltk_data]    | \n",
            "[nltk_data]    | Downloading package cmudict to\n",
            "[nltk_data]    |     C:\\Users\\Dell\\AppData\\Roaming\\nltk_data...\n",
            "[nltk_data]    |   Package cmudict is already up-to-date!\n",
            "[nltk_data]    | Downloading package gazetteers to\n",
            "[nltk_data]    |     C:\\Users\\Dell\\AppData\\Roaming\\nltk_data...\n",
            "[nltk_data]    |   Package gazetteers is already up-to-date!\n",
            "[nltk_data]    | Downloading package genesis to\n",
            "[nltk_data]    |     C:\\Users\\Dell\\AppData\\Roaming\\nltk_data...\n",
            "[nltk_data]    |   Package genesis is already up-to-date!\n",
            "[nltk_data]    | Downloading package gutenberg to\n",
            "[nltk_data]    |     C:\\Users\\Dell\\AppData\\Roaming\\nltk_data...\n",
            "[nltk_data]    |   Package gutenberg is already up-to-date!\n",
            "[nltk_data]    | Downloading package inaugural to\n",
            "[nltk_data]    |     C:\\Users\\Dell\\AppData\\Roaming\\nltk_data...\n",
            "[nltk_data]    |   Package inaugural is already up-to-date!\n",
            "[nltk_data]    | Downloading package movie_reviews to\n",
            "[nltk_data]    |     C:\\Users\\Dell\\AppData\\Roaming\\nltk_data...\n",
            "[nltk_data]    |   Package movie_reviews is already up-to-date!\n",
            "[nltk_data]    | Downloading package names to\n",
            "[nltk_data]    |     C:\\Users\\Dell\\AppData\\Roaming\\nltk_data...\n",
            "[nltk_data]    |   Package names is already up-to-date!\n",
            "[nltk_data]    | Downloading package shakespeare to\n",
            "[nltk_data]    |     C:\\Users\\Dell\\AppData\\Roaming\\nltk_data...\n",
            "[nltk_data]    |   Package shakespeare is already up-to-date!\n",
            "[nltk_data]    | Downloading package stopwords to\n",
            "[nltk_data]    |     C:\\Users\\Dell\\AppData\\Roaming\\nltk_data...\n",
            "[nltk_data]    |   Package stopwords is already up-to-date!\n",
            "[nltk_data]    | Downloading package treebank to\n",
            "[nltk_data]    |     C:\\Users\\Dell\\AppData\\Roaming\\nltk_data...\n",
            "[nltk_data]    |   Package treebank is already up-to-date!\n",
            "[nltk_data]    | Downloading package twitter_samples to\n",
            "[nltk_data]    |     C:\\Users\\Dell\\AppData\\Roaming\\nltk_data...\n",
            "[nltk_data]    |   Package twitter_samples is already up-to-date!\n",
            "[nltk_data]    | Downloading package omw to\n",
            "[nltk_data]    |     C:\\Users\\Dell\\AppData\\Roaming\\nltk_data...\n",
            "[nltk_data]    |   Package omw is already up-to-date!\n",
            "[nltk_data]    | Downloading package omw-1.4 to\n",
            "[nltk_data]    |     C:\\Users\\Dell\\AppData\\Roaming\\nltk_data...\n",
            "[nltk_data]    |   Package omw-1.4 is already up-to-date!\n",
            "[nltk_data]    | Downloading package wordnet to\n",
            "[nltk_data]    |     C:\\Users\\Dell\\AppData\\Roaming\\nltk_data...\n",
            "[nltk_data]    |   Package wordnet is already up-to-date!\n",
            "[nltk_data]    | Downloading package wordnet2021 to\n",
            "[nltk_data]    |     C:\\Users\\Dell\\AppData\\Roaming\\nltk_data...\n",
            "[nltk_data]    |   Package wordnet2021 is already up-to-date!\n",
            "[nltk_data]    | Downloading package wordnet31 to\n",
            "[nltk_data]    |     C:\\Users\\Dell\\AppData\\Roaming\\nltk_data...\n",
            "[nltk_data]    |   Package wordnet31 is already up-to-date!\n",
            "[nltk_data]    | Downloading package wordnet_ic to\n",
            "[nltk_data]    |     C:\\Users\\Dell\\AppData\\Roaming\\nltk_data...\n",
            "[nltk_data]    |   Package wordnet_ic is already up-to-date!\n",
            "[nltk_data]    | Downloading package words to\n",
            "[nltk_data]    |     C:\\Users\\Dell\\AppData\\Roaming\\nltk_data...\n",
            "[nltk_data]    |   Package words is already up-to-date!\n",
            "[nltk_data]    | Downloading package maxent_ne_chunker to\n",
            "[nltk_data]    |     C:\\Users\\Dell\\AppData\\Roaming\\nltk_data...\n",
            "[nltk_data]    |   Package maxent_ne_chunker is already up-to-date!\n",
            "[nltk_data]    | Downloading package punkt to\n",
            "[nltk_data]    |     C:\\Users\\Dell\\AppData\\Roaming\\nltk_data...\n",
            "[nltk_data]    |   Package punkt is already up-to-date!\n",
            "[nltk_data]    | Downloading package snowball_data to\n",
            "[nltk_data]    |     C:\\Users\\Dell\\AppData\\Roaming\\nltk_data...\n",
            "[nltk_data]    |   Package snowball_data is already up-to-date!\n",
            "[nltk_data]    | Downloading package averaged_perceptron_tagger to\n",
            "[nltk_data]    |     C:\\Users\\Dell\\AppData\\Roaming\\nltk_data...\n",
            "[nltk_data]    |   Package averaged_perceptron_tagger is already up-\n",
            "[nltk_data]    |       to-date!\n",
            "[nltk_data]    | \n",
            "[nltk_data]  Done downloading collection popular\n"
          ]
        },
        {
          "data": {
            "text/plain": [
              "True"
            ]
          },
          "execution_count": 15,
          "metadata": {},
          "output_type": "execute_result"
        }
      ],
      "source": [
        "import nltk\n",
        "nltk.download('popular')"
      ]
    },
    {
      "cell_type": "code",
      "execution_count": 16,
      "metadata": {
        "cellView": "form",
        "colab": {
          "base_uri": "https://localhost:8080/",
          "height": 243
        },
        "id": "wK4vvAoObjSk",
        "outputId": "c41ba193-06ae-4eff-ae0e-b53d4d839750"
      },
      "outputs": [
        {
          "data": {
            "text/plain": [
              "\"i, me, my, myself, we, our, ours, ourselves, you, you're, you've, you'll, you'd, your, yours, yourself, yourselves, he, him, his, himself, she, she's, her, hers, herself, it, it's, its, itself, they, them, their, theirs, themselves, what, which, who, whom, this, that, that'll, these, those, am, is, are, was, were, be, been, being, have, has, had, having, do, does, did, doing, a, an, the, and, but, if, or, because, as, until, while, of, at, by, for, with, about, against, between, into, through, during, before, after, above, below, to, from, up, down, in, out, on, off, over, under, again, further, then, once, here, there, when, where, why, how, all, any, both, each, few, more, most, other, some, such, no, nor, not, only, own, same, so, than, too, very, s, t, can, will, just, don, don't, should, should've, now, d, ll, m, o, re, ve, y, ain, aren, aren't, couldn, couldn't, didn, didn't, doesn, doesn't, hadn, hadn't, hasn, hasn't, haven, haven't, isn, isn't, ma, mightn, mightn't, mustn, mustn't, needn, needn't, shan, shan't, shouldn, shouldn't, wasn, wasn't, weren, weren't, won, won't, wouldn, wouldn't\""
            ]
          },
          "execution_count": 16,
          "metadata": {},
          "output_type": "execute_result"
        }
      ],
      "source": [
        "# Removing Stopwords\n",
        "\n",
        "from nltk.corpus import stopwords\n",
        "\", \".join(stopwords.words(\"english\"))"
      ]
    },
    {
      "cell_type": "code",
      "execution_count": 17,
      "metadata": {
        "id": "fhlbfYpIeozm"
      },
      "outputs": [],
      "source": [
        "STOPWORDS = set(stopwords.words('english'))\n",
        "def remove_stopwords(text):\n",
        "  return \" \".join([word for word in text.split() if word not in STOPWORDS])"
      ]
    },
    {
      "cell_type": "code",
      "execution_count": 18,
      "metadata": {
        "id": "PWjQR494d16K"
      },
      "outputs": [],
      "source": [
        "df['new_text'] = df['new_text'].apply(lambda X: remove_stopwords(X))"
      ]
    },
    {
      "cell_type": "code",
      "execution_count": 19,
      "metadata": {
        "colab": {
          "base_uri": "https://localhost:8080/"
        },
        "id": "9NYsr_gxfWrz",
        "outputId": "e3029e6a-a703-412a-e1fd-e6dcd8d08157"
      },
      "outputs": [
        {
          "data": {
            "text/plain": [
              "[('great', 3220),\n",
              " ('book', 3180),\n",
              " ('good', 2957),\n",
              " ('one', 2671),\n",
              " ('well', 2208),\n",
              " ('love', 2175),\n",
              " ('would', 2046),\n",
              " ('story', 2044),\n",
              " ('like', 1965),\n",
              " ('read', 1804)]"
            ]
          },
          "execution_count": 19,
          "metadata": {},
          "output_type": "execute_result"
        }
      ],
      "source": [
        "# Removing of Frequent Words\n",
        "\n",
        "from collections import Counter\n",
        "word_count = Counter()\n",
        "\n",
        "for text in df['new_text']:\n",
        "  for word in text.split():\n",
        "    word_count[word] += 1\n",
        "\n",
        "word_count.most_common(10)"
      ]
    },
    {
      "cell_type": "code",
      "execution_count": 20,
      "metadata": {
        "colab": {
          "base_uri": "https://localhost:8080/"
        },
        "id": "0rtGQ8dZmguY",
        "outputId": "2872c060-1e91-4aca-f6df-0c9f45efb2d1"
      },
      "outputs": [
        {
          "data": {
            "text/plain": [
              "{'chronological',\n",
              " 'emphasizes',\n",
              " 'hyperlinks',\n",
              " 'omits',\n",
              " 'pusheen',\n",
              " 'repeats',\n",
              " 'respects',\n",
              " 'smoothed',\n",
              " 'summaries'}"
            ]
          },
          "execution_count": 20,
          "metadata": {},
          "output_type": "execute_result"
        }
      ],
      "source": [
        "# Removing of rare Word\n",
        "\n",
        "RARE_WORDS = set(word for (word,wc) in word_count.most_common()[:-10:-1])\n",
        "RARE_WORDS"
      ]
    },
    {
      "cell_type": "code",
      "execution_count": 21,
      "metadata": {
        "id": "ghHc8upZnc5X"
      },
      "outputs": [
        {
          "name": "stderr",
          "output_type": "stream",
          "text": [
            "<>:6: SyntaxWarning: invalid escape sequence '\\s'\n",
            "<>:6: SyntaxWarning: invalid escape sequence '\\s'\n",
            "C:\\Users\\Dell\\AppData\\Local\\Temp\\ipykernel_14700\\1140535980.py:6: SyntaxWarning: invalid escape sequence '\\s'\n",
            "  text = re.sub('\\s+',' ',text)\n"
          ]
        }
      ],
      "source": [
        "# Remove Special Character\n",
        "\n",
        "import re\n",
        "def remove_special_char(text):\n",
        "  text = re.sub('[^a-zA-Z0-9]', ' ', text)\n",
        "  text = re.sub('\\s+',' ',text)\n",
        "  return text"
      ]
    },
    {
      "cell_type": "code",
      "execution_count": 22,
      "metadata": {
        "id": "XJv974v8ocQK"
      },
      "outputs": [],
      "source": [
        "df['new_text'] = df['new_text'].apply(lambda X:remove_special_char(X))"
      ]
    },
    {
      "cell_type": "code",
      "execution_count": 23,
      "metadata": {
        "id": "HPEa81t0pSM6"
      },
      "outputs": [],
      "source": [
        "# Stemming\n",
        "\n",
        "from nltk.stem.porter import PorterStemmer\n",
        "ps = PorterStemmer()\n",
        "def stem_words(text):\n",
        "  return \" \".join([ps.stem(word) for word in text.split()])"
      ]
    },
    {
      "cell_type": "code",
      "execution_count": 24,
      "metadata": {
        "id": "BsLx3ia-Dz3N"
      },
      "outputs": [],
      "source": [
        "df['Stemmed_text'] = df['new_text'].apply(lambda X: stem_words(X))"
      ]
    },
    {
      "cell_type": "code",
      "execution_count": 25,
      "metadata": {
        "colab": {
          "base_uri": "https://localhost:8080/"
        },
        "id": "xMGroQeBECcO",
        "outputId": "5e834f37-e477-4ed6-93ec-4d370317a93b"
      },
      "outputs": [
        {
          "name": "stderr",
          "output_type": "stream",
          "text": [
            "[nltk_data] Downloading package punkt to\n",
            "[nltk_data]     C:\\Users\\Dell\\AppData\\Roaming\\nltk_data...\n",
            "[nltk_data]   Package punkt is already up-to-date!\n",
            "[nltk_data] Downloading package averaged_perceptron_tagger to\n",
            "[nltk_data]     C:\\Users\\Dell\\AppData\\Roaming\\nltk_data...\n",
            "[nltk_data]   Package averaged_perceptron_tagger is already up-to-\n",
            "[nltk_data]       date!\n",
            "[nltk_data] Downloading package wordnet to\n",
            "[nltk_data]     C:\\Users\\Dell\\AppData\\Roaming\\nltk_data...\n",
            "[nltk_data]   Package wordnet is already up-to-date!\n"
          ]
        }
      ],
      "source": [
        "from nltk import pos_tag\n",
        "from nltk.corpus import wordnet\n",
        "from nltk.stem import WordNetLemmatizer\n",
        "\n",
        "nltk.download('punkt')\n",
        "nltk.download('averaged_perceptron_tagger')\n",
        "nltk.download('wordnet')\n",
        "\n",
        "lemmatizer = WordNetLemmatizer()\n",
        "wordnet_map = {'N':wordnet.NOUN, 'V':wordnet.VERB, 'J':wordnet.ADJ, 'R':wordnet.ADV}\n",
        "\n",
        "def lemmatize_words(text):\n",
        "  pos_text = pos_tag(text.split())\n",
        "  return \" \".join([lemmatizer.lemmatize(word, wordnet_map.get(pos[0], wordnet.NOUN)) for word, pos in pos_text])\n",
        "\n",
        "\n",
        "  df['lemmatized_text'] = df['new_text'].apply(lambda X: lemmatize_words(X))"
      ]
    },
    {
      "cell_type": "code",
      "execution_count": 26,
      "metadata": {
        "colab": {
          "base_uri": "https://localhost:8080/"
        },
        "id": "7WECItHpZIep",
        "outputId": "cada8159-b52a-495f-f438-f5fb473c5d60"
      },
      "outputs": [
        {
          "name": "stderr",
          "output_type": "stream",
          "text": [
            "[nltk_data] Downloading package averaged_perceptron_tagger_eng to\n",
            "[nltk_data]     C:\\Users\\Dell\\AppData\\Roaming\\nltk_data...\n",
            "[nltk_data]   Package averaged_perceptron_tagger_eng is already up-to-\n",
            "[nltk_data]       date!\n"
          ]
        },
        {
          "data": {
            "text/plain": [
              "True"
            ]
          },
          "execution_count": 26,
          "metadata": {},
          "output_type": "execute_result"
        }
      ],
      "source": [
        "nltk.download('averaged_perceptron_tagger_eng')"
      ]
    },
    {
      "cell_type": "code",
      "execution_count": 27,
      "metadata": {
        "id": "zrdynBpldcOp"
      },
      "outputs": [],
      "source": [
        "df['lemmatized_text'] = df['new_text'].apply(lambda X: lemmatize_words(X))"
      ]
    },
    {
      "cell_type": "code",
      "execution_count": 28,
      "metadata": {
        "colab": {
          "base_uri": "https://localhost:8080/",
          "height": 1000
        },
        "id": "pcpODlv4ECOb",
        "outputId": "f47e2ed6-1a0a-40c2-fd3e-3b8c09a4a660"
      },
      "outputs": [
        {
          "data": {
            "text/html": [
              "<div>\n",
              "<style scoped>\n",
              "    .dataframe tbody tr th:only-of-type {\n",
              "        vertical-align: middle;\n",
              "    }\n",
              "\n",
              "    .dataframe tbody tr th {\n",
              "        vertical-align: top;\n",
              "    }\n",
              "\n",
              "    .dataframe thead th {\n",
              "        text-align: right;\n",
              "    }\n",
              "</style>\n",
              "<table border=\"1\" class=\"dataframe\">\n",
              "  <thead>\n",
              "    <tr style=\"text-align: right;\">\n",
              "      <th></th>\n",
              "      <th>category</th>\n",
              "      <th>rating</th>\n",
              "      <th>label</th>\n",
              "      <th>text_</th>\n",
              "      <th>new_text</th>\n",
              "      <th>Stemmed_text</th>\n",
              "      <th>lemmatized_text</th>\n",
              "    </tr>\n",
              "  </thead>\n",
              "  <tbody>\n",
              "    <tr>\n",
              "      <th>27957</th>\n",
              "      <td>Kindle_Store_5</td>\n",
              "      <td>3.0</td>\n",
              "      <td>CG</td>\n",
              "      <td>Eva is on her to find a way to escape her abus...</td>\n",
              "      <td>eva find way escape abusive mother meets hands...</td>\n",
              "      <td>eva find way escap abus mother meet handsom st...</td>\n",
              "      <td>eva find way escape abusive mother meet handso...</td>\n",
              "    </tr>\n",
              "    <tr>\n",
              "      <th>39755</th>\n",
              "      <td>Clothing_Shoes_and_Jewelry_5</td>\n",
              "      <td>5.0</td>\n",
              "      <td>CG</td>\n",
              "      <td>This is my second Glamorise and I love the loo...</td>\n",
              "      <td>second glamorise love look keep bag wardrobei ...</td>\n",
              "      <td>second glamoris love look keep bag wardrobei b...</td>\n",
              "      <td>second glamorise love look keep bag wardrobei ...</td>\n",
              "    </tr>\n",
              "    <tr>\n",
              "      <th>24983</th>\n",
              "      <td>Kindle_Store_5</td>\n",
              "      <td>4.0</td>\n",
              "      <td>OR</td>\n",
              "      <td>I absolutely love this series. The Ravens are ...</td>\n",
              "      <td>absolutely love series ravens hottest protecti...</td>\n",
              "      <td>absolut love seri raven hottest protect forc a...</td>\n",
              "      <td>absolutely love series raven hot protection fo...</td>\n",
              "    </tr>\n",
              "    <tr>\n",
              "      <th>13985</th>\n",
              "      <td>Movies_and_TV_5</td>\n",
              "      <td>5.0</td>\n",
              "      <td>CG</td>\n",
              "      <td>Probably best movie Rutger Howerton has made. ...</td>\n",
              "      <td>probably best movie rutger howerton made many ...</td>\n",
              "      <td>probabl best movi rutger howerton made mani pe...</td>\n",
              "      <td>probably best movie rutger howerton make many ...</td>\n",
              "    </tr>\n",
              "    <tr>\n",
              "      <th>39275</th>\n",
              "      <td>Clothing_Shoes_and_Jewelry_5</td>\n",
              "      <td>5.0</td>\n",
              "      <td>OR</td>\n",
              "      <td>Unfortunately the black didn't work for a lot ...</td>\n",
              "      <td>unfortunately black didnt work lot dresses wan...</td>\n",
              "      <td>unfortun black didnt work lot dress want love ...</td>\n",
              "      <td>unfortunately black didnt work lot dress want ...</td>\n",
              "    </tr>\n",
              "    <tr>\n",
              "      <th>...</th>\n",
              "      <td>...</td>\n",
              "      <td>...</td>\n",
              "      <td>...</td>\n",
              "      <td>...</td>\n",
              "      <td>...</td>\n",
              "      <td>...</td>\n",
              "      <td>...</td>\n",
              "    </tr>\n",
              "    <tr>\n",
              "      <th>32569</th>\n",
              "      <td>Books_5</td>\n",
              "      <td>4.0</td>\n",
              "      <td>OR</td>\n",
              "      <td>I enjoyed this book.  The author has a strong ...</td>\n",
              "      <td>enjoyed book author strong voice book much les...</td>\n",
              "      <td>enjoy book author strong voic book much less o...</td>\n",
              "      <td>enjoy book author strong voice book much less ...</td>\n",
              "    </tr>\n",
              "    <tr>\n",
              "      <th>21138</th>\n",
              "      <td>Pet_Supplies_5</td>\n",
              "      <td>5.0</td>\n",
              "      <td>CG</td>\n",
              "      <td>Love, Love, Love!!!  Gives my puppy the peace ...</td>\n",
              "      <td>love love love gives puppy peace mind able go ...</td>\n",
              "      <td>love love love give puppi peac mind abl go out...</td>\n",
              "      <td>love love love give puppy peace mind able go o...</td>\n",
              "    </tr>\n",
              "    <tr>\n",
              "      <th>4638</th>\n",
              "      <td>Sports_and_Outdoors_5</td>\n",
              "      <td>5.0</td>\n",
              "      <td>OR</td>\n",
              "      <td>What can you say? It's 25 pounds, has a decent...</td>\n",
              "      <td>say 25 pounds decent sized grip last forever</td>\n",
              "      <td>say 25 pound decent size grip last forev</td>\n",
              "      <td>say 25 pound decent size grip last forever</td>\n",
              "    </tr>\n",
              "    <tr>\n",
              "      <th>32797</th>\n",
              "      <td>Toys_and_Games_5</td>\n",
              "      <td>5.0</td>\n",
              "      <td>CG</td>\n",
              "      <td>Got it to keep jewelry safe. The pieces are st...</td>\n",
              "      <td>got keep jewelry safe pieces sturdy easy kids ...</td>\n",
              "      <td>got keep jewelri safe piec sturdi easi kid throw</td>\n",
              "      <td>get keep jewelry safe piece sturdy easy kid throw</td>\n",
              "    </tr>\n",
              "    <tr>\n",
              "      <th>33988</th>\n",
              "      <td>Toys_and_Games_5</td>\n",
              "      <td>4.0</td>\n",
              "      <td>OR</td>\n",
              "      <td>Really don't like blind boxes because you neve...</td>\n",
              "      <td>really dont like blind boxes never end least o...</td>\n",
              "      <td>realli dont like blind box never end least one...</td>\n",
              "      <td>really dont like blind box never end least one...</td>\n",
              "    </tr>\n",
              "  </tbody>\n",
              "</table>\n",
              "<p>8086 rows × 7 columns</p>\n",
              "</div>"
            ],
            "text/plain": [
              "                           category  rating label  \\\n",
              "27957                Kindle_Store_5     3.0    CG   \n",
              "39755  Clothing_Shoes_and_Jewelry_5     5.0    CG   \n",
              "24983                Kindle_Store_5     4.0    OR   \n",
              "13985               Movies_and_TV_5     5.0    CG   \n",
              "39275  Clothing_Shoes_and_Jewelry_5     5.0    OR   \n",
              "...                             ...     ...   ...   \n",
              "32569                       Books_5     4.0    OR   \n",
              "21138                Pet_Supplies_5     5.0    CG   \n",
              "4638          Sports_and_Outdoors_5     5.0    OR   \n",
              "32797              Toys_and_Games_5     5.0    CG   \n",
              "33988              Toys_and_Games_5     4.0    OR   \n",
              "\n",
              "                                                   text_  \\\n",
              "27957  Eva is on her to find a way to escape her abus...   \n",
              "39755  This is my second Glamorise and I love the loo...   \n",
              "24983  I absolutely love this series. The Ravens are ...   \n",
              "13985  Probably best movie Rutger Howerton has made. ...   \n",
              "39275  Unfortunately the black didn't work for a lot ...   \n",
              "...                                                  ...   \n",
              "32569  I enjoyed this book.  The author has a strong ...   \n",
              "21138  Love, Love, Love!!!  Gives my puppy the peace ...   \n",
              "4638   What can you say? It's 25 pounds, has a decent...   \n",
              "32797  Got it to keep jewelry safe. The pieces are st...   \n",
              "33988  Really don't like blind boxes because you neve...   \n",
              "\n",
              "                                                new_text  \\\n",
              "27957  eva find way escape abusive mother meets hands...   \n",
              "39755  second glamorise love look keep bag wardrobei ...   \n",
              "24983  absolutely love series ravens hottest protecti...   \n",
              "13985  probably best movie rutger howerton made many ...   \n",
              "39275  unfortunately black didnt work lot dresses wan...   \n",
              "...                                                  ...   \n",
              "32569  enjoyed book author strong voice book much les...   \n",
              "21138  love love love gives puppy peace mind able go ...   \n",
              "4638        say 25 pounds decent sized grip last forever   \n",
              "32797  got keep jewelry safe pieces sturdy easy kids ...   \n",
              "33988  really dont like blind boxes never end least o...   \n",
              "\n",
              "                                            Stemmed_text  \\\n",
              "27957  eva find way escap abus mother meet handsom st...   \n",
              "39755  second glamoris love look keep bag wardrobei b...   \n",
              "24983  absolut love seri raven hottest protect forc a...   \n",
              "13985  probabl best movi rutger howerton made mani pe...   \n",
              "39275  unfortun black didnt work lot dress want love ...   \n",
              "...                                                  ...   \n",
              "32569  enjoy book author strong voic book much less o...   \n",
              "21138  love love love give puppi peac mind abl go out...   \n",
              "4638            say 25 pound decent size grip last forev   \n",
              "32797   got keep jewelri safe piec sturdi easi kid throw   \n",
              "33988  realli dont like blind box never end least one...   \n",
              "\n",
              "                                         lemmatized_text  \n",
              "27957  eva find way escape abusive mother meet handso...  \n",
              "39755  second glamorise love look keep bag wardrobei ...  \n",
              "24983  absolutely love series raven hot protection fo...  \n",
              "13985  probably best movie rutger howerton make many ...  \n",
              "39275  unfortunately black didnt work lot dress want ...  \n",
              "...                                                  ...  \n",
              "32569  enjoy book author strong voice book much less ...  \n",
              "21138  love love love give puppy peace mind able go o...  \n",
              "4638          say 25 pound decent size grip last forever  \n",
              "32797  get keep jewelry safe piece sturdy easy kid throw  \n",
              "33988  really dont like blind box never end least one...  \n",
              "\n",
              "[8086 rows x 7 columns]"
            ]
          },
          "execution_count": 28,
          "metadata": {},
          "output_type": "execute_result"
        }
      ],
      "source": [
        "df"
      ]
    },
    {
      "cell_type": "code",
      "execution_count": 29,
      "metadata": {
        "colab": {
          "base_uri": "https://localhost:8080/",
          "height": 178
        },
        "id": "qKVjzexOuN2E",
        "outputId": "5f6314b6-e194-4576-809d-b4281852de2d"
      },
      "outputs": [
        {
          "data": {
            "text/plain": [
              "label\n",
              "OR    4070\n",
              "CG    4016\n",
              "Name: count, dtype: int64"
            ]
          },
          "execution_count": 29,
          "metadata": {},
          "output_type": "execute_result"
        }
      ],
      "source": [
        "df['label'].value_counts()"
      ]
    },
    {
      "cell_type": "code",
      "execution_count": 30,
      "metadata": {
        "id": "vpuJ8DQKuNrf"
      },
      "outputs": [],
      "source": [
        "df['length'] = df['text_'].apply(len)"
      ]
    },
    {
      "cell_type": "code",
      "execution_count": 31,
      "metadata": {
        "colab": {
          "base_uri": "https://localhost:8080/",
          "height": 1000
        },
        "id": "knCClwxce2g7",
        "outputId": "10e9566d-861b-4d9e-b3a1-287257b4969d"
      },
      "outputs": [
        {
          "data": {
            "text/html": [
              "<div>\n",
              "<style scoped>\n",
              "    .dataframe tbody tr th:only-of-type {\n",
              "        vertical-align: middle;\n",
              "    }\n",
              "\n",
              "    .dataframe tbody tr th {\n",
              "        vertical-align: top;\n",
              "    }\n",
              "\n",
              "    .dataframe thead th {\n",
              "        text-align: right;\n",
              "    }\n",
              "</style>\n",
              "<table border=\"1\" class=\"dataframe\">\n",
              "  <thead>\n",
              "    <tr style=\"text-align: right;\">\n",
              "      <th></th>\n",
              "      <th>category</th>\n",
              "      <th>rating</th>\n",
              "      <th>label</th>\n",
              "      <th>text_</th>\n",
              "      <th>new_text</th>\n",
              "      <th>Stemmed_text</th>\n",
              "      <th>lemmatized_text</th>\n",
              "      <th>length</th>\n",
              "    </tr>\n",
              "  </thead>\n",
              "  <tbody>\n",
              "    <tr>\n",
              "      <th>27957</th>\n",
              "      <td>Kindle_Store_5</td>\n",
              "      <td>3.0</td>\n",
              "      <td>CG</td>\n",
              "      <td>Eva is on her to find a way to escape her abus...</td>\n",
              "      <td>eva find way escape abusive mother meets hands...</td>\n",
              "      <td>eva find way escap abus mother meet handsom st...</td>\n",
              "      <td>eva find way escape abusive mother meet handso...</td>\n",
              "      <td>932</td>\n",
              "    </tr>\n",
              "    <tr>\n",
              "      <th>39755</th>\n",
              "      <td>Clothing_Shoes_and_Jewelry_5</td>\n",
              "      <td>5.0</td>\n",
              "      <td>CG</td>\n",
              "      <td>This is my second Glamorise and I love the loo...</td>\n",
              "      <td>second glamorise love look keep bag wardrobei ...</td>\n",
              "      <td>second glamoris love look keep bag wardrobei b...</td>\n",
              "      <td>second glamorise love look keep bag wardrobei ...</td>\n",
              "      <td>370</td>\n",
              "    </tr>\n",
              "    <tr>\n",
              "      <th>24983</th>\n",
              "      <td>Kindle_Store_5</td>\n",
              "      <td>4.0</td>\n",
              "      <td>OR</td>\n",
              "      <td>I absolutely love this series. The Ravens are ...</td>\n",
              "      <td>absolutely love series ravens hottest protecti...</td>\n",
              "      <td>absolut love seri raven hottest protect forc a...</td>\n",
              "      <td>absolutely love series raven hot protection fo...</td>\n",
              "      <td>181</td>\n",
              "    </tr>\n",
              "    <tr>\n",
              "      <th>13985</th>\n",
              "      <td>Movies_and_TV_5</td>\n",
              "      <td>5.0</td>\n",
              "      <td>CG</td>\n",
              "      <td>Probably best movie Rutger Howerton has made. ...</td>\n",
              "      <td>probably best movie rutger howerton made many ...</td>\n",
              "      <td>probabl best movi rutger howerton made mani pe...</td>\n",
              "      <td>probably best movie rutger howerton make many ...</td>\n",
              "      <td>189</td>\n",
              "    </tr>\n",
              "    <tr>\n",
              "      <th>39275</th>\n",
              "      <td>Clothing_Shoes_and_Jewelry_5</td>\n",
              "      <td>5.0</td>\n",
              "      <td>OR</td>\n",
              "      <td>Unfortunately the black didn't work for a lot ...</td>\n",
              "      <td>unfortunately black didnt work lot dresses wan...</td>\n",
              "      <td>unfortun black didnt work lot dress want love ...</td>\n",
              "      <td>unfortunately black didnt work lot dress want ...</td>\n",
              "      <td>300</td>\n",
              "    </tr>\n",
              "    <tr>\n",
              "      <th>...</th>\n",
              "      <td>...</td>\n",
              "      <td>...</td>\n",
              "      <td>...</td>\n",
              "      <td>...</td>\n",
              "      <td>...</td>\n",
              "      <td>...</td>\n",
              "      <td>...</td>\n",
              "      <td>...</td>\n",
              "    </tr>\n",
              "    <tr>\n",
              "      <th>32569</th>\n",
              "      <td>Books_5</td>\n",
              "      <td>4.0</td>\n",
              "      <td>OR</td>\n",
              "      <td>I enjoyed this book.  The author has a strong ...</td>\n",
              "      <td>enjoyed book author strong voice book much les...</td>\n",
              "      <td>enjoy book author strong voic book much less o...</td>\n",
              "      <td>enjoy book author strong voice book much less ...</td>\n",
              "      <td>1552</td>\n",
              "    </tr>\n",
              "    <tr>\n",
              "      <th>21138</th>\n",
              "      <td>Pet_Supplies_5</td>\n",
              "      <td>5.0</td>\n",
              "      <td>CG</td>\n",
              "      <td>Love, Love, Love!!!  Gives my puppy the peace ...</td>\n",
              "      <td>love love love gives puppy peace mind able go ...</td>\n",
              "      <td>love love love give puppi peac mind abl go out...</td>\n",
              "      <td>love love love give puppy peace mind able go o...</td>\n",
              "      <td>111</td>\n",
              "    </tr>\n",
              "    <tr>\n",
              "      <th>4638</th>\n",
              "      <td>Sports_and_Outdoors_5</td>\n",
              "      <td>5.0</td>\n",
              "      <td>OR</td>\n",
              "      <td>What can you say? It's 25 pounds, has a decent...</td>\n",
              "      <td>say 25 pounds decent sized grip last forever</td>\n",
              "      <td>say 25 pound decent size grip last forev</td>\n",
              "      <td>say 25 pound decent size grip last forever</td>\n",
              "      <td>83</td>\n",
              "    </tr>\n",
              "    <tr>\n",
              "      <th>32797</th>\n",
              "      <td>Toys_and_Games_5</td>\n",
              "      <td>5.0</td>\n",
              "      <td>CG</td>\n",
              "      <td>Got it to keep jewelry safe. The pieces are st...</td>\n",
              "      <td>got keep jewelry safe pieces sturdy easy kids ...</td>\n",
              "      <td>got keep jewelri safe piec sturdi easi kid throw</td>\n",
              "      <td>get keep jewelry safe piece sturdy easy kid throw</td>\n",
              "      <td>85</td>\n",
              "    </tr>\n",
              "    <tr>\n",
              "      <th>33988</th>\n",
              "      <td>Toys_and_Games_5</td>\n",
              "      <td>4.0</td>\n",
              "      <td>OR</td>\n",
              "      <td>Really don't like blind boxes because you neve...</td>\n",
              "      <td>really dont like blind boxes never end least o...</td>\n",
              "      <td>realli dont like blind box never end least one...</td>\n",
              "      <td>really dont like blind box never end least one...</td>\n",
              "      <td>120</td>\n",
              "    </tr>\n",
              "  </tbody>\n",
              "</table>\n",
              "<p>8086 rows × 8 columns</p>\n",
              "</div>"
            ],
            "text/plain": [
              "                           category  rating label  \\\n",
              "27957                Kindle_Store_5     3.0    CG   \n",
              "39755  Clothing_Shoes_and_Jewelry_5     5.0    CG   \n",
              "24983                Kindle_Store_5     4.0    OR   \n",
              "13985               Movies_and_TV_5     5.0    CG   \n",
              "39275  Clothing_Shoes_and_Jewelry_5     5.0    OR   \n",
              "...                             ...     ...   ...   \n",
              "32569                       Books_5     4.0    OR   \n",
              "21138                Pet_Supplies_5     5.0    CG   \n",
              "4638          Sports_and_Outdoors_5     5.0    OR   \n",
              "32797              Toys_and_Games_5     5.0    CG   \n",
              "33988              Toys_and_Games_5     4.0    OR   \n",
              "\n",
              "                                                   text_  \\\n",
              "27957  Eva is on her to find a way to escape her abus...   \n",
              "39755  This is my second Glamorise and I love the loo...   \n",
              "24983  I absolutely love this series. The Ravens are ...   \n",
              "13985  Probably best movie Rutger Howerton has made. ...   \n",
              "39275  Unfortunately the black didn't work for a lot ...   \n",
              "...                                                  ...   \n",
              "32569  I enjoyed this book.  The author has a strong ...   \n",
              "21138  Love, Love, Love!!!  Gives my puppy the peace ...   \n",
              "4638   What can you say? It's 25 pounds, has a decent...   \n",
              "32797  Got it to keep jewelry safe. The pieces are st...   \n",
              "33988  Really don't like blind boxes because you neve...   \n",
              "\n",
              "                                                new_text  \\\n",
              "27957  eva find way escape abusive mother meets hands...   \n",
              "39755  second glamorise love look keep bag wardrobei ...   \n",
              "24983  absolutely love series ravens hottest protecti...   \n",
              "13985  probably best movie rutger howerton made many ...   \n",
              "39275  unfortunately black didnt work lot dresses wan...   \n",
              "...                                                  ...   \n",
              "32569  enjoyed book author strong voice book much les...   \n",
              "21138  love love love gives puppy peace mind able go ...   \n",
              "4638        say 25 pounds decent sized grip last forever   \n",
              "32797  got keep jewelry safe pieces sturdy easy kids ...   \n",
              "33988  really dont like blind boxes never end least o...   \n",
              "\n",
              "                                            Stemmed_text  \\\n",
              "27957  eva find way escap abus mother meet handsom st...   \n",
              "39755  second glamoris love look keep bag wardrobei b...   \n",
              "24983  absolut love seri raven hottest protect forc a...   \n",
              "13985  probabl best movi rutger howerton made mani pe...   \n",
              "39275  unfortun black didnt work lot dress want love ...   \n",
              "...                                                  ...   \n",
              "32569  enjoy book author strong voic book much less o...   \n",
              "21138  love love love give puppi peac mind abl go out...   \n",
              "4638            say 25 pound decent size grip last forev   \n",
              "32797   got keep jewelri safe piec sturdi easi kid throw   \n",
              "33988  realli dont like blind box never end least one...   \n",
              "\n",
              "                                         lemmatized_text  length  \n",
              "27957  eva find way escape abusive mother meet handso...     932  \n",
              "39755  second glamorise love look keep bag wardrobei ...     370  \n",
              "24983  absolutely love series raven hot protection fo...     181  \n",
              "13985  probably best movie rutger howerton make many ...     189  \n",
              "39275  unfortunately black didnt work lot dress want ...     300  \n",
              "...                                                  ...     ...  \n",
              "32569  enjoy book author strong voice book much less ...    1552  \n",
              "21138  love love love give puppy peace mind able go o...     111  \n",
              "4638          say 25 pound decent size grip last forever      83  \n",
              "32797  get keep jewelry safe piece sturdy easy kid throw      85  \n",
              "33988  really dont like blind box never end least one...     120  \n",
              "\n",
              "[8086 rows x 8 columns]"
            ]
          },
          "execution_count": 31,
          "metadata": {},
          "output_type": "execute_result"
        }
      ],
      "source": [
        "df"
      ]
    },
    {
      "cell_type": "code",
      "execution_count": 32,
      "metadata": {
        "id": "CH2TfONZfAl1"
      },
      "outputs": [],
      "source": [
        "df.dropna(inplace=True)"
      ]
    },
    {
      "cell_type": "code",
      "execution_count": 33,
      "metadata": {
        "colab": {
          "base_uri": "https://localhost:8080/"
        },
        "id": "kJKmUw6lfBKO",
        "outputId": "43a30918-8891-4b95-da97-9325995d63b1"
      },
      "outputs": [
        {
          "name": "stdout",
          "output_type": "stream",
          "text": [
            "<class 'pandas.core.frame.DataFrame'>\n",
            "Index: 8086 entries, 27957 to 33988\n",
            "Data columns (total 8 columns):\n",
            " #   Column           Non-Null Count  Dtype  \n",
            "---  ------           --------------  -----  \n",
            " 0   category         8086 non-null   object \n",
            " 1   rating           8086 non-null   float64\n",
            " 2   label            8086 non-null   object \n",
            " 3   text_            8086 non-null   object \n",
            " 4   new_text         8086 non-null   object \n",
            " 5   Stemmed_text     8086 non-null   object \n",
            " 6   lemmatized_text  8086 non-null   object \n",
            " 7   length           8086 non-null   int64  \n",
            "dtypes: float64(1), int64(1), object(6)\n",
            "memory usage: 568.5+ KB\n"
          ]
        }
      ],
      "source": [
        "df.info()"
      ]
    },
    {
      "cell_type": "code",
      "execution_count": 34,
      "metadata": {
        "colab": {
          "base_uri": "https://localhost:8080/",
          "height": 430
        },
        "id": "vv15oJTyfIgB",
        "outputId": "1c53dcee-575d-49c3-9276-0ba94d78fe90"
      },
      "outputs": [
        {
          "data": {
            "image/png": "[encoded data removed]",
            "text/plain": [
              "<Figure size 640x480 with 1 Axes>"
            ]
          },
          "metadata": {},
          "output_type": "display_data"
        }
      ],
      "source": [
        "plt.hist(df['length'],bins=50)\n",
        "plt.show()"
      ]
    },
    {
      "cell_type": "code",
      "execution_count": 35,
      "metadata": {
        "colab": {
          "base_uri": "https://localhost:8080/",
          "height": 194
        },
        "id": "TAGXdm0gfOf2",
        "outputId": "de87df07-64e0-4936-969c-bc9949883274"
      },
      "outputs": [
        {
          "data": {
            "text/html": [
              "<div>\n",
              "<style scoped>\n",
              "    .dataframe tbody tr th:only-of-type {\n",
              "        vertical-align: middle;\n",
              "    }\n",
              "\n",
              "    .dataframe tbody tr th {\n",
              "        vertical-align: top;\n",
              "    }\n",
              "\n",
              "    .dataframe thead tr th {\n",
              "        text-align: left;\n",
              "    }\n",
              "\n",
              "    .dataframe thead tr:last-of-type th {\n",
              "        text-align: right;\n",
              "    }\n",
              "</style>\n",
              "<table border=\"1\" class=\"dataframe\">\n",
              "  <thead>\n",
              "    <tr>\n",
              "      <th></th>\n",
              "      <th colspan=\"8\" halign=\"left\">rating</th>\n",
              "      <th colspan=\"8\" halign=\"left\">length</th>\n",
              "    </tr>\n",
              "    <tr>\n",
              "      <th></th>\n",
              "      <th>count</th>\n",
              "      <th>mean</th>\n",
              "      <th>std</th>\n",
              "      <th>min</th>\n",
              "      <th>25%</th>\n",
              "      <th>50%</th>\n",
              "      <th>75%</th>\n",
              "      <th>max</th>\n",
              "      <th>count</th>\n",
              "      <th>mean</th>\n",
              "      <th>std</th>\n",
              "      <th>min</th>\n",
              "      <th>25%</th>\n",
              "      <th>50%</th>\n",
              "      <th>75%</th>\n",
              "      <th>max</th>\n",
              "    </tr>\n",
              "    <tr>\n",
              "      <th>label</th>\n",
              "      <th></th>\n",
              "      <th></th>\n",
              "      <th></th>\n",
              "      <th></th>\n",
              "      <th></th>\n",
              "      <th></th>\n",
              "      <th></th>\n",
              "      <th></th>\n",
              "      <th></th>\n",
              "      <th></th>\n",
              "      <th></th>\n",
              "      <th></th>\n",
              "      <th></th>\n",
              "      <th></th>\n",
              "      <th></th>\n",
              "      <th></th>\n",
              "    </tr>\n",
              "  </thead>\n",
              "  <tbody>\n",
              "    <tr>\n",
              "      <th>CG</th>\n",
              "      <td>4016.0</td>\n",
              "      <td>4.266932</td>\n",
              "      <td>1.124154</td>\n",
              "      <td>1.0</td>\n",
              "      <td>4.0</td>\n",
              "      <td>5.0</td>\n",
              "      <td>5.0</td>\n",
              "      <td>5.0</td>\n",
              "      <td>4016.0</td>\n",
              "      <td>304.999751</td>\n",
              "      <td>305.171365</td>\n",
              "      <td>49.0</td>\n",
              "      <td>95.0</td>\n",
              "      <td>178.0</td>\n",
              "      <td>381.0</td>\n",
              "      <td>1717.0</td>\n",
              "    </tr>\n",
              "    <tr>\n",
              "      <th>OR</th>\n",
              "      <td>4070.0</td>\n",
              "      <td>4.259705</td>\n",
              "      <td>1.137455</td>\n",
              "      <td>1.0</td>\n",
              "      <td>4.0</td>\n",
              "      <td>5.0</td>\n",
              "      <td>5.0</td>\n",
              "      <td>5.0</td>\n",
              "      <td>4070.0</td>\n",
              "      <td>394.713268</td>\n",
              "      <td>411.129267</td>\n",
              "      <td>34.0</td>\n",
              "      <td>123.0</td>\n",
              "      <td>226.0</td>\n",
              "      <td>502.0</td>\n",
              "      <td>2827.0</td>\n",
              "    </tr>\n",
              "  </tbody>\n",
              "</table>\n",
              "</div>"
            ],
            "text/plain": [
              "       rating                                               length  \\\n",
              "        count      mean       std  min  25%  50%  75%  max   count   \n",
              "label                                                                \n",
              "CG     4016.0  4.266932  1.124154  1.0  4.0  5.0  5.0  5.0  4016.0   \n",
              "OR     4070.0  4.259705  1.137455  1.0  4.0  5.0  5.0  5.0  4070.0   \n",
              "\n",
              "                                                                  \n",
              "             mean         std   min    25%    50%    75%     max  \n",
              "label                                                             \n",
              "CG     304.999751  305.171365  49.0   95.0  178.0  381.0  1717.0  \n",
              "OR     394.713268  411.129267  34.0  123.0  226.0  502.0  2827.0  "
            ]
          },
          "execution_count": 35,
          "metadata": {},
          "output_type": "execute_result"
        }
      ],
      "source": [
        "df.groupby('label').describe()"
      ]
    },
    {
      "cell_type": "code",
      "execution_count": 36,
      "metadata": {
        "colab": {
          "base_uri": "https://localhost:8080/",
          "height": 608
        },
        "id": "kcCnz_eMfjwv",
        "outputId": "90b4b353-edb1-4e35-e7f6-cb62919313c3"
      },
      "outputs": [
        {
          "data": {
            "text/html": [
              "<div>\n",
              "<style scoped>\n",
              "    .dataframe tbody tr th:only-of-type {\n",
              "        vertical-align: middle;\n",
              "    }\n",
              "\n",
              "    .dataframe tbody tr th {\n",
              "        vertical-align: top;\n",
              "    }\n",
              "\n",
              "    .dataframe thead th {\n",
              "        text-align: right;\n",
              "    }\n",
              "</style>\n",
              "<table border=\"1\" class=\"dataframe\">\n",
              "  <thead>\n",
              "    <tr style=\"text-align: right;\">\n",
              "      <th></th>\n",
              "      <th>category</th>\n",
              "      <th>rating</th>\n",
              "      <th>label</th>\n",
              "      <th>text_</th>\n",
              "      <th>new_text</th>\n",
              "      <th>Stemmed_text</th>\n",
              "      <th>lemmatized_text</th>\n",
              "      <th>length</th>\n",
              "    </tr>\n",
              "  </thead>\n",
              "  <tbody>\n",
              "    <tr>\n",
              "      <th>27957</th>\n",
              "      <td>Kindle_Store_5</td>\n",
              "      <td>3.0</td>\n",
              "      <td>CG</td>\n",
              "      <td>Eva is on her to find a way to escape her abus...</td>\n",
              "      <td>eva find way escape abusive mother meets hands...</td>\n",
              "      <td>eva find way escap abus mother meet handsom st...</td>\n",
              "      <td>eva find way escape abusive mother meet handso...</td>\n",
              "      <td>932</td>\n",
              "    </tr>\n",
              "    <tr>\n",
              "      <th>39755</th>\n",
              "      <td>Clothing_Shoes_and_Jewelry_5</td>\n",
              "      <td>5.0</td>\n",
              "      <td>CG</td>\n",
              "      <td>This is my second Glamorise and I love the loo...</td>\n",
              "      <td>second glamorise love look keep bag wardrobei ...</td>\n",
              "      <td>second glamoris love look keep bag wardrobei b...</td>\n",
              "      <td>second glamorise love look keep bag wardrobei ...</td>\n",
              "      <td>370</td>\n",
              "    </tr>\n",
              "    <tr>\n",
              "      <th>24983</th>\n",
              "      <td>Kindle_Store_5</td>\n",
              "      <td>4.0</td>\n",
              "      <td>OR</td>\n",
              "      <td>I absolutely love this series. The Ravens are ...</td>\n",
              "      <td>absolutely love series ravens hottest protecti...</td>\n",
              "      <td>absolut love seri raven hottest protect forc a...</td>\n",
              "      <td>absolutely love series raven hot protection fo...</td>\n",
              "      <td>181</td>\n",
              "    </tr>\n",
              "    <tr>\n",
              "      <th>13985</th>\n",
              "      <td>Movies_and_TV_5</td>\n",
              "      <td>5.0</td>\n",
              "      <td>CG</td>\n",
              "      <td>Probably best movie Rutger Howerton has made. ...</td>\n",
              "      <td>probably best movie rutger howerton made many ...</td>\n",
              "      <td>probabl best movi rutger howerton made mani pe...</td>\n",
              "      <td>probably best movie rutger howerton make many ...</td>\n",
              "      <td>189</td>\n",
              "    </tr>\n",
              "    <tr>\n",
              "      <th>39275</th>\n",
              "      <td>Clothing_Shoes_and_Jewelry_5</td>\n",
              "      <td>5.0</td>\n",
              "      <td>OR</td>\n",
              "      <td>Unfortunately the black didn't work for a lot ...</td>\n",
              "      <td>unfortunately black didnt work lot dresses wan...</td>\n",
              "      <td>unfortun black didnt work lot dress want love ...</td>\n",
              "      <td>unfortunately black didnt work lot dress want ...</td>\n",
              "      <td>300</td>\n",
              "    </tr>\n",
              "  </tbody>\n",
              "</table>\n",
              "</div>"
            ],
            "text/plain": [
              "                           category  rating label  \\\n",
              "27957                Kindle_Store_5     3.0    CG   \n",
              "39755  Clothing_Shoes_and_Jewelry_5     5.0    CG   \n",
              "24983                Kindle_Store_5     4.0    OR   \n",
              "13985               Movies_and_TV_5     5.0    CG   \n",
              "39275  Clothing_Shoes_and_Jewelry_5     5.0    OR   \n",
              "\n",
              "                                                   text_  \\\n",
              "27957  Eva is on her to find a way to escape her abus...   \n",
              "39755  This is my second Glamorise and I love the loo...   \n",
              "24983  I absolutely love this series. The Ravens are ...   \n",
              "13985  Probably best movie Rutger Howerton has made. ...   \n",
              "39275  Unfortunately the black didn't work for a lot ...   \n",
              "\n",
              "                                                new_text  \\\n",
              "27957  eva find way escape abusive mother meets hands...   \n",
              "39755  second glamorise love look keep bag wardrobei ...   \n",
              "24983  absolutely love series ravens hottest protecti...   \n",
              "13985  probably best movie rutger howerton made many ...   \n",
              "39275  unfortunately black didnt work lot dresses wan...   \n",
              "\n",
              "                                            Stemmed_text  \\\n",
              "27957  eva find way escap abus mother meet handsom st...   \n",
              "39755  second glamoris love look keep bag wardrobei b...   \n",
              "24983  absolut love seri raven hottest protect forc a...   \n",
              "13985  probabl best movi rutger howerton made mani pe...   \n",
              "39275  unfortun black didnt work lot dress want love ...   \n",
              "\n",
              "                                         lemmatized_text  length  \n",
              "27957  eva find way escape abusive mother meet handso...     932  \n",
              "39755  second glamorise love look keep bag wardrobei ...     370  \n",
              "24983  absolutely love series raven hot protection fo...     181  \n",
              "13985  probably best movie rutger howerton make many ...     189  \n",
              "39275  unfortunately black didnt work lot dress want ...     300  "
            ]
          },
          "execution_count": 36,
          "metadata": {},
          "output_type": "execute_result"
        }
      ],
      "source": [
        "df.head()"
      ]
    },
    {
      "cell_type": "code",
      "execution_count": 37,
      "metadata": {
        "id": "tKAs_CiboyE8"
      },
      "outputs": [],
      "source": [
        "X = df[['rating', 'lemmatized_text']]\n",
        "y = df['label']\n"
      ]
    },
    {
      "cell_type": "code",
      "execution_count": 38,
      "metadata": {
        "colab": {
          "base_uri": "https://localhost:8080/"
        },
        "id": "pJJeX8xnpSJB",
        "outputId": "3eb9dec8-8654-4d6e-a491-6aa36b01d8d8"
      },
      "outputs": [
        {
          "name": "stdout",
          "output_type": "stream",
          "text": [
            "       rating                                    lemmatized_text\n",
            "27957     3.0  eva find way escape abusive mother meet handso...\n",
            "39755     5.0  second glamorise love look keep bag wardrobei ...\n",
            "24983     4.0  absolutely love series raven hot protection fo...\n",
            "13985     5.0  probably best movie rutger howerton make many ...\n",
            "39275     5.0  unfortunately black didnt work lot dress want ...\n",
            "...       ...                                                ...\n",
            "32569     4.0  enjoy book author strong voice book much less ...\n",
            "21138     5.0  love love love give puppy peace mind able go o...\n",
            "4638      5.0         say 25 pound decent size grip last forever\n",
            "32797     5.0  get keep jewelry safe piece sturdy easy kid throw\n",
            "33988     4.0  really dont like blind box never end least one...\n",
            "\n",
            "[8086 rows x 2 columns]\n",
            "27957    CG\n",
            "39755    CG\n",
            "24983    OR\n",
            "13985    CG\n",
            "39275    OR\n",
            "         ..\n",
            "32569    OR\n",
            "21138    CG\n",
            "4638     OR\n",
            "32797    CG\n",
            "33988    OR\n",
            "Name: label, Length: 8086, dtype: object\n"
          ]
        }
      ],
      "source": [
        "print(X)\n",
        "print(y)"
      ]
    },
    {
      "cell_type": "code",
      "execution_count": 39,
      "metadata": {
        "id": "1FcqWl-Brk-1"
      },
      "outputs": [],
      "source": [
        "df['label'] = df['label'].apply(lambda x: 1 if x == 'OR' else 0)"
      ]
    },
    {
      "cell_type": "code",
      "execution_count": 40,
      "metadata": {
        "colab": {
          "base_uri": "https://localhost:8080/",
          "height": 781
        },
        "id": "qJcufeuZjVq8",
        "outputId": "acf296b3-9721-4b21-efba-7d5a8e128f0c"
      },
      "outputs": [
        {
          "data": {
            "text/html": [
              "<div>\n",
              "<style scoped>\n",
              "    .dataframe tbody tr th:only-of-type {\n",
              "        vertical-align: middle;\n",
              "    }\n",
              "\n",
              "    .dataframe tbody tr th {\n",
              "        vertical-align: top;\n",
              "    }\n",
              "\n",
              "    .dataframe thead th {\n",
              "        text-align: right;\n",
              "    }\n",
              "</style>\n",
              "<table border=\"1\" class=\"dataframe\">\n",
              "  <thead>\n",
              "    <tr style=\"text-align: right;\">\n",
              "      <th></th>\n",
              "      <th>category</th>\n",
              "      <th>rating</th>\n",
              "      <th>label</th>\n",
              "      <th>text_</th>\n",
              "      <th>new_text</th>\n",
              "      <th>Stemmed_text</th>\n",
              "      <th>lemmatized_text</th>\n",
              "      <th>length</th>\n",
              "    </tr>\n",
              "  </thead>\n",
              "  <tbody>\n",
              "    <tr>\n",
              "      <th>32569</th>\n",
              "      <td>Books_5</td>\n",
              "      <td>4.0</td>\n",
              "      <td>1</td>\n",
              "      <td>I enjoyed this book.  The author has a strong ...</td>\n",
              "      <td>enjoyed book author strong voice book much les...</td>\n",
              "      <td>enjoy book author strong voic book much less o...</td>\n",
              "      <td>enjoy book author strong voice book much less ...</td>\n",
              "      <td>1552</td>\n",
              "    </tr>\n",
              "    <tr>\n",
              "      <th>21138</th>\n",
              "      <td>Pet_Supplies_5</td>\n",
              "      <td>5.0</td>\n",
              "      <td>0</td>\n",
              "      <td>Love, Love, Love!!!  Gives my puppy the peace ...</td>\n",
              "      <td>love love love gives puppy peace mind able go ...</td>\n",
              "      <td>love love love give puppi peac mind abl go out...</td>\n",
              "      <td>love love love give puppy peace mind able go o...</td>\n",
              "      <td>111</td>\n",
              "    </tr>\n",
              "    <tr>\n",
              "      <th>4638</th>\n",
              "      <td>Sports_and_Outdoors_5</td>\n",
              "      <td>5.0</td>\n",
              "      <td>1</td>\n",
              "      <td>What can you say? It's 25 pounds, has a decent...</td>\n",
              "      <td>say 25 pounds decent sized grip last forever</td>\n",
              "      <td>say 25 pound decent size grip last forev</td>\n",
              "      <td>say 25 pound decent size grip last forever</td>\n",
              "      <td>83</td>\n",
              "    </tr>\n",
              "    <tr>\n",
              "      <th>32797</th>\n",
              "      <td>Toys_and_Games_5</td>\n",
              "      <td>5.0</td>\n",
              "      <td>0</td>\n",
              "      <td>Got it to keep jewelry safe. The pieces are st...</td>\n",
              "      <td>got keep jewelry safe pieces sturdy easy kids ...</td>\n",
              "      <td>got keep jewelri safe piec sturdi easi kid throw</td>\n",
              "      <td>get keep jewelry safe piece sturdy easy kid throw</td>\n",
              "      <td>85</td>\n",
              "    </tr>\n",
              "    <tr>\n",
              "      <th>33988</th>\n",
              "      <td>Toys_and_Games_5</td>\n",
              "      <td>4.0</td>\n",
              "      <td>1</td>\n",
              "      <td>Really don't like blind boxes because you neve...</td>\n",
              "      <td>really dont like blind boxes never end least o...</td>\n",
              "      <td>realli dont like blind box never end least one...</td>\n",
              "      <td>really dont like blind box never end least one...</td>\n",
              "      <td>120</td>\n",
              "    </tr>\n",
              "  </tbody>\n",
              "</table>\n",
              "</div>"
            ],
            "text/plain": [
              "                    category  rating  label  \\\n",
              "32569                Books_5     4.0      1   \n",
              "21138         Pet_Supplies_5     5.0      0   \n",
              "4638   Sports_and_Outdoors_5     5.0      1   \n",
              "32797       Toys_and_Games_5     5.0      0   \n",
              "33988       Toys_and_Games_5     4.0      1   \n",
              "\n",
              "                                                   text_  \\\n",
              "32569  I enjoyed this book.  The author has a strong ...   \n",
              "21138  Love, Love, Love!!!  Gives my puppy the peace ...   \n",
              "4638   What can you say? It's 25 pounds, has a decent...   \n",
              "32797  Got it to keep jewelry safe. The pieces are st...   \n",
              "33988  Really don't like blind boxes because you neve...   \n",
              "\n",
              "                                                new_text  \\\n",
              "32569  enjoyed book author strong voice book much les...   \n",
              "21138  love love love gives puppy peace mind able go ...   \n",
              "4638        say 25 pounds decent sized grip last forever   \n",
              "32797  got keep jewelry safe pieces sturdy easy kids ...   \n",
              "33988  really dont like blind boxes never end least o...   \n",
              "\n",
              "                                            Stemmed_text  \\\n",
              "32569  enjoy book author strong voic book much less o...   \n",
              "21138  love love love give puppi peac mind abl go out...   \n",
              "4638            say 25 pound decent size grip last forev   \n",
              "32797   got keep jewelri safe piec sturdi easi kid throw   \n",
              "33988  realli dont like blind box never end least one...   \n",
              "\n",
              "                                         lemmatized_text  length  \n",
              "32569  enjoy book author strong voice book much less ...    1552  \n",
              "21138  love love love give puppy peace mind able go o...     111  \n",
              "4638          say 25 pound decent size grip last forever      83  \n",
              "32797  get keep jewelry safe piece sturdy easy kid throw      85  \n",
              "33988  really dont like blind box never end least one...     120  "
            ]
          },
          "execution_count": 40,
          "metadata": {},
          "output_type": "execute_result"
        }
      ],
      "source": [
        "df.tail()"
      ]
    },
    {
      "cell_type": "code",
      "execution_count": 41,
      "metadata": {
        "id": "v3lesx4Jqhbn"
      },
      "outputs": [],
      "source": [
        "X = df[['rating', 'lemmatized_text']]\n",
        "y = df['label']"
      ]
    },
    {
      "cell_type": "code",
      "execution_count": 42,
      "metadata": {
        "id": "LQbEm0mptQiy"
      },
      "outputs": [],
      "source": [
        "from sklearn.model_selection import train_test_split\n",
        "\n",
        "from sklearn.feature_extraction.text import TfidfVectorizer\n",
        "from scipy.sparse import hstack\n",
        "# X_train, X_test, y_train, y_test = train_test_split(X, y, test_size=0.2, random_state=1)"
      ]
    },
    {
      "cell_type": "code",
      "execution_count": 43,
      "metadata": {
        "id": "OV0Nh-xyu7CV"
      },
      "outputs": [],
      "source": [
        "\n",
        "v = TfidfVectorizer()\n",
        "X_lemmatized_tfidf = v.fit_transform(X['lemmatized_text'])"
      ]
    },
    {
      "cell_type": "code",
      "execution_count": 44,
      "metadata": {
        "id": "Tvc3hSWcwHNy"
      },
      "outputs": [],
      "source": [
        "# Combine 'rating' and vectorized 'lemmatized_text'\n",
        "X_combined_tfidf = hstack([X['rating'].values.reshape(-1, 1), X_lemmatized_tfidf])"
      ]
    },
    {
      "cell_type": "code",
      "execution_count": 45,
      "metadata": {
        "id": "vCLtGIQ16rXu"
      },
      "outputs": [],
      "source": [
        "# Train-test split\n",
        "X_train, X_test, y_train, y_test = train_test_split(X_combined_tfidf, y, test_size=0.2, random_state=1)\n"
      ]
    },
    {
      "cell_type": "markdown",
      "metadata": {
        "id": "PXK0Pg674lqm"
      },
      "source": [
        "Importing implemented class of our algorithm"
      ]
    },
    {
      "cell_type": "code",
      "execution_count": 46,
      "metadata": {
        "id": "lBillGFb6uAQ"
      },
      "outputs": [],
      "source": [
        "from RandomForest import RandomForest\n"
      ]
    },
    {
      "cell_type": "code",
      "execution_count": 51,
      "metadata": {
        "id": "uk9zhafB7dVP"
      },
      "outputs": [
        {
          "name": "stdout",
          "output_type": "stream",
          "text": [
            "Accuracy: 0.7509270704573547\n",
            "              precision    recall  f1-score   support\n",
            "\n",
            "           0       0.86      0.60      0.71       813\n",
            "           1       0.69      0.90      0.78       805\n",
            "\n",
            "    accuracy                           0.75      1618\n",
            "   macro avg       0.78      0.75      0.75      1618\n",
            "weighted avg       0.78      0.75      0.75      1618\n",
            "\n"
          ]
        }
      ],
      "source": [
        "# Instantiate the estimator\n",
        "model = RandomForest()\n",
        "\n",
        "# Fit the training data to model \n",
        "model.fit(X_train.toarray(), y_train.values)\n",
        "\n",
        "# Make predictions on the test set\n",
        "predictions = model.predict(X_test.toarray())\n",
        "\n",
        "# Evaluate the model\n",
        "from sklearn.metrics import accuracy_score, classification_report\n",
        "\n",
        "# saving accuracy \n",
        "implementedM_accuracy = accuracy_score(y_test, predictions)\n",
        "print(f\"Accuracy: {implementedM_accuracy}\")\n",
        "print(classification_report(y_test, predictions))\n"
      ]
    },
    {
      "cell_type": "markdown",
      "metadata": {},
      "source": [
        "Using Standard Library"
      ]
    },
    {
      "cell_type": "code",
      "execution_count": 52,
      "metadata": {},
      "outputs": [
        {
          "name": "stdout",
          "output_type": "stream",
          "text": [
            "Accuracy: 0.8220024721878862\n",
            "              precision    recall  f1-score   support\n",
            "\n",
            "           0       0.82      0.83      0.82       813\n",
            "           1       0.83      0.81      0.82       805\n",
            "\n",
            "    accuracy                           0.82      1618\n",
            "   macro avg       0.82      0.82      0.82      1618\n",
            "weighted avg       0.82      0.82      0.82      1618\n",
            "\n"
          ]
        }
      ],
      "source": [
        "from sklearn.ensemble import RandomForestClassifier\n",
        "# Instantiate the estimator\n",
        "model = RandomForestClassifier()\n",
        "\n",
        "# Fit the training data to model \n",
        "model.fit(X_train.toarray(), y_train.values)\n",
        "\n",
        "# Make predictions on the test set\n",
        "predictions = model.predict(X_test.toarray())\n",
        "\n",
        "# Evaluate the model\n",
        "from sklearn.metrics import accuracy_score, classification_report\n",
        "\n",
        "stdM_accuracy = accuracy_score(y_test, predictions)\n",
        "print(f\"Accuracy: {stdM_accuracy}\")\n",
        "print(classification_report(y_test, predictions))\n"
      ]
    },
    {
      "cell_type": "markdown",
      "metadata": {},
      "source": [
        "**Plotting Accuracy for Standard and Implemented Model**"
      ]
    },
    {
      "cell_type": "code",
      "execution_count": 53,
      "metadata": {
        "id": "Qn0aoG8B7hfE"
      },
      "outputs": [
        {
          "data": {
            "image/png": "[encoded data removed]",
            "text/plain": [
              "<Figure size 640x480 with 1 Axes>"
            ]
          },
          "metadata": {},
          "output_type": "display_data"
        }
      ],
      "source": [
        "\n",
        "# Convert accuracy to percentage\n",
        "stdM_accuracy = stdM_accuracy * 100\n",
        "implementedM_accuracy = implementedM_accuracy * 100\n",
        "\n",
        "\n",
        "# Create a bar graph\n",
        "# plt.figure(figsize=(3, 5))\n",
        "plt.bar(['Implemented Model Accuracy','Standard Model Accuracy'], [implementedM_accuracy,stdM_accuracy], color='#bc93bd',width=0.5)\n",
        "\n",
        "\n",
        "# Add title and labels\n",
        "plt.title('Model Accuracy')\n",
        "plt.ylabel('Accuracy (%)')\n",
        "plt.ylim(0, 100)  # Set limit from 0 to 100 to represent a percentage\n",
        "\n",
        "# Show the plot\n",
        "plt.show()\n"
      ]
    },
    {
      "cell_type": "code",
      "execution_count": null,
      "metadata": {
        "id": "k1mFVNnQpu5A"
      },
      "outputs": [],
      "source": []
    }
  ],
  "metadata": {
    "colab": {
      "provenance": []
    },
    "kernelspec": {
      "display_name": "base",
      "language": "python",
      "name": "python3"
    },
    "language_info": {
      "codemirror_mode": {
        "name": "ipython",
        "version": 3
      },
      "file_extension": ".py",
      "mimetype": "text/x-python",
      "name": "python",
      "nbconvert_exporter": "python",
      "pygments_lexer": "ipython3",
      "version": "3.12.7"
    }
  },
  "nbformat": 4,
  "nbformat_minor": 0
}
