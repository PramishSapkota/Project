{
  "cells": [
    {
      "cell_type": "code",
      "execution_count": 1,
      "metadata": {
        "tags": [
          "parameters"
        ]
      },
      "outputs": [],
      "source": [
        "# Dont delete this cell although it is empty"
      ]
    },
    {
      "cell_type": "code",
      "execution_count": 2,
      "metadata": {
        "id": "nKoEAPelpM7G",
        "tags": [
          "injected-parameters"
        ]
      },
      "outputs": [],
      "source": [
        "# Parameters\n",
        "input_review = \"मेरा घरपालुवा जनावरहरूले यो प्रयोग गर्न चाहेनन् तर यो मेरा घरपालुवा जनावरहरू मात्र हुन सक्छन्।\"\n",
        "input_rating = 2"
      ]
    },
    {
      "cell_type": "markdown",
      "metadata": {
        "id": "CMC96CT63Ear"
      },
      "source": [
        "Importing From Papermill"
      ]
    },
    {
      "cell_type": "code",
      "execution_count": null,
      "metadata": {
        "colab": {
          "base_uri": "https://localhost:8080/"
        },
        "collapsed": true,
        "id": "ygcbUQ962-E-",
        "outputId": "eb70e71a-74f3-4cda-8c08-1ca3178fea8e"
      },
      "outputs": [
        {
          "name": "stdout",
          "output_type": "stream",
          "text": [
            "Processing Review: मेरा घरपालुवा जनावरहरूले यो प्रयोग गर्न चाहेनन् तर यो मेरा घरपालुवा जनावरहरू मात्र हुन सक्छन्।\n",
            "Processing Rating: 2\n"
          ]
        }
      ],
      "source": [
        "import papermill as pm\n",
        "# import sys\n",
        "\n",
        "# Read input parameters\n",
        "try:\n",
        "    input_review = input_review  # This comes from papermill\n",
        "    input_rating = input_rating\n",
        "except NameError:\n",
        "    input_review = \"Default review\"\n",
        "    input_rating = 5.0  # Default values for testing\n",
        "\n",
        "# input_review_copy = input_review\n",
        "print(f\"Processing Review: {input_review}\")\n",
        "print(f\"Processing Rating: {input_rating}\")\n",
        "\n"
      ]
    },
    {
      "cell_type": "code",
      "execution_count": 4,
      "metadata": {},
      "outputs": [
        {
          "name": "stdout",
          "output_type": "stream",
          "text": [
            "Received Review: मेरा घरपालुवा जनावरहरूले यो प्रयोग गर्न चाहेनन् तर यो मेरा घरपालुवा जनावरहरू मात्र हुन सक्छन्।\n",
            "Received Rating: 2.0\n"
          ]
        }
      ],
      "source": [
        "input_review = globals().get('input_review', \"\")  # Default to empty string if not provided\n",
        "input_rating = globals().get('input_rating', 0.0)  # Default to 0.0 if not provided\n",
        "\n",
        "input_rating = float(input_rating)  \n",
        "input_review = str(input_review) \n",
        "\n",
        "# Make sure the inputs are properly received\n",
        "print(f\"Received Review: {input_review}\")\n",
        "print(f\"Received Rating: {input_rating}\")"
      ]
    },
    {
      "cell_type": "markdown",
      "metadata": {
        "id": "eiQ3n421B8SG"
      },
      "source": [
        "Preprocessing text"
      ]
    },
    {
      "cell_type": "code",
      "execution_count": 5,
      "metadata": {
        "id": "jtvwjfZUB71z"
      },
      "outputs": [],
      "source": [
        "input_text = f\"{input_rating} [SEP] {input_review}\""
      ]
    },
    {
      "cell_type": "markdown",
      "metadata": {
        "id": "CNo4jwVNRZrG"
      },
      "source": [
        "Giving input to model for Prediction"
      ]
    },
    {
      "cell_type": "code",
      "execution_count": 6,
      "metadata": {
        "colab": {
          "base_uri": "https://localhost:8080/"
        },
        "id": "J0giq0LfFSWD",
        "outputId": "021051f1-5fad-46cb-88ba-db755e6c3490"
      },
      "outputs": [
        {
          "name": "stderr",
          "output_type": "stream",
          "text": [
            "Device set to use cpu\n"
          ]
        }
      ],
      "source": [
        "from transformers import pipeline,AutoTokenizer #,logging\n",
        "# logging.set_verbosity_error()  # Suppress logs\n",
        "\n",
        "tokenizer = AutoTokenizer.from_pretrained(\"NepBERTa/NepBERTa\")\n",
        "classifier = pipeline(\"text-classification\", model=\"./fine_tuned_nepbert\", tokenizer=tokenizer)\n",
        "result = classifier(input_text)\n",
        "\n",
        "# Extract label and confidence score\n",
        "label = result[0]['label']\n",
        "score = result[0]['score'] * 100  # Convert to percentage\n",
        "\n",
        "# Interpret the label (assuming LABEL_0 = Fake, LABEL_1 = Real)\n",
        "label_text = \"Fake\" if label == \"LABEL_0\" else \"Real\"\n"
      ]
    },
    {
      "cell_type": "markdown",
      "metadata": {},
      "source": [
        "Display Model output"
      ]
    },
    {
      "cell_type": "code",
      "execution_count": null,
      "metadata": {},
      "outputs": [
        {
          "name": "stdout",
          "output_type": "stream",
          "text": [
            "Review: मेरा घरपालुवा जनावरहरूले यो प्रयोग गर्न चाहेनन् तर यो मेरा घरपालुवा जनावरहरू मात्र हुन सक्छन्।\n",
            "Rating: 2.0\n",
            "Review is Real with 99.96% accuracy.\n"
          ]
        }
      ],
      "source": [
        "# Display output\n",
        "print(f\"Review: {input_review}\")\n",
        "print(f\"Rating: {input_rating}\")\n",
        "print(f\"Review is {label_text} with {score:.2f}% accuracy.\")"
      ]
    }
  ],
  "metadata": {
    "accelerator": "GPU",
    "colab": {
      "gpuType": "T4",
      "provenance": []
    },
    "kernelspec": {
      "display_name": "base",
      "language": "python",
      "name": "python3"
    },
    "language_info": {
      "codemirror_mode": {
        "name": "ipython",
        "version": 3
      },
      "file_extension": ".py",
      "mimetype": "text/x-python",
      "name": "python",
      "nbconvert_exporter": "python",
      "pygments_lexer": "ipython3",
      "version": "3.12.7"
    }
  },
  "nbformat": 4,
  "nbformat_minor": 0
}
