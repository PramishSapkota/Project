{
 "cells": [
  {
   "cell_type": "code",
   "execution_count": 1,
   "metadata": {},
   "outputs": [
    {
     "name": "stderr",
     "output_type": "stream",
     "text": [
      "[nltk_data] Downloading package stopwords to\n",
      "[nltk_data]     C:\\Users\\achyu\\AppData\\Roaming\\nltk_data...\n",
      "[nltk_data]   Package stopwords is already up-to-date!\n",
      "[nltk_data] Downloading package wordnet to\n",
      "[nltk_data]     C:\\Users\\achyu\\AppData\\Roaming\\nltk_data...\n",
      "[nltk_data]   Package wordnet is already up-to-date!\n",
      "[nltk_data] Downloading collection 'popular'\n",
      "[nltk_data]    | \n",
      "[nltk_data]    | Downloading package cmudict to\n",
      "[nltk_data]    |     C:\\Users\\achyu\\AppData\\Roaming\\nltk_data...\n",
      "[nltk_data]    |   Package cmudict is already up-to-date!\n",
      "[nltk_data]    | Downloading package gazetteers to\n",
      "[nltk_data]    |     C:\\Users\\achyu\\AppData\\Roaming\\nltk_data...\n",
      "[nltk_data]    |   Package gazetteers is already up-to-date!\n",
      "[nltk_data]    | Downloading package genesis to\n",
      "[nltk_data]    |     C:\\Users\\achyu\\AppData\\Roaming\\nltk_data...\n",
      "[nltk_data]    |   Package genesis is already up-to-date!\n",
      "[nltk_data]    | Downloading package gutenberg to\n",
      "[nltk_data]    |     C:\\Users\\achyu\\AppData\\Roaming\\nltk_data...\n",
      "[nltk_data]    |   Package gutenberg is already up-to-date!\n",
      "[nltk_data]    | Downloading package inaugural to\n",
      "[nltk_data]    |     C:\\Users\\achyu\\AppData\\Roaming\\nltk_data...\n",
      "[nltk_data]    |   Package inaugural is already up-to-date!\n",
      "[nltk_data]    | Downloading package movie_reviews to\n",
      "[nltk_data]    |     C:\\Users\\achyu\\AppData\\Roaming\\nltk_data...\n",
      "[nltk_data]    |   Package movie_reviews is already up-to-date!\n",
      "[nltk_data]    | Downloading package names to\n",
      "[nltk_data]    |     C:\\Users\\achyu\\AppData\\Roaming\\nltk_data...\n",
      "[nltk_data]    |   Package names is already up-to-date!\n",
      "[nltk_data]    | Downloading package shakespeare to\n",
      "[nltk_data]    |     C:\\Users\\achyu\\AppData\\Roaming\\nltk_data...\n",
      "[nltk_data]    |   Package shakespeare is already up-to-date!\n",
      "[nltk_data]    | Downloading package stopwords to\n",
      "[nltk_data]    |     C:\\Users\\achyu\\AppData\\Roaming\\nltk_data...\n",
      "[nltk_data]    |   Package stopwords is already up-to-date!\n",
      "[nltk_data]    | Downloading package treebank to\n",
      "[nltk_data]    |     C:\\Users\\achyu\\AppData\\Roaming\\nltk_data...\n",
      "[nltk_data]    |   Package treebank is already up-to-date!\n",
      "[nltk_data]    | Downloading package twitter_samples to\n",
      "[nltk_data]    |     C:\\Users\\achyu\\AppData\\Roaming\\nltk_data...\n",
      "[nltk_data]    |   Package twitter_samples is already up-to-date!\n",
      "[nltk_data]    | Downloading package omw to\n",
      "[nltk_data]    |     C:\\Users\\achyu\\AppData\\Roaming\\nltk_data...\n",
      "[nltk_data]    |   Package omw is already up-to-date!\n",
      "[nltk_data]    | Downloading package omw-1.4 to\n",
      "[nltk_data]    |     C:\\Users\\achyu\\AppData\\Roaming\\nltk_data...\n",
      "[nltk_data]    |   Package omw-1.4 is already up-to-date!\n",
      "[nltk_data]    | Downloading package wordnet to\n",
      "[nltk_data]    |     C:\\Users\\achyu\\AppData\\Roaming\\nltk_data...\n",
      "[nltk_data]    |   Package wordnet is already up-to-date!\n",
      "[nltk_data]    | Downloading package wordnet2021 to\n",
      "[nltk_data]    |     C:\\Users\\achyu\\AppData\\Roaming\\nltk_data...\n",
      "[nltk_data]    |   Package wordnet2021 is already up-to-date!\n",
      "[nltk_data]    | Downloading package wordnet31 to\n",
      "[nltk_data]    |     C:\\Users\\achyu\\AppData\\Roaming\\nltk_data...\n",
      "[nltk_data]    |   Package wordnet31 is already up-to-date!\n",
      "[nltk_data]    | Downloading package wordnet_ic to\n",
      "[nltk_data]    |     C:\\Users\\achyu\\AppData\\Roaming\\nltk_data...\n",
      "[nltk_data]    |   Package wordnet_ic is already up-to-date!\n",
      "[nltk_data]    | Downloading package words to\n",
      "[nltk_data]    |     C:\\Users\\achyu\\AppData\\Roaming\\nltk_data...\n",
      "[nltk_data]    |   Package words is already up-to-date!\n",
      "[nltk_data]    | Downloading package maxent_ne_chunker to\n",
      "[nltk_data]    |     C:\\Users\\achyu\\AppData\\Roaming\\nltk_data...\n",
      "[nltk_data]    |   Package maxent_ne_chunker is already up-to-date!\n",
      "[nltk_data]    | Downloading package punkt to\n",
      "[nltk_data]    |     C:\\Users\\achyu\\AppData\\Roaming\\nltk_data...\n",
      "[nltk_data]    |   Package punkt is already up-to-date!\n",
      "[nltk_data]    | Downloading package snowball_data to\n",
      "[nltk_data]    |     C:\\Users\\achyu\\AppData\\Roaming\\nltk_data...\n",
      "[nltk_data]    |   Package snowball_data is already up-to-date!\n",
      "[nltk_data]    | Downloading package averaged_perceptron_tagger to\n",
      "[nltk_data]    |     C:\\Users\\achyu\\AppData\\Roaming\\nltk_data...\n",
      "[nltk_data]    |   Package averaged_perceptron_tagger is already up-\n",
      "[nltk_data]    |       to-date!\n",
      "[nltk_data]    | \n",
      "[nltk_data]  Done downloading collection popular\n",
      "[nltk_data] Downloading package punkt to\n",
      "[nltk_data]     C:\\Users\\achyu\\AppData\\Roaming\\nltk_data...\n",
      "[nltk_data]   Package punkt is already up-to-date!\n",
      "[nltk_data] Downloading package wordnet to\n",
      "[nltk_data]     C:\\Users\\achyu\\AppData\\Roaming\\nltk_data...\n",
      "[nltk_data]   Package wordnet is already up-to-date!\n",
      "[nltk_data] Downloading package averaged_perceptron_tagger to\n",
      "[nltk_data]     C:\\Users\\achyu\\AppData\\Roaming\\nltk_data...\n",
      "[nltk_data]   Package averaged_perceptron_tagger is already up-to-\n",
      "[nltk_data]       date!\n"
     ]
    },
    {
     "data": {
      "text/plain": [
       "True"
      ]
     },
     "execution_count": 1,
     "metadata": {},
     "output_type": "execute_result"
    }
   ],
   "source": [
    "import pandas as pd\n",
    "import numpy as np\n",
    "import matplotlib.pyplot as plt\n",
    "import nltk\n",
    "\n",
    "\n",
    "import string\n",
    "\n",
    "\n",
    "# Download NLTK data\n",
    "nltk.download('stopwords')\n",
    "nltk.download('wordnet')\n",
    "nltk.download('popular')\n",
    "nltk.download('punkt')\n",
    "nltk.download('wordnet')\n",
    "nltk.download('averaged_perceptron_tagger')"
   ]
  },
  {
   "cell_type": "code",
   "execution_count": 2,
   "metadata": {},
   "outputs": [
    {
     "data": {
      "text/html": [
       "<div>\n",
       "<style scoped>\n",
       "    .dataframe tbody tr th:only-of-type {\n",
       "        vertical-align: middle;\n",
       "    }\n",
       "\n",
       "    .dataframe tbody tr th {\n",
       "        vertical-align: top;\n",
       "    }\n",
       "\n",
       "    .dataframe thead th {\n",
       "        text-align: right;\n",
       "    }\n",
       "</style>\n",
       "<table border=\"1\" class=\"dataframe\">\n",
       "  <thead>\n",
       "    <tr style=\"text-align: right;\">\n",
       "      <th></th>\n",
       "      <th>category</th>\n",
       "      <th>rating</th>\n",
       "      <th>label</th>\n",
       "      <th>text_</th>\n",
       "    </tr>\n",
       "  </thead>\n",
       "  <tbody>\n",
       "    <tr>\n",
       "      <th>40427</th>\n",
       "      <td>Clothing_Shoes_and_Jewelry_5</td>\n",
       "      <td>4.0</td>\n",
       "      <td>OR</td>\n",
       "      <td>I had read some reviews saying that this bra r...</td>\n",
       "    </tr>\n",
       "    <tr>\n",
       "      <th>40428</th>\n",
       "      <td>Clothing_Shoes_and_Jewelry_5</td>\n",
       "      <td>5.0</td>\n",
       "      <td>CG</td>\n",
       "      <td>I wasn't sure exactly what it would be. It is ...</td>\n",
       "    </tr>\n",
       "    <tr>\n",
       "      <th>40429</th>\n",
       "      <td>Clothing_Shoes_and_Jewelry_5</td>\n",
       "      <td>2.0</td>\n",
       "      <td>OR</td>\n",
       "      <td>You can wear the hood by itself, wear it with ...</td>\n",
       "    </tr>\n",
       "    <tr>\n",
       "      <th>40430</th>\n",
       "      <td>Clothing_Shoes_and_Jewelry_5</td>\n",
       "      <td>1.0</td>\n",
       "      <td>CG</td>\n",
       "      <td>I liked nothing about this dress. The only rea...</td>\n",
       "    </tr>\n",
       "    <tr>\n",
       "      <th>40431</th>\n",
       "      <td>Clothing_Shoes_and_Jewelry_5</td>\n",
       "      <td>5.0</td>\n",
       "      <td>OR</td>\n",
       "      <td>I work in the wedding industry and have to wor...</td>\n",
       "    </tr>\n",
       "  </tbody>\n",
       "</table>\n",
       "</div>"
      ],
      "text/plain": [
       "                           category  rating label  \\\n",
       "40427  Clothing_Shoes_and_Jewelry_5     4.0    OR   \n",
       "40428  Clothing_Shoes_and_Jewelry_5     5.0    CG   \n",
       "40429  Clothing_Shoes_and_Jewelry_5     2.0    OR   \n",
       "40430  Clothing_Shoes_and_Jewelry_5     1.0    CG   \n",
       "40431  Clothing_Shoes_and_Jewelry_5     5.0    OR   \n",
       "\n",
       "                                                   text_  \n",
       "40427  I had read some reviews saying that this bra r...  \n",
       "40428  I wasn't sure exactly what it would be. It is ...  \n",
       "40429  You can wear the hood by itself, wear it with ...  \n",
       "40430  I liked nothing about this dress. The only rea...  \n",
       "40431  I work in the wedding industry and have to wor...  "
      ]
     },
     "execution_count": 2,
     "metadata": {},
     "output_type": "execute_result"
    }
   ],
   "source": [
    "\n",
    "dataset = pd.read_csv('fake reviews dataset.csv')\n",
    "dataset.tail()"
   ]
  },
  {
   "cell_type": "code",
   "execution_count": 3,
   "metadata": {},
   "outputs": [],
   "source": [
    "# dataset = dataset.sample(frac=0.01, random_state=42)"
   ]
  },
  {
   "cell_type": "code",
   "execution_count": 4,
   "metadata": {},
   "outputs": [
    {
     "name": "stdout",
     "output_type": "stream",
     "text": [
      "label\n",
      "CG    20216\n",
      "OR    20216\n",
      "Name: count, dtype: int64\n"
     ]
    }
   ],
   "source": [
    "print(dataset['label'].value_counts())\n",
    "#print(dataset['category'].value_counts(normalize=True))\n",
    "# print(dataset['category'].unique())\n",
    "#print(dataset['rating'].value_counts())"
   ]
  },
  {
   "cell_type": "code",
   "execution_count": 5,
   "metadata": {},
   "outputs": [
    {
     "name": "stdout",
     "output_type": "stream",
     "text": [
      "category    0\n",
      "rating      0\n",
      "label       0\n",
      "text_       0\n",
      "dtype: int64\n"
     ]
    }
   ],
   "source": [
    "# Check for null values\n",
    "print(dataset.isnull().sum())\n",
    "\n",
    "# Drop or fill missing data as necessary\n",
    "dataset.dropna(inplace = True)\n"
   ]
  },
  {
   "cell_type": "code",
   "execution_count": 6,
   "metadata": {},
   "outputs": [
    {
     "data": {
      "text/plain": [
       "'I was blown away by this movie, and the acting was superb. There were a few moments in the movie that I missed. The script and directing were top notch. The acting was flawless. The acting was excellent. The acting was superb. The special effects were excellent. The special effects were excellent. The special effects were superb. The special effects were superb. The special effects were superb. The special effects were superb. The special effects were superb. The special effects were superb. The special effects were superb. The special effects were superb. The special effects were superb. The special effects were superb. The special effects were superb. The special effects were superb. The special effects were superb. The special effects were superb. The special effects were superb. The special effects were superb. The special effects were superb. The special effects were superb. The special effects were superb. The special effects were superb. The special effects were superb. The special effects were superb. The special effects were superb. The special effects were superb. The special effects were superb. The special effects were superb. The special effects were superb. The special effects were superb. The special effects were superb. The special effects were superb. The special effects were superb. The special effects were superb. The special effects were superb. The special effects were superb. The special effects were superb. The special effects were superb. The special effects were superb. The special effects were superb. The special effects were superb. The special effects were superb. The special effects were superb. The special effects were superb. The special effects were superb.'"
      ]
     },
     "execution_count": 6,
     "metadata": {},
     "output_type": "execute_result"
    }
   ],
   "source": [
    "#Storing the length of all the text into a separate column called 'length'\n",
    "dataset['length'] = dataset['text_'].apply(len)\n",
    "\n",
    "\n",
    "dataset[dataset['label']=='CG'][['text_','length']].sort_values(by='length',ascending=False).head().iloc[0].text_"
   ]
  },
  {
   "cell_type": "code",
   "execution_count": 7,
   "metadata": {},
   "outputs": [
    {
     "data": {
      "text/html": [
       "<div>\n",
       "<style scoped>\n",
       "    .dataframe tbody tr th:only-of-type {\n",
       "        vertical-align: middle;\n",
       "    }\n",
       "\n",
       "    .dataframe tbody tr th {\n",
       "        vertical-align: top;\n",
       "    }\n",
       "\n",
       "    .dataframe thead th {\n",
       "        text-align: right;\n",
       "    }\n",
       "</style>\n",
       "<table border=\"1\" class=\"dataframe\">\n",
       "  <thead>\n",
       "    <tr style=\"text-align: right;\">\n",
       "      <th></th>\n",
       "      <th>category</th>\n",
       "      <th>rating</th>\n",
       "      <th>label</th>\n",
       "      <th>text_</th>\n",
       "      <th>length</th>\n",
       "    </tr>\n",
       "  </thead>\n",
       "  <tbody>\n",
       "    <tr>\n",
       "      <th>40427</th>\n",
       "      <td>Clothing_Shoes_and_Jewelry_5</td>\n",
       "      <td>4.0</td>\n",
       "      <td>1</td>\n",
       "      <td>I had read some reviews saying that this bra r...</td>\n",
       "      <td>1694</td>\n",
       "    </tr>\n",
       "    <tr>\n",
       "      <th>40428</th>\n",
       "      <td>Clothing_Shoes_and_Jewelry_5</td>\n",
       "      <td>5.0</td>\n",
       "      <td>0</td>\n",
       "      <td>I wasn't sure exactly what it would be. It is ...</td>\n",
       "      <td>1304</td>\n",
       "    </tr>\n",
       "    <tr>\n",
       "      <th>40429</th>\n",
       "      <td>Clothing_Shoes_and_Jewelry_5</td>\n",
       "      <td>2.0</td>\n",
       "      <td>1</td>\n",
       "      <td>You can wear the hood by itself, wear it with ...</td>\n",
       "      <td>1987</td>\n",
       "    </tr>\n",
       "    <tr>\n",
       "      <th>40430</th>\n",
       "      <td>Clothing_Shoes_and_Jewelry_5</td>\n",
       "      <td>1.0</td>\n",
       "      <td>0</td>\n",
       "      <td>I liked nothing about this dress. The only rea...</td>\n",
       "      <td>1301</td>\n",
       "    </tr>\n",
       "    <tr>\n",
       "      <th>40431</th>\n",
       "      <td>Clothing_Shoes_and_Jewelry_5</td>\n",
       "      <td>5.0</td>\n",
       "      <td>1</td>\n",
       "      <td>I work in the wedding industry and have to wor...</td>\n",
       "      <td>1768</td>\n",
       "    </tr>\n",
       "  </tbody>\n",
       "</table>\n",
       "</div>"
      ],
      "text/plain": [
       "                           category  rating  label  \\\n",
       "40427  Clothing_Shoes_and_Jewelry_5     4.0      1   \n",
       "40428  Clothing_Shoes_and_Jewelry_5     5.0      0   \n",
       "40429  Clothing_Shoes_and_Jewelry_5     2.0      1   \n",
       "40430  Clothing_Shoes_and_Jewelry_5     1.0      0   \n",
       "40431  Clothing_Shoes_and_Jewelry_5     5.0      1   \n",
       "\n",
       "                                                   text_  length  \n",
       "40427  I had read some reviews saying that this bra r...    1694  \n",
       "40428  I wasn't sure exactly what it would be. It is ...    1304  \n",
       "40429  You can wear the hood by itself, wear it with ...    1987  \n",
       "40430  I liked nothing about this dress. The only rea...    1301  \n",
       "40431  I work in the wedding industry and have to wor...    1768  "
      ]
     },
     "execution_count": 7,
     "metadata": {},
     "output_type": "execute_result"
    }
   ],
   "source": [
    "# Encode 'label' column into binary format\n",
    "from sklearn.preprocessing import LabelEncoder\n",
    "\n",
    "le = LabelEncoder()\n",
    "dataset['label'] = le.fit_transform(dataset['label'])  # Fake(CG): 0, Genuine(OR): 1\n",
    "\n",
    "dataset.tail()"
   ]
  },
  {
   "cell_type": "code",
   "execution_count": 8,
   "metadata": {},
   "outputs": [
    {
     "data": {
      "text/html": [
       "<div>\n",
       "<style scoped>\n",
       "    .dataframe tbody tr th:only-of-type {\n",
       "        vertical-align: middle;\n",
       "    }\n",
       "\n",
       "    .dataframe tbody tr th {\n",
       "        vertical-align: top;\n",
       "    }\n",
       "\n",
       "    .dataframe thead th {\n",
       "        text-align: right;\n",
       "    }\n",
       "</style>\n",
       "<table border=\"1\" class=\"dataframe\">\n",
       "  <thead>\n",
       "    <tr style=\"text-align: right;\">\n",
       "      <th></th>\n",
       "      <th>category</th>\n",
       "      <th>rating</th>\n",
       "      <th>label</th>\n",
       "      <th>text_</th>\n",
       "      <th>length</th>\n",
       "      <th>small_text</th>\n",
       "    </tr>\n",
       "  </thead>\n",
       "  <tbody>\n",
       "    <tr>\n",
       "      <th>40427</th>\n",
       "      <td>Clothing_Shoes_and_Jewelry_5</td>\n",
       "      <td>4.0</td>\n",
       "      <td>1</td>\n",
       "      <td>I had read some reviews saying that this bra r...</td>\n",
       "      <td>1694</td>\n",
       "      <td>i had read some reviews saying that this bra r...</td>\n",
       "    </tr>\n",
       "    <tr>\n",
       "      <th>40428</th>\n",
       "      <td>Clothing_Shoes_and_Jewelry_5</td>\n",
       "      <td>5.0</td>\n",
       "      <td>0</td>\n",
       "      <td>I wasn't sure exactly what it would be. It is ...</td>\n",
       "      <td>1304</td>\n",
       "      <td>i wasn't sure exactly what it would be. it is ...</td>\n",
       "    </tr>\n",
       "    <tr>\n",
       "      <th>40429</th>\n",
       "      <td>Clothing_Shoes_and_Jewelry_5</td>\n",
       "      <td>2.0</td>\n",
       "      <td>1</td>\n",
       "      <td>You can wear the hood by itself, wear it with ...</td>\n",
       "      <td>1987</td>\n",
       "      <td>you can wear the hood by itself, wear it with ...</td>\n",
       "    </tr>\n",
       "    <tr>\n",
       "      <th>40430</th>\n",
       "      <td>Clothing_Shoes_and_Jewelry_5</td>\n",
       "      <td>1.0</td>\n",
       "      <td>0</td>\n",
       "      <td>I liked nothing about this dress. The only rea...</td>\n",
       "      <td>1301</td>\n",
       "      <td>i liked nothing about this dress. the only rea...</td>\n",
       "    </tr>\n",
       "    <tr>\n",
       "      <th>40431</th>\n",
       "      <td>Clothing_Shoes_and_Jewelry_5</td>\n",
       "      <td>5.0</td>\n",
       "      <td>1</td>\n",
       "      <td>I work in the wedding industry and have to wor...</td>\n",
       "      <td>1768</td>\n",
       "      <td>i work in the wedding industry and have to wor...</td>\n",
       "    </tr>\n",
       "  </tbody>\n",
       "</table>\n",
       "</div>"
      ],
      "text/plain": [
       "                           category  rating  label  \\\n",
       "40427  Clothing_Shoes_and_Jewelry_5     4.0      1   \n",
       "40428  Clothing_Shoes_and_Jewelry_5     5.0      0   \n",
       "40429  Clothing_Shoes_and_Jewelry_5     2.0      1   \n",
       "40430  Clothing_Shoes_and_Jewelry_5     1.0      0   \n",
       "40431  Clothing_Shoes_and_Jewelry_5     5.0      1   \n",
       "\n",
       "                                                   text_  length  \\\n",
       "40427  I had read some reviews saying that this bra r...    1694   \n",
       "40428  I wasn't sure exactly what it would be. It is ...    1304   \n",
       "40429  You can wear the hood by itself, wear it with ...    1987   \n",
       "40430  I liked nothing about this dress. The only rea...    1301   \n",
       "40431  I work in the wedding industry and have to wor...    1768   \n",
       "\n",
       "                                              small_text  \n",
       "40427  i had read some reviews saying that this bra r...  \n",
       "40428  i wasn't sure exactly what it would be. it is ...  \n",
       "40429  you can wear the hood by itself, wear it with ...  \n",
       "40430  i liked nothing about this dress. the only rea...  \n",
       "40431  i work in the wedding industry and have to wor...  "
      ]
     },
     "execution_count": 8,
     "metadata": {},
     "output_type": "execute_result"
    }
   ],
   "source": [
    "#Coverting text to lowercase\n",
    "\n",
    "dataset['small_text'] = dataset['text_'].str.lower()\n",
    "dataset.tail()"
   ]
  },
  {
   "cell_type": "code",
   "execution_count": 9,
   "metadata": {},
   "outputs": [],
   "source": [
    "#Remove special characrers\n",
    "\n",
    "def remove_punctuation(text):\n",
    "  punctuations = string.punctuation\n",
    "  return text.translate(str.maketrans('','',punctuations))\n",
    "  # The first two arguments ('' and '') are empty strings, meaning there's nothing to replace and nothing to replace with. The third argument is a string of characters that will be removed from the text."
   ]
  },
  {
   "cell_type": "code",
   "execution_count": 10,
   "metadata": {},
   "outputs": [
    {
     "data": {
      "text/html": [
       "<div>\n",
       "<style scoped>\n",
       "    .dataframe tbody tr th:only-of-type {\n",
       "        vertical-align: middle;\n",
       "    }\n",
       "\n",
       "    .dataframe tbody tr th {\n",
       "        vertical-align: top;\n",
       "    }\n",
       "\n",
       "    .dataframe thead th {\n",
       "        text-align: right;\n",
       "    }\n",
       "</style>\n",
       "<table border=\"1\" class=\"dataframe\">\n",
       "  <thead>\n",
       "    <tr style=\"text-align: right;\">\n",
       "      <th></th>\n",
       "      <th>category</th>\n",
       "      <th>rating</th>\n",
       "      <th>label</th>\n",
       "      <th>text_</th>\n",
       "      <th>length</th>\n",
       "      <th>small_text</th>\n",
       "      <th>new_text</th>\n",
       "    </tr>\n",
       "  </thead>\n",
       "  <tbody>\n",
       "    <tr>\n",
       "      <th>40427</th>\n",
       "      <td>Clothing_Shoes_and_Jewelry_5</td>\n",
       "      <td>4.0</td>\n",
       "      <td>1</td>\n",
       "      <td>I had read some reviews saying that this bra r...</td>\n",
       "      <td>1694</td>\n",
       "      <td>i had read some reviews saying that this bra r...</td>\n",
       "      <td>i had read some reviews saying that this bra r...</td>\n",
       "    </tr>\n",
       "    <tr>\n",
       "      <th>40428</th>\n",
       "      <td>Clothing_Shoes_and_Jewelry_5</td>\n",
       "      <td>5.0</td>\n",
       "      <td>0</td>\n",
       "      <td>I wasn't sure exactly what it would be. It is ...</td>\n",
       "      <td>1304</td>\n",
       "      <td>i wasn't sure exactly what it would be. it is ...</td>\n",
       "      <td>i wasnt sure exactly what it would be it is a ...</td>\n",
       "    </tr>\n",
       "    <tr>\n",
       "      <th>40429</th>\n",
       "      <td>Clothing_Shoes_and_Jewelry_5</td>\n",
       "      <td>2.0</td>\n",
       "      <td>1</td>\n",
       "      <td>You can wear the hood by itself, wear it with ...</td>\n",
       "      <td>1987</td>\n",
       "      <td>you can wear the hood by itself, wear it with ...</td>\n",
       "      <td>you can wear the hood by itself wear it with t...</td>\n",
       "    </tr>\n",
       "    <tr>\n",
       "      <th>40430</th>\n",
       "      <td>Clothing_Shoes_and_Jewelry_5</td>\n",
       "      <td>1.0</td>\n",
       "      <td>0</td>\n",
       "      <td>I liked nothing about this dress. The only rea...</td>\n",
       "      <td>1301</td>\n",
       "      <td>i liked nothing about this dress. the only rea...</td>\n",
       "      <td>i liked nothing about this dress the only reas...</td>\n",
       "    </tr>\n",
       "    <tr>\n",
       "      <th>40431</th>\n",
       "      <td>Clothing_Shoes_and_Jewelry_5</td>\n",
       "      <td>5.0</td>\n",
       "      <td>1</td>\n",
       "      <td>I work in the wedding industry and have to wor...</td>\n",
       "      <td>1768</td>\n",
       "      <td>i work in the wedding industry and have to wor...</td>\n",
       "      <td>i work in the wedding industry and have to wor...</td>\n",
       "    </tr>\n",
       "  </tbody>\n",
       "</table>\n",
       "</div>"
      ],
      "text/plain": [
       "                           category  rating  label  \\\n",
       "40427  Clothing_Shoes_and_Jewelry_5     4.0      1   \n",
       "40428  Clothing_Shoes_and_Jewelry_5     5.0      0   \n",
       "40429  Clothing_Shoes_and_Jewelry_5     2.0      1   \n",
       "40430  Clothing_Shoes_and_Jewelry_5     1.0      0   \n",
       "40431  Clothing_Shoes_and_Jewelry_5     5.0      1   \n",
       "\n",
       "                                                   text_  length  \\\n",
       "40427  I had read some reviews saying that this bra r...    1694   \n",
       "40428  I wasn't sure exactly what it would be. It is ...    1304   \n",
       "40429  You can wear the hood by itself, wear it with ...    1987   \n",
       "40430  I liked nothing about this dress. The only rea...    1301   \n",
       "40431  I work in the wedding industry and have to wor...    1768   \n",
       "\n",
       "                                              small_text  \\\n",
       "40427  i had read some reviews saying that this bra r...   \n",
       "40428  i wasn't sure exactly what it would be. it is ...   \n",
       "40429  you can wear the hood by itself, wear it with ...   \n",
       "40430  i liked nothing about this dress. the only rea...   \n",
       "40431  i work in the wedding industry and have to wor...   \n",
       "\n",
       "                                                new_text  \n",
       "40427  i had read some reviews saying that this bra r...  \n",
       "40428  i wasnt sure exactly what it would be it is a ...  \n",
       "40429  you can wear the hood by itself wear it with t...  \n",
       "40430  i liked nothing about this dress the only reas...  \n",
       "40431  i work in the wedding industry and have to wor...  "
      ]
     },
     "execution_count": 10,
     "metadata": {},
     "output_type": "execute_result"
    }
   ],
   "source": [
    "dataset['new_text'] = dataset['small_text'].apply(lambda X: remove_punctuation(X))\n",
    "\n",
    "# apply function is used to apply a function to all the elements of a column\n",
    "\n",
    "dataset.tail()"
   ]
  },
  {
   "cell_type": "markdown",
   "metadata": {},
   "source": []
  },
  {
   "cell_type": "code",
   "execution_count": 11,
   "metadata": {},
   "outputs": [
    {
     "data": {
      "text/plain": [
       "\"i, me, my, myself, we, our, ours, ourselves, you, you're, you've, you'll, you'd, your, yours, yourself, yourselves, he, him, his, himself, she, she's, her, hers, herself, it, it's, its, itself, they, them, their, theirs, themselves, what, which, who, whom, this, that, that'll, these, those, am, is, are, was, were, be, been, being, have, has, had, having, do, does, did, doing, a, an, the, and, but, if, or, because, as, until, while, of, at, by, for, with, about, against, between, into, through, during, before, after, above, below, to, from, up, down, in, out, on, off, over, under, again, further, then, once, here, there, when, where, why, how, all, any, both, each, few, more, most, other, some, such, no, nor, not, only, own, same, so, than, too, very, s, t, can, will, just, don, don't, should, should've, now, d, ll, m, o, re, ve, y, ain, aren, aren't, couldn, couldn't, didn, didn't, doesn, doesn't, hadn, hadn't, hasn, hasn't, haven, haven't, isn, isn't, ma, mightn, mightn't, mustn, mustn't, needn, needn't, shan, shan't, shouldn, shouldn't, wasn, wasn't, weren, weren't, won, won't, wouldn, wouldn't\""
      ]
     },
     "execution_count": 11,
     "metadata": {},
     "output_type": "execute_result"
    }
   ],
   "source": [
    "# Removing Stopwords\n",
    "\n",
    "from nltk.corpus import stopwords\n",
    "\", \".join(stopwords.words(\"english\"))"
   ]
  },
  {
   "cell_type": "code",
   "execution_count": 12,
   "metadata": {},
   "outputs": [],
   "source": [
    "STOPWORDS = set(stopwords.words('english'))\n",
    "def remove_stopwords(text):\n",
    "  return \" \".join([word for word in text.split() if word not in STOPWORDS])"
   ]
  },
  {
   "cell_type": "code",
   "execution_count": 13,
   "metadata": {},
   "outputs": [
    {
     "data": {
      "text/html": [
       "<div>\n",
       "<style scoped>\n",
       "    .dataframe tbody tr th:only-of-type {\n",
       "        vertical-align: middle;\n",
       "    }\n",
       "\n",
       "    .dataframe tbody tr th {\n",
       "        vertical-align: top;\n",
       "    }\n",
       "\n",
       "    .dataframe thead th {\n",
       "        text-align: right;\n",
       "    }\n",
       "</style>\n",
       "<table border=\"1\" class=\"dataframe\">\n",
       "  <thead>\n",
       "    <tr style=\"text-align: right;\">\n",
       "      <th></th>\n",
       "      <th>category</th>\n",
       "      <th>rating</th>\n",
       "      <th>label</th>\n",
       "      <th>text_</th>\n",
       "      <th>length</th>\n",
       "      <th>small_text</th>\n",
       "      <th>new_text</th>\n",
       "    </tr>\n",
       "  </thead>\n",
       "  <tbody>\n",
       "    <tr>\n",
       "      <th>40427</th>\n",
       "      <td>Clothing_Shoes_and_Jewelry_5</td>\n",
       "      <td>4.0</td>\n",
       "      <td>1</td>\n",
       "      <td>I had read some reviews saying that this bra r...</td>\n",
       "      <td>1694</td>\n",
       "      <td>i had read some reviews saying that this bra r...</td>\n",
       "      <td>read reviews saying bra ran small ordered two ...</td>\n",
       "    </tr>\n",
       "    <tr>\n",
       "      <th>40428</th>\n",
       "      <td>Clothing_Shoes_and_Jewelry_5</td>\n",
       "      <td>5.0</td>\n",
       "      <td>0</td>\n",
       "      <td>I wasn't sure exactly what it would be. It is ...</td>\n",
       "      <td>1304</td>\n",
       "      <td>i wasn't sure exactly what it would be. it is ...</td>\n",
       "      <td>wasnt sure exactly would little large small si...</td>\n",
       "    </tr>\n",
       "    <tr>\n",
       "      <th>40429</th>\n",
       "      <td>Clothing_Shoes_and_Jewelry_5</td>\n",
       "      <td>2.0</td>\n",
       "      <td>1</td>\n",
       "      <td>You can wear the hood by itself, wear it with ...</td>\n",
       "      <td>1987</td>\n",
       "      <td>you can wear the hood by itself, wear it with ...</td>\n",
       "      <td>wear hood wear hood wear jacket without hood 3...</td>\n",
       "    </tr>\n",
       "    <tr>\n",
       "      <th>40430</th>\n",
       "      <td>Clothing_Shoes_and_Jewelry_5</td>\n",
       "      <td>1.0</td>\n",
       "      <td>0</td>\n",
       "      <td>I liked nothing about this dress. The only rea...</td>\n",
       "      <td>1301</td>\n",
       "      <td>i liked nothing about this dress. the only rea...</td>\n",
       "      <td>liked nothing dress reason gave 4 stars ordere...</td>\n",
       "    </tr>\n",
       "    <tr>\n",
       "      <th>40431</th>\n",
       "      <td>Clothing_Shoes_and_Jewelry_5</td>\n",
       "      <td>5.0</td>\n",
       "      <td>1</td>\n",
       "      <td>I work in the wedding industry and have to wor...</td>\n",
       "      <td>1768</td>\n",
       "      <td>i work in the wedding industry and have to wor...</td>\n",
       "      <td>work wedding industry work long days feet outs...</td>\n",
       "    </tr>\n",
       "  </tbody>\n",
       "</table>\n",
       "</div>"
      ],
      "text/plain": [
       "                           category  rating  label  \\\n",
       "40427  Clothing_Shoes_and_Jewelry_5     4.0      1   \n",
       "40428  Clothing_Shoes_and_Jewelry_5     5.0      0   \n",
       "40429  Clothing_Shoes_and_Jewelry_5     2.0      1   \n",
       "40430  Clothing_Shoes_and_Jewelry_5     1.0      0   \n",
       "40431  Clothing_Shoes_and_Jewelry_5     5.0      1   \n",
       "\n",
       "                                                   text_  length  \\\n",
       "40427  I had read some reviews saying that this bra r...    1694   \n",
       "40428  I wasn't sure exactly what it would be. It is ...    1304   \n",
       "40429  You can wear the hood by itself, wear it with ...    1987   \n",
       "40430  I liked nothing about this dress. The only rea...    1301   \n",
       "40431  I work in the wedding industry and have to wor...    1768   \n",
       "\n",
       "                                              small_text  \\\n",
       "40427  i had read some reviews saying that this bra r...   \n",
       "40428  i wasn't sure exactly what it would be. it is ...   \n",
       "40429  you can wear the hood by itself, wear it with ...   \n",
       "40430  i liked nothing about this dress. the only rea...   \n",
       "40431  i work in the wedding industry and have to wor...   \n",
       "\n",
       "                                                new_text  \n",
       "40427  read reviews saying bra ran small ordered two ...  \n",
       "40428  wasnt sure exactly would little large small si...  \n",
       "40429  wear hood wear hood wear jacket without hood 3...  \n",
       "40430  liked nothing dress reason gave 4 stars ordere...  \n",
       "40431  work wedding industry work long days feet outs...  "
      ]
     },
     "execution_count": 13,
     "metadata": {},
     "output_type": "execute_result"
    }
   ],
   "source": [
    "dataset['new_text'] = dataset['new_text'].apply(lambda X: remove_stopwords(X))\n",
    "dataset.tail()"
   ]
  },
  {
   "cell_type": "code",
   "execution_count": 14,
   "metadata": {},
   "outputs": [
    {
     "data": {
      "text/plain": [
       "[('great', 16419),\n",
       " ('book', 15001),\n",
       " ('good', 14195),\n",
       " ('one', 13395),\n",
       " ('love', 10805),\n",
       " ('would', 10362),\n",
       " ('well', 10278),\n",
       " ('story', 9626),\n",
       " ('like', 9425),\n",
       " ('read', 8868)]"
      ]
     },
     "execution_count": 14,
     "metadata": {},
     "output_type": "execute_result"
    }
   ],
   "source": [
    "# Removing of Frequent Words\n",
    "\n",
    "from collections import Counter\n",
    "word_count = Counter()\n",
    "\n",
    "for text in dataset['new_text']:\n",
    "  for word in text.split():\n",
    "    word_count[word] += 1\n",
    "\n",
    "word_count.most_common(10)"
   ]
  },
  {
   "cell_type": "code",
   "execution_count": 15,
   "metadata": {},
   "outputs": [
    {
     "name": "stdout",
     "output_type": "stream",
     "text": [
      "{'gallbladder', 'hyvent', 'hippora', 'ducks', 'dwrthis', 'timemans', 'propertys', '32degrees', 'jacketit'}\n"
     ]
    }
   ],
   "source": [
    "# Removing of rare Word\n",
    "\n",
    "RARE_WORDS = set(word for (word,wc) in word_count.most_common()[:-10:-1])\n",
    "print(RARE_WORDS)"
   ]
  },
  {
   "cell_type": "code",
   "execution_count": 16,
   "metadata": {},
   "outputs": [],
   "source": [
    "import re\n",
    "def remove_special_char(text):\n",
    "  text = re.sub('[^a-zA-Z0-9]', ' ', text)\n",
    "  text = re.sub(r'\\s+', ' ',text)\n",
    "  return text"
   ]
  },
  {
   "cell_type": "code",
   "execution_count": 17,
   "metadata": {},
   "outputs": [
    {
     "data": {
      "text/html": [
       "<div>\n",
       "<style scoped>\n",
       "    .dataframe tbody tr th:only-of-type {\n",
       "        vertical-align: middle;\n",
       "    }\n",
       "\n",
       "    .dataframe tbody tr th {\n",
       "        vertical-align: top;\n",
       "    }\n",
       "\n",
       "    .dataframe thead th {\n",
       "        text-align: right;\n",
       "    }\n",
       "</style>\n",
       "<table border=\"1\" class=\"dataframe\">\n",
       "  <thead>\n",
       "    <tr style=\"text-align: right;\">\n",
       "      <th></th>\n",
       "      <th>category</th>\n",
       "      <th>rating</th>\n",
       "      <th>label</th>\n",
       "      <th>text_</th>\n",
       "      <th>length</th>\n",
       "      <th>small_text</th>\n",
       "      <th>new_text</th>\n",
       "    </tr>\n",
       "  </thead>\n",
       "  <tbody>\n",
       "    <tr>\n",
       "      <th>40427</th>\n",
       "      <td>Clothing_Shoes_and_Jewelry_5</td>\n",
       "      <td>4.0</td>\n",
       "      <td>1</td>\n",
       "      <td>I had read some reviews saying that this bra r...</td>\n",
       "      <td>1694</td>\n",
       "      <td>i had read some reviews saying that this bra r...</td>\n",
       "      <td>read reviews saying bra ran small ordered two ...</td>\n",
       "    </tr>\n",
       "    <tr>\n",
       "      <th>40428</th>\n",
       "      <td>Clothing_Shoes_and_Jewelry_5</td>\n",
       "      <td>5.0</td>\n",
       "      <td>0</td>\n",
       "      <td>I wasn't sure exactly what it would be. It is ...</td>\n",
       "      <td>1304</td>\n",
       "      <td>i wasn't sure exactly what it would be. it is ...</td>\n",
       "      <td>wasnt sure exactly would little large small si...</td>\n",
       "    </tr>\n",
       "    <tr>\n",
       "      <th>40429</th>\n",
       "      <td>Clothing_Shoes_and_Jewelry_5</td>\n",
       "      <td>2.0</td>\n",
       "      <td>1</td>\n",
       "      <td>You can wear the hood by itself, wear it with ...</td>\n",
       "      <td>1987</td>\n",
       "      <td>you can wear the hood by itself, wear it with ...</td>\n",
       "      <td>wear hood wear hood wear jacket without hood 3...</td>\n",
       "    </tr>\n",
       "    <tr>\n",
       "      <th>40430</th>\n",
       "      <td>Clothing_Shoes_and_Jewelry_5</td>\n",
       "      <td>1.0</td>\n",
       "      <td>0</td>\n",
       "      <td>I liked nothing about this dress. The only rea...</td>\n",
       "      <td>1301</td>\n",
       "      <td>i liked nothing about this dress. the only rea...</td>\n",
       "      <td>liked nothing dress reason gave 4 stars ordere...</td>\n",
       "    </tr>\n",
       "    <tr>\n",
       "      <th>40431</th>\n",
       "      <td>Clothing_Shoes_and_Jewelry_5</td>\n",
       "      <td>5.0</td>\n",
       "      <td>1</td>\n",
       "      <td>I work in the wedding industry and have to wor...</td>\n",
       "      <td>1768</td>\n",
       "      <td>i work in the wedding industry and have to wor...</td>\n",
       "      <td>work wedding industry work long days feet outs...</td>\n",
       "    </tr>\n",
       "  </tbody>\n",
       "</table>\n",
       "</div>"
      ],
      "text/plain": [
       "                           category  rating  label  \\\n",
       "40427  Clothing_Shoes_and_Jewelry_5     4.0      1   \n",
       "40428  Clothing_Shoes_and_Jewelry_5     5.0      0   \n",
       "40429  Clothing_Shoes_and_Jewelry_5     2.0      1   \n",
       "40430  Clothing_Shoes_and_Jewelry_5     1.0      0   \n",
       "40431  Clothing_Shoes_and_Jewelry_5     5.0      1   \n",
       "\n",
       "                                                   text_  length  \\\n",
       "40427  I had read some reviews saying that this bra r...    1694   \n",
       "40428  I wasn't sure exactly what it would be. It is ...    1304   \n",
       "40429  You can wear the hood by itself, wear it with ...    1987   \n",
       "40430  I liked nothing about this dress. The only rea...    1301   \n",
       "40431  I work in the wedding industry and have to wor...    1768   \n",
       "\n",
       "                                              small_text  \\\n",
       "40427  i had read some reviews saying that this bra r...   \n",
       "40428  i wasn't sure exactly what it would be. it is ...   \n",
       "40429  you can wear the hood by itself, wear it with ...   \n",
       "40430  i liked nothing about this dress. the only rea...   \n",
       "40431  i work in the wedding industry and have to wor...   \n",
       "\n",
       "                                                new_text  \n",
       "40427  read reviews saying bra ran small ordered two ...  \n",
       "40428  wasnt sure exactly would little large small si...  \n",
       "40429  wear hood wear hood wear jacket without hood 3...  \n",
       "40430  liked nothing dress reason gave 4 stars ordere...  \n",
       "40431  work wedding industry work long days feet outs...  "
      ]
     },
     "execution_count": 17,
     "metadata": {},
     "output_type": "execute_result"
    }
   ],
   "source": [
    "dataset['new_text']= dataset['new_text'].apply(lambda X : remove_special_char(X)) \n",
    "dataset.tail()"
   ]
  },
  {
   "cell_type": "code",
   "execution_count": 18,
   "metadata": {},
   "outputs": [],
   "source": [
    "# Stemming\n",
    "\n",
    "from nltk.stem.porter import PorterStemmer\n",
    "ps = PorterStemmer()\n",
    "def stem_words(text):\n",
    "  return \" \".join([ps.stem(word) for word in text.split()])"
   ]
  },
  {
   "cell_type": "code",
   "execution_count": 19,
   "metadata": {},
   "outputs": [],
   "source": [
    "dataset['Stemmed_text'] = dataset['new_text'].apply(lambda X: stem_words(X))"
   ]
  },
  {
   "cell_type": "code",
   "execution_count": 20,
   "metadata": {},
   "outputs": [
    {
     "data": {
      "text/html": [
       "<div>\n",
       "<style scoped>\n",
       "    .dataframe tbody tr th:only-of-type {\n",
       "        vertical-align: middle;\n",
       "    }\n",
       "\n",
       "    .dataframe tbody tr th {\n",
       "        vertical-align: top;\n",
       "    }\n",
       "\n",
       "    .dataframe thead th {\n",
       "        text-align: right;\n",
       "    }\n",
       "</style>\n",
       "<table border=\"1\" class=\"dataframe\">\n",
       "  <thead>\n",
       "    <tr style=\"text-align: right;\">\n",
       "      <th></th>\n",
       "      <th>category</th>\n",
       "      <th>rating</th>\n",
       "      <th>label</th>\n",
       "      <th>text_</th>\n",
       "      <th>length</th>\n",
       "      <th>small_text</th>\n",
       "      <th>new_text</th>\n",
       "      <th>Stemmed_text</th>\n",
       "    </tr>\n",
       "  </thead>\n",
       "  <tbody>\n",
       "    <tr>\n",
       "      <th>0</th>\n",
       "      <td>Home_and_Kitchen_5</td>\n",
       "      <td>5.0</td>\n",
       "      <td>0</td>\n",
       "      <td>Love this!  Well made, sturdy, and very comfor...</td>\n",
       "      <td>75</td>\n",
       "      <td>love this!  well made, sturdy, and very comfor...</td>\n",
       "      <td>love well made sturdy comfortable love itvery ...</td>\n",
       "      <td>love well made sturdi comfort love itveri pretti</td>\n",
       "    </tr>\n",
       "    <tr>\n",
       "      <th>1</th>\n",
       "      <td>Home_and_Kitchen_5</td>\n",
       "      <td>5.0</td>\n",
       "      <td>0</td>\n",
       "      <td>love it, a great upgrade from the original.  I...</td>\n",
       "      <td>80</td>\n",
       "      <td>love it, a great upgrade from the original.  i...</td>\n",
       "      <td>love great upgrade original ive mine couple years</td>\n",
       "      <td>love great upgrad origin ive mine coupl year</td>\n",
       "    </tr>\n",
       "    <tr>\n",
       "      <th>2</th>\n",
       "      <td>Home_and_Kitchen_5</td>\n",
       "      <td>5.0</td>\n",
       "      <td>0</td>\n",
       "      <td>This pillow saved my back. I love the look and...</td>\n",
       "      <td>67</td>\n",
       "      <td>this pillow saved my back. i love the look and...</td>\n",
       "      <td>pillow saved back love look feel pillow</td>\n",
       "      <td>pillow save back love look feel pillow</td>\n",
       "    </tr>\n",
       "    <tr>\n",
       "      <th>3</th>\n",
       "      <td>Home_and_Kitchen_5</td>\n",
       "      <td>1.0</td>\n",
       "      <td>0</td>\n",
       "      <td>Missing information on how to use it, but it i...</td>\n",
       "      <td>81</td>\n",
       "      <td>missing information on how to use it, but it i...</td>\n",
       "      <td>missing information use great product price</td>\n",
       "      <td>miss inform use great product price</td>\n",
       "    </tr>\n",
       "    <tr>\n",
       "      <th>4</th>\n",
       "      <td>Home_and_Kitchen_5</td>\n",
       "      <td>5.0</td>\n",
       "      <td>0</td>\n",
       "      <td>Very nice set. Good quality. We have had the s...</td>\n",
       "      <td>85</td>\n",
       "      <td>very nice set. good quality. we have had the s...</td>\n",
       "      <td>nice set good quality set two months</td>\n",
       "      <td>nice set good qualiti set two month</td>\n",
       "    </tr>\n",
       "  </tbody>\n",
       "</table>\n",
       "</div>"
      ],
      "text/plain": [
       "             category  rating  label  \\\n",
       "0  Home_and_Kitchen_5     5.0      0   \n",
       "1  Home_and_Kitchen_5     5.0      0   \n",
       "2  Home_and_Kitchen_5     5.0      0   \n",
       "3  Home_and_Kitchen_5     1.0      0   \n",
       "4  Home_and_Kitchen_5     5.0      0   \n",
       "\n",
       "                                               text_  length  \\\n",
       "0  Love this!  Well made, sturdy, and very comfor...      75   \n",
       "1  love it, a great upgrade from the original.  I...      80   \n",
       "2  This pillow saved my back. I love the look and...      67   \n",
       "3  Missing information on how to use it, but it i...      81   \n",
       "4  Very nice set. Good quality. We have had the s...      85   \n",
       "\n",
       "                                          small_text  \\\n",
       "0  love this!  well made, sturdy, and very comfor...   \n",
       "1  love it, a great upgrade from the original.  i...   \n",
       "2  this pillow saved my back. i love the look and...   \n",
       "3  missing information on how to use it, but it i...   \n",
       "4  very nice set. good quality. we have had the s...   \n",
       "\n",
       "                                            new_text  \\\n",
       "0  love well made sturdy comfortable love itvery ...   \n",
       "1  love great upgrade original ive mine couple years   \n",
       "2            pillow saved back love look feel pillow   \n",
       "3        missing information use great product price   \n",
       "4               nice set good quality set two months   \n",
       "\n",
       "                                       Stemmed_text  \n",
       "0  love well made sturdi comfort love itveri pretti  \n",
       "1      love great upgrad origin ive mine coupl year  \n",
       "2            pillow save back love look feel pillow  \n",
       "3               miss inform use great product price  \n",
       "4               nice set good qualiti set two month  "
      ]
     },
     "execution_count": 20,
     "metadata": {},
     "output_type": "execute_result"
    }
   ],
   "source": [
    "dataset.head()"
   ]
  },
  {
   "cell_type": "code",
   "execution_count": 21,
   "metadata": {},
   "outputs": [
    {
     "name": "stderr",
     "output_type": "stream",
     "text": [
      "[nltk_data] Downloading package wordnet to\n",
      "[nltk_data]     C:\\Users\\achyu\\AppData\\Roaming\\nltk_data...\n",
      "[nltk_data] Downloading package averaged_perceptron_tagger to\n",
      "[nltk_data]     C:\\Users\\achyu\\AppData\\Roaming\\nltk_data...\n",
      "[nltk_data]   Unzipping taggers\\averaged_perceptron_tagger.zip.\n"
     ]
    },
    {
     "data": {
      "text/plain": [
       "True"
      ]
     },
     "execution_count": 21,
     "metadata": {},
     "output_type": "execute_result"
    }
   ],
   "source": [
    "from nltk import download\n",
    "download('wordnet', force=True)\n",
    "download('averaged_perceptron_tagger', force=True)"
   ]
  },
  {
   "cell_type": "code",
   "execution_count": 22,
   "metadata": {},
   "outputs": [],
   "source": [
    "import nltk\n"
   ]
  },
  {
   "cell_type": "code",
   "execution_count": 23,
   "metadata": {},
   "outputs": [
    {
     "name": "stderr",
     "output_type": "stream",
     "text": [
      "[nltk_data] Downloading package averaged_perceptron_tagger to\n",
      "[nltk_data]     C:\\Users\\achyu\\AppData\\Roaming\\nltk_data...\n",
      "[nltk_data]   Package averaged_perceptron_tagger is already up-to-\n",
      "[nltk_data]       date!\n"
     ]
    },
    {
     "data": {
      "text/plain": [
       "True"
      ]
     },
     "execution_count": 23,
     "metadata": {},
     "output_type": "execute_result"
    }
   ],
   "source": [
    "nltk.download('averaged_perceptron_tagger')\n"
   ]
  },
  {
   "cell_type": "code",
   "execution_count": 24,
   "metadata": {},
   "outputs": [
    {
     "name": "stdout",
     "output_type": "stream",
     "text": [
      "[('NLTK', 'NNP'), ('is', 'VBZ'), ('a', 'DT'), ('powerful', 'JJ'), ('library', 'NN'), ('for', 'IN'), ('NLP', 'NNP'), ('.', '.')]\n"
     ]
    }
   ],
   "source": [
    "from nltk import pos_tag\n",
    "from nltk.tokenize import word_tokenize\n",
    "\n",
    "text = \"NLTK is a powerful library for NLP.\"\n",
    "tokens = word_tokenize(text)\n",
    "tagged_tokens = pos_tag(tokens)\n",
    "\n",
    "print(tagged_tokens)\n"
   ]
  },
  {
   "cell_type": "code",
   "execution_count": 25,
   "metadata": {},
   "outputs": [
    {
     "name": "stderr",
     "output_type": "stream",
     "text": [
      "[nltk_data] Downloading package punkt to\n",
      "[nltk_data]     C:\\Users\\achyu\\AppData\\Roaming\\nltk_data...\n",
      "[nltk_data]   Package punkt is already up-to-date!\n",
      "[nltk_data] Downloading package averaged_perceptron_tagger to\n",
      "[nltk_data]     C:\\Users\\achyu\\AppData\\Roaming\\nltk_data...\n",
      "[nltk_data]   Package averaged_perceptron_tagger is already up-to-\n",
      "[nltk_data]       date!\n",
      "[nltk_data] Downloading package wordnet to\n",
      "[nltk_data]     C:\\Users\\achyu\\AppData\\Roaming\\nltk_data...\n",
      "[nltk_data]   Package wordnet is already up-to-date!\n"
     ]
    }
   ],
   "source": [
    "from nltk import pos_tag\n",
    "from nltk.corpus import wordnet\n",
    "from nltk.stem import WordNetLemmatizer\n",
    "\n",
    "nltk.download('punkt')\n",
    "nltk.download('averaged_perceptron_tagger')\n",
    "nltk.download('wordnet')\n",
    "\n",
    "lemmatizer = WordNetLemmatizer()\n",
    "wordnet_map = {'N':wordnet.NOUN, 'V':wordnet.VERB, 'J':wordnet.ADJ, 'R':wordnet.ADV}\n",
    "\n",
    "def lemmatize_words(text):\n",
    "  pos_text = pos_tag(text.split())\n",
    "  return \" \".join([lemmatizer.lemmatize(word, wordnet_map.get(pos[0], wordnet.NOUN)) for word, pos in pos_text])\n",
    "\n",
    "\n",
    "dataset['lemmatized_text'] = dataset['new_text'].apply(lambda X: lemmatize_words(X))"
   ]
  },
  {
   "cell_type": "code",
   "execution_count": 26,
   "metadata": {},
   "outputs": [
    {
     "name": "stderr",
     "output_type": "stream",
     "text": [
      "[nltk_data] Downloading package averaged_perceptron_tagger_eng to\n",
      "[nltk_data]     C:\\Users\\achyu\\AppData\\Roaming\\nltk_data...\n",
      "[nltk_data]   Package averaged_perceptron_tagger_eng is already up-to-\n",
      "[nltk_data]       date!\n"
     ]
    },
    {
     "data": {
      "text/plain": [
       "True"
      ]
     },
     "execution_count": 26,
     "metadata": {},
     "output_type": "execute_result"
    }
   ],
   "source": [
    "import nltk\n",
    "nltk.download('averaged_perceptron_tagger_eng')"
   ]
  },
  {
   "cell_type": "code",
   "execution_count": 27,
   "metadata": {},
   "outputs": [
    {
     "data": {
      "text/html": [
       "<div>\n",
       "<style scoped>\n",
       "    .dataframe tbody tr th:only-of-type {\n",
       "        vertical-align: middle;\n",
       "    }\n",
       "\n",
       "    .dataframe tbody tr th {\n",
       "        vertical-align: top;\n",
       "    }\n",
       "\n",
       "    .dataframe thead th {\n",
       "        text-align: right;\n",
       "    }\n",
       "</style>\n",
       "<table border=\"1\" class=\"dataframe\">\n",
       "  <thead>\n",
       "    <tr style=\"text-align: right;\">\n",
       "      <th></th>\n",
       "      <th>category</th>\n",
       "      <th>rating</th>\n",
       "      <th>label</th>\n",
       "      <th>text_</th>\n",
       "      <th>length</th>\n",
       "      <th>small_text</th>\n",
       "      <th>new_text</th>\n",
       "      <th>Stemmed_text</th>\n",
       "      <th>lemmatized_text</th>\n",
       "    </tr>\n",
       "  </thead>\n",
       "  <tbody>\n",
       "    <tr>\n",
       "      <th>40427</th>\n",
       "      <td>Clothing_Shoes_and_Jewelry_5</td>\n",
       "      <td>4.0</td>\n",
       "      <td>1</td>\n",
       "      <td>I had read some reviews saying that this bra r...</td>\n",
       "      <td>1694</td>\n",
       "      <td>i had read some reviews saying that this bra r...</td>\n",
       "      <td>read reviews saying bra ran small ordered two ...</td>\n",
       "      <td>read review say bra ran small order two band c...</td>\n",
       "      <td>read review say bra run small order two band c...</td>\n",
       "    </tr>\n",
       "    <tr>\n",
       "      <th>40428</th>\n",
       "      <td>Clothing_Shoes_and_Jewelry_5</td>\n",
       "      <td>5.0</td>\n",
       "      <td>0</td>\n",
       "      <td>I wasn't sure exactly what it would be. It is ...</td>\n",
       "      <td>1304</td>\n",
       "      <td>i wasn't sure exactly what it would be. it is ...</td>\n",
       "      <td>wasnt sure exactly would little large small si...</td>\n",
       "      <td>wasnt sure exactli would littl larg small size...</td>\n",
       "      <td>wasnt sure exactly would little large small si...</td>\n",
       "    </tr>\n",
       "    <tr>\n",
       "      <th>40429</th>\n",
       "      <td>Clothing_Shoes_and_Jewelry_5</td>\n",
       "      <td>2.0</td>\n",
       "      <td>1</td>\n",
       "      <td>You can wear the hood by itself, wear it with ...</td>\n",
       "      <td>1987</td>\n",
       "      <td>you can wear the hood by itself, wear it with ...</td>\n",
       "      <td>wear hood wear hood wear jacket without hood 3...</td>\n",
       "      <td>wear hood wear hood wear jacket without hood 3...</td>\n",
       "      <td>wear hood wear hood wear jacket without hood 3...</td>\n",
       "    </tr>\n",
       "    <tr>\n",
       "      <th>40430</th>\n",
       "      <td>Clothing_Shoes_and_Jewelry_5</td>\n",
       "      <td>1.0</td>\n",
       "      <td>0</td>\n",
       "      <td>I liked nothing about this dress. The only rea...</td>\n",
       "      <td>1301</td>\n",
       "      <td>i liked nothing about this dress. the only rea...</td>\n",
       "      <td>liked nothing dress reason gave 4 stars ordere...</td>\n",
       "      <td>like noth dress reason gave 4 star order size ...</td>\n",
       "      <td>like nothing dress reason give 4 star order si...</td>\n",
       "    </tr>\n",
       "    <tr>\n",
       "      <th>40431</th>\n",
       "      <td>Clothing_Shoes_and_Jewelry_5</td>\n",
       "      <td>5.0</td>\n",
       "      <td>1</td>\n",
       "      <td>I work in the wedding industry and have to wor...</td>\n",
       "      <td>1768</td>\n",
       "      <td>i work in the wedding industry and have to wor...</td>\n",
       "      <td>work wedding industry work long days feet outs...</td>\n",
       "      <td>work wed industri work long day feet outsid he...</td>\n",
       "      <td>work wed industry work long day foot outside h...</td>\n",
       "    </tr>\n",
       "  </tbody>\n",
       "</table>\n",
       "</div>"
      ],
      "text/plain": [
       "                           category  rating  label  \\\n",
       "40427  Clothing_Shoes_and_Jewelry_5     4.0      1   \n",
       "40428  Clothing_Shoes_and_Jewelry_5     5.0      0   \n",
       "40429  Clothing_Shoes_and_Jewelry_5     2.0      1   \n",
       "40430  Clothing_Shoes_and_Jewelry_5     1.0      0   \n",
       "40431  Clothing_Shoes_and_Jewelry_5     5.0      1   \n",
       "\n",
       "                                                   text_  length  \\\n",
       "40427  I had read some reviews saying that this bra r...    1694   \n",
       "40428  I wasn't sure exactly what it would be. It is ...    1304   \n",
       "40429  You can wear the hood by itself, wear it with ...    1987   \n",
       "40430  I liked nothing about this dress. The only rea...    1301   \n",
       "40431  I work in the wedding industry and have to wor...    1768   \n",
       "\n",
       "                                              small_text  \\\n",
       "40427  i had read some reviews saying that this bra r...   \n",
       "40428  i wasn't sure exactly what it would be. it is ...   \n",
       "40429  you can wear the hood by itself, wear it with ...   \n",
       "40430  i liked nothing about this dress. the only rea...   \n",
       "40431  i work in the wedding industry and have to wor...   \n",
       "\n",
       "                                                new_text  \\\n",
       "40427  read reviews saying bra ran small ordered two ...   \n",
       "40428  wasnt sure exactly would little large small si...   \n",
       "40429  wear hood wear hood wear jacket without hood 3...   \n",
       "40430  liked nothing dress reason gave 4 stars ordere...   \n",
       "40431  work wedding industry work long days feet outs...   \n",
       "\n",
       "                                            Stemmed_text  \\\n",
       "40427  read review say bra ran small order two band c...   \n",
       "40428  wasnt sure exactli would littl larg small size...   \n",
       "40429  wear hood wear hood wear jacket without hood 3...   \n",
       "40430  like noth dress reason gave 4 star order size ...   \n",
       "40431  work wed industri work long day feet outsid he...   \n",
       "\n",
       "                                         lemmatized_text  \n",
       "40427  read review say bra run small order two band c...  \n",
       "40428  wasnt sure exactly would little large small si...  \n",
       "40429  wear hood wear hood wear jacket without hood 3...  \n",
       "40430  like nothing dress reason give 4 star order si...  \n",
       "40431  work wed industry work long day foot outside h...  "
      ]
     },
     "execution_count": 27,
     "metadata": {},
     "output_type": "execute_result"
    }
   ],
   "source": [
    "dataset.tail()"
   ]
  },
  {
   "cell_type": "code",
   "execution_count": 28,
   "metadata": {},
   "outputs": [
    {
     "data": {
      "image/png": "[encoded data removed]",
      "text/plain": [
       "<Figure size 640x480 with 1 Axes>"
      ]
     },
     "metadata": {},
     "output_type": "display_data"
    }
   ],
   "source": [
    "plt.hist(dataset['length'],bins=50)\n",
    "plt.show()"
   ]
  },
  {
   "cell_type": "code",
   "execution_count": 29,
   "metadata": {},
   "outputs": [
    {
     "data": {
      "text/html": [
       "<div>\n",
       "<style scoped>\n",
       "    .dataframe tbody tr th:only-of-type {\n",
       "        vertical-align: middle;\n",
       "    }\n",
       "\n",
       "    .dataframe tbody tr th {\n",
       "        vertical-align: top;\n",
       "    }\n",
       "\n",
       "    .dataframe thead tr th {\n",
       "        text-align: left;\n",
       "    }\n",
       "\n",
       "    .dataframe thead tr:last-of-type th {\n",
       "        text-align: right;\n",
       "    }\n",
       "</style>\n",
       "<table border=\"1\" class=\"dataframe\">\n",
       "  <thead>\n",
       "    <tr>\n",
       "      <th></th>\n",
       "      <th colspan=\"8\" halign=\"left\">rating</th>\n",
       "      <th colspan=\"8\" halign=\"left\">length</th>\n",
       "    </tr>\n",
       "    <tr>\n",
       "      <th></th>\n",
       "      <th>count</th>\n",
       "      <th>mean</th>\n",
       "      <th>std</th>\n",
       "      <th>min</th>\n",
       "      <th>25%</th>\n",
       "      <th>50%</th>\n",
       "      <th>75%</th>\n",
       "      <th>max</th>\n",
       "      <th>count</th>\n",
       "      <th>mean</th>\n",
       "      <th>std</th>\n",
       "      <th>min</th>\n",
       "      <th>25%</th>\n",
       "      <th>50%</th>\n",
       "      <th>75%</th>\n",
       "      <th>max</th>\n",
       "    </tr>\n",
       "    <tr>\n",
       "      <th>label</th>\n",
       "      <th></th>\n",
       "      <th></th>\n",
       "      <th></th>\n",
       "      <th></th>\n",
       "      <th></th>\n",
       "      <th></th>\n",
       "      <th></th>\n",
       "      <th></th>\n",
       "      <th></th>\n",
       "      <th></th>\n",
       "      <th></th>\n",
       "      <th></th>\n",
       "      <th></th>\n",
       "      <th></th>\n",
       "      <th></th>\n",
       "      <th></th>\n",
       "    </tr>\n",
       "  </thead>\n",
       "  <tbody>\n",
       "    <tr>\n",
       "      <th>0</th>\n",
       "      <td>20216.0</td>\n",
       "      <td>4.259893</td>\n",
       "      <td>1.141065</td>\n",
       "      <td>1.0</td>\n",
       "      <td>4.0</td>\n",
       "      <td>5.0</td>\n",
       "      <td>5.0</td>\n",
       "      <td>5.0</td>\n",
       "      <td>20216.0</td>\n",
       "      <td>305.573506</td>\n",
       "      <td>307.037430</td>\n",
       "      <td>24.0</td>\n",
       "      <td>96.0</td>\n",
       "      <td>174.0</td>\n",
       "      <td>383.0</td>\n",
       "      <td>1717.0</td>\n",
       "    </tr>\n",
       "    <tr>\n",
       "      <th>1</th>\n",
       "      <td>20216.0</td>\n",
       "      <td>4.253265</td>\n",
       "      <td>1.147652</td>\n",
       "      <td>1.0</td>\n",
       "      <td>4.0</td>\n",
       "      <td>5.0</td>\n",
       "      <td>5.0</td>\n",
       "      <td>5.0</td>\n",
       "      <td>20216.0</td>\n",
       "      <td>396.970419</td>\n",
       "      <td>418.428047</td>\n",
       "      <td>28.0</td>\n",
       "      <td>121.0</td>\n",
       "      <td>224.0</td>\n",
       "      <td>498.0</td>\n",
       "      <td>2827.0</td>\n",
       "    </tr>\n",
       "  </tbody>\n",
       "</table>\n",
       "</div>"
      ],
      "text/plain": [
       "        rating                                                length  \\\n",
       "         count      mean       std  min  25%  50%  75%  max    count   \n",
       "label                                                                  \n",
       "0      20216.0  4.259893  1.141065  1.0  4.0  5.0  5.0  5.0  20216.0   \n",
       "1      20216.0  4.253265  1.147652  1.0  4.0  5.0  5.0  5.0  20216.0   \n",
       "\n",
       "                                                                  \n",
       "             mean         std   min    25%    50%    75%     max  \n",
       "label                                                             \n",
       "0      305.573506  307.037430  24.0   96.0  174.0  383.0  1717.0  \n",
       "1      396.970419  418.428047  28.0  121.0  224.0  498.0  2827.0  "
      ]
     },
     "execution_count": 29,
     "metadata": {},
     "output_type": "execute_result"
    }
   ],
   "source": [
    "dataset.groupby('label').describe()"
   ]
  },
  {
   "cell_type": "code",
   "execution_count": 30,
   "metadata": {},
   "outputs": [],
   "source": [
    "X = dataset[['rating', 'lemmatized_text']]\n",
    "y = dataset['label']\n"
   ]
  },
  {
   "cell_type": "code",
   "execution_count": 31,
   "metadata": {},
   "outputs": [],
   "source": [
    "# print(X)\n",
    "# print(y)"
   ]
  },
  {
   "cell_type": "code",
   "execution_count": 32,
   "metadata": {},
   "outputs": [],
   "source": [
    "\n",
    "\n",
    "from sklearn.feature_extraction.text import TfidfVectorizer\n",
    "\n",
    "# X_train, X_test, y_train, y_test = train_test_split(X, y, test_size=0.2, random_state=1)"
   ]
  },
  {
   "cell_type": "code",
   "execution_count": 33,
   "metadata": {},
   "outputs": [],
   "source": [
    "# Combine 'rating' and vectorized 'lemmatized_text'\n",
    "\n",
    "from scipy.sparse import hstack\n",
    "from sklearn.feature_extraction.text import TfidfVectorizer\n",
    "\n",
    "# Vectorize the lemmatized_text column\n",
    "tfidf_vectorizer = TfidfVectorizer()\n",
    "X_lemmatized_tfidf = tfidf_vectorizer.fit_transform(X['lemmatized_text'])\n",
    "\n",
    "X_combined_tfidf = hstack([X['rating'].values.reshape(-1, 1), X_lemmatized_tfidf])  "
   ]
  },
  {
   "cell_type": "code",
   "execution_count": 34,
   "metadata": {},
   "outputs": [],
   "source": [
    "from sklearn.model_selection import train_test_split\n",
    "\n",
    "# Train-test split\n",
    "X_train, X_test, y_train, y_test = train_test_split(X_combined_tfidf, y, test_size=0.2, random_state=1)\n"
   ]
  },
  {
   "cell_type": "code",
   "execution_count": 35,
   "metadata": {},
   "outputs": [],
   "source": [
    "# print(X_train)"
   ]
  },
  {
   "cell_type": "code",
   "execution_count": 36,
   "metadata": {},
   "outputs": [],
   "source": [
    "# from Logistic_Regression import LogisticRegression"
   ]
  },
  {
   "cell_type": "code",
   "execution_count": 37,
   "metadata": {},
   "outputs": [],
   "source": [
    "# # Instantiate the Logistic Regression\n",
    "# lr_model = LogisticRegression()\n",
    "\n",
    "\n",
    "# # Note: Ensure that 'y_train' is in a compatible shape (1D array)\n",
    "# lr_model.fit(X_train.toarray(), y_train.values)\n",
    "\n",
    "# # Make predictions on the test set\n",
    "# predictions = lr_model.predict(X_test.toarray())\n",
    "\n",
    "# # Evaluate the Logistic Regression Model\n",
    "# from sklearn.metrics import accuracy_score, classification_report\n",
    "\n",
    "# print(f\"Accuracy: {accuracy_score(y_test, predictions)}\")\n",
    "# print(classification_report(y_test, predictions))"
   ]
  },
  {
   "cell_type": "code",
   "execution_count": 41,
   "metadata": {},
   "outputs": [],
   "source": [
    "# from SVM_C import SVM_Classifier"
   ]
  },
  {
   "cell_type": "code",
   "execution_count": null,
   "metadata": {},
   "outputs": [],
   "source": [
    "# # Instantiate the SVM svm_model \n",
    "# svm_model = SVM_Classifier()\n",
    "\n",
    "# # Fit the svm_model to the training data\n",
    "# # Note: Ensure that 'y_train' is in a compatible shape (1D array)\n",
    "# svm_model.fit(X_train.toarray(), y_train.values)\n",
    "\n",
    "# # Make predictions on the test set\n",
    "# predictions = svm_model.predict(X_test.toarray())\n",
    "\n",
    "# # Evaluate the svm_model\n",
    "# from sklearn.metrics import accuracy_score, classification_report\n",
    "\n",
    "# print(f\"Accuracy: {accuracy_score(y_test, predictions)}\")\n",
    "# print(classification_report(y_test, predictions))\n"
   ]
  },
  {
   "cell_type": "code",
   "execution_count": null,
   "metadata": {},
   "outputs": [],
   "source": [
    "from sklearn.model_selection import train_test_split\n",
    "\n",
    "# Assume X_combined_tfidf and y are your features and labels\n",
    "X_subset, _, y_subset, _ = train_test_split(X_combined_tfidf, y, train_size=20000, random_state=1)\n",
    "\n",
    "# Now split the subset into training and testing sets\n",
    "X_train, X_test, y_train, y_test = train_test_split(X_subset, y_subset, test_size=0.3, random_state=1)\n"
   ]
  },
  {
   "cell_type": "code",
   "execution_count": null,
   "metadata": {},
   "outputs": [],
   "source": [
    "from RandomForest import RandomForest"
   ]
  },
  {
   "cell_type": "code",
   "execution_count": null,
   "metadata": {},
   "outputs": [],
   "source": [
    "# Instantiate the Random Forrest \n",
    "rf_model = RandomForest(n_trees=100, max_depth=6, n_jobs=2)\n",
    "\n",
    "\n",
    "# Note: Ensure that 'y_train' is in a compatible shape (1D array)\n",
    "rf_model.fit(X_train.toarray(), y_train.values)\n",
    "\n",
    "# Make predictions on the test set\n",
    "predictions = rf_model.predict(X_test.toarray())\n",
    "\n",
    "# Evaluate the Random Forrest Model\n",
    "from sklearn.metrics import accuracy_score, classification_report\n",
    "\n",
    "print(f\"Accuracy: {accuracy_score(y_test, predictions)}\")\n",
    "print(classification_report(y_test, predictions))\n"
   ]
  },
  {
   "cell_type": "code",
   "execution_count": 43,
   "metadata": {},
   "outputs": [],
   "source": [
    "# import joblib\n",
    "\n",
    "# joblib.dump(tfidf_vectorizer , 'tfidf_vectorizer.pkl')\n",
    "\n",
    "# joblib.dump(lr_model , 'lr_model.pkl')\n",
    "\n",
    "# joblib.dump(rf_model , 'rf_model.pkl')\n",
    "\n",
    "# joblib.dump(svm_model , 'svm_model.pkl')\n"
   ]
  }
 ],
 "metadata": {
  "kernelspec": {
   "display_name": "base",
   "language": "python",
   "name": "python3"
  },
  "language_info": {
   "codemirror_mode": {
    "name": "ipython",
    "version": 3
   },
   "file_extension": ".py",
   "mimetype": "text/x-python",
   "name": "python",
   "nbconvert_exporter": "python",
   "pygments_lexer": "ipython3",
   "version": "3.12.7"
  }
 },
 "nbformat": 4,
 "nbformat_minor": 2
}
